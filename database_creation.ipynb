{
 "cells": [
  {
   "cell_type": "markdown",
   "metadata": {},
   "source": [
    "**Importing Libraries**"
   ]
  },
  {
   "cell_type": "code",
   "execution_count": 363,
   "metadata": {},
   "outputs": [],
   "source": [
    "import pandas as pd\n",
    "import numpy as np\n",
    "import random\n",
    "\n",
    "# Definindo a semente para reprodução\n",
    "np.random.seed(42)\n",
    "random.seed(42)"
   ]
  },
  {
   "cell_type": "markdown",
   "metadata": {},
   "source": [
    "**Reading Files**"
   ]
  },
  {
   "cell_type": "code",
   "execution_count": 364,
   "metadata": {},
   "outputs": [],
   "source": [
    "magic_items = pd.read_csv('data/magic_items.csv', sep=';')\n",
    "adventure_gear = pd.read_csv('data/adventuring_gear.csv', sep=';')\n",
    "armor = pd.read_csv('data/armor.csv', sep=';')\n",
    "poisons = pd.read_csv('data/poisons.csv', sep=';')\n",
    "potions = pd.read_csv('data/potions.csv', sep=';')\n",
    "weapons = pd.read_csv('data/weapons.csv', sep=';')\n",
    "names = pd.read_csv('data/names.csv', sep=';')"
   ]
  },
  {
   "cell_type": "code",
   "execution_count": 365,
   "metadata": {},
   "outputs": [
    {
     "data": {
      "text/html": [
       "<div>\n",
       "<style scoped>\n",
       "    .dataframe tbody tr th:only-of-type {\n",
       "        vertical-align: middle;\n",
       "    }\n",
       "\n",
       "    .dataframe tbody tr th {\n",
       "        vertical-align: top;\n",
       "    }\n",
       "\n",
       "    .dataframe thead th {\n",
       "        text-align: right;\n",
       "    }\n",
       "</style>\n",
       "<table border=\"1\" class=\"dataframe\">\n",
       "  <thead>\n",
       "    <tr style=\"text-align: right;\">\n",
       "      <th></th>\n",
       "      <th>item_id</th>\n",
       "      <th>Name</th>\n",
       "      <th>Price</th>\n",
       "      <th>Rarity</th>\n",
       "      <th>Category</th>\n",
       "    </tr>\n",
       "  </thead>\n",
       "  <tbody>\n",
       "    <tr>\n",
       "      <th>0</th>\n",
       "      <td>001-ACo</td>\n",
       "      <td>Ammunition +1 (Per)</td>\n",
       "      <td>15 gp</td>\n",
       "      <td>Uncommon</td>\n",
       "      <td>Consumable Items</td>\n",
       "    </tr>\n",
       "    <tr>\n",
       "      <th>1</th>\n",
       "      <td>002-ACo</td>\n",
       "      <td>Ammunition +2 (Per)</td>\n",
       "      <td>50 gp</td>\n",
       "      <td>Rare</td>\n",
       "      <td>Consumable Items</td>\n",
       "    </tr>\n",
       "    <tr>\n",
       "      <th>2</th>\n",
       "      <td>003-ACo</td>\n",
       "      <td>Ammunition +3 (Per)</td>\n",
       "      <td>250 gp</td>\n",
       "      <td>Very Rare</td>\n",
       "      <td>Consumable Items</td>\n",
       "    </tr>\n",
       "    <tr>\n",
       "      <th>3</th>\n",
       "      <td>004-ACo</td>\n",
       "      <td>Arrow of Slaying</td>\n",
       "      <td>400 gp</td>\n",
       "      <td>Very Rare</td>\n",
       "      <td>Consumable Items</td>\n",
       "    </tr>\n",
       "    <tr>\n",
       "      <th>4</th>\n",
       "      <td>005-BCo</td>\n",
       "      <td>Bead of Force</td>\n",
       "      <td>1,000 gp</td>\n",
       "      <td>Rare</td>\n",
       "      <td>Consumable Items</td>\n",
       "    </tr>\n",
       "  </tbody>\n",
       "</table>\n",
       "</div>"
      ],
      "text/plain": [
       "   item_id                 Name     Price     Rarity          Category\n",
       "0  001-ACo  Ammunition +1 (Per)     15 gp   Uncommon  Consumable Items\n",
       "1  002-ACo  Ammunition +2 (Per)     50 gp       Rare  Consumable Items\n",
       "2  003-ACo  Ammunition +3 (Per)    250 gp  Very Rare  Consumable Items\n",
       "3  004-ACo     Arrow of Slaying    400 gp  Very Rare  Consumable Items\n",
       "4  005-BCo        Bead of Force  1,000 gp       Rare  Consumable Items"
      ]
     },
     "execution_count": 365,
     "metadata": {},
     "output_type": "execute_result"
    }
   ],
   "source": [
    "magic_items.head()"
   ]
  },
  {
   "cell_type": "code",
   "execution_count": 366,
   "metadata": {},
   "outputs": [
    {
     "data": {
      "text/html": [
       "<div>\n",
       "<style scoped>\n",
       "    .dataframe tbody tr th:only-of-type {\n",
       "        vertical-align: middle;\n",
       "    }\n",
       "\n",
       "    .dataframe tbody tr th {\n",
       "        vertical-align: top;\n",
       "    }\n",
       "\n",
       "    .dataframe thead th {\n",
       "        text-align: right;\n",
       "    }\n",
       "</style>\n",
       "<table border=\"1\" class=\"dataframe\">\n",
       "  <thead>\n",
       "    <tr style=\"text-align: right;\">\n",
       "      <th></th>\n",
       "      <th>item_id</th>\n",
       "      <th>Name</th>\n",
       "      <th>Price</th>\n",
       "      <th>Weight</th>\n",
       "      <th>type</th>\n",
       "    </tr>\n",
       "  </thead>\n",
       "  <tbody>\n",
       "    <tr>\n",
       "      <th>0</th>\n",
       "      <td>01-Ars</td>\n",
       "      <td>Abacus</td>\n",
       "      <td>2 gp</td>\n",
       "      <td>2 lb.</td>\n",
       "      <td>Others</td>\n",
       "    </tr>\n",
       "    <tr>\n",
       "      <th>1</th>\n",
       "      <td>02-Ars</td>\n",
       "      <td>Acid (vial)</td>\n",
       "      <td>25 gp</td>\n",
       "      <td>1 lb.</td>\n",
       "      <td>Others</td>\n",
       "    </tr>\n",
       "    <tr>\n",
       "      <th>2</th>\n",
       "      <td>03-Ars</td>\n",
       "      <td>Alchemist's Fire (flask)</td>\n",
       "      <td>50 gp</td>\n",
       "      <td>1 lb.</td>\n",
       "      <td>Others</td>\n",
       "    </tr>\n",
       "    <tr>\n",
       "      <th>3</th>\n",
       "      <td>04-Aon</td>\n",
       "      <td>Arrows (20)</td>\n",
       "      <td>1 gp</td>\n",
       "      <td>1 lb.</td>\n",
       "      <td>Ammunition</td>\n",
       "    </tr>\n",
       "    <tr>\n",
       "      <th>4</th>\n",
       "      <td>05-Bon</td>\n",
       "      <td>Blowgun Needle (50)</td>\n",
       "      <td>1 gp</td>\n",
       "      <td>1 lb.</td>\n",
       "      <td>Ammunition</td>\n",
       "    </tr>\n",
       "  </tbody>\n",
       "</table>\n",
       "</div>"
      ],
      "text/plain": [
       "  item_id                      Name  Price Weight        type\n",
       "0  01-Ars                    Abacus   2 gp  2 lb.      Others\n",
       "1  02-Ars               Acid (vial)  25 gp  1 lb.      Others\n",
       "2  03-Ars  Alchemist's Fire (flask)  50 gp  1 lb.      Others\n",
       "3  04-Aon               Arrows (20)   1 gp  1 lb.  Ammunition\n",
       "4  05-Bon       Blowgun Needle (50)   1 gp  1 lb.  Ammunition"
      ]
     },
     "execution_count": 366,
     "metadata": {},
     "output_type": "execute_result"
    }
   ],
   "source": [
    "adventure_gear.head()"
   ]
  },
  {
   "cell_type": "code",
   "execution_count": 367,
   "metadata": {},
   "outputs": [
    {
     "data": {
      "text/html": [
       "<div>\n",
       "<style scoped>\n",
       "    .dataframe tbody tr th:only-of-type {\n",
       "        vertical-align: middle;\n",
       "    }\n",
       "\n",
       "    .dataframe tbody tr th {\n",
       "        vertical-align: top;\n",
       "    }\n",
       "\n",
       "    .dataframe thead th {\n",
       "        text-align: right;\n",
       "    }\n",
       "</style>\n",
       "<table border=\"1\" class=\"dataframe\">\n",
       "  <thead>\n",
       "    <tr style=\"text-align: right;\">\n",
       "      <th></th>\n",
       "      <th>item_id</th>\n",
       "      <th>Name</th>\n",
       "      <th>Price</th>\n",
       "      <th>Damage</th>\n",
       "      <th>Weight</th>\n",
       "      <th>Properties</th>\n",
       "      <th>type</th>\n",
       "    </tr>\n",
       "  </thead>\n",
       "  <tbody>\n",
       "    <tr>\n",
       "      <th>0</th>\n",
       "      <td>01-Cns</td>\n",
       "      <td>Club</td>\n",
       "      <td>1 sp</td>\n",
       "      <td>1d4 Bludgeon</td>\n",
       "      <td>2 lb.</td>\n",
       "      <td>Light</td>\n",
       "      <td>Simple Melee Weapons</td>\n",
       "    </tr>\n",
       "    <tr>\n",
       "      <th>1</th>\n",
       "      <td>02-Dns</td>\n",
       "      <td>Dagger</td>\n",
       "      <td>2 gp</td>\n",
       "      <td>1d4 Piercing</td>\n",
       "      <td>1 lb.</td>\n",
       "      <td>Finesse, Light, Thrown (20/60)</td>\n",
       "      <td>Simple Melee Weapons</td>\n",
       "    </tr>\n",
       "    <tr>\n",
       "      <th>2</th>\n",
       "      <td>03-Gns</td>\n",
       "      <td>Greatclub</td>\n",
       "      <td>2 sp</td>\n",
       "      <td>1d8 Bludgeon</td>\n",
       "      <td>10 lb.</td>\n",
       "      <td>Two-handed</td>\n",
       "      <td>Simple Melee Weapons</td>\n",
       "    </tr>\n",
       "    <tr>\n",
       "      <th>3</th>\n",
       "      <td>04-Hns</td>\n",
       "      <td>Handaxe</td>\n",
       "      <td>5 gp</td>\n",
       "      <td>1d6 Slashing</td>\n",
       "      <td>2 lb.</td>\n",
       "      <td>Light, Thrown (20/60)</td>\n",
       "      <td>Simple Melee Weapons</td>\n",
       "    </tr>\n",
       "    <tr>\n",
       "      <th>4</th>\n",
       "      <td>05-Jns</td>\n",
       "      <td>Javelin</td>\n",
       "      <td>5 sp</td>\n",
       "      <td>1d6 Piercing</td>\n",
       "      <td>2 lb.</td>\n",
       "      <td>Thrown (30/120)</td>\n",
       "      <td>Simple Melee Weapons</td>\n",
       "    </tr>\n",
       "  </tbody>\n",
       "</table>\n",
       "</div>"
      ],
      "text/plain": [
       "  item_id       Name Price        Damage  Weight  \\\n",
       "0  01-Cns       Club  1 sp  1d4 Bludgeon   2 lb.   \n",
       "1  02-Dns     Dagger  2 gp  1d4 Piercing   1 lb.   \n",
       "2  03-Gns  Greatclub  2 sp  1d8 Bludgeon  10 lb.   \n",
       "3  04-Hns    Handaxe  5 gp  1d6 Slashing   2 lb.   \n",
       "4  05-Jns    Javelin  5 sp  1d6 Piercing   2 lb.   \n",
       "\n",
       "                       Properties                  type  \n",
       "0                           Light  Simple Melee Weapons  \n",
       "1  Finesse, Light, Thrown (20/60)  Simple Melee Weapons  \n",
       "2                      Two-handed  Simple Melee Weapons  \n",
       "3           Light, Thrown (20/60)  Simple Melee Weapons  \n",
       "4                 Thrown (30/120)  Simple Melee Weapons  "
      ]
     },
     "execution_count": 367,
     "metadata": {},
     "output_type": "execute_result"
    }
   ],
   "source": [
    "weapons.head()"
   ]
  },
  {
   "cell_type": "code",
   "execution_count": 368,
   "metadata": {},
   "outputs": [
    {
     "data": {
      "text/html": [
       "<div>\n",
       "<style scoped>\n",
       "    .dataframe tbody tr th:only-of-type {\n",
       "        vertical-align: middle;\n",
       "    }\n",
       "\n",
       "    .dataframe tbody tr th {\n",
       "        vertical-align: top;\n",
       "    }\n",
       "\n",
       "    .dataframe thead th {\n",
       "        text-align: right;\n",
       "    }\n",
       "</style>\n",
       "<table border=\"1\" class=\"dataframe\">\n",
       "  <thead>\n",
       "    <tr style=\"text-align: right;\">\n",
       "      <th></th>\n",
       "      <th>item_id</th>\n",
       "      <th>Name</th>\n",
       "      <th>Price</th>\n",
       "      <th>AC</th>\n",
       "      <th>Weight</th>\n",
       "      <th>Requirements</th>\n",
       "      <th>Stealth</th>\n",
       "      <th>type</th>\n",
       "    </tr>\n",
       "  </thead>\n",
       "  <tbody>\n",
       "    <tr>\n",
       "      <th>0</th>\n",
       "      <td>01-Por</td>\n",
       "      <td>Padded</td>\n",
       "      <td>5 gp</td>\n",
       "      <td>11 + Dex</td>\n",
       "      <td>8 lb.</td>\n",
       "      <td>NaN</td>\n",
       "      <td>Disadvantage</td>\n",
       "      <td>Light Armor</td>\n",
       "    </tr>\n",
       "    <tr>\n",
       "      <th>1</th>\n",
       "      <td>02-Lor</td>\n",
       "      <td>Leather</td>\n",
       "      <td>10 gp</td>\n",
       "      <td>11 + Dex</td>\n",
       "      <td>10 lb.</td>\n",
       "      <td>NaN</td>\n",
       "      <td>NaN</td>\n",
       "      <td>Light Armor</td>\n",
       "    </tr>\n",
       "    <tr>\n",
       "      <th>2</th>\n",
       "      <td>03-Sor</td>\n",
       "      <td>Studded Leather</td>\n",
       "      <td>45 gp</td>\n",
       "      <td>12 + Dex</td>\n",
       "      <td>13 lb.</td>\n",
       "      <td>NaN</td>\n",
       "      <td>NaN</td>\n",
       "      <td>Light Armor</td>\n",
       "    </tr>\n",
       "    <tr>\n",
       "      <th>3</th>\n",
       "      <td>04-Hor</td>\n",
       "      <td>Hide</td>\n",
       "      <td>10 gp</td>\n",
       "      <td>12 + Dex(max2)</td>\n",
       "      <td>12 lb.</td>\n",
       "      <td>NaN</td>\n",
       "      <td>NaN</td>\n",
       "      <td>Medium Armor</td>\n",
       "    </tr>\n",
       "    <tr>\n",
       "      <th>4</th>\n",
       "      <td>05-Cor</td>\n",
       "      <td>Chain Shirt</td>\n",
       "      <td>50 gp</td>\n",
       "      <td>13 + Dex(max2)</td>\n",
       "      <td>20 lb.</td>\n",
       "      <td>NaN</td>\n",
       "      <td>NaN</td>\n",
       "      <td>Medium Armor</td>\n",
       "    </tr>\n",
       "  </tbody>\n",
       "</table>\n",
       "</div>"
      ],
      "text/plain": [
       "  item_id             Name  Price              AC  Weight Requirements  \\\n",
       "0  01-Por           Padded   5 gp        11 + Dex   8 lb.          NaN   \n",
       "1  02-Lor          Leather  10 gp        11 + Dex  10 lb.          NaN   \n",
       "2  03-Sor  Studded Leather  45 gp        12 + Dex  13 lb.          NaN   \n",
       "3  04-Hor             Hide  10 gp  12 + Dex(max2)  12 lb.          NaN   \n",
       "4  05-Cor      Chain Shirt  50 gp  13 + Dex(max2)  20 lb.          NaN   \n",
       "\n",
       "        Stealth          type  \n",
       "0  Disadvantage   Light Armor  \n",
       "1           NaN   Light Armor  \n",
       "2           NaN   Light Armor  \n",
       "3           NaN  Medium Armor  \n",
       "4           NaN  Medium Armor  "
      ]
     },
     "execution_count": 368,
     "metadata": {},
     "output_type": "execute_result"
    }
   ],
   "source": [
    "armor.head()"
   ]
  },
  {
   "cell_type": "code",
   "execution_count": 369,
   "metadata": {},
   "outputs": [
    {
     "data": {
      "text/html": [
       "<div>\n",
       "<style scoped>\n",
       "    .dataframe tbody tr th:only-of-type {\n",
       "        vertical-align: middle;\n",
       "    }\n",
       "\n",
       "    .dataframe tbody tr th {\n",
       "        vertical-align: top;\n",
       "    }\n",
       "\n",
       "    .dataframe thead th {\n",
       "        text-align: right;\n",
       "    }\n",
       "</style>\n",
       "<table border=\"1\" class=\"dataframe\">\n",
       "  <thead>\n",
       "    <tr style=\"text-align: right;\">\n",
       "      <th></th>\n",
       "      <th>item_id</th>\n",
       "      <th>Name</th>\n",
       "      <th>Price</th>\n",
       "      <th>Rarity</th>\n",
       "    </tr>\n",
       "  </thead>\n",
       "  <tbody>\n",
       "    <tr>\n",
       "      <th>0</th>\n",
       "      <td>01-Pon</td>\n",
       "      <td>Potion of Healing</td>\n",
       "      <td>50 gp</td>\n",
       "      <td>Common</td>\n",
       "    </tr>\n",
       "    <tr>\n",
       "      <th>1</th>\n",
       "      <td>02-Pon</td>\n",
       "      <td>Potion of Greater Healing</td>\n",
       "      <td>150 gp</td>\n",
       "      <td>Uncommon</td>\n",
       "    </tr>\n",
       "    <tr>\n",
       "      <th>2</th>\n",
       "      <td>03-Pre</td>\n",
       "      <td>Potion of Superior Healing</td>\n",
       "      <td>450 gp</td>\n",
       "      <td>Rare</td>\n",
       "    </tr>\n",
       "    <tr>\n",
       "      <th>3</th>\n",
       "      <td>04-Pre</td>\n",
       "      <td>Potion of Supreme Healing</td>\n",
       "      <td>1,350 gp</td>\n",
       "      <td>Very Rare</td>\n",
       "    </tr>\n",
       "    <tr>\n",
       "      <th>4</th>\n",
       "      <td>05-Ere</td>\n",
       "      <td>Elixir of Health</td>\n",
       "      <td>120 gp</td>\n",
       "      <td>Rare</td>\n",
       "    </tr>\n",
       "  </tbody>\n",
       "</table>\n",
       "</div>"
      ],
      "text/plain": [
       "  item_id                        Name     Price     Rarity\n",
       "0  01-Pon           Potion of Healing     50 gp     Common\n",
       "1  02-Pon   Potion of Greater Healing    150 gp   Uncommon\n",
       "2  03-Pre  Potion of Superior Healing   450 gp        Rare\n",
       "3  04-Pre   Potion of Supreme Healing  1,350 gp  Very Rare\n",
       "4  05-Ere            Elixir of Health    120 gp       Rare"
      ]
     },
     "execution_count": 369,
     "metadata": {},
     "output_type": "execute_result"
    }
   ],
   "source": [
    "potions.head()"
   ]
  },
  {
   "cell_type": "code",
   "execution_count": 370,
   "metadata": {},
   "outputs": [
    {
     "data": {
      "text/html": [
       "<div>\n",
       "<style scoped>\n",
       "    .dataframe tbody tr th:only-of-type {\n",
       "        vertical-align: middle;\n",
       "    }\n",
       "\n",
       "    .dataframe tbody tr th {\n",
       "        vertical-align: top;\n",
       "    }\n",
       "\n",
       "    .dataframe thead th {\n",
       "        text-align: right;\n",
       "    }\n",
       "</style>\n",
       "<table border=\"1\" class=\"dataframe\">\n",
       "  <thead>\n",
       "    <tr style=\"text-align: right;\">\n",
       "      <th></th>\n",
       "      <th>item_id</th>\n",
       "      <th>Name</th>\n",
       "      <th>Price</th>\n",
       "      <th>Type</th>\n",
       "      <th>DC</th>\n",
       "    </tr>\n",
       "  </thead>\n",
       "  <tbody>\n",
       "    <tr>\n",
       "      <th>0</th>\n",
       "      <td>01-Aed</td>\n",
       "      <td>Assassin's blood</td>\n",
       "      <td>150 gp</td>\n",
       "      <td>Ingested</td>\n",
       "      <td>10.0</td>\n",
       "    </tr>\n",
       "    <tr>\n",
       "      <th>1</th>\n",
       "      <td>02-Ted</td>\n",
       "      <td>Truth serum</td>\n",
       "      <td>150 gp</td>\n",
       "      <td>Ingested</td>\n",
       "      <td>11.0</td>\n",
       "    </tr>\n",
       "    <tr>\n",
       "      <th>2</th>\n",
       "      <td>03-Cct</td>\n",
       "      <td>Carrion crawler mucus</td>\n",
       "      <td>200 gp</td>\n",
       "      <td>Contact</td>\n",
       "      <td>13.0</td>\n",
       "    </tr>\n",
       "    <tr>\n",
       "      <th>3</th>\n",
       "      <td>04-Dry</td>\n",
       "      <td>Drow poison</td>\n",
       "      <td>200 gp</td>\n",
       "      <td>Injury</td>\n",
       "      <td>13.0</td>\n",
       "    </tr>\n",
       "    <tr>\n",
       "      <th>4</th>\n",
       "      <td>05-Sry</td>\n",
       "      <td>Serpent venom</td>\n",
       "      <td>200 gp</td>\n",
       "      <td>Injury</td>\n",
       "      <td>11.0</td>\n",
       "    </tr>\n",
       "  </tbody>\n",
       "</table>\n",
       "</div>"
      ],
      "text/plain": [
       "  item_id                   Name   Price      Type    DC\n",
       "0  01-Aed       Assassin's blood  150 gp  Ingested  10.0\n",
       "1  02-Ted            Truth serum  150 gp  Ingested  11.0\n",
       "2  03-Cct  Carrion crawler mucus  200 gp   Contact  13.0\n",
       "3  04-Dry            Drow poison  200 gp    Injury  13.0\n",
       "4  05-Sry          Serpent venom  200 gp    Injury  11.0"
      ]
     },
     "execution_count": 370,
     "metadata": {},
     "output_type": "execute_result"
    }
   ],
   "source": [
    "poisons.head()"
   ]
  },
  {
   "cell_type": "markdown",
   "metadata": {},
   "source": [
    "****"
   ]
  },
  {
   "cell_type": "markdown",
   "metadata": {},
   "source": [
    "# **Data Creation**"
   ]
  },
  {
   "cell_type": "markdown",
   "metadata": {},
   "source": [
    "**Passos:**\n",
    "\n",
    "1. Filtrar as Raridades dos itens\n",
    "1. Criar uma tabela que contenha todos os produtos\n",
    "    * A tabela deve ter apenas informações básicas sobre os itens, como: id | nome | preço | tipo.\n",
    "1. Criar uma tabela com as informações dos clientes\n",
    "1. Criar a tabela fato de **vendas**\n",
    "\n",
    "\n"
   ]
  },
  {
   "cell_type": "markdown",
   "metadata": {},
   "source": [
    "### **Filtrar Raridades:**"
   ]
  },
  {
   "cell_type": "code",
   "execution_count": 371,
   "metadata": {},
   "outputs": [
    {
     "data": {
      "text/plain": [
       "Rare         114\n",
       "Uncommon      83\n",
       "Very Rare     63\n",
       "Legendary     38\n",
       "Common         2\n",
       "Name: Rarity, dtype: int64"
      ]
     },
     "execution_count": 371,
     "metadata": {},
     "output_type": "execute_result"
    }
   ],
   "source": [
    "magic_items['Rarity'].value_counts()"
   ]
  },
  {
   "cell_type": "markdown",
   "metadata": {},
   "source": [
    "Como eu pretendo simular as vendas de um vendedor comum, não vou usar itens que sejam: Very Rare, Legendary."
   ]
  },
  {
   "cell_type": "code",
   "execution_count": 372,
   "metadata": {},
   "outputs": [],
   "source": [
    "# função para filtrar a raridade dos items\n",
    "def filter_rarity(dataframe):\n",
    "    unwanted = ['Very Rare', 'Legendary']\n",
    "    df = dataframe.copy()\n",
    "    df = df.query(\"Rarity not in @unwanted\")\n",
    "    return df"
   ]
  },
  {
   "cell_type": "code",
   "execution_count": 373,
   "metadata": {},
   "outputs": [],
   "source": [
    "magic_items_filtered = filter_rarity(magic_items)"
   ]
  },
  {
   "cell_type": "code",
   "execution_count": 374,
   "metadata": {},
   "outputs": [
    {
     "data": {
      "text/plain": [
       "Rare        114\n",
       "Uncommon     83\n",
       "Common        2\n",
       "Name: Rarity, dtype: int64"
      ]
     },
     "execution_count": 374,
     "metadata": {},
     "output_type": "execute_result"
    }
   ],
   "source": [
    "magic_items_filtered['Rarity'].value_counts()"
   ]
  },
  {
   "cell_type": "code",
   "execution_count": 375,
   "metadata": {},
   "outputs": [],
   "source": [
    "potions_filtered =  filter_rarity(potions)"
   ]
  },
  {
   "cell_type": "code",
   "execution_count": 376,
   "metadata": {},
   "outputs": [
    {
     "data": {
      "text/plain": [
       "Uncommon    10\n",
       "Rare        10\n",
       "Common       2\n",
       "Name: Rarity, dtype: int64"
      ]
     },
     "execution_count": 376,
     "metadata": {},
     "output_type": "execute_result"
    }
   ],
   "source": [
    "potions_filtered['Rarity'].value_counts()"
   ]
  },
  {
   "cell_type": "markdown",
   "metadata": {},
   "source": [
    "Nenhum outro Dataset tem a coluna 'Rarity'"
   ]
  },
  {
   "cell_type": "markdown",
   "metadata": {},
   "source": [
    "### **Criar tabela Produtos**"
   ]
  },
  {
   "cell_type": "markdown",
   "metadata": {},
   "source": [
    "Primeiramente devo mudar as colunas 'type' para 'cetegory', depois criar uma nova coluna 'type' com o tipo de item de cada dataset."
   ]
  },
  {
   "cell_type": "code",
   "execution_count": 377,
   "metadata": {},
   "outputs": [],
   "source": [
    "# função para substituir a coluna type e colocar os nomes das colunas em minúsculo\n",
    "def replace_lower_column(df):\n",
    "    df = df.columns.str.lower().str.replace('type', 'category')\n",
    "    return df"
   ]
  },
  {
   "cell_type": "code",
   "execution_count": 378,
   "metadata": {},
   "outputs": [],
   "source": [
    "adventure_gear.columns = replace_lower_column(adventure_gear)\n",
    "magic_items_filtered.columns = replace_lower_column(magic_items_filtered)\n",
    "armor.columns = replace_lower_column(armor)\n",
    "weapons.columns = replace_lower_column(weapons)\n",
    "potions_filtered.columns =  replace_lower_column(potions_filtered)\n",
    "poisons.columns = replace_lower_column(poisons)"
   ]
  },
  {
   "cell_type": "markdown",
   "metadata": {},
   "source": [
    "**Criando as novas colunas 'type':**"
   ]
  },
  {
   "cell_type": "code",
   "execution_count": 379,
   "metadata": {},
   "outputs": [],
   "source": [
    "adventure_gear['type'] = 'adventure_gear'\n",
    "magic_items_filtered['type'] = 'magic_item'\n",
    "weapons['type'] = 'weapon'\n",
    "potions_filtered['type'] = 'potion'\n",
    "poisons['type'] = 'poison'\n",
    "armor['type'] = 'armor'"
   ]
  },
  {
   "cell_type": "markdown",
   "metadata": {},
   "source": [
    "**Criando a tabela Produtos:**\n",
    "\n",
    "| id | nome | preço | tipo |\n"
   ]
  },
  {
   "cell_type": "code",
   "execution_count": 380,
   "metadata": {},
   "outputs": [],
   "source": [
    "wanted_cols = ['item_id', 'name', 'price', 'type']"
   ]
  },
  {
   "cell_type": "code",
   "execution_count": 381,
   "metadata": {},
   "outputs": [],
   "source": [
    "product = magic_items_filtered[wanted_cols].copy()"
   ]
  },
  {
   "cell_type": "code",
   "execution_count": 382,
   "metadata": {},
   "outputs": [],
   "source": [
    "product = pd.concat([product,\n",
    "                     adventure_gear[wanted_cols],\n",
    "                     weapons[wanted_cols],\n",
    "                     armor[wanted_cols],\n",
    "                     potions_filtered[wanted_cols],\n",
    "                     poisons[wanted_cols]],\n",
    "                     ignore_index=True)"
   ]
  },
  {
   "cell_type": "code",
   "execution_count": 383,
   "metadata": {},
   "outputs": [
    {
     "data": {
      "text/plain": [
       "magic_item        199\n",
       "adventure_gear    108\n",
       "weapon             37\n",
       "potion             22\n",
       "poison             16\n",
       "armor              13\n",
       "Name: type, dtype: int64"
      ]
     },
     "execution_count": 383,
     "metadata": {},
     "output_type": "execute_result"
    }
   ],
   "source": [
    "product['type'].value_counts()"
   ]
  },
  {
   "cell_type": "code",
   "execution_count": 384,
   "metadata": {},
   "outputs": [
    {
     "data": {
      "text/html": [
       "<div>\n",
       "<style scoped>\n",
       "    .dataframe tbody tr th:only-of-type {\n",
       "        vertical-align: middle;\n",
       "    }\n",
       "\n",
       "    .dataframe tbody tr th {\n",
       "        vertical-align: top;\n",
       "    }\n",
       "\n",
       "    .dataframe thead th {\n",
       "        text-align: right;\n",
       "    }\n",
       "</style>\n",
       "<table border=\"1\" class=\"dataframe\">\n",
       "  <thead>\n",
       "    <tr style=\"text-align: right;\">\n",
       "      <th></th>\n",
       "      <th>item_id</th>\n",
       "      <th>name</th>\n",
       "      <th>price</th>\n",
       "      <th>type</th>\n",
       "    </tr>\n",
       "  </thead>\n",
       "  <tbody>\n",
       "    <tr>\n",
       "      <th>0</th>\n",
       "      <td>001-ACo</td>\n",
       "      <td>Ammunition +1 (Per)</td>\n",
       "      <td>15 gp</td>\n",
       "      <td>magic_item</td>\n",
       "    </tr>\n",
       "    <tr>\n",
       "      <th>1</th>\n",
       "      <td>002-ACo</td>\n",
       "      <td>Ammunition +2 (Per)</td>\n",
       "      <td>50 gp</td>\n",
       "      <td>magic_item</td>\n",
       "    </tr>\n",
       "    <tr>\n",
       "      <th>2</th>\n",
       "      <td>005-BCo</td>\n",
       "      <td>Bead of Force</td>\n",
       "      <td>1,000 gp</td>\n",
       "      <td>magic_item</td>\n",
       "    </tr>\n",
       "    <tr>\n",
       "      <th>3</th>\n",
       "      <td>006-CCo</td>\n",
       "      <td>Chime of Opening</td>\n",
       "      <td>400 gp</td>\n",
       "      <td>magic_item</td>\n",
       "    </tr>\n",
       "    <tr>\n",
       "      <th>4</th>\n",
       "      <td>007-DCo</td>\n",
       "      <td>Deck of Illusions</td>\n",
       "      <td>900 gp</td>\n",
       "      <td>magic_item</td>\n",
       "    </tr>\n",
       "  </tbody>\n",
       "</table>\n",
       "</div>"
      ],
      "text/plain": [
       "   item_id                 name     price        type\n",
       "0  001-ACo  Ammunition +1 (Per)     15 gp  magic_item\n",
       "1  002-ACo  Ammunition +2 (Per)     50 gp  magic_item\n",
       "2  005-BCo        Bead of Force  1,000 gp  magic_item\n",
       "3  006-CCo     Chime of Opening    400 gp  magic_item\n",
       "4  007-DCo    Deck of Illusions    900 gp  magic_item"
      ]
     },
     "execution_count": 384,
     "metadata": {},
     "output_type": "execute_result"
    }
   ],
   "source": [
    "product.head()"
   ]
  },
  {
   "cell_type": "code",
   "execution_count": 385,
   "metadata": {},
   "outputs": [
    {
     "data": {
      "text/html": [
       "<div>\n",
       "<style scoped>\n",
       "    .dataframe tbody tr th:only-of-type {\n",
       "        vertical-align: middle;\n",
       "    }\n",
       "\n",
       "    .dataframe tbody tr th {\n",
       "        vertical-align: top;\n",
       "    }\n",
       "\n",
       "    .dataframe thead th {\n",
       "        text-align: right;\n",
       "    }\n",
       "</style>\n",
       "<table border=\"1\" class=\"dataframe\">\n",
       "  <thead>\n",
       "    <tr style=\"text-align: right;\">\n",
       "      <th></th>\n",
       "      <th>item_id</th>\n",
       "      <th>name</th>\n",
       "      <th>price</th>\n",
       "      <th>rarity</th>\n",
       "      <th>category</th>\n",
       "      <th>type</th>\n",
       "    </tr>\n",
       "  </thead>\n",
       "  <tbody>\n",
       "    <tr>\n",
       "      <th>192</th>\n",
       "      <td>193-ICo</td>\n",
       "      <td>Ioun Stone Awareness</td>\n",
       "      <td>500 gp</td>\n",
       "      <td>Rare</td>\n",
       "      <td>Combat Items</td>\n",
       "      <td>magic_item</td>\n",
       "    </tr>\n",
       "  </tbody>\n",
       "</table>\n",
       "</div>"
      ],
      "text/plain": [
       "     item_id                  name   price rarity      category        type\n",
       "192  193-ICo  Ioun Stone Awareness  500 gp   Rare  Combat Items  magic_item"
      ]
     },
     "execution_count": 385,
     "metadata": {},
     "output_type": "execute_result"
    }
   ],
   "source": [
    "# testando o relacionamento das tabelas\n",
    "MI_itemID =  random.choices(product['item_id'].loc[product['type'] == 'magic_item'])\n",
    "magic_items_filtered.query('item_id == @MI_itemID')"
   ]
  },
  {
   "cell_type": "markdown",
   "metadata": {},
   "source": [
    "O relacionamento está funcionando como o desejado."
   ]
  },
  {
   "cell_type": "markdown",
   "metadata": {},
   "source": [
    "## **Criar a Tabela Cliente**"
   ]
  },
  {
   "cell_type": "markdown",
   "metadata": {},
   "source": [
    "**Atributos do cliente:**\n",
    "\n",
    "\n",
    "* id\n",
    "* nome\n",
    "* sexo\n",
    "* idade\n",
    "* raça\n",
    "* classe\n",
    "* endereço (cidade) (talvez)\n",
    "* contato (talvez)"
   ]
  },
  {
   "cell_type": "code",
   "execution_count": 386,
   "metadata": {},
   "outputs": [
    {
     "data": {
      "text/plain": [
       "140"
      ]
     },
     "execution_count": 386,
     "metadata": {},
     "output_type": "execute_result"
    }
   ],
   "source": [
    "# checando duplicatas\n",
    "names.duplicated().sum()"
   ]
  },
  {
   "cell_type": "code",
   "execution_count": 387,
   "metadata": {},
   "outputs": [],
   "source": [
    "names.drop_duplicates(inplace=True)"
   ]
  },
  {
   "cell_type": "code",
   "execution_count": 388,
   "metadata": {},
   "outputs": [
    {
     "data": {
      "text/plain": [
       "(1423, 2)"
      ]
     },
     "execution_count": 388,
     "metadata": {},
     "output_type": "execute_result"
    }
   ],
   "source": [
    "names.shape"
   ]
  },
  {
   "cell_type": "markdown",
   "metadata": {},
   "source": [
    "referência = https://bg3.wiki/wiki/Races"
   ]
  },
  {
   "cell_type": "code",
   "execution_count": 389,
   "metadata": {},
   "outputs": [
    {
     "data": {
      "text/html": [
       "<div>\n",
       "<style scoped>\n",
       "    .dataframe tbody tr th:only-of-type {\n",
       "        vertical-align: middle;\n",
       "    }\n",
       "\n",
       "    .dataframe tbody tr th {\n",
       "        vertical-align: top;\n",
       "    }\n",
       "\n",
       "    .dataframe thead th {\n",
       "        text-align: right;\n",
       "    }\n",
       "</style>\n",
       "<table border=\"1\" class=\"dataframe\">\n",
       "  <thead>\n",
       "    <tr style=\"text-align: right;\">\n",
       "      <th></th>\n",
       "      <th>race</th>\n",
       "      <th>base_age</th>\n",
       "      <th>max_age</th>\n",
       "      <th>maximum_age_range</th>\n",
       "    </tr>\n",
       "  </thead>\n",
       "  <tbody>\n",
       "    <tr>\n",
       "      <th>0</th>\n",
       "      <td>Dragonborn</td>\n",
       "      <td>15</td>\n",
       "      <td>80</td>\n",
       "      <td>80 + 1d20</td>\n",
       "    </tr>\n",
       "    <tr>\n",
       "      <th>1</th>\n",
       "      <td>Drow</td>\n",
       "      <td>80</td>\n",
       "      <td>225</td>\n",
       "      <td>225 + 3d100</td>\n",
       "    </tr>\n",
       "    <tr>\n",
       "      <th>2</th>\n",
       "      <td>Dwarf</td>\n",
       "      <td>50</td>\n",
       "      <td>350</td>\n",
       "      <td>300 + 2d100</td>\n",
       "    </tr>\n",
       "    <tr>\n",
       "      <th>3</th>\n",
       "      <td>Elf</td>\n",
       "      <td>90</td>\n",
       "      <td>750</td>\n",
       "      <td>425 + 5d100</td>\n",
       "    </tr>\n",
       "    <tr>\n",
       "      <th>4</th>\n",
       "      <td>Githyanki</td>\n",
       "      <td>30</td>\n",
       "      <td>250</td>\n",
       "      <td>250 + 1d100</td>\n",
       "    </tr>\n",
       "    <tr>\n",
       "      <th>5</th>\n",
       "      <td>Gnome</td>\n",
       "      <td>60</td>\n",
       "      <td>200</td>\n",
       "      <td>200 + 3d100</td>\n",
       "    </tr>\n",
       "    <tr>\n",
       "      <th>6</th>\n",
       "      <td>Half-Elf</td>\n",
       "      <td>15</td>\n",
       "      <td>125</td>\n",
       "      <td>125 + 3d20</td>\n",
       "    </tr>\n",
       "    <tr>\n",
       "      <th>7</th>\n",
       "      <td>Halfling</td>\n",
       "      <td>20</td>\n",
       "      <td>100</td>\n",
       "      <td>100 + 1d100</td>\n",
       "    </tr>\n",
       "    <tr>\n",
       "      <th>8</th>\n",
       "      <td>Half-Orc</td>\n",
       "      <td>12</td>\n",
       "      <td>60</td>\n",
       "      <td>90 + 2d20</td>\n",
       "    </tr>\n",
       "    <tr>\n",
       "      <th>9</th>\n",
       "      <td>Human</td>\n",
       "      <td>15</td>\n",
       "      <td>90</td>\n",
       "      <td>90 + 2d20</td>\n",
       "    </tr>\n",
       "    <tr>\n",
       "      <th>10</th>\n",
       "      <td>Tiefling</td>\n",
       "      <td>17</td>\n",
       "      <td>100</td>\n",
       "      <td>100 + 1d100</td>\n",
       "    </tr>\n",
       "  </tbody>\n",
       "</table>\n",
       "</div>"
      ],
      "text/plain": [
       "           race  base_age  max_age maximum_age_range\n",
       "0   Dragonborn         15       80         80 + 1d20\n",
       "1          Drow        80      225       225 + 3d100\n",
       "2         Dwarf        50      350       300 + 2d100\n",
       "3           Elf        90      750       425 + 5d100\n",
       "4     Githyanki        30      250       250 + 1d100\n",
       "5         Gnome        60      200       200 + 3d100\n",
       "6      Half-Elf        15      125        125 + 3d20\n",
       "7      Halfling        20      100       100 + 1d100\n",
       "8      Half-Orc        12       60         90 + 2d20\n",
       "9         Human        15       90         90 + 2d20\n",
       "10     Tiefling        17      100       100 + 1d100"
      ]
     },
     "execution_count": 389,
     "metadata": {},
     "output_type": "execute_result"
    }
   ],
   "source": [
    "races = pd.read_csv('data/races.csv', sep=';')\n",
    "races"
   ]
  },
  {
   "cell_type": "markdown",
   "metadata": {},
   "source": [
    "referência: https://www.dndbeyond.com/sources/basic-rules/classes#ClassesSummary"
   ]
  },
  {
   "cell_type": "code",
   "execution_count": 390,
   "metadata": {},
   "outputs": [
    {
     "data": {
      "text/html": [
       "<div>\n",
       "<style scoped>\n",
       "    .dataframe tbody tr th:only-of-type {\n",
       "        vertical-align: middle;\n",
       "    }\n",
       "\n",
       "    .dataframe tbody tr th {\n",
       "        vertical-align: top;\n",
       "    }\n",
       "\n",
       "    .dataframe thead th {\n",
       "        text-align: right;\n",
       "    }\n",
       "</style>\n",
       "<table border=\"1\" class=\"dataframe\">\n",
       "  <thead>\n",
       "    <tr style=\"text-align: right;\">\n",
       "      <th></th>\n",
       "      <th>Class</th>\n",
       "      <th>Armor</th>\n",
       "      <th>Weapon</th>\n",
       "    </tr>\n",
       "  </thead>\n",
       "  <tbody>\n",
       "    <tr>\n",
       "      <th>0</th>\n",
       "      <td>Barbarian</td>\n",
       "      <td>Light armor, medium armor, shields</td>\n",
       "      <td>Simple weapons, martial weapons</td>\n",
       "    </tr>\n",
       "    <tr>\n",
       "      <th>1</th>\n",
       "      <td>Bard</td>\n",
       "      <td>Light armor</td>\n",
       "      <td>simple weapons, hand crossbows, longswords, ra...</td>\n",
       "    </tr>\n",
       "    <tr>\n",
       "      <th>2</th>\n",
       "      <td>Cleric</td>\n",
       "      <td>Light armor, medium armor, shields</td>\n",
       "      <td>Simple weapons</td>\n",
       "    </tr>\n",
       "    <tr>\n",
       "      <th>3</th>\n",
       "      <td>Druid</td>\n",
       "      <td>Light armor, medium armor, shields</td>\n",
       "      <td>Clubs, daggers, darts, javelins, maces, quarte...</td>\n",
       "    </tr>\n",
       "    <tr>\n",
       "      <th>4</th>\n",
       "      <td>Fighter</td>\n",
       "      <td>Light armor, medium armor, heavy armor, shields</td>\n",
       "      <td>Simple weapons, martial weapons</td>\n",
       "    </tr>\n",
       "    <tr>\n",
       "      <th>5</th>\n",
       "      <td>Monk</td>\n",
       "      <td>None</td>\n",
       "      <td>Simple weapons, shortswords</td>\n",
       "    </tr>\n",
       "    <tr>\n",
       "      <th>6</th>\n",
       "      <td>Paladin</td>\n",
       "      <td>Light armor, medium armor, heavy armor, shields</td>\n",
       "      <td>Simple weapons, martial weapons</td>\n",
       "    </tr>\n",
       "    <tr>\n",
       "      <th>7</th>\n",
       "      <td>Ranger</td>\n",
       "      <td>Light armor, medium armor, shields</td>\n",
       "      <td>Simple weapons, martial weapons</td>\n",
       "    </tr>\n",
       "    <tr>\n",
       "      <th>8</th>\n",
       "      <td>Rogue</td>\n",
       "      <td>Light armor</td>\n",
       "      <td>Simple weapons, hand crossbows, longswords, ra...</td>\n",
       "    </tr>\n",
       "    <tr>\n",
       "      <th>9</th>\n",
       "      <td>Sorcerer</td>\n",
       "      <td>None</td>\n",
       "      <td>Daggers, darts, slings, quarterstaffs, light c...</td>\n",
       "    </tr>\n",
       "    <tr>\n",
       "      <th>10</th>\n",
       "      <td>Warlock</td>\n",
       "      <td>Light armor</td>\n",
       "      <td>simple weapons</td>\n",
       "    </tr>\n",
       "    <tr>\n",
       "      <th>11</th>\n",
       "      <td>Wizard</td>\n",
       "      <td>None</td>\n",
       "      <td>Daggers, darts, slings, quarterstaffs, light c...</td>\n",
       "    </tr>\n",
       "  </tbody>\n",
       "</table>\n",
       "</div>"
      ],
      "text/plain": [
       "        Class                                             Armor  \\\n",
       "0   Barbarian                Light armor, medium armor, shields   \n",
       "1        Bard                                       Light armor   \n",
       "2      Cleric                Light armor, medium armor, shields   \n",
       "3       Druid               Light armor, medium armor, shields    \n",
       "4     Fighter  Light armor, medium armor, heavy armor, shields    \n",
       "5        Monk                                              None   \n",
       "6     Paladin  Light armor, medium armor, heavy armor, shields    \n",
       "7      Ranger                Light armor, medium armor, shields   \n",
       "8       Rogue                                       Light armor   \n",
       "9    Sorcerer                                              None   \n",
       "10    Warlock                                       Light armor   \n",
       "11     Wizard                                              None   \n",
       "\n",
       "                                               Weapon  \n",
       "0                     Simple weapons, martial weapons  \n",
       "1   simple weapons, hand crossbows, longswords, ra...  \n",
       "2                                      Simple weapons  \n",
       "3   Clubs, daggers, darts, javelins, maces, quarte...  \n",
       "4                     Simple weapons, martial weapons  \n",
       "5                         Simple weapons, shortswords  \n",
       "6                     Simple weapons, martial weapons  \n",
       "7                     Simple weapons, martial weapons  \n",
       "8   Simple weapons, hand crossbows, longswords, ra...  \n",
       "9   Daggers, darts, slings, quarterstaffs, light c...  \n",
       "10                                     simple weapons  \n",
       "11  Daggers, darts, slings, quarterstaffs, light c...  "
      ]
     },
     "execution_count": 390,
     "metadata": {},
     "output_type": "execute_result"
    }
   ],
   "source": [
    "classes = pd.read_csv('data\\classes.csv', sep=';')\n",
    "classes"
   ]
  },
  {
   "cell_type": "markdown",
   "metadata": {},
   "source": [
    "A tabela de cliente deve ter a seguinte estrutura:"
   ]
  },
  {
   "cell_type": "markdown",
   "metadata": {},
   "source": [
    "| customer_id| name    | sex      | race     | age     | class   |\n",
    "| -------- | ------- | -------- | ------- | -------- | ------- |\n",
    "| -------- |-------- | -------- | ------- | -------- | ------- |\n",
    "| -------- | --------| -------- | ------- | -------- | ------- |\n",
    "| -------- | --------| -------- | ------- | -------- | ------- |"
   ]
  },
  {
   "cell_type": "markdown",
   "metadata": {},
   "source": [
    "**Função para gerar IDs:**"
   ]
  },
  {
   "cell_type": "code",
   "execution_count": 391,
   "metadata": {},
   "outputs": [],
   "source": [
    "import time\n",
    "import string\n",
    "\n",
    "# criando função para gerar IDs\n",
    "def generate_custom_id(i):\n",
    "    \"\"\"Function to generate random IDs\"\"\"\n",
    "    timestamp = str(int(time.time()) + i)\n",
    "    random_chars = ''.join(random.choices(string.ascii_uppercase + string.digits, k=6))\n",
    "    return f\"{timestamp[4:]}-{random_chars}\"   # return new unique ID"
   ]
  },
  {
   "cell_type": "code",
   "execution_count": 392,
   "metadata": {},
   "outputs": [
    {
     "name": "stdout",
     "output_type": "stream",
     "text": [
      "983637-AJI0Y6\n",
      "983638-DPBHSA\n",
      "983639-HXTHV3\n",
      "983640-A3ZMF8\n",
      "983641-MDD4V3\n",
      "983642-0T9NT3\n",
      "983643-W5UZBI\n",
      "983644-KCIDKW\n",
      "983645-NNHJ7X\n",
      "983646-VG0FN9\n",
      "983647-XUY41I\n",
      "983648-BLJH75\n",
      "983649-LXO6QJ\n",
      "983650-IUJV6O\n",
      "983651-H9SDBD\n",
      "983652-W2PCN9\n",
      "983653-T84AZY\n",
      "983654-TJXEPQ\n",
      "983655-85JSG6\n",
      "983656-5KXVF1\n"
     ]
    }
   ],
   "source": [
    "for i in range(20):\n",
    "    print(generate_custom_id(i))"
   ]
  },
  {
   "cell_type": "code",
   "execution_count": 393,
   "metadata": {},
   "outputs": [
    {
     "name": "stdout",
     "output_type": "stream",
     "text": [
      "983638-T2TALA\n"
     ]
    }
   ],
   "source": [
    "# random ID\n",
    "custom_id = generate_custom_id(1)\n",
    "print(custom_id)"
   ]
  },
  {
   "cell_type": "code",
   "execution_count": 394,
   "metadata": {},
   "outputs": [
    {
     "data": {
      "text/html": [
       "<div>\n",
       "<style scoped>\n",
       "    .dataframe tbody tr th:only-of-type {\n",
       "        vertical-align: middle;\n",
       "    }\n",
       "\n",
       "    .dataframe tbody tr th {\n",
       "        vertical-align: top;\n",
       "    }\n",
       "\n",
       "    .dataframe thead th {\n",
       "        text-align: right;\n",
       "    }\n",
       "</style>\n",
       "<table border=\"1\" class=\"dataframe\">\n",
       "  <thead>\n",
       "    <tr style=\"text-align: right;\">\n",
       "      <th></th>\n",
       "      <th>customer_id</th>\n",
       "    </tr>\n",
       "  </thead>\n",
       "  <tbody>\n",
       "    <tr>\n",
       "      <th>0</th>\n",
       "      <td>983638-753LC5</td>\n",
       "    </tr>\n",
       "    <tr>\n",
       "      <th>1</th>\n",
       "      <td>983639-8DRC11</td>\n",
       "    </tr>\n",
       "    <tr>\n",
       "      <th>2</th>\n",
       "      <td>983640-ERTJ5P</td>\n",
       "    </tr>\n",
       "    <tr>\n",
       "      <th>3</th>\n",
       "      <td>983641-HT0HL9</td>\n",
       "    </tr>\n",
       "    <tr>\n",
       "      <th>4</th>\n",
       "      <td>983642-XPSEIM</td>\n",
       "    </tr>\n",
       "    <tr>\n",
       "      <th>...</th>\n",
       "      <td>...</td>\n",
       "    </tr>\n",
       "    <tr>\n",
       "      <th>1418</th>\n",
       "      <td>985056-CTM09H</td>\n",
       "    </tr>\n",
       "    <tr>\n",
       "      <th>1419</th>\n",
       "      <td>985057-ZBGTJ5</td>\n",
       "    </tr>\n",
       "    <tr>\n",
       "      <th>1420</th>\n",
       "      <td>985058-4696QZ</td>\n",
       "    </tr>\n",
       "    <tr>\n",
       "      <th>1421</th>\n",
       "      <td>985059-6CP7SA</td>\n",
       "    </tr>\n",
       "    <tr>\n",
       "      <th>1422</th>\n",
       "      <td>985060-VZEBU2</td>\n",
       "    </tr>\n",
       "  </tbody>\n",
       "</table>\n",
       "<p>1423 rows × 1 columns</p>\n",
       "</div>"
      ],
      "text/plain": [
       "        customer_id\n",
       "0     983638-753LC5\n",
       "1     983639-8DRC11\n",
       "2     983640-ERTJ5P\n",
       "3     983641-HT0HL9\n",
       "4     983642-XPSEIM\n",
       "...             ...\n",
       "1418  985056-CTM09H\n",
       "1419  985057-ZBGTJ5\n",
       "1420  985058-4696QZ\n",
       "1421  985059-6CP7SA\n",
       "1422  985060-VZEBU2\n",
       "\n",
       "[1423 rows x 1 columns]"
      ]
     },
     "execution_count": 394,
     "metadata": {},
     "output_type": "execute_result"
    }
   ],
   "source": [
    "# criando um dataframe com os randoms IDs\n",
    "customers = pd.DataFrame({\n",
    "    'customer_id': [generate_custom_id(i) for i in range(1, names.shape[0] + 1)]})\n",
    "customers"
   ]
  },
  {
   "cell_type": "code",
   "execution_count": 395,
   "metadata": {},
   "outputs": [
    {
     "data": {
      "text/plain": [
       "0"
      ]
     },
     "execution_count": 395,
     "metadata": {},
     "output_type": "execute_result"
    }
   ],
   "source": [
    "# checando IDs duplicados\n",
    "customers.duplicated().sum()"
   ]
  },
  {
   "cell_type": "code",
   "execution_count": 396,
   "metadata": {},
   "outputs": [
    {
     "data": {
      "text/plain": [
       "name    0\n",
       "sex     0\n",
       "dtype: int64"
      ]
     },
     "execution_count": 396,
     "metadata": {},
     "output_type": "execute_result"
    }
   ],
   "source": [
    "# verificando NAs\n",
    "names.isna().sum()"
   ]
  },
  {
   "cell_type": "code",
   "execution_count": 397,
   "metadata": {},
   "outputs": [],
   "source": [
    "# removendo espaços antes e depois\n",
    "names['name'] = names['name'].str.strip()"
   ]
  },
  {
   "cell_type": "code",
   "execution_count": 398,
   "metadata": {},
   "outputs": [],
   "source": [
    "# resetando os índices\n",
    "names.reset_index(drop=True, inplace=True)"
   ]
  },
  {
   "cell_type": "code",
   "execution_count": 399,
   "metadata": {},
   "outputs": [],
   "source": [
    "# inserindo os nomes e sexos na tabela de clientes\n",
    "customers[\"name\"] = names['name']\n",
    "customers[\"sex\"] = names['sex']"
   ]
  },
  {
   "cell_type": "code",
   "execution_count": 400,
   "metadata": {},
   "outputs": [
    {
     "data": {
      "text/html": [
       "<div>\n",
       "<style scoped>\n",
       "    .dataframe tbody tr th:only-of-type {\n",
       "        vertical-align: middle;\n",
       "    }\n",
       "\n",
       "    .dataframe tbody tr th {\n",
       "        vertical-align: top;\n",
       "    }\n",
       "\n",
       "    .dataframe thead th {\n",
       "        text-align: right;\n",
       "    }\n",
       "</style>\n",
       "<table border=\"1\" class=\"dataframe\">\n",
       "  <thead>\n",
       "    <tr style=\"text-align: right;\">\n",
       "      <th></th>\n",
       "      <th>customer_id</th>\n",
       "      <th>name</th>\n",
       "      <th>sex</th>\n",
       "    </tr>\n",
       "  </thead>\n",
       "  <tbody>\n",
       "    <tr>\n",
       "      <th>0</th>\n",
       "      <td>983638-753LC5</td>\n",
       "      <td>Veklani  Daargen</td>\n",
       "      <td>female</td>\n",
       "    </tr>\n",
       "    <tr>\n",
       "      <th>1</th>\n",
       "      <td>983639-8DRC11</td>\n",
       "      <td>Kasaki  Wygarthe</td>\n",
       "      <td>female</td>\n",
       "    </tr>\n",
       "    <tr>\n",
       "      <th>2</th>\n",
       "      <td>983640-ERTJ5P</td>\n",
       "      <td>Rosalyn  Faringray</td>\n",
       "      <td>female</td>\n",
       "    </tr>\n",
       "    <tr>\n",
       "      <th>3</th>\n",
       "      <td>983641-HT0HL9</td>\n",
       "      <td>Atalya  Webb</td>\n",
       "      <td>female</td>\n",
       "    </tr>\n",
       "    <tr>\n",
       "      <th>4</th>\n",
       "      <td>983642-XPSEIM</td>\n",
       "      <td>Grenenzel  Lyfalia</td>\n",
       "      <td>female</td>\n",
       "    </tr>\n",
       "    <tr>\n",
       "      <th>...</th>\n",
       "      <td>...</td>\n",
       "      <td>...</td>\n",
       "      <td>...</td>\n",
       "    </tr>\n",
       "    <tr>\n",
       "      <th>1418</th>\n",
       "      <td>985056-CTM09H</td>\n",
       "      <td>Arnan  Ramcrown</td>\n",
       "      <td>male</td>\n",
       "    </tr>\n",
       "    <tr>\n",
       "      <th>1419</th>\n",
       "      <td>985057-ZBGTJ5</td>\n",
       "      <td>Tavon  Stormchapel</td>\n",
       "      <td>male</td>\n",
       "    </tr>\n",
       "    <tr>\n",
       "      <th>1420</th>\n",
       "      <td>985058-4696QZ</td>\n",
       "      <td>Dodd  Fryft</td>\n",
       "      <td>male</td>\n",
       "    </tr>\n",
       "    <tr>\n",
       "      <th>1421</th>\n",
       "      <td>985059-6CP7SA</td>\n",
       "      <td>Markus  Shattermast</td>\n",
       "      <td>male</td>\n",
       "    </tr>\n",
       "    <tr>\n",
       "      <th>1422</th>\n",
       "      <td>985060-VZEBU2</td>\n",
       "      <td>Ningyan  Shattermast</td>\n",
       "      <td>male</td>\n",
       "    </tr>\n",
       "  </tbody>\n",
       "</table>\n",
       "<p>1423 rows × 3 columns</p>\n",
       "</div>"
      ],
      "text/plain": [
       "        customer_id                  name     sex\n",
       "0     983638-753LC5      Veklani  Daargen  female\n",
       "1     983639-8DRC11      Kasaki  Wygarthe  female\n",
       "2     983640-ERTJ5P    Rosalyn  Faringray  female\n",
       "3     983641-HT0HL9          Atalya  Webb  female\n",
       "4     983642-XPSEIM    Grenenzel  Lyfalia  female\n",
       "...             ...                   ...     ...\n",
       "1418  985056-CTM09H       Arnan  Ramcrown    male\n",
       "1419  985057-ZBGTJ5    Tavon  Stormchapel    male\n",
       "1420  985058-4696QZ           Dodd  Fryft    male\n",
       "1421  985059-6CP7SA   Markus  Shattermast    male\n",
       "1422  985060-VZEBU2  Ningyan  Shattermast    male\n",
       "\n",
       "[1423 rows x 3 columns]"
      ]
     },
     "execution_count": 400,
     "metadata": {},
     "output_type": "execute_result"
    }
   ],
   "source": [
    "customers"
   ]
  },
  {
   "cell_type": "code",
   "execution_count": 401,
   "metadata": {},
   "outputs": [
    {
     "data": {
      "text/plain": [
       "array(['Dragonborn\\xa0', 'Drow', 'Dwarf', 'Elf', 'Githyanki', 'Gnome',\n",
       "       'Half-Elf', 'Halfling', 'Half-Orc', 'Human', 'Tiefling'],\n",
       "      dtype=object)"
      ]
     },
     "execution_count": 401,
     "metadata": {},
     "output_type": "execute_result"
    }
   ],
   "source": [
    "races['race'].unique()"
   ]
  },
  {
   "cell_type": "code",
   "execution_count": 402,
   "metadata": {},
   "outputs": [],
   "source": [
    "# limpando a coluna 'race'\n",
    "races['race'] = races['race'].str.replace('\\xa0', '').str.strip()"
   ]
  },
  {
   "cell_type": "code",
   "execution_count": 403,
   "metadata": {},
   "outputs": [],
   "source": [
    "customers['race'] = [random.choice(list(races['race'])) for _ in range(names.shape[0])]"
   ]
  },
  {
   "cell_type": "markdown",
   "metadata": {},
   "source": [
    "Agora vem uma etapa não tão simples, a idade, cada raça tem um período de vida diferente e pretendo conservar essas características também."
   ]
  },
  {
   "cell_type": "code",
   "execution_count": 404,
   "metadata": {},
   "outputs": [],
   "source": [
    "# criando a função que irá gerar a idade aleatória baseada da raça que foi dada\n",
    "def random_age(X):\n",
    "    \"\"\"This function returns a random age based on the race\"\"\"\n",
    "    race_infos = races[races['race'] == X].reset_index(drop=True)\n",
    "    return random.randint(race_infos['base_age'][0], race_infos['max_age'][0])"
   ]
  },
  {
   "cell_type": "code",
   "execution_count": 405,
   "metadata": {},
   "outputs": [],
   "source": [
    "customers['age'] = customers['race'].apply(random_age)"
   ]
  },
  {
   "cell_type": "markdown",
   "metadata": {},
   "source": [
    "Agora resta apenas escolher as classes para cada cliente."
   ]
  },
  {
   "cell_type": "code",
   "execution_count": 406,
   "metadata": {},
   "outputs": [],
   "source": [
    "customers['class'] = [random.choice(list(classes['Class'])) for _ in range(customers.shape[0])]"
   ]
  },
  {
   "cell_type": "markdown",
   "metadata": {},
   "source": [
    "Conferindo a estrutura da tabela:\n",
    "\n",
    "| customer_id| name    | sex      | race     | age     | class   |\n",
    "| -------- | ------- | -------- | ------- | -------- | ------- |\n",
    "| -------- |-------- | -------- | ------- | -------- | ------- |\n",
    "| -------- | --------| -------- | ------- | -------- | ------- |\n",
    "| -------- | --------| -------- | ------- | -------- | ------- |"
   ]
  },
  {
   "cell_type": "code",
   "execution_count": 407,
   "metadata": {},
   "outputs": [
    {
     "data": {
      "text/html": [
       "<div>\n",
       "<style scoped>\n",
       "    .dataframe tbody tr th:only-of-type {\n",
       "        vertical-align: middle;\n",
       "    }\n",
       "\n",
       "    .dataframe tbody tr th {\n",
       "        vertical-align: top;\n",
       "    }\n",
       "\n",
       "    .dataframe thead th {\n",
       "        text-align: right;\n",
       "    }\n",
       "</style>\n",
       "<table border=\"1\" class=\"dataframe\">\n",
       "  <thead>\n",
       "    <tr style=\"text-align: right;\">\n",
       "      <th></th>\n",
       "      <th>customer_id</th>\n",
       "      <th>name</th>\n",
       "      <th>sex</th>\n",
       "      <th>race</th>\n",
       "      <th>age</th>\n",
       "      <th>class</th>\n",
       "    </tr>\n",
       "  </thead>\n",
       "  <tbody>\n",
       "    <tr>\n",
       "      <th>1185</th>\n",
       "      <td>984823-ZAQ7QH</td>\n",
       "      <td>Vzani  Van Hyden</td>\n",
       "      <td>female</td>\n",
       "      <td>Dwarf</td>\n",
       "      <td>337</td>\n",
       "      <td>Ranger</td>\n",
       "    </tr>\n",
       "    <tr>\n",
       "      <th>677</th>\n",
       "      <td>984315-5R96KH</td>\n",
       "      <td>Marnia  Skandalor</td>\n",
       "      <td>female</td>\n",
       "      <td>Tiefling</td>\n",
       "      <td>37</td>\n",
       "      <td>Paladin</td>\n",
       "    </tr>\n",
       "    <tr>\n",
       "      <th>1084</th>\n",
       "      <td>984722-Q8VA8X</td>\n",
       "      <td>Lokara  Talandro</td>\n",
       "      <td>female</td>\n",
       "      <td>Gnome</td>\n",
       "      <td>118</td>\n",
       "      <td>Sorcerer</td>\n",
       "    </tr>\n",
       "    <tr>\n",
       "      <th>1005</th>\n",
       "      <td>984643-40KZUJ</td>\n",
       "      <td>Sevenson  Zereni</td>\n",
       "      <td>male</td>\n",
       "      <td>Elf</td>\n",
       "      <td>705</td>\n",
       "      <td>Monk</td>\n",
       "    </tr>\n",
       "    <tr>\n",
       "      <th>944</th>\n",
       "      <td>984582-MRSEZY</td>\n",
       "      <td>Talfen  Ronefel</td>\n",
       "      <td>male</td>\n",
       "      <td>Half-Orc</td>\n",
       "      <td>23</td>\n",
       "      <td>Rogue</td>\n",
       "    </tr>\n",
       "    <tr>\n",
       "      <th>538</th>\n",
       "      <td>984176-7OI0E0</td>\n",
       "      <td>Vauldra  Velene</td>\n",
       "      <td>female</td>\n",
       "      <td>Half-Orc</td>\n",
       "      <td>54</td>\n",
       "      <td>Wizard</td>\n",
       "    </tr>\n",
       "    <tr>\n",
       "      <th>994</th>\n",
       "      <td>984632-UDUAHG</td>\n",
       "      <td>Dalkon  Romazi</td>\n",
       "      <td>male</td>\n",
       "      <td>Gnome</td>\n",
       "      <td>168</td>\n",
       "      <td>Cleric</td>\n",
       "    </tr>\n",
       "    <tr>\n",
       "      <th>724</th>\n",
       "      <td>984362-212PGY</td>\n",
       "      <td>Mirabel  Yellowcrane</td>\n",
       "      <td>female</td>\n",
       "      <td>Half-Orc</td>\n",
       "      <td>26</td>\n",
       "      <td>Bard</td>\n",
       "    </tr>\n",
       "    <tr>\n",
       "      <th>70</th>\n",
       "      <td>983708-OZCYWD</td>\n",
       "      <td>Lokara  Strong</td>\n",
       "      <td>female</td>\n",
       "      <td>Dragonborn</td>\n",
       "      <td>25</td>\n",
       "      <td>Barbarian</td>\n",
       "    </tr>\n",
       "    <tr>\n",
       "      <th>123</th>\n",
       "      <td>983761-2KNFTU</td>\n",
       "      <td>Meklan  Van Devries</td>\n",
       "      <td>male</td>\n",
       "      <td>Elf</td>\n",
       "      <td>146</td>\n",
       "      <td>Cleric</td>\n",
       "    </tr>\n",
       "  </tbody>\n",
       "</table>\n",
       "</div>"
      ],
      "text/plain": [
       "        customer_id                  name     sex        race  age      class\n",
       "1185  984823-ZAQ7QH      Vzani  Van Hyden  female       Dwarf  337     Ranger\n",
       "677   984315-5R96KH     Marnia  Skandalor  female    Tiefling   37    Paladin\n",
       "1084  984722-Q8VA8X      Lokara  Talandro  female       Gnome  118   Sorcerer\n",
       "1005  984643-40KZUJ      Sevenson  Zereni    male         Elf  705       Monk\n",
       "944   984582-MRSEZY       Talfen  Ronefel    male    Half-Orc   23      Rogue\n",
       "538   984176-7OI0E0       Vauldra  Velene  female    Half-Orc   54     Wizard\n",
       "994   984632-UDUAHG        Dalkon  Romazi    male       Gnome  168     Cleric\n",
       "724   984362-212PGY  Mirabel  Yellowcrane  female    Half-Orc   26       Bard\n",
       "70    983708-OZCYWD        Lokara  Strong  female  Dragonborn   25  Barbarian\n",
       "123   983761-2KNFTU   Meklan  Van Devries    male         Elf  146     Cleric"
      ]
     },
     "execution_count": 407,
     "metadata": {},
     "output_type": "execute_result"
    }
   ],
   "source": [
    "customers.sample(n=10, random_state=42)"
   ]
  },
  {
   "cell_type": "markdown",
   "metadata": {},
   "source": [
    "## **Criar a tabela de Vendas**"
   ]
  },
  {
   "cell_type": "code",
   "execution_count": 269,
   "metadata": {},
   "outputs": [],
   "source": [
    "from datetime import datetime, timedelta"
   ]
  },
  {
   "cell_type": "markdown",
   "metadata": {},
   "source": [
    "**Minhas tabelas:**\n",
    "* adventure_gear\n",
    "* magic_items_filtered\n",
    "* weapons\n",
    "* potions_filtered\n",
    "* poisons\n",
    "* armor\n",
    "* product\n",
    "* costumers"
   ]
  },
  {
   "cell_type": "markdown",
   "metadata": {},
   "source": [
    "A tabela sales deve seguir a estrutura:\n",
    "\n",
    "| sale_id  | date    | customer_id | product_id    | product_name | quantity| product_price | \n",
    "| -------- | ------- | ----------- | --------------| -------------| ------- |-------------- |\n",
    "| -------- |-------- | ----------- | --------------| -------------| ------- |-------------- |\n",
    "| -------- | --------| ----------- | --------------| -------------| ------- |-------------- |\n",
    "| -------- | --------| ----------- | --------------| -------------| ------- |-------------- |"
   ]
  },
  {
   "cell_type": "markdown",
   "metadata": {},
   "source": [
    "**Função para gerar IDs:**"
   ]
  },
  {
   "cell_type": "code",
   "execution_count": 410,
   "metadata": {},
   "outputs": [],
   "source": [
    "# criando função para gerar IDs para tabela sales\n",
    "def generate_sale_id(i):\n",
    "    \"\"\"Function to generate random sale_IDs.\n",
    "    \n",
    "    This will return a random string with length = 11 chars\"\"\"\n",
    "    timestamp = str(int(time.time_ns()) + i)\n",
    "    random_chars = ''.join(random.choices(string.ascii_uppercase + string.digits, k=5))\n",
    "    return f\"{timestamp[13:]}-{random_chars}\"   # return new unique ID"
   ]
  },
  {
   "cell_type": "code",
   "execution_count": 411,
   "metadata": {},
   "outputs": [
    {
     "name": "stdout",
     "output_type": "stream",
     "text": [
      "Exemplo de sale_id:  883301-4WBAB\n"
     ]
    }
   ],
   "source": [
    "print(\"Exemplo de sale_id: \", generate_sale_id(1))"
   ]
  },
  {
   "cell_type": "code",
   "execution_count": null,
   "metadata": {},
   "outputs": [],
   "source": [
    "product['price'].unique()"
   ]
  },
  {
   "cell_type": "markdown",
   "metadata": {},
   "source": [
    "Alguns preços possuem informações que estão despadrozinadas como \"Armor + 200 gp\", precisa ser limpados da tabela de produtos. "
   ]
  },
  {
   "cell_type": "code",
   "execution_count": 413,
   "metadata": {},
   "outputs": [],
   "source": [
    "# removendo observações no campo de preço\n",
    "product['price'] = product['price'].str.replace('Armor + ', '', regex=False).str.strip()"
   ]
  },
  {
   "cell_type": "code",
   "execution_count": 415,
   "metadata": {},
   "outputs": [
    {
     "data": {
      "text/plain": [
       "array(['15 gp', '50 gp', '1,000 gp', '400 gp', '900 gp', '300 gp',\n",
       "       '100 gp', '600 gp', '350 gp', '450 gp', '150 gp', '500 gp',\n",
       "       '1,600 gp', '4,000 gp', '8,000 gp', '120 gp', '200 gp', '25 gp',\n",
       "       '35 gp', '280 gp', '570 gp', '2,640 gp', '5,280 gp', '275 gp',\n",
       "       '2,000 gp', '1,250 gp', '1,300 gp', '800 gp', '5,000 gp',\n",
       "       '1,500 gp', '250 gp', '750 gp', '700 gp', '1,350 gp', '3,000 gp',\n",
       "       '4,500 gp', '6,000 gp', '5,600 gp', '1,200 gp', '1,0500 gp',\n",
       "       '550 gp', '3,500 gp', '2,0500 gp', '500gp', '2,500 gp',\n",
       "       '40,000 gp', '2 gp', '1 gp', '4 cp', '10 gp', '20 gp', '5 gp',\n",
       "       '4 sp', '5 sp', '5 cp', '1 cp', '2 cp', '1 sp', '2 sp', '4 gp',\n",
       "       '1000 gp', '30 gp', '6 gp', '3 gp', '12 gp', '75 gp', '45 gp',\n",
       "       '1500 gp', '90 gp', '180 gp', '270 gp', '960 gp', '1,920 gp',\n",
       "       '480 gp'], dtype=object)"
      ]
     },
     "execution_count": 415,
     "metadata": {},
     "output_type": "execute_result"
    }
   ],
   "source": [
    "product['price'].unique()"
   ]
  },
  {
   "cell_type": "code",
   "execution_count": null,
   "metadata": {},
   "outputs": [],
   "source": [
    "product"
   ]
  },
  {
   "cell_type": "code",
   "execution_count": 276,
   "metadata": {},
   "outputs": [],
   "source": [
    "# Criando a tabela de datas para simular vendas ao longo do tempo\n",
    "data_inicial = datetime(2017, 1, 1)\n",
    "data_final = datetime(2023, 12, 31)\n",
    "intervalo_datas = [data_inicial + timedelta(days=i) for i in range((data_final - data_inicial).days + 1)]"
   ]
  },
  {
   "cell_type": "markdown",
   "metadata": {},
   "source": [
    "A data inicial foi inspirada na data inicial do desenvolvimento do jogo Baldur's Gate 3.\n",
    "\n",
    "referência: https://larian.com/support/faqs/general-information_46"
   ]
  },
  {
   "cell_type": "code",
   "execution_count": 416,
   "metadata": {},
   "outputs": [],
   "source": [
    "sales = pd.DataFrame({\n",
    "          'sale_id': [generate_sale_id(i) for i in range(50_832)],\n",
    "          'date': [random.choice(intervalo_datas) for _ in range(50_832)],\n",
    "          'customer_id': [random.choice(list(customers['customer_id'])) for _ in range(50_832)],\n",
    "          'product_id': [random.choice(list(product['item_id'])) for _ in range(50_832)],\n",
    "          'quantity': [random.randint(1, 5) for _ in range(50_832)]\n",
    "          })"
   ]
  },
  {
   "cell_type": "markdown",
   "metadata": {},
   "source": [
    "A quantidade de items comprados é baseado na quantidade base de itens inicias dos personagens nas campanhas  de Dungeons and Dragons."
   ]
  },
  {
   "cell_type": "markdown",
   "metadata": {},
   "source": [
    "A quantidade de vendas foi baseada no número de avaliações do ***Player's Handbook: Everything a Player Needs to Create Heroic Characters for the World's Greatest Roleplaying Game***.\n",
    "\n",
    "Referência: https://www.amazon.com.br/Players-Handbook-Wizards-RPG-Team/dp/0786965606/ref=sr_1_7?keywords=dnd+5e&qid=1701899431&refinements=p_n_feature_nine_browse-bin%3A8529758011&rnid=8529757011&s=books&sr=1-7&ufe=app_do%3Aamzn1.fos.db68964d-7c0e-4bb2-a95c-e5cb9e32eb12"
   ]
  },
  {
   "cell_type": "code",
   "execution_count": 417,
   "metadata": {},
   "outputs": [
    {
     "data": {
      "text/html": [
       "<div>\n",
       "<style scoped>\n",
       "    .dataframe tbody tr th:only-of-type {\n",
       "        vertical-align: middle;\n",
       "    }\n",
       "\n",
       "    .dataframe tbody tr th {\n",
       "        vertical-align: top;\n",
       "    }\n",
       "\n",
       "    .dataframe thead th {\n",
       "        text-align: right;\n",
       "    }\n",
       "</style>\n",
       "<table border=\"1\" class=\"dataframe\">\n",
       "  <thead>\n",
       "    <tr style=\"text-align: right;\">\n",
       "      <th></th>\n",
       "      <th>sale_id</th>\n",
       "      <th>date</th>\n",
       "      <th>customer_id</th>\n",
       "      <th>product_id</th>\n",
       "      <th>quantity</th>\n",
       "    </tr>\n",
       "  </thead>\n",
       "  <tbody>\n",
       "    <tr>\n",
       "      <th>0</th>\n",
       "      <td>886200-Q0FOT</td>\n",
       "      <td>2019-09-23</td>\n",
       "      <td>983817-IVSOLM</td>\n",
       "      <td>287-PCo</td>\n",
       "      <td>1</td>\n",
       "    </tr>\n",
       "    <tr>\n",
       "      <th>1</th>\n",
       "      <td>886201-10GDM</td>\n",
       "      <td>2019-08-06</td>\n",
       "      <td>985032-MWLMA6</td>\n",
       "      <td>088-GNo</td>\n",
       "      <td>1</td>\n",
       "    </tr>\n",
       "    <tr>\n",
       "      <th>2</th>\n",
       "      <td>886202-IPC8Q</td>\n",
       "      <td>2020-01-08</td>\n",
       "      <td>984260-44FTJ5</td>\n",
       "      <td>24-Mns</td>\n",
       "      <td>2</td>\n",
       "    </tr>\n",
       "    <tr>\n",
       "      <th>3</th>\n",
       "      <td>886203-O6P43</td>\n",
       "      <td>2023-09-18</td>\n",
       "      <td>984908-LBA117</td>\n",
       "      <td>145-SSu</td>\n",
       "      <td>1</td>\n",
       "    </tr>\n",
       "    <tr>\n",
       "      <th>4</th>\n",
       "      <td>886204-AR6JL</td>\n",
       "      <td>2021-05-06</td>\n",
       "      <td>983914-2KKZMP</td>\n",
       "      <td>269-ACo</td>\n",
       "      <td>1</td>\n",
       "    </tr>\n",
       "    <tr>\n",
       "      <th>...</th>\n",
       "      <td>...</td>\n",
       "      <td>...</td>\n",
       "      <td>...</td>\n",
       "      <td>...</td>\n",
       "      <td>...</td>\n",
       "    </tr>\n",
       "    <tr>\n",
       "      <th>50827</th>\n",
       "      <td>620527-HV4GY</td>\n",
       "      <td>2018-01-18</td>\n",
       "      <td>984508-KCS4KE</td>\n",
       "      <td>03-Sor</td>\n",
       "      <td>1</td>\n",
       "    </tr>\n",
       "    <tr>\n",
       "      <th>50828</th>\n",
       "      <td>620528-PBLV1</td>\n",
       "      <td>2019-11-16</td>\n",
       "      <td>984430-QPWBSF</td>\n",
       "      <td>293-ICo</td>\n",
       "      <td>5</td>\n",
       "    </tr>\n",
       "    <tr>\n",
       "      <th>50829</th>\n",
       "      <td>620529-QET6W</td>\n",
       "      <td>2023-07-15</td>\n",
       "      <td>985039-PT2ZL1</td>\n",
       "      <td>29-Tns</td>\n",
       "      <td>1</td>\n",
       "    </tr>\n",
       "    <tr>\n",
       "      <th>50830</th>\n",
       "      <td>620530-HLIME</td>\n",
       "      <td>2022-06-12</td>\n",
       "      <td>984359-2RVNDF</td>\n",
       "      <td>080-DNo</td>\n",
       "      <td>5</td>\n",
       "    </tr>\n",
       "    <tr>\n",
       "      <th>50831</th>\n",
       "      <td>620531-G99VW</td>\n",
       "      <td>2023-03-18</td>\n",
       "      <td>984975-SVHOTQ</td>\n",
       "      <td>259-BCo</td>\n",
       "      <td>4</td>\n",
       "    </tr>\n",
       "  </tbody>\n",
       "</table>\n",
       "<p>50832 rows × 5 columns</p>\n",
       "</div>"
      ],
      "text/plain": [
       "            sale_id       date    customer_id product_id  quantity\n",
       "0      886200-Q0FOT 2019-09-23  983817-IVSOLM    287-PCo         1\n",
       "1      886201-10GDM 2019-08-06  985032-MWLMA6    088-GNo         1\n",
       "2      886202-IPC8Q 2020-01-08  984260-44FTJ5     24-Mns         2\n",
       "3      886203-O6P43 2023-09-18  984908-LBA117    145-SSu         1\n",
       "4      886204-AR6JL 2021-05-06  983914-2KKZMP    269-ACo         1\n",
       "...             ...        ...            ...        ...       ...\n",
       "50827  620527-HV4GY 2018-01-18  984508-KCS4KE     03-Sor         1\n",
       "50828  620528-PBLV1 2019-11-16  984430-QPWBSF    293-ICo         5\n",
       "50829  620529-QET6W 2023-07-15  985039-PT2ZL1     29-Tns         1\n",
       "50830  620530-HLIME 2022-06-12  984359-2RVNDF    080-DNo         5\n",
       "50831  620531-G99VW 2023-03-18  984975-SVHOTQ    259-BCo         4\n",
       "\n",
       "[50832 rows x 5 columns]"
      ]
     },
     "execution_count": 417,
     "metadata": {},
     "output_type": "execute_result"
    }
   ],
   "source": [
    "sales"
   ]
  },
  {
   "cell_type": "code",
   "execution_count": 418,
   "metadata": {},
   "outputs": [],
   "source": [
    "# renomeando a coluna na tabela produto para dar match na tabela de vendas\n",
    "product.rename(columns={'item_id': 'product_id',\n",
    "                        'name': 'product_name'}, inplace=True)"
   ]
  },
  {
   "cell_type": "code",
   "execution_count": 419,
   "metadata": {},
   "outputs": [],
   "source": [
    "# adiconando os preços e nomes dos produtos na tabela vendas\n",
    "sales = pd.merge(sales, product[['product_id', 'price', 'product_name']], on='product_id', how='left')"
   ]
  },
  {
   "cell_type": "code",
   "execution_count": 420,
   "metadata": {},
   "outputs": [
    {
     "data": {
      "text/html": [
       "<div>\n",
       "<style scoped>\n",
       "    .dataframe tbody tr th:only-of-type {\n",
       "        vertical-align: middle;\n",
       "    }\n",
       "\n",
       "    .dataframe tbody tr th {\n",
       "        vertical-align: top;\n",
       "    }\n",
       "\n",
       "    .dataframe thead th {\n",
       "        text-align: right;\n",
       "    }\n",
       "</style>\n",
       "<table border=\"1\" class=\"dataframe\">\n",
       "  <thead>\n",
       "    <tr style=\"text-align: right;\">\n",
       "      <th></th>\n",
       "      <th>sale_id</th>\n",
       "      <th>date</th>\n",
       "      <th>customer_id</th>\n",
       "      <th>product_id</th>\n",
       "      <th>quantity</th>\n",
       "      <th>price</th>\n",
       "      <th>product_name</th>\n",
       "    </tr>\n",
       "  </thead>\n",
       "  <tbody>\n",
       "    <tr>\n",
       "      <th>18577</th>\n",
       "      <td>801777-JT795</td>\n",
       "      <td>2019-03-03</td>\n",
       "      <td>984308-YIL8SA</td>\n",
       "      <td>111-RNo</td>\n",
       "      <td>1</td>\n",
       "      <td>2,000 gp</td>\n",
       "      <td>Ring of Mind Shielding</td>\n",
       "    </tr>\n",
       "    <tr>\n",
       "      <th>37264</th>\n",
       "      <td>684164-1HOK1</td>\n",
       "      <td>2020-03-23</td>\n",
       "      <td>984051-DTVV2Y</td>\n",
       "      <td>061-BNo</td>\n",
       "      <td>4</td>\n",
       "      <td>350 gp</td>\n",
       "      <td>Boots of the Winterlands</td>\n",
       "    </tr>\n",
       "    <tr>\n",
       "      <th>46966</th>\n",
       "      <td>593066-9DYEP</td>\n",
       "      <td>2022-02-03</td>\n",
       "      <td>984835-PCIFLW</td>\n",
       "      <td>42-Yus</td>\n",
       "      <td>2</td>\n",
       "      <td>10 gp</td>\n",
       "      <td>Yew Wand</td>\n",
       "    </tr>\n",
       "    <tr>\n",
       "      <th>38305</th>\n",
       "      <td>683705-IQWY9</td>\n",
       "      <td>2023-09-14</td>\n",
       "      <td>984674-XBFEJ2</td>\n",
       "      <td>286-PCo</td>\n",
       "      <td>1</td>\n",
       "      <td>200 gp</td>\n",
       "      <td>Prayer Bead - Bless</td>\n",
       "    </tr>\n",
       "    <tr>\n",
       "      <th>24865</th>\n",
       "      <td>719165-GLQSN</td>\n",
       "      <td>2018-09-25</td>\n",
       "      <td>984449-9KVLS9</td>\n",
       "      <td>080-DNo</td>\n",
       "      <td>5</td>\n",
       "      <td>300 gp</td>\n",
       "      <td>Driftglobe</td>\n",
       "    </tr>\n",
       "    <tr>\n",
       "      <th>15132</th>\n",
       "      <td>824432-F73FI</td>\n",
       "      <td>2023-04-03</td>\n",
       "      <td>983812-EJLA0G</td>\n",
       "      <td>54-Hrs</td>\n",
       "      <td>1</td>\n",
       "      <td>5 gp</td>\n",
       "      <td>Hunting Trap</td>\n",
       "    </tr>\n",
       "    <tr>\n",
       "      <th>43040</th>\n",
       "      <td>655640-XQY0F</td>\n",
       "      <td>2019-04-25</td>\n",
       "      <td>983878-13C9XQ</td>\n",
       "      <td>84-Srs</td>\n",
       "      <td>3</td>\n",
       "      <td>1 cp</td>\n",
       "      <td>Sack</td>\n",
       "    </tr>\n",
       "    <tr>\n",
       "      <th>14164</th>\n",
       "      <td>830264-SURL7</td>\n",
       "      <td>2019-06-22</td>\n",
       "      <td>984254-TKCD0R</td>\n",
       "      <td>159-SCo</td>\n",
       "      <td>1</td>\n",
       "      <td>1,000 gp</td>\n",
       "      <td>Sword of Life-Stealing</td>\n",
       "    </tr>\n",
       "    <tr>\n",
       "      <th>33394</th>\n",
       "      <td>706794-NTBRW</td>\n",
       "      <td>2020-02-08</td>\n",
       "      <td>983712-P08J3T</td>\n",
       "      <td>168-SCo</td>\n",
       "      <td>2</td>\n",
       "      <td>5,000 gp</td>\n",
       "      <td>Sunblade</td>\n",
       "    </tr>\n",
       "    <tr>\n",
       "      <th>49037</th>\n",
       "      <td>624137-EKSN4</td>\n",
       "      <td>2017-06-09</td>\n",
       "      <td>984124-AGKC4L</td>\n",
       "      <td>16-Brs</td>\n",
       "      <td>5</td>\n",
       "      <td>4 sp</td>\n",
       "      <td>Basket</td>\n",
       "    </tr>\n",
       "  </tbody>\n",
       "</table>\n",
       "</div>"
      ],
      "text/plain": [
       "            sale_id       date    customer_id product_id  quantity     price  \\\n",
       "18577  801777-JT795 2019-03-03  984308-YIL8SA    111-RNo         1  2,000 gp   \n",
       "37264  684164-1HOK1 2020-03-23  984051-DTVV2Y    061-BNo         4    350 gp   \n",
       "46966  593066-9DYEP 2022-02-03  984835-PCIFLW     42-Yus         2     10 gp   \n",
       "38305  683705-IQWY9 2023-09-14  984674-XBFEJ2    286-PCo         1    200 gp   \n",
       "24865  719165-GLQSN 2018-09-25  984449-9KVLS9    080-DNo         5    300 gp   \n",
       "15132  824432-F73FI 2023-04-03  983812-EJLA0G     54-Hrs         1      5 gp   \n",
       "43040  655640-XQY0F 2019-04-25  983878-13C9XQ     84-Srs         3      1 cp   \n",
       "14164  830264-SURL7 2019-06-22  984254-TKCD0R    159-SCo         1  1,000 gp   \n",
       "33394  706794-NTBRW 2020-02-08  983712-P08J3T    168-SCo         2  5,000 gp   \n",
       "49037  624137-EKSN4 2017-06-09  984124-AGKC4L     16-Brs         5      4 sp   \n",
       "\n",
       "                   product_name  \n",
       "18577    Ring of Mind Shielding  \n",
       "37264  Boots of the Winterlands  \n",
       "46966                  Yew Wand  \n",
       "38305       Prayer Bead - Bless  \n",
       "24865                Driftglobe  \n",
       "15132              Hunting Trap  \n",
       "43040                      Sack  \n",
       "14164    Sword of Life-Stealing  \n",
       "33394                  Sunblade  \n",
       "49037                    Basket  "
      ]
     },
     "execution_count": 420,
     "metadata": {},
     "output_type": "execute_result"
    }
   ],
   "source": [
    "# verificando uma amostra aleatória das vendas\n",
    "sales.sample(n=10, random_state=42)"
   ]
  },
  {
   "cell_type": "markdown",
   "metadata": {},
   "source": [
    "Conferindo a estrutura da tabela:\n",
    "\n",
    "| sale_id  | date    | customer_id | product_id    | product_name | quantity| product_price | \n",
    "| -------- | ------- | ----------- | --------------| -------------| ------- |-------------- |\n",
    "| -------- |-------- | ----------- | --------------| -------------| ------- |-------------- |\n",
    "| -------- | --------| ----------- | --------------| -------------| ------- |-------------- |"
   ]
  },
  {
   "cell_type": "markdown",
   "metadata": {},
   "source": [
    "A tabela está finalizada, porém antes de transformar em um DB, vou criar algumas inconsistências."
   ]
  },
  {
   "cell_type": "markdown",
   "metadata": {},
   "source": [
    "## **Criando incosistências na tabela de vendas:**"
   ]
  },
  {
   "cell_type": "markdown",
   "metadata": {},
   "source": [
    "**Motivação:**\n",
    "\n",
    "Resolvi criar algumas incosistências para aumentar o nível de dificuldade para as pessoas que vão usar essa database para praticar análise de dados.\n",
    "\n",
    "**O que será feito?**\n",
    "- Gerar duplicatas\n",
    "- Gerar valores vazios\n",
    "- Gerar Outliers\n"
   ]
  },
  {
   "cell_type": "markdown",
   "metadata": {},
   "source": [
    "### **Gerando Duplicatas:**"
   ]
  },
  {
   "cell_type": "code",
   "execution_count": 421,
   "metadata": {},
   "outputs": [],
   "source": [
    "# duplicando 7% dos dados de forma aleatória\n",
    "sales_copy = sales.sample(frac=0.07, random_state=42).copy()"
   ]
  },
  {
   "cell_type": "code",
   "execution_count": 422,
   "metadata": {},
   "outputs": [
    {
     "data": {
      "text/html": [
       "<div>\n",
       "<style scoped>\n",
       "    .dataframe tbody tr th:only-of-type {\n",
       "        vertical-align: middle;\n",
       "    }\n",
       "\n",
       "    .dataframe tbody tr th {\n",
       "        vertical-align: top;\n",
       "    }\n",
       "\n",
       "    .dataframe thead th {\n",
       "        text-align: right;\n",
       "    }\n",
       "</style>\n",
       "<table border=\"1\" class=\"dataframe\">\n",
       "  <thead>\n",
       "    <tr style=\"text-align: right;\">\n",
       "      <th></th>\n",
       "      <th>sale_id</th>\n",
       "      <th>date</th>\n",
       "      <th>customer_id</th>\n",
       "      <th>product_id</th>\n",
       "      <th>quantity</th>\n",
       "      <th>price</th>\n",
       "      <th>product_name</th>\n",
       "    </tr>\n",
       "  </thead>\n",
       "  <tbody>\n",
       "    <tr>\n",
       "      <th>18577</th>\n",
       "      <td>801777-JT795</td>\n",
       "      <td>2019-03-03</td>\n",
       "      <td>984308-YIL8SA</td>\n",
       "      <td>111-RNo</td>\n",
       "      <td>1</td>\n",
       "      <td>2,000 gp</td>\n",
       "      <td>Ring of Mind Shielding</td>\n",
       "    </tr>\n",
       "    <tr>\n",
       "      <th>37264</th>\n",
       "      <td>684164-1HOK1</td>\n",
       "      <td>2020-03-23</td>\n",
       "      <td>984051-DTVV2Y</td>\n",
       "      <td>061-BNo</td>\n",
       "      <td>4</td>\n",
       "      <td>350 gp</td>\n",
       "      <td>Boots of the Winterlands</td>\n",
       "    </tr>\n",
       "    <tr>\n",
       "      <th>46966</th>\n",
       "      <td>593066-9DYEP</td>\n",
       "      <td>2022-02-03</td>\n",
       "      <td>984835-PCIFLW</td>\n",
       "      <td>42-Yus</td>\n",
       "      <td>2</td>\n",
       "      <td>10 gp</td>\n",
       "      <td>Yew Wand</td>\n",
       "    </tr>\n",
       "    <tr>\n",
       "      <th>38305</th>\n",
       "      <td>683705-IQWY9</td>\n",
       "      <td>2023-09-14</td>\n",
       "      <td>984674-XBFEJ2</td>\n",
       "      <td>286-PCo</td>\n",
       "      <td>1</td>\n",
       "      <td>200 gp</td>\n",
       "      <td>Prayer Bead - Bless</td>\n",
       "    </tr>\n",
       "    <tr>\n",
       "      <th>24865</th>\n",
       "      <td>719165-GLQSN</td>\n",
       "      <td>2018-09-25</td>\n",
       "      <td>984449-9KVLS9</td>\n",
       "      <td>080-DNo</td>\n",
       "      <td>5</td>\n",
       "      <td>300 gp</td>\n",
       "      <td>Driftglobe</td>\n",
       "    </tr>\n",
       "  </tbody>\n",
       "</table>\n",
       "</div>"
      ],
      "text/plain": [
       "            sale_id       date    customer_id product_id  quantity     price  \\\n",
       "18577  801777-JT795 2019-03-03  984308-YIL8SA    111-RNo         1  2,000 gp   \n",
       "37264  684164-1HOK1 2020-03-23  984051-DTVV2Y    061-BNo         4    350 gp   \n",
       "46966  593066-9DYEP 2022-02-03  984835-PCIFLW     42-Yus         2     10 gp   \n",
       "38305  683705-IQWY9 2023-09-14  984674-XBFEJ2    286-PCo         1    200 gp   \n",
       "24865  719165-GLQSN 2018-09-25  984449-9KVLS9    080-DNo         5    300 gp   \n",
       "\n",
       "                   product_name  \n",
       "18577    Ring of Mind Shielding  \n",
       "37264  Boots of the Winterlands  \n",
       "46966                  Yew Wand  \n",
       "38305       Prayer Bead - Bless  \n",
       "24865                Driftglobe  "
      ]
     },
     "execution_count": 422,
     "metadata": {},
     "output_type": "execute_result"
    }
   ],
   "source": [
    "sales_copy.head()"
   ]
  },
  {
   "cell_type": "markdown",
   "metadata": {},
   "source": [
    "Verificando duplicatas na tabela original:"
   ]
  },
  {
   "cell_type": "code",
   "execution_count": 423,
   "metadata": {},
   "outputs": [
    {
     "data": {
      "text/plain": [
       "0"
      ]
     },
     "execution_count": 423,
     "metadata": {},
     "output_type": "execute_result"
    }
   ],
   "source": [
    "sales.duplicated().sum()"
   ]
  },
  {
   "cell_type": "code",
   "execution_count": 424,
   "metadata": {},
   "outputs": [],
   "source": [
    "sales = pd.concat([sales, sales_copy])"
   ]
  },
  {
   "cell_type": "code",
   "execution_count": 425,
   "metadata": {},
   "outputs": [
    {
     "name": "stdout",
     "output_type": "stream",
     "text": [
      "Duplicatas na tabela 'sales':  3558\n"
     ]
    }
   ],
   "source": [
    "print(\"Duplicatas na tabela 'sales': \", sales.duplicated().sum())"
   ]
  },
  {
   "cell_type": "markdown",
   "metadata": {},
   "source": [
    "### **Gerando valores vazios:**"
   ]
  },
  {
   "cell_type": "code",
   "execution_count": 426,
   "metadata": {},
   "outputs": [
    {
     "data": {
      "text/plain": [
       "sale_id         0\n",
       "date            0\n",
       "customer_id     0\n",
       "product_id      0\n",
       "quantity        0\n",
       "price           0\n",
       "product_name    0\n",
       "dtype: int64"
      ]
     },
     "execution_count": 426,
     "metadata": {},
     "output_type": "execute_result"
    }
   ],
   "source": [
    "# verificando se há valores vazios\n",
    "sales.isna().sum()"
   ]
  },
  {
   "cell_type": "code",
   "execution_count": 427,
   "metadata": {},
   "outputs": [],
   "source": [
    "# escolhendo aleatóriamente os índices das colunas que vou usar\n",
    "sales_id_NA_idx = sales['sale_id'].sample(frac=0.001, random_state=42).index\n",
    "customer_id_NA_idx = sales['customer_id'].sample(frac=0.001, random_state=43).index\n",
    "product_id_NA_idx = sales['product_id'].sample(frac=0.002, random_state=44).index\n",
    "product_name_NA_idx = sales['product_name'].sample(frac=0.003, random_state=45).index"
   ]
  },
  {
   "cell_type": "code",
   "execution_count": 428,
   "metadata": {},
   "outputs": [
    {
     "name": "stderr",
     "output_type": "stream",
     "text": [
      "C:\\Users\\rapos\\AppData\\Local\\Temp\\ipykernel_12096\\126450001.py:2: SettingWithCopyWarning: \n",
      "A value is trying to be set on a copy of a slice from a DataFrame\n",
      "\n",
      "See the caveats in the documentation: https://pandas.pydata.org/pandas-docs/stable/user_guide/indexing.html#returning-a-view-versus-a-copy\n",
      "  sales['sale_id'].loc[sales_id_NA_idx] = np.nan\n",
      "C:\\Users\\rapos\\AppData\\Local\\Temp\\ipykernel_12096\\126450001.py:3: SettingWithCopyWarning: \n",
      "A value is trying to be set on a copy of a slice from a DataFrame\n",
      "\n",
      "See the caveats in the documentation: https://pandas.pydata.org/pandas-docs/stable/user_guide/indexing.html#returning-a-view-versus-a-copy\n",
      "  sales['customer_id'].loc[customer_id_NA_idx] = np.nan\n",
      "C:\\Users\\rapos\\AppData\\Local\\Temp\\ipykernel_12096\\126450001.py:4: SettingWithCopyWarning: \n",
      "A value is trying to be set on a copy of a slice from a DataFrame\n",
      "\n",
      "See the caveats in the documentation: https://pandas.pydata.org/pandas-docs/stable/user_guide/indexing.html#returning-a-view-versus-a-copy\n",
      "  sales['product_id'].loc[product_id_NA_idx] = np.nan\n",
      "C:\\Users\\rapos\\AppData\\Local\\Temp\\ipykernel_12096\\126450001.py:5: SettingWithCopyWarning: \n",
      "A value is trying to be set on a copy of a slice from a DataFrame\n",
      "\n",
      "See the caveats in the documentation: https://pandas.pydata.org/pandas-docs/stable/user_guide/indexing.html#returning-a-view-versus-a-copy\n",
      "  sales['product_name'].loc[product_name_NA_idx] = np.nan\n"
     ]
    }
   ],
   "source": [
    "# criando valores vazios\n",
    "sales['sale_id'].loc[sales_id_NA_idx] = np.nan\n",
    "sales['customer_id'].loc[customer_id_NA_idx] = np.nan\n",
    "sales['product_id'].loc[product_id_NA_idx] = np.nan\n",
    "sales['product_name'].loc[product_name_NA_idx] = np.nan"
   ]
  },
  {
   "cell_type": "code",
   "execution_count": 429,
   "metadata": {},
   "outputs": [
    {
     "data": {
      "text/plain": [
       "sale_id          66\n",
       "date              0\n",
       "customer_id      57\n",
       "product_id      127\n",
       "quantity          0\n",
       "price             0\n",
       "product_name    183\n",
       "dtype: int64"
      ]
     },
     "execution_count": 429,
     "metadata": {},
     "output_type": "execute_result"
    }
   ],
   "source": [
    "# verificando se há valores vazios novamente\n",
    "sales.isna().sum()"
   ]
  },
  {
   "cell_type": "markdown",
   "metadata": {},
   "source": [
    "### **Gerando Outliers:**"
   ]
  },
  {
   "cell_type": "code",
   "execution_count": 430,
   "metadata": {},
   "outputs": [],
   "source": [
    "# escolhendo os índices\n",
    "qty_outlier9_idx = sales['quantity'].sample(frac=0.005, random_state=42).index\n",
    "qty_outlier6_idx = sales['quantity'].sample(frac=0.002, random_state=43).index\n",
    "qty_outlier30_idx = sales['quantity'].sample(frac=0.001, random_state=44).index\n",
    "qty_outlier50_idx = sales['quantity'].sample(frac=0.001, random_state=45).index"
   ]
  },
  {
   "cell_type": "code",
   "execution_count": 431,
   "metadata": {},
   "outputs": [
    {
     "name": "stderr",
     "output_type": "stream",
     "text": [
      "C:\\Users\\rapos\\AppData\\Local\\Temp\\ipykernel_12096\\344872991.py:2: SettingWithCopyWarning: \n",
      "A value is trying to be set on a copy of a slice from a DataFrame\n",
      "\n",
      "See the caveats in the documentation: https://pandas.pydata.org/pandas-docs/stable/user_guide/indexing.html#returning-a-view-versus-a-copy\n",
      "  sales['quantity'].loc[qty_outlier9_idx] = 9999\n",
      "C:\\Users\\rapos\\AppData\\Local\\Temp\\ipykernel_12096\\344872991.py:3: SettingWithCopyWarning: \n",
      "A value is trying to be set on a copy of a slice from a DataFrame\n",
      "\n",
      "See the caveats in the documentation: https://pandas.pydata.org/pandas-docs/stable/user_guide/indexing.html#returning-a-view-versus-a-copy\n",
      "  sales['quantity'].loc[qty_outlier6_idx] = 6666\n",
      "C:\\Users\\rapos\\AppData\\Local\\Temp\\ipykernel_12096\\344872991.py:4: SettingWithCopyWarning: \n",
      "A value is trying to be set on a copy of a slice from a DataFrame\n",
      "\n",
      "See the caveats in the documentation: https://pandas.pydata.org/pandas-docs/stable/user_guide/indexing.html#returning-a-view-versus-a-copy\n",
      "  sales['quantity'].loc[qty_outlier30_idx] = 30\n",
      "C:\\Users\\rapos\\AppData\\Local\\Temp\\ipykernel_12096\\344872991.py:5: SettingWithCopyWarning: \n",
      "A value is trying to be set on a copy of a slice from a DataFrame\n",
      "\n",
      "See the caveats in the documentation: https://pandas.pydata.org/pandas-docs/stable/user_guide/indexing.html#returning-a-view-versus-a-copy\n",
      "  sales['quantity'].loc[qty_outlier50_idx] = 50\n"
     ]
    }
   ],
   "source": [
    "# mudando os valores\n",
    "sales['quantity'].loc[qty_outlier9_idx] = 9999\n",
    "sales['quantity'].loc[qty_outlier6_idx] = 6666\n",
    "sales['quantity'].loc[qty_outlier30_idx] = 30\n",
    "sales['quantity'].loc[qty_outlier50_idx] = 50"
   ]
  },
  {
   "cell_type": "code",
   "execution_count": 432,
   "metadata": {},
   "outputs": [
    {
     "data": {
      "text/html": [
       "<div>\n",
       "<style scoped>\n",
       "    .dataframe tbody tr th:only-of-type {\n",
       "        vertical-align: middle;\n",
       "    }\n",
       "\n",
       "    .dataframe tbody tr th {\n",
       "        vertical-align: top;\n",
       "    }\n",
       "\n",
       "    .dataframe thead th {\n",
       "        text-align: right;\n",
       "    }\n",
       "</style>\n",
       "<table border=\"1\" class=\"dataframe\">\n",
       "  <thead>\n",
       "    <tr style=\"text-align: right;\">\n",
       "      <th></th>\n",
       "      <th>sale_id</th>\n",
       "      <th>date</th>\n",
       "      <th>customer_id</th>\n",
       "      <th>product_id</th>\n",
       "      <th>quantity</th>\n",
       "      <th>price</th>\n",
       "      <th>product_name</th>\n",
       "    </tr>\n",
       "  </thead>\n",
       "  <tbody>\n",
       "    <tr>\n",
       "      <th>34685</th>\n",
       "      <td>702885-PCSI9</td>\n",
       "      <td>2020-09-04</td>\n",
       "      <td>984417-8EL501</td>\n",
       "      <td>30-Crs</td>\n",
       "      <td>9999</td>\n",
       "      <td>5 gp</td>\n",
       "      <td>Chest</td>\n",
       "    </tr>\n",
       "    <tr>\n",
       "      <th>39583</th>\n",
       "      <td>678283-T84XA</td>\n",
       "      <td>2018-04-26</td>\n",
       "      <td>983679-YNCXLL</td>\n",
       "      <td>088-GNo</td>\n",
       "      <td>9999</td>\n",
       "      <td>300 gp</td>\n",
       "      <td>Gloves of Thievery</td>\n",
       "    </tr>\n",
       "    <tr>\n",
       "      <th>49061</th>\n",
       "      <td>624161-81CUM</td>\n",
       "      <td>2020-06-14</td>\n",
       "      <td>984058-ZCTWJL</td>\n",
       "      <td>44-Frs</td>\n",
       "      <td>9999</td>\n",
       "      <td>2 cp</td>\n",
       "      <td>Flask or Tankard</td>\n",
       "    </tr>\n",
       "    <tr>\n",
       "      <th>6196</th>\n",
       "      <td>840596-HX4NW</td>\n",
       "      <td>2018-06-24</td>\n",
       "      <td>983981-6L1F90</td>\n",
       "      <td>129-BSu</td>\n",
       "      <td>9999</td>\n",
       "      <td>8,000 gp</td>\n",
       "      <td>Bowl of Commanding Water Elementals</td>\n",
       "    </tr>\n",
       "    <tr>\n",
       "      <th>26960</th>\n",
       "      <td>NaN</td>\n",
       "      <td>2020-03-22</td>\n",
       "      <td>983784-9MOGE4</td>\n",
       "      <td>85-Srs</td>\n",
       "      <td>9999</td>\n",
       "      <td>5 gp</td>\n",
       "      <td>Scale, merchant's</td>\n",
       "    </tr>\n",
       "    <tr>\n",
       "      <th>...</th>\n",
       "      <td>...</td>\n",
       "      <td>...</td>\n",
       "      <td>...</td>\n",
       "      <td>...</td>\n",
       "      <td>...</td>\n",
       "      <td>...</td>\n",
       "      <td>...</td>\n",
       "    </tr>\n",
       "    <tr>\n",
       "      <th>13658</th>\n",
       "      <td>795258-HOI1L</td>\n",
       "      <td>2017-08-07</td>\n",
       "      <td>984556-JG2Y8R</td>\n",
       "      <td>077-DNo</td>\n",
       "      <td>1</td>\n",
       "      <td>5,000 gp</td>\n",
       "      <td>Daern's Instant Fortress</td>\n",
       "    </tr>\n",
       "    <tr>\n",
       "      <th>27920</th>\n",
       "      <td>741220-4K1P8</td>\n",
       "      <td>2021-06-23</td>\n",
       "      <td>983862-RR7S20</td>\n",
       "      <td>21-Lns</td>\n",
       "      <td>1</td>\n",
       "      <td>10 gp</td>\n",
       "      <td>Lance</td>\n",
       "    </tr>\n",
       "    <tr>\n",
       "      <th>34692</th>\n",
       "      <td>702892-9LDDA</td>\n",
       "      <td>2018-10-12</td>\n",
       "      <td>984659-5U6JZV</td>\n",
       "      <td>182-MCo</td>\n",
       "      <td>1</td>\n",
       "      <td>3,000 gp</td>\n",
       "      <td>Mace of Disruption</td>\n",
       "    </tr>\n",
       "    <tr>\n",
       "      <th>46500</th>\n",
       "      <td>636800-UA32T</td>\n",
       "      <td>2019-02-22</td>\n",
       "      <td>984893-CO3S65</td>\n",
       "      <td>12-Por</td>\n",
       "      <td>1</td>\n",
       "      <td>1500 gp</td>\n",
       "      <td>Plate</td>\n",
       "    </tr>\n",
       "    <tr>\n",
       "      <th>0</th>\n",
       "      <td>886200-Q0FOT</td>\n",
       "      <td>2019-09-23</td>\n",
       "      <td>983817-IVSOLM</td>\n",
       "      <td>287-PCo</td>\n",
       "      <td>1</td>\n",
       "      <td>300 gp</td>\n",
       "      <td>Prayer Bead - Smiting</td>\n",
       "    </tr>\n",
       "  </tbody>\n",
       "</table>\n",
       "<p>54390 rows × 7 columns</p>\n",
       "</div>"
      ],
      "text/plain": [
       "            sale_id       date    customer_id product_id  quantity     price  \\\n",
       "34685  702885-PCSI9 2020-09-04  984417-8EL501     30-Crs      9999      5 gp   \n",
       "39583  678283-T84XA 2018-04-26  983679-YNCXLL    088-GNo      9999    300 gp   \n",
       "49061  624161-81CUM 2020-06-14  984058-ZCTWJL     44-Frs      9999      2 cp   \n",
       "6196   840596-HX4NW 2018-06-24  983981-6L1F90    129-BSu      9999  8,000 gp   \n",
       "26960           NaN 2020-03-22  983784-9MOGE4     85-Srs      9999      5 gp   \n",
       "...             ...        ...            ...        ...       ...       ...   \n",
       "13658  795258-HOI1L 2017-08-07  984556-JG2Y8R    077-DNo         1  5,000 gp   \n",
       "27920  741220-4K1P8 2021-06-23  983862-RR7S20     21-Lns         1     10 gp   \n",
       "34692  702892-9LDDA 2018-10-12  984659-5U6JZV    182-MCo         1  3,000 gp   \n",
       "46500  636800-UA32T 2019-02-22  984893-CO3S65     12-Por         1   1500 gp   \n",
       "0      886200-Q0FOT 2019-09-23  983817-IVSOLM    287-PCo         1    300 gp   \n",
       "\n",
       "                              product_name  \n",
       "34685                                Chest  \n",
       "39583                   Gloves of Thievery  \n",
       "49061                     Flask or Tankard  \n",
       "6196   Bowl of Commanding Water Elementals  \n",
       "26960                    Scale, merchant's  \n",
       "...                                    ...  \n",
       "13658             Daern's Instant Fortress  \n",
       "27920                                Lance  \n",
       "34692                   Mace of Disruption  \n",
       "46500                                Plate  \n",
       "0                    Prayer Bead - Smiting  \n",
       "\n",
       "[54390 rows x 7 columns]"
      ]
     },
     "execution_count": 432,
     "metadata": {},
     "output_type": "execute_result"
    }
   ],
   "source": [
    "sales.sort_values(by='quantity', ascending=False)"
   ]
  },
  {
   "cell_type": "markdown",
   "metadata": {},
   "source": [
    "Agora o dataset está pronto para ser tramfsormado em um bando de dados SQL."
   ]
  },
  {
   "cell_type": "markdown",
   "metadata": {},
   "source": [
    "<hr style=\"height:3px;border-width:0;color:blue;background-color:blue\">"
   ]
  },
  {
   "cell_type": "markdown",
   "metadata": {},
   "source": [
    "# **Transformando em um BD SQLite.**"
   ]
  },
  {
   "cell_type": "markdown",
   "metadata": {},
   "source": [
    "Como eu pretendo disponibilizar esse BD no Kaggle, eu vou tranformar em um BD SQLite por ser mais comum na plataforma."
   ]
  },
  {
   "cell_type": "markdown",
   "metadata": {},
   "source": [
    "**Minhas tabelas:**\n",
    "* adventure_gear\n",
    "* magic_items_filtered\n",
    "* weapons\n",
    "* potions_filtered\n",
    "* poisons\n",
    "* armor\n",
    "* product\n",
    "* sales\n",
    "* costumers"
   ]
  },
  {
   "cell_type": "code",
   "execution_count": 433,
   "metadata": {},
   "outputs": [],
   "source": [
    "import sqlite3"
   ]
  },
  {
   "cell_type": "code",
   "execution_count": 434,
   "metadata": {},
   "outputs": [
    {
     "data": {
      "text/html": [
       "<div>\n",
       "<style scoped>\n",
       "    .dataframe tbody tr th:only-of-type {\n",
       "        vertical-align: middle;\n",
       "    }\n",
       "\n",
       "    .dataframe tbody tr th {\n",
       "        vertical-align: top;\n",
       "    }\n",
       "\n",
       "    .dataframe thead th {\n",
       "        text-align: right;\n",
       "    }\n",
       "</style>\n",
       "<table border=\"1\" class=\"dataframe\">\n",
       "  <thead>\n",
       "    <tr style=\"text-align: right;\">\n",
       "      <th></th>\n",
       "      <th>item_id</th>\n",
       "      <th>name</th>\n",
       "      <th>price</th>\n",
       "      <th>weight</th>\n",
       "      <th>category</th>\n",
       "      <th>type</th>\n",
       "    </tr>\n",
       "  </thead>\n",
       "  <tbody>\n",
       "    <tr>\n",
       "      <th>0</th>\n",
       "      <td>01-Ars</td>\n",
       "      <td>Abacus</td>\n",
       "      <td>2 gp</td>\n",
       "      <td>2 lb.</td>\n",
       "      <td>Others</td>\n",
       "      <td>adventure_gear</td>\n",
       "    </tr>\n",
       "    <tr>\n",
       "      <th>1</th>\n",
       "      <td>02-Ars</td>\n",
       "      <td>Acid (vial)</td>\n",
       "      <td>25 gp</td>\n",
       "      <td>1 lb.</td>\n",
       "      <td>Others</td>\n",
       "      <td>adventure_gear</td>\n",
       "    </tr>\n",
       "    <tr>\n",
       "      <th>2</th>\n",
       "      <td>03-Ars</td>\n",
       "      <td>Alchemist's Fire (flask)</td>\n",
       "      <td>50 gp</td>\n",
       "      <td>1 lb.</td>\n",
       "      <td>Others</td>\n",
       "      <td>adventure_gear</td>\n",
       "    </tr>\n",
       "    <tr>\n",
       "      <th>3</th>\n",
       "      <td>04-Aon</td>\n",
       "      <td>Arrows (20)</td>\n",
       "      <td>1 gp</td>\n",
       "      <td>1 lb.</td>\n",
       "      <td>Ammunition</td>\n",
       "      <td>adventure_gear</td>\n",
       "    </tr>\n",
       "    <tr>\n",
       "      <th>4</th>\n",
       "      <td>05-Bon</td>\n",
       "      <td>Blowgun Needle (50)</td>\n",
       "      <td>1 gp</td>\n",
       "      <td>1 lb.</td>\n",
       "      <td>Ammunition</td>\n",
       "      <td>adventure_gear</td>\n",
       "    </tr>\n",
       "  </tbody>\n",
       "</table>\n",
       "</div>"
      ],
      "text/plain": [
       "  item_id                      name  price weight    category            type\n",
       "0  01-Ars                    Abacus   2 gp  2 lb.      Others  adventure_gear\n",
       "1  02-Ars               Acid (vial)  25 gp  1 lb.      Others  adventure_gear\n",
       "2  03-Ars  Alchemist's Fire (flask)  50 gp  1 lb.      Others  adventure_gear\n",
       "3  04-Aon               Arrows (20)   1 gp  1 lb.  Ammunition  adventure_gear\n",
       "4  05-Bon       Blowgun Needle (50)   1 gp  1 lb.  Ammunition  adventure_gear"
      ]
     },
     "execution_count": 434,
     "metadata": {},
     "output_type": "execute_result"
    }
   ],
   "source": [
    "adventure_gear.head()"
   ]
  },
  {
   "cell_type": "code",
   "execution_count": 435,
   "metadata": {},
   "outputs": [
    {
     "data": {
      "text/html": [
       "<div>\n",
       "<style scoped>\n",
       "    .dataframe tbody tr th:only-of-type {\n",
       "        vertical-align: middle;\n",
       "    }\n",
       "\n",
       "    .dataframe tbody tr th {\n",
       "        vertical-align: top;\n",
       "    }\n",
       "\n",
       "    .dataframe thead th {\n",
       "        text-align: right;\n",
       "    }\n",
       "</style>\n",
       "<table border=\"1\" class=\"dataframe\">\n",
       "  <thead>\n",
       "    <tr style=\"text-align: right;\">\n",
       "      <th></th>\n",
       "      <th>item_id</th>\n",
       "      <th>name</th>\n",
       "      <th>price</th>\n",
       "      <th>rarity</th>\n",
       "      <th>category</th>\n",
       "      <th>type</th>\n",
       "    </tr>\n",
       "  </thead>\n",
       "  <tbody>\n",
       "    <tr>\n",
       "      <th>0</th>\n",
       "      <td>001-ACo</td>\n",
       "      <td>Ammunition +1 (Per)</td>\n",
       "      <td>15 gp</td>\n",
       "      <td>Uncommon</td>\n",
       "      <td>Consumable Items</td>\n",
       "      <td>magic_item</td>\n",
       "    </tr>\n",
       "    <tr>\n",
       "      <th>1</th>\n",
       "      <td>002-ACo</td>\n",
       "      <td>Ammunition +2 (Per)</td>\n",
       "      <td>50 gp</td>\n",
       "      <td>Rare</td>\n",
       "      <td>Consumable Items</td>\n",
       "      <td>magic_item</td>\n",
       "    </tr>\n",
       "    <tr>\n",
       "      <th>4</th>\n",
       "      <td>005-BCo</td>\n",
       "      <td>Bead of Force</td>\n",
       "      <td>1,000 gp</td>\n",
       "      <td>Rare</td>\n",
       "      <td>Consumable Items</td>\n",
       "      <td>magic_item</td>\n",
       "    </tr>\n",
       "    <tr>\n",
       "      <th>5</th>\n",
       "      <td>006-CCo</td>\n",
       "      <td>Chime of Opening</td>\n",
       "      <td>400 gp</td>\n",
       "      <td>Rare</td>\n",
       "      <td>Consumable Items</td>\n",
       "      <td>magic_item</td>\n",
       "    </tr>\n",
       "    <tr>\n",
       "      <th>6</th>\n",
       "      <td>007-DCo</td>\n",
       "      <td>Deck of Illusions</td>\n",
       "      <td>900 gp</td>\n",
       "      <td>Uncommon</td>\n",
       "      <td>Consumable Items</td>\n",
       "      <td>magic_item</td>\n",
       "    </tr>\n",
       "  </tbody>\n",
       "</table>\n",
       "</div>"
      ],
      "text/plain": [
       "   item_id                 name     price    rarity          category  \\\n",
       "0  001-ACo  Ammunition +1 (Per)     15 gp  Uncommon  Consumable Items   \n",
       "1  002-ACo  Ammunition +2 (Per)     50 gp      Rare  Consumable Items   \n",
       "4  005-BCo        Bead of Force  1,000 gp      Rare  Consumable Items   \n",
       "5  006-CCo     Chime of Opening    400 gp      Rare  Consumable Items   \n",
       "6  007-DCo    Deck of Illusions    900 gp  Uncommon  Consumable Items   \n",
       "\n",
       "         type  \n",
       "0  magic_item  \n",
       "1  magic_item  \n",
       "4  magic_item  \n",
       "5  magic_item  \n",
       "6  magic_item  "
      ]
     },
     "execution_count": 435,
     "metadata": {},
     "output_type": "execute_result"
    }
   ],
   "source": [
    "magic_items_filtered.head()"
   ]
  },
  {
   "cell_type": "code",
   "execution_count": 436,
   "metadata": {},
   "outputs": [
    {
     "data": {
      "text/html": [
       "<div>\n",
       "<style scoped>\n",
       "    .dataframe tbody tr th:only-of-type {\n",
       "        vertical-align: middle;\n",
       "    }\n",
       "\n",
       "    .dataframe tbody tr th {\n",
       "        vertical-align: top;\n",
       "    }\n",
       "\n",
       "    .dataframe thead th {\n",
       "        text-align: right;\n",
       "    }\n",
       "</style>\n",
       "<table border=\"1\" class=\"dataframe\">\n",
       "  <thead>\n",
       "    <tr style=\"text-align: right;\">\n",
       "      <th></th>\n",
       "      <th>item_id</th>\n",
       "      <th>name</th>\n",
       "      <th>price</th>\n",
       "      <th>damage</th>\n",
       "      <th>weight</th>\n",
       "      <th>properties</th>\n",
       "      <th>category</th>\n",
       "      <th>type</th>\n",
       "    </tr>\n",
       "  </thead>\n",
       "  <tbody>\n",
       "    <tr>\n",
       "      <th>0</th>\n",
       "      <td>01-Cns</td>\n",
       "      <td>Club</td>\n",
       "      <td>1 sp</td>\n",
       "      <td>1d4 Bludgeon</td>\n",
       "      <td>2 lb.</td>\n",
       "      <td>Light</td>\n",
       "      <td>Simple Melee Weapons</td>\n",
       "      <td>weapon</td>\n",
       "    </tr>\n",
       "    <tr>\n",
       "      <th>1</th>\n",
       "      <td>02-Dns</td>\n",
       "      <td>Dagger</td>\n",
       "      <td>2 gp</td>\n",
       "      <td>1d4 Piercing</td>\n",
       "      <td>1 lb.</td>\n",
       "      <td>Finesse, Light, Thrown (20/60)</td>\n",
       "      <td>Simple Melee Weapons</td>\n",
       "      <td>weapon</td>\n",
       "    </tr>\n",
       "    <tr>\n",
       "      <th>2</th>\n",
       "      <td>03-Gns</td>\n",
       "      <td>Greatclub</td>\n",
       "      <td>2 sp</td>\n",
       "      <td>1d8 Bludgeon</td>\n",
       "      <td>10 lb.</td>\n",
       "      <td>Two-handed</td>\n",
       "      <td>Simple Melee Weapons</td>\n",
       "      <td>weapon</td>\n",
       "    </tr>\n",
       "    <tr>\n",
       "      <th>3</th>\n",
       "      <td>04-Hns</td>\n",
       "      <td>Handaxe</td>\n",
       "      <td>5 gp</td>\n",
       "      <td>1d6 Slashing</td>\n",
       "      <td>2 lb.</td>\n",
       "      <td>Light, Thrown (20/60)</td>\n",
       "      <td>Simple Melee Weapons</td>\n",
       "      <td>weapon</td>\n",
       "    </tr>\n",
       "    <tr>\n",
       "      <th>4</th>\n",
       "      <td>05-Jns</td>\n",
       "      <td>Javelin</td>\n",
       "      <td>5 sp</td>\n",
       "      <td>1d6 Piercing</td>\n",
       "      <td>2 lb.</td>\n",
       "      <td>Thrown (30/120)</td>\n",
       "      <td>Simple Melee Weapons</td>\n",
       "      <td>weapon</td>\n",
       "    </tr>\n",
       "  </tbody>\n",
       "</table>\n",
       "</div>"
      ],
      "text/plain": [
       "  item_id       name price        damage  weight  \\\n",
       "0  01-Cns       Club  1 sp  1d4 Bludgeon   2 lb.   \n",
       "1  02-Dns     Dagger  2 gp  1d4 Piercing   1 lb.   \n",
       "2  03-Gns  Greatclub  2 sp  1d8 Bludgeon  10 lb.   \n",
       "3  04-Hns    Handaxe  5 gp  1d6 Slashing   2 lb.   \n",
       "4  05-Jns    Javelin  5 sp  1d6 Piercing   2 lb.   \n",
       "\n",
       "                       properties              category    type  \n",
       "0                           Light  Simple Melee Weapons  weapon  \n",
       "1  Finesse, Light, Thrown (20/60)  Simple Melee Weapons  weapon  \n",
       "2                      Two-handed  Simple Melee Weapons  weapon  \n",
       "3           Light, Thrown (20/60)  Simple Melee Weapons  weapon  \n",
       "4                 Thrown (30/120)  Simple Melee Weapons  weapon  "
      ]
     },
     "execution_count": 436,
     "metadata": {},
     "output_type": "execute_result"
    }
   ],
   "source": [
    "weapons.head()"
   ]
  },
  {
   "cell_type": "code",
   "execution_count": 437,
   "metadata": {},
   "outputs": [
    {
     "data": {
      "text/html": [
       "<div>\n",
       "<style scoped>\n",
       "    .dataframe tbody tr th:only-of-type {\n",
       "        vertical-align: middle;\n",
       "    }\n",
       "\n",
       "    .dataframe tbody tr th {\n",
       "        vertical-align: top;\n",
       "    }\n",
       "\n",
       "    .dataframe thead th {\n",
       "        text-align: right;\n",
       "    }\n",
       "</style>\n",
       "<table border=\"1\" class=\"dataframe\">\n",
       "  <thead>\n",
       "    <tr style=\"text-align: right;\">\n",
       "      <th></th>\n",
       "      <th>item_id</th>\n",
       "      <th>name</th>\n",
       "      <th>price</th>\n",
       "      <th>ac</th>\n",
       "      <th>weight</th>\n",
       "      <th>requirements</th>\n",
       "      <th>stealth</th>\n",
       "      <th>category</th>\n",
       "      <th>type</th>\n",
       "    </tr>\n",
       "  </thead>\n",
       "  <tbody>\n",
       "    <tr>\n",
       "      <th>0</th>\n",
       "      <td>01-Por</td>\n",
       "      <td>Padded</td>\n",
       "      <td>5 gp</td>\n",
       "      <td>11 + Dex</td>\n",
       "      <td>8 lb.</td>\n",
       "      <td>NaN</td>\n",
       "      <td>Disadvantage</td>\n",
       "      <td>Light Armor</td>\n",
       "      <td>armor</td>\n",
       "    </tr>\n",
       "    <tr>\n",
       "      <th>1</th>\n",
       "      <td>02-Lor</td>\n",
       "      <td>Leather</td>\n",
       "      <td>10 gp</td>\n",
       "      <td>11 + Dex</td>\n",
       "      <td>10 lb.</td>\n",
       "      <td>NaN</td>\n",
       "      <td>NaN</td>\n",
       "      <td>Light Armor</td>\n",
       "      <td>armor</td>\n",
       "    </tr>\n",
       "    <tr>\n",
       "      <th>2</th>\n",
       "      <td>03-Sor</td>\n",
       "      <td>Studded Leather</td>\n",
       "      <td>45 gp</td>\n",
       "      <td>12 + Dex</td>\n",
       "      <td>13 lb.</td>\n",
       "      <td>NaN</td>\n",
       "      <td>NaN</td>\n",
       "      <td>Light Armor</td>\n",
       "      <td>armor</td>\n",
       "    </tr>\n",
       "    <tr>\n",
       "      <th>3</th>\n",
       "      <td>04-Hor</td>\n",
       "      <td>Hide</td>\n",
       "      <td>10 gp</td>\n",
       "      <td>12 + Dex(max2)</td>\n",
       "      <td>12 lb.</td>\n",
       "      <td>NaN</td>\n",
       "      <td>NaN</td>\n",
       "      <td>Medium Armor</td>\n",
       "      <td>armor</td>\n",
       "    </tr>\n",
       "    <tr>\n",
       "      <th>4</th>\n",
       "      <td>05-Cor</td>\n",
       "      <td>Chain Shirt</td>\n",
       "      <td>50 gp</td>\n",
       "      <td>13 + Dex(max2)</td>\n",
       "      <td>20 lb.</td>\n",
       "      <td>NaN</td>\n",
       "      <td>NaN</td>\n",
       "      <td>Medium Armor</td>\n",
       "      <td>armor</td>\n",
       "    </tr>\n",
       "  </tbody>\n",
       "</table>\n",
       "</div>"
      ],
      "text/plain": [
       "  item_id             name  price              ac  weight requirements  \\\n",
       "0  01-Por           Padded   5 gp        11 + Dex   8 lb.          NaN   \n",
       "1  02-Lor          Leather  10 gp        11 + Dex  10 lb.          NaN   \n",
       "2  03-Sor  Studded Leather  45 gp        12 + Dex  13 lb.          NaN   \n",
       "3  04-Hor             Hide  10 gp  12 + Dex(max2)  12 lb.          NaN   \n",
       "4  05-Cor      Chain Shirt  50 gp  13 + Dex(max2)  20 lb.          NaN   \n",
       "\n",
       "        stealth      category   type  \n",
       "0  Disadvantage   Light Armor  armor  \n",
       "1           NaN   Light Armor  armor  \n",
       "2           NaN   Light Armor  armor  \n",
       "3           NaN  Medium Armor  armor  \n",
       "4           NaN  Medium Armor  armor  "
      ]
     },
     "execution_count": 437,
     "metadata": {},
     "output_type": "execute_result"
    }
   ],
   "source": [
    "armor.head()"
   ]
  },
  {
   "cell_type": "code",
   "execution_count": 438,
   "metadata": {},
   "outputs": [
    {
     "data": {
      "text/html": [
       "<div>\n",
       "<style scoped>\n",
       "    .dataframe tbody tr th:only-of-type {\n",
       "        vertical-align: middle;\n",
       "    }\n",
       "\n",
       "    .dataframe tbody tr th {\n",
       "        vertical-align: top;\n",
       "    }\n",
       "\n",
       "    .dataframe thead th {\n",
       "        text-align: right;\n",
       "    }\n",
       "</style>\n",
       "<table border=\"1\" class=\"dataframe\">\n",
       "  <thead>\n",
       "    <tr style=\"text-align: right;\">\n",
       "      <th></th>\n",
       "      <th>item_id</th>\n",
       "      <th>name</th>\n",
       "      <th>price</th>\n",
       "      <th>rarity</th>\n",
       "      <th>type</th>\n",
       "    </tr>\n",
       "  </thead>\n",
       "  <tbody>\n",
       "    <tr>\n",
       "      <th>0</th>\n",
       "      <td>01-Pon</td>\n",
       "      <td>Potion of Healing</td>\n",
       "      <td>50 gp</td>\n",
       "      <td>Common</td>\n",
       "      <td>potion</td>\n",
       "    </tr>\n",
       "    <tr>\n",
       "      <th>1</th>\n",
       "      <td>02-Pon</td>\n",
       "      <td>Potion of Greater Healing</td>\n",
       "      <td>150 gp</td>\n",
       "      <td>Uncommon</td>\n",
       "      <td>potion</td>\n",
       "    </tr>\n",
       "    <tr>\n",
       "      <th>2</th>\n",
       "      <td>03-Pre</td>\n",
       "      <td>Potion of Superior Healing</td>\n",
       "      <td>450 gp</td>\n",
       "      <td>Rare</td>\n",
       "      <td>potion</td>\n",
       "    </tr>\n",
       "    <tr>\n",
       "      <th>4</th>\n",
       "      <td>05-Ere</td>\n",
       "      <td>Elixir of Health</td>\n",
       "      <td>120 gp</td>\n",
       "      <td>Rare</td>\n",
       "      <td>potion</td>\n",
       "    </tr>\n",
       "    <tr>\n",
       "      <th>5</th>\n",
       "      <td>06-Pon</td>\n",
       "      <td>Potion of Poison</td>\n",
       "      <td>100 gp</td>\n",
       "      <td>Uncommon</td>\n",
       "      <td>potion</td>\n",
       "    </tr>\n",
       "  </tbody>\n",
       "</table>\n",
       "</div>"
      ],
      "text/plain": [
       "  item_id                        name    price    rarity    type\n",
       "0  01-Pon           Potion of Healing    50 gp    Common  potion\n",
       "1  02-Pon   Potion of Greater Healing   150 gp  Uncommon  potion\n",
       "2  03-Pre  Potion of Superior Healing  450 gp       Rare  potion\n",
       "4  05-Ere            Elixir of Health   120 gp      Rare  potion\n",
       "5  06-Pon            Potion of Poison   100 gp  Uncommon  potion"
      ]
     },
     "execution_count": 438,
     "metadata": {},
     "output_type": "execute_result"
    }
   ],
   "source": [
    "potions_filtered.head()"
   ]
  },
  {
   "cell_type": "code",
   "execution_count": 439,
   "metadata": {},
   "outputs": [
    {
     "data": {
      "text/html": [
       "<div>\n",
       "<style scoped>\n",
       "    .dataframe tbody tr th:only-of-type {\n",
       "        vertical-align: middle;\n",
       "    }\n",
       "\n",
       "    .dataframe tbody tr th {\n",
       "        vertical-align: top;\n",
       "    }\n",
       "\n",
       "    .dataframe thead th {\n",
       "        text-align: right;\n",
       "    }\n",
       "</style>\n",
       "<table border=\"1\" class=\"dataframe\">\n",
       "  <thead>\n",
       "    <tr style=\"text-align: right;\">\n",
       "      <th></th>\n",
       "      <th>item_id</th>\n",
       "      <th>name</th>\n",
       "      <th>price</th>\n",
       "      <th>category</th>\n",
       "      <th>dc</th>\n",
       "      <th>type</th>\n",
       "    </tr>\n",
       "  </thead>\n",
       "  <tbody>\n",
       "    <tr>\n",
       "      <th>0</th>\n",
       "      <td>01-Aed</td>\n",
       "      <td>Assassin's blood</td>\n",
       "      <td>150 gp</td>\n",
       "      <td>Ingested</td>\n",
       "      <td>10.0</td>\n",
       "      <td>poison</td>\n",
       "    </tr>\n",
       "    <tr>\n",
       "      <th>1</th>\n",
       "      <td>02-Ted</td>\n",
       "      <td>Truth serum</td>\n",
       "      <td>150 gp</td>\n",
       "      <td>Ingested</td>\n",
       "      <td>11.0</td>\n",
       "      <td>poison</td>\n",
       "    </tr>\n",
       "    <tr>\n",
       "      <th>2</th>\n",
       "      <td>03-Cct</td>\n",
       "      <td>Carrion crawler mucus</td>\n",
       "      <td>200 gp</td>\n",
       "      <td>Contact</td>\n",
       "      <td>13.0</td>\n",
       "      <td>poison</td>\n",
       "    </tr>\n",
       "    <tr>\n",
       "      <th>3</th>\n",
       "      <td>04-Dry</td>\n",
       "      <td>Drow poison</td>\n",
       "      <td>200 gp</td>\n",
       "      <td>Injury</td>\n",
       "      <td>13.0</td>\n",
       "      <td>poison</td>\n",
       "    </tr>\n",
       "    <tr>\n",
       "      <th>4</th>\n",
       "      <td>05-Sry</td>\n",
       "      <td>Serpent venom</td>\n",
       "      <td>200 gp</td>\n",
       "      <td>Injury</td>\n",
       "      <td>11.0</td>\n",
       "      <td>poison</td>\n",
       "    </tr>\n",
       "  </tbody>\n",
       "</table>\n",
       "</div>"
      ],
      "text/plain": [
       "  item_id                   name   price  category    dc    type\n",
       "0  01-Aed       Assassin's blood  150 gp  Ingested  10.0  poison\n",
       "1  02-Ted            Truth serum  150 gp  Ingested  11.0  poison\n",
       "2  03-Cct  Carrion crawler mucus  200 gp   Contact  13.0  poison\n",
       "3  04-Dry            Drow poison  200 gp    Injury  13.0  poison\n",
       "4  05-Sry          Serpent venom  200 gp    Injury  11.0  poison"
      ]
     },
     "execution_count": 439,
     "metadata": {},
     "output_type": "execute_result"
    }
   ],
   "source": [
    "poisons.head()"
   ]
  },
  {
   "cell_type": "code",
   "execution_count": 440,
   "metadata": {},
   "outputs": [
    {
     "data": {
      "text/html": [
       "<div>\n",
       "<style scoped>\n",
       "    .dataframe tbody tr th:only-of-type {\n",
       "        vertical-align: middle;\n",
       "    }\n",
       "\n",
       "    .dataframe tbody tr th {\n",
       "        vertical-align: top;\n",
       "    }\n",
       "\n",
       "    .dataframe thead th {\n",
       "        text-align: right;\n",
       "    }\n",
       "</style>\n",
       "<table border=\"1\" class=\"dataframe\">\n",
       "  <thead>\n",
       "    <tr style=\"text-align: right;\">\n",
       "      <th></th>\n",
       "      <th>product_id</th>\n",
       "      <th>product_name</th>\n",
       "      <th>price</th>\n",
       "      <th>type</th>\n",
       "    </tr>\n",
       "  </thead>\n",
       "  <tbody>\n",
       "    <tr>\n",
       "      <th>0</th>\n",
       "      <td>001-ACo</td>\n",
       "      <td>Ammunition +1 (Per)</td>\n",
       "      <td>15 gp</td>\n",
       "      <td>magic_item</td>\n",
       "    </tr>\n",
       "    <tr>\n",
       "      <th>1</th>\n",
       "      <td>002-ACo</td>\n",
       "      <td>Ammunition +2 (Per)</td>\n",
       "      <td>50 gp</td>\n",
       "      <td>magic_item</td>\n",
       "    </tr>\n",
       "    <tr>\n",
       "      <th>2</th>\n",
       "      <td>005-BCo</td>\n",
       "      <td>Bead of Force</td>\n",
       "      <td>1,000 gp</td>\n",
       "      <td>magic_item</td>\n",
       "    </tr>\n",
       "    <tr>\n",
       "      <th>3</th>\n",
       "      <td>006-CCo</td>\n",
       "      <td>Chime of Opening</td>\n",
       "      <td>400 gp</td>\n",
       "      <td>magic_item</td>\n",
       "    </tr>\n",
       "    <tr>\n",
       "      <th>4</th>\n",
       "      <td>007-DCo</td>\n",
       "      <td>Deck of Illusions</td>\n",
       "      <td>900 gp</td>\n",
       "      <td>magic_item</td>\n",
       "    </tr>\n",
       "  </tbody>\n",
       "</table>\n",
       "</div>"
      ],
      "text/plain": [
       "  product_id         product_name     price        type\n",
       "0    001-ACo  Ammunition +1 (Per)     15 gp  magic_item\n",
       "1    002-ACo  Ammunition +2 (Per)     50 gp  magic_item\n",
       "2    005-BCo        Bead of Force  1,000 gp  magic_item\n",
       "3    006-CCo     Chime of Opening    400 gp  magic_item\n",
       "4    007-DCo    Deck of Illusions    900 gp  magic_item"
      ]
     },
     "execution_count": 440,
     "metadata": {},
     "output_type": "execute_result"
    }
   ],
   "source": [
    "product.head()"
   ]
  },
  {
   "cell_type": "code",
   "execution_count": 441,
   "metadata": {},
   "outputs": [
    {
     "data": {
      "text/html": [
       "<div>\n",
       "<style scoped>\n",
       "    .dataframe tbody tr th:only-of-type {\n",
       "        vertical-align: middle;\n",
       "    }\n",
       "\n",
       "    .dataframe tbody tr th {\n",
       "        vertical-align: top;\n",
       "    }\n",
       "\n",
       "    .dataframe thead th {\n",
       "        text-align: right;\n",
       "    }\n",
       "</style>\n",
       "<table border=\"1\" class=\"dataframe\">\n",
       "  <thead>\n",
       "    <tr style=\"text-align: right;\">\n",
       "      <th></th>\n",
       "      <th>sale_id</th>\n",
       "      <th>date</th>\n",
       "      <th>customer_id</th>\n",
       "      <th>product_id</th>\n",
       "      <th>quantity</th>\n",
       "      <th>price</th>\n",
       "      <th>product_name</th>\n",
       "    </tr>\n",
       "  </thead>\n",
       "  <tbody>\n",
       "    <tr>\n",
       "      <th>0</th>\n",
       "      <td>886200-Q0FOT</td>\n",
       "      <td>2019-09-23</td>\n",
       "      <td>983817-IVSOLM</td>\n",
       "      <td>287-PCo</td>\n",
       "      <td>1</td>\n",
       "      <td>300 gp</td>\n",
       "      <td>Prayer Bead - Smiting</td>\n",
       "    </tr>\n",
       "    <tr>\n",
       "      <th>1</th>\n",
       "      <td>886201-10GDM</td>\n",
       "      <td>2019-08-06</td>\n",
       "      <td>985032-MWLMA6</td>\n",
       "      <td>088-GNo</td>\n",
       "      <td>1</td>\n",
       "      <td>300 gp</td>\n",
       "      <td>Gloves of Thievery</td>\n",
       "    </tr>\n",
       "    <tr>\n",
       "      <th>2</th>\n",
       "      <td>886202-IPC8Q</td>\n",
       "      <td>2020-01-08</td>\n",
       "      <td>984260-44FTJ5</td>\n",
       "      <td>24-Mns</td>\n",
       "      <td>2</td>\n",
       "      <td>15 gp</td>\n",
       "      <td>Morningstar</td>\n",
       "    </tr>\n",
       "    <tr>\n",
       "      <th>3</th>\n",
       "      <td>886203-O6P43</td>\n",
       "      <td>2023-09-18</td>\n",
       "      <td>984908-LBA117</td>\n",
       "      <td>145-SSu</td>\n",
       "      <td>1</td>\n",
       "      <td>5,600 gp</td>\n",
       "      <td>Silver Horn of Valhalla</td>\n",
       "    </tr>\n",
       "    <tr>\n",
       "      <th>4</th>\n",
       "      <td>886204-AR6JL</td>\n",
       "      <td>2021-05-06</td>\n",
       "      <td>983914-2KKZMP</td>\n",
       "      <td>269-ACo</td>\n",
       "      <td>1</td>\n",
       "      <td>3,000 gp</td>\n",
       "      <td>Amulet of Health</td>\n",
       "    </tr>\n",
       "  </tbody>\n",
       "</table>\n",
       "</div>"
      ],
      "text/plain": [
       "        sale_id       date    customer_id product_id  quantity     price  \\\n",
       "0  886200-Q0FOT 2019-09-23  983817-IVSOLM    287-PCo         1    300 gp   \n",
       "1  886201-10GDM 2019-08-06  985032-MWLMA6    088-GNo         1    300 gp   \n",
       "2  886202-IPC8Q 2020-01-08  984260-44FTJ5     24-Mns         2     15 gp   \n",
       "3  886203-O6P43 2023-09-18  984908-LBA117    145-SSu         1  5,600 gp   \n",
       "4  886204-AR6JL 2021-05-06  983914-2KKZMP    269-ACo         1  3,000 gp   \n",
       "\n",
       "              product_name  \n",
       "0    Prayer Bead - Smiting  \n",
       "1       Gloves of Thievery  \n",
       "2              Morningstar  \n",
       "3  Silver Horn of Valhalla  \n",
       "4         Amulet of Health  "
      ]
     },
     "execution_count": 441,
     "metadata": {},
     "output_type": "execute_result"
    }
   ],
   "source": [
    "sales.head()"
   ]
  },
  {
   "cell_type": "code",
   "execution_count": 442,
   "metadata": {},
   "outputs": [
    {
     "data": {
      "text/html": [
       "<div>\n",
       "<style scoped>\n",
       "    .dataframe tbody tr th:only-of-type {\n",
       "        vertical-align: middle;\n",
       "    }\n",
       "\n",
       "    .dataframe tbody tr th {\n",
       "        vertical-align: top;\n",
       "    }\n",
       "\n",
       "    .dataframe thead th {\n",
       "        text-align: right;\n",
       "    }\n",
       "</style>\n",
       "<table border=\"1\" class=\"dataframe\">\n",
       "  <thead>\n",
       "    <tr style=\"text-align: right;\">\n",
       "      <th></th>\n",
       "      <th>customer_id</th>\n",
       "      <th>name</th>\n",
       "      <th>sex</th>\n",
       "      <th>race</th>\n",
       "      <th>age</th>\n",
       "      <th>class</th>\n",
       "    </tr>\n",
       "  </thead>\n",
       "  <tbody>\n",
       "    <tr>\n",
       "      <th>0</th>\n",
       "      <td>983638-753LC5</td>\n",
       "      <td>Veklani  Daargen</td>\n",
       "      <td>female</td>\n",
       "      <td>Elf</td>\n",
       "      <td>661</td>\n",
       "      <td>Warlock</td>\n",
       "    </tr>\n",
       "    <tr>\n",
       "      <th>1</th>\n",
       "      <td>983639-8DRC11</td>\n",
       "      <td>Kasaki  Wygarthe</td>\n",
       "      <td>female</td>\n",
       "      <td>Half-Elf</td>\n",
       "      <td>100</td>\n",
       "      <td>Wizard</td>\n",
       "    </tr>\n",
       "    <tr>\n",
       "      <th>2</th>\n",
       "      <td>983640-ERTJ5P</td>\n",
       "      <td>Rosalyn  Faringray</td>\n",
       "      <td>female</td>\n",
       "      <td>Halfling</td>\n",
       "      <td>40</td>\n",
       "      <td>Barbarian</td>\n",
       "    </tr>\n",
       "    <tr>\n",
       "      <th>3</th>\n",
       "      <td>983641-HT0HL9</td>\n",
       "      <td>Atalya  Webb</td>\n",
       "      <td>female</td>\n",
       "      <td>Tiefling</td>\n",
       "      <td>55</td>\n",
       "      <td>Monk</td>\n",
       "    </tr>\n",
       "    <tr>\n",
       "      <th>4</th>\n",
       "      <td>983642-XPSEIM</td>\n",
       "      <td>Grenenzel  Lyfalia</td>\n",
       "      <td>female</td>\n",
       "      <td>Half-Orc</td>\n",
       "      <td>43</td>\n",
       "      <td>Bard</td>\n",
       "    </tr>\n",
       "  </tbody>\n",
       "</table>\n",
       "</div>"
      ],
      "text/plain": [
       "     customer_id                name     sex      race  age      class\n",
       "0  983638-753LC5    Veklani  Daargen  female       Elf  661    Warlock\n",
       "1  983639-8DRC11    Kasaki  Wygarthe  female  Half-Elf  100     Wizard\n",
       "2  983640-ERTJ5P  Rosalyn  Faringray  female  Halfling   40  Barbarian\n",
       "3  983641-HT0HL9        Atalya  Webb  female  Tiefling   55       Monk\n",
       "4  983642-XPSEIM  Grenenzel  Lyfalia  female  Half-Orc   43       Bard"
      ]
     },
     "execution_count": 442,
     "metadata": {},
     "output_type": "execute_result"
    }
   ],
   "source": [
    "customers.head()"
   ]
  },
  {
   "cell_type": "code",
   "execution_count": 443,
   "metadata": {},
   "outputs": [],
   "source": [
    "# criando conexão\n",
    "conn = sqlite3.connect(\"adventurer_mart.db\")"
   ]
  },
  {
   "cell_type": "markdown",
   "metadata": {},
   "source": [
    "Inserindo as tabelas no BD:"
   ]
  },
  {
   "cell_type": "code",
   "execution_count": 444,
   "metadata": {},
   "outputs": [
    {
     "data": {
      "text/plain": [
       "1423"
      ]
     },
     "execution_count": 444,
     "metadata": {},
     "output_type": "execute_result"
    }
   ],
   "source": [
    "adventure_gear.to_sql('details_adventure_gear', conn, index=False, if_exists='replace')\n",
    "magic_items_filtered.to_sql('details_magic_items', conn, index=False, if_exists='replace')\n",
    "weapons.to_sql('details_weapons', conn, index=False, if_exists='replace')\n",
    "armor.to_sql('details_armor', conn, index=False, if_exists='replace')\n",
    "potions_filtered.to_sql('details_potions', conn, index=False, if_exists='replace')\n",
    "poisons.to_sql('details_poisons', conn, index=False, if_exists='replace')\n",
    "product.to_sql('all_products', conn, index=False, if_exists='replace')\n",
    "sales.to_sql('sales', conn, index=False, if_exists='replace')\n",
    "customers.to_sql('costumers', conn, index=False, if_exists='replace')\n"
   ]
  },
  {
   "cell_type": "code",
   "execution_count": 445,
   "metadata": {},
   "outputs": [],
   "source": [
    "#fechando a conexão\n",
    "conn.close()"
   ]
  },
  {
   "cell_type": "markdown",
   "metadata": {},
   "source": [
    "**FIM.**"
   ]
  }
 ],
 "metadata": {
  "kernelspec": {
   "display_name": "Python 3",
   "language": "python",
   "name": "python3"
  },
  "language_info": {
   "codemirror_mode": {
    "name": "ipython",
    "version": 3
   },
   "file_extension": ".py",
   "mimetype": "text/x-python",
   "name": "python",
   "nbconvert_exporter": "python",
   "pygments_lexer": "ipython3",
   "version": "3.11.0"
  }
 },
 "nbformat": 4,
 "nbformat_minor": 2
}
