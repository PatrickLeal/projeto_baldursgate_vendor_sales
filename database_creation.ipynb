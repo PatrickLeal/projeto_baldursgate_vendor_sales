{
 "cells": [
  {
   "cell_type": "markdown",
   "metadata": {},
   "source": [
    "**Importing Libraries**"
   ]
  },
  {
   "cell_type": "code",
   "execution_count": 1,
   "metadata": {},
   "outputs": [],
   "source": [
    "import pandas as pd\n",
    "import numpy as np\n",
    "import random\n",
    "\n",
    "# Definindo a semente para reprodução\n",
    "np.random.seed(42)\n",
    "random.seed(42)"
   ]
  },
  {
   "cell_type": "markdown",
   "metadata": {},
   "source": [
    "**Reading Files**"
   ]
  },
  {
   "cell_type": "code",
   "execution_count": 2,
   "metadata": {},
   "outputs": [],
   "source": [
    "magic_items = pd.read_csv('data/magic_items.csv', sep=';')\n",
    "adventure_gear = pd.read_csv('data/adventuring_gear.csv', sep=';')\n",
    "armor = pd.read_csv('data/armor.csv', sep=';')\n",
    "poisons = pd.read_csv('data/poisons.csv', sep=';')\n",
    "potions = pd.read_csv('data/potions.csv', sep=';')\n",
    "weapons = pd.read_csv('data/weapons.csv', sep=';')\n",
    "names = pd.read_csv('data/names.csv', sep=';')"
   ]
  },
  {
   "cell_type": "code",
   "execution_count": 3,
   "metadata": {},
   "outputs": [
    {
     "data": {
      "text/html": [
       "<div>\n",
       "<style scoped>\n",
       "    .dataframe tbody tr th:only-of-type {\n",
       "        vertical-align: middle;\n",
       "    }\n",
       "\n",
       "    .dataframe tbody tr th {\n",
       "        vertical-align: top;\n",
       "    }\n",
       "\n",
       "    .dataframe thead th {\n",
       "        text-align: right;\n",
       "    }\n",
       "</style>\n",
       "<table border=\"1\" class=\"dataframe\">\n",
       "  <thead>\n",
       "    <tr style=\"text-align: right;\">\n",
       "      <th></th>\n",
       "      <th>item_id</th>\n",
       "      <th>Name</th>\n",
       "      <th>Price</th>\n",
       "      <th>Rarity</th>\n",
       "      <th>Category</th>\n",
       "    </tr>\n",
       "  </thead>\n",
       "  <tbody>\n",
       "    <tr>\n",
       "      <th>0</th>\n",
       "      <td>001-ACo</td>\n",
       "      <td>Ammunition +1 (Per)</td>\n",
       "      <td>15 gp</td>\n",
       "      <td>Uncommon</td>\n",
       "      <td>Consumable Items</td>\n",
       "    </tr>\n",
       "    <tr>\n",
       "      <th>1</th>\n",
       "      <td>002-ACo</td>\n",
       "      <td>Ammunition +2 (Per)</td>\n",
       "      <td>50 gp</td>\n",
       "      <td>Rare</td>\n",
       "      <td>Consumable Items</td>\n",
       "    </tr>\n",
       "    <tr>\n",
       "      <th>2</th>\n",
       "      <td>003-ACo</td>\n",
       "      <td>Ammunition +3 (Per)</td>\n",
       "      <td>250 gp</td>\n",
       "      <td>Very Rare</td>\n",
       "      <td>Consumable Items</td>\n",
       "    </tr>\n",
       "    <tr>\n",
       "      <th>3</th>\n",
       "      <td>004-ACo</td>\n",
       "      <td>Arrow of Slaying</td>\n",
       "      <td>400 gp</td>\n",
       "      <td>Very Rare</td>\n",
       "      <td>Consumable Items</td>\n",
       "    </tr>\n",
       "    <tr>\n",
       "      <th>4</th>\n",
       "      <td>005-BCo</td>\n",
       "      <td>Bead of Force</td>\n",
       "      <td>1,000 gp</td>\n",
       "      <td>Rare</td>\n",
       "      <td>Consumable Items</td>\n",
       "    </tr>\n",
       "  </tbody>\n",
       "</table>\n",
       "</div>"
      ],
      "text/plain": [
       "   item_id                 Name     Price     Rarity          Category\n",
       "0  001-ACo  Ammunition +1 (Per)     15 gp   Uncommon  Consumable Items\n",
       "1  002-ACo  Ammunition +2 (Per)     50 gp       Rare  Consumable Items\n",
       "2  003-ACo  Ammunition +3 (Per)    250 gp  Very Rare  Consumable Items\n",
       "3  004-ACo     Arrow of Slaying    400 gp  Very Rare  Consumable Items\n",
       "4  005-BCo        Bead of Force  1,000 gp       Rare  Consumable Items"
      ]
     },
     "execution_count": 3,
     "metadata": {},
     "output_type": "execute_result"
    }
   ],
   "source": [
    "magic_items.head()"
   ]
  },
  {
   "cell_type": "code",
   "execution_count": 4,
   "metadata": {},
   "outputs": [
    {
     "data": {
      "text/html": [
       "<div>\n",
       "<style scoped>\n",
       "    .dataframe tbody tr th:only-of-type {\n",
       "        vertical-align: middle;\n",
       "    }\n",
       "\n",
       "    .dataframe tbody tr th {\n",
       "        vertical-align: top;\n",
       "    }\n",
       "\n",
       "    .dataframe thead th {\n",
       "        text-align: right;\n",
       "    }\n",
       "</style>\n",
       "<table border=\"1\" class=\"dataframe\">\n",
       "  <thead>\n",
       "    <tr style=\"text-align: right;\">\n",
       "      <th></th>\n",
       "      <th>item_id</th>\n",
       "      <th>Name</th>\n",
       "      <th>Price</th>\n",
       "      <th>Weight</th>\n",
       "      <th>type</th>\n",
       "    </tr>\n",
       "  </thead>\n",
       "  <tbody>\n",
       "    <tr>\n",
       "      <th>0</th>\n",
       "      <td>01-Ars</td>\n",
       "      <td>Abacus</td>\n",
       "      <td>2 gp</td>\n",
       "      <td>2 lb.</td>\n",
       "      <td>Others</td>\n",
       "    </tr>\n",
       "    <tr>\n",
       "      <th>1</th>\n",
       "      <td>02-Ars</td>\n",
       "      <td>Acid (vial)</td>\n",
       "      <td>25 gp</td>\n",
       "      <td>1 lb.</td>\n",
       "      <td>Others</td>\n",
       "    </tr>\n",
       "    <tr>\n",
       "      <th>2</th>\n",
       "      <td>03-Ars</td>\n",
       "      <td>Alchemist's Fire (flask)</td>\n",
       "      <td>50 gp</td>\n",
       "      <td>1 lb.</td>\n",
       "      <td>Others</td>\n",
       "    </tr>\n",
       "    <tr>\n",
       "      <th>3</th>\n",
       "      <td>04-Aon</td>\n",
       "      <td>Arrows (20)</td>\n",
       "      <td>1 gp</td>\n",
       "      <td>1 lb.</td>\n",
       "      <td>Ammunition</td>\n",
       "    </tr>\n",
       "    <tr>\n",
       "      <th>4</th>\n",
       "      <td>05-Bon</td>\n",
       "      <td>Blowgun Needle (50)</td>\n",
       "      <td>1 gp</td>\n",
       "      <td>1 lb.</td>\n",
       "      <td>Ammunition</td>\n",
       "    </tr>\n",
       "  </tbody>\n",
       "</table>\n",
       "</div>"
      ],
      "text/plain": [
       "  item_id                      Name  Price Weight        type\n",
       "0  01-Ars                    Abacus   2 gp  2 lb.      Others\n",
       "1  02-Ars               Acid (vial)  25 gp  1 lb.      Others\n",
       "2  03-Ars  Alchemist's Fire (flask)  50 gp  1 lb.      Others\n",
       "3  04-Aon               Arrows (20)   1 gp  1 lb.  Ammunition\n",
       "4  05-Bon       Blowgun Needle (50)   1 gp  1 lb.  Ammunition"
      ]
     },
     "execution_count": 4,
     "metadata": {},
     "output_type": "execute_result"
    }
   ],
   "source": [
    "adventure_gear.head()"
   ]
  },
  {
   "cell_type": "code",
   "execution_count": 5,
   "metadata": {},
   "outputs": [
    {
     "data": {
      "text/html": [
       "<div>\n",
       "<style scoped>\n",
       "    .dataframe tbody tr th:only-of-type {\n",
       "        vertical-align: middle;\n",
       "    }\n",
       "\n",
       "    .dataframe tbody tr th {\n",
       "        vertical-align: top;\n",
       "    }\n",
       "\n",
       "    .dataframe thead th {\n",
       "        text-align: right;\n",
       "    }\n",
       "</style>\n",
       "<table border=\"1\" class=\"dataframe\">\n",
       "  <thead>\n",
       "    <tr style=\"text-align: right;\">\n",
       "      <th></th>\n",
       "      <th>item_id</th>\n",
       "      <th>Name</th>\n",
       "      <th>Price</th>\n",
       "      <th>Damage</th>\n",
       "      <th>Weight</th>\n",
       "      <th>Properties</th>\n",
       "      <th>type</th>\n",
       "    </tr>\n",
       "  </thead>\n",
       "  <tbody>\n",
       "    <tr>\n",
       "      <th>0</th>\n",
       "      <td>01-Cns</td>\n",
       "      <td>Club</td>\n",
       "      <td>1 sp</td>\n",
       "      <td>1d4 Bludgeon</td>\n",
       "      <td>2 lb.</td>\n",
       "      <td>Light</td>\n",
       "      <td>Simple Melee Weapons</td>\n",
       "    </tr>\n",
       "    <tr>\n",
       "      <th>1</th>\n",
       "      <td>02-Dns</td>\n",
       "      <td>Dagger</td>\n",
       "      <td>2 gp</td>\n",
       "      <td>1d4 Piercing</td>\n",
       "      <td>1 lb.</td>\n",
       "      <td>Finesse, Light, Thrown (20/60)</td>\n",
       "      <td>Simple Melee Weapons</td>\n",
       "    </tr>\n",
       "    <tr>\n",
       "      <th>2</th>\n",
       "      <td>03-Gns</td>\n",
       "      <td>Greatclub</td>\n",
       "      <td>2 sp</td>\n",
       "      <td>1d8 Bludgeon</td>\n",
       "      <td>10 lb.</td>\n",
       "      <td>Two-handed</td>\n",
       "      <td>Simple Melee Weapons</td>\n",
       "    </tr>\n",
       "    <tr>\n",
       "      <th>3</th>\n",
       "      <td>04-Hns</td>\n",
       "      <td>Handaxe</td>\n",
       "      <td>5 gp</td>\n",
       "      <td>1d6 Slashing</td>\n",
       "      <td>2 lb.</td>\n",
       "      <td>Light, Thrown (20/60)</td>\n",
       "      <td>Simple Melee Weapons</td>\n",
       "    </tr>\n",
       "    <tr>\n",
       "      <th>4</th>\n",
       "      <td>05-Jns</td>\n",
       "      <td>Javelin</td>\n",
       "      <td>5 sp</td>\n",
       "      <td>1d6 Piercing</td>\n",
       "      <td>2 lb.</td>\n",
       "      <td>Thrown (30/120)</td>\n",
       "      <td>Simple Melee Weapons</td>\n",
       "    </tr>\n",
       "  </tbody>\n",
       "</table>\n",
       "</div>"
      ],
      "text/plain": [
       "  item_id       Name Price        Damage  Weight  \\\n",
       "0  01-Cns       Club  1 sp  1d4 Bludgeon   2 lb.   \n",
       "1  02-Dns     Dagger  2 gp  1d4 Piercing   1 lb.   \n",
       "2  03-Gns  Greatclub  2 sp  1d8 Bludgeon  10 lb.   \n",
       "3  04-Hns    Handaxe  5 gp  1d6 Slashing   2 lb.   \n",
       "4  05-Jns    Javelin  5 sp  1d6 Piercing   2 lb.   \n",
       "\n",
       "                       Properties                  type  \n",
       "0                           Light  Simple Melee Weapons  \n",
       "1  Finesse, Light, Thrown (20/60)  Simple Melee Weapons  \n",
       "2                      Two-handed  Simple Melee Weapons  \n",
       "3           Light, Thrown (20/60)  Simple Melee Weapons  \n",
       "4                 Thrown (30/120)  Simple Melee Weapons  "
      ]
     },
     "execution_count": 5,
     "metadata": {},
     "output_type": "execute_result"
    }
   ],
   "source": [
    "weapons.head()"
   ]
  },
  {
   "cell_type": "code",
   "execution_count": 6,
   "metadata": {},
   "outputs": [
    {
     "data": {
      "text/html": [
       "<div>\n",
       "<style scoped>\n",
       "    .dataframe tbody tr th:only-of-type {\n",
       "        vertical-align: middle;\n",
       "    }\n",
       "\n",
       "    .dataframe tbody tr th {\n",
       "        vertical-align: top;\n",
       "    }\n",
       "\n",
       "    .dataframe thead th {\n",
       "        text-align: right;\n",
       "    }\n",
       "</style>\n",
       "<table border=\"1\" class=\"dataframe\">\n",
       "  <thead>\n",
       "    <tr style=\"text-align: right;\">\n",
       "      <th></th>\n",
       "      <th>item_id</th>\n",
       "      <th>Name</th>\n",
       "      <th>Price</th>\n",
       "      <th>AC</th>\n",
       "      <th>Weight</th>\n",
       "      <th>Requirements</th>\n",
       "      <th>Stealth</th>\n",
       "      <th>type</th>\n",
       "    </tr>\n",
       "  </thead>\n",
       "  <tbody>\n",
       "    <tr>\n",
       "      <th>0</th>\n",
       "      <td>01-Por</td>\n",
       "      <td>Padded</td>\n",
       "      <td>5 gp</td>\n",
       "      <td>11 + Dex</td>\n",
       "      <td>8 lb.</td>\n",
       "      <td>NaN</td>\n",
       "      <td>Disadvantage</td>\n",
       "      <td>Light Armor</td>\n",
       "    </tr>\n",
       "    <tr>\n",
       "      <th>1</th>\n",
       "      <td>02-Lor</td>\n",
       "      <td>Leather</td>\n",
       "      <td>10 gp</td>\n",
       "      <td>11 + Dex</td>\n",
       "      <td>10 lb.</td>\n",
       "      <td>NaN</td>\n",
       "      <td>NaN</td>\n",
       "      <td>Light Armor</td>\n",
       "    </tr>\n",
       "    <tr>\n",
       "      <th>2</th>\n",
       "      <td>03-Sor</td>\n",
       "      <td>Studded Leather</td>\n",
       "      <td>45 gp</td>\n",
       "      <td>12 + Dex</td>\n",
       "      <td>13 lb.</td>\n",
       "      <td>NaN</td>\n",
       "      <td>NaN</td>\n",
       "      <td>Light Armor</td>\n",
       "    </tr>\n",
       "    <tr>\n",
       "      <th>3</th>\n",
       "      <td>04-Hor</td>\n",
       "      <td>Hide</td>\n",
       "      <td>10 gp</td>\n",
       "      <td>12 + Dex(max2)</td>\n",
       "      <td>12 lb.</td>\n",
       "      <td>NaN</td>\n",
       "      <td>NaN</td>\n",
       "      <td>Medium Armor</td>\n",
       "    </tr>\n",
       "    <tr>\n",
       "      <th>4</th>\n",
       "      <td>05-Cor</td>\n",
       "      <td>Chain Shirt</td>\n",
       "      <td>50 gp</td>\n",
       "      <td>13 + Dex(max2)</td>\n",
       "      <td>20 lb.</td>\n",
       "      <td>NaN</td>\n",
       "      <td>NaN</td>\n",
       "      <td>Medium Armor</td>\n",
       "    </tr>\n",
       "  </tbody>\n",
       "</table>\n",
       "</div>"
      ],
      "text/plain": [
       "  item_id             Name  Price              AC  Weight Requirements  \\\n",
       "0  01-Por           Padded   5 gp        11 + Dex   8 lb.          NaN   \n",
       "1  02-Lor          Leather  10 gp        11 + Dex  10 lb.          NaN   \n",
       "2  03-Sor  Studded Leather  45 gp        12 + Dex  13 lb.          NaN   \n",
       "3  04-Hor             Hide  10 gp  12 + Dex(max2)  12 lb.          NaN   \n",
       "4  05-Cor      Chain Shirt  50 gp  13 + Dex(max2)  20 lb.          NaN   \n",
       "\n",
       "        Stealth          type  \n",
       "0  Disadvantage   Light Armor  \n",
       "1           NaN   Light Armor  \n",
       "2           NaN   Light Armor  \n",
       "3           NaN  Medium Armor  \n",
       "4           NaN  Medium Armor  "
      ]
     },
     "execution_count": 6,
     "metadata": {},
     "output_type": "execute_result"
    }
   ],
   "source": [
    "armor.head()"
   ]
  },
  {
   "cell_type": "code",
   "execution_count": 7,
   "metadata": {},
   "outputs": [
    {
     "data": {
      "text/html": [
       "<div>\n",
       "<style scoped>\n",
       "    .dataframe tbody tr th:only-of-type {\n",
       "        vertical-align: middle;\n",
       "    }\n",
       "\n",
       "    .dataframe tbody tr th {\n",
       "        vertical-align: top;\n",
       "    }\n",
       "\n",
       "    .dataframe thead th {\n",
       "        text-align: right;\n",
       "    }\n",
       "</style>\n",
       "<table border=\"1\" class=\"dataframe\">\n",
       "  <thead>\n",
       "    <tr style=\"text-align: right;\">\n",
       "      <th></th>\n",
       "      <th>item_id</th>\n",
       "      <th>Name</th>\n",
       "      <th>Price</th>\n",
       "      <th>Rarity</th>\n",
       "    </tr>\n",
       "  </thead>\n",
       "  <tbody>\n",
       "    <tr>\n",
       "      <th>0</th>\n",
       "      <td>01-Pon</td>\n",
       "      <td>Potion of Healing</td>\n",
       "      <td>50 gp</td>\n",
       "      <td>Common</td>\n",
       "    </tr>\n",
       "    <tr>\n",
       "      <th>1</th>\n",
       "      <td>02-Pon</td>\n",
       "      <td>Potion of Greater Healing</td>\n",
       "      <td>150 gp</td>\n",
       "      <td>Uncommon</td>\n",
       "    </tr>\n",
       "    <tr>\n",
       "      <th>2</th>\n",
       "      <td>03-Pre</td>\n",
       "      <td>Potion of Superior Healing</td>\n",
       "      <td>450 gp</td>\n",
       "      <td>Rare</td>\n",
       "    </tr>\n",
       "    <tr>\n",
       "      <th>3</th>\n",
       "      <td>04-Pre</td>\n",
       "      <td>Potion of Supreme Healing</td>\n",
       "      <td>1,350 gp</td>\n",
       "      <td>Very Rare</td>\n",
       "    </tr>\n",
       "    <tr>\n",
       "      <th>4</th>\n",
       "      <td>05-Ere</td>\n",
       "      <td>Elixir of Health</td>\n",
       "      <td>120 gp</td>\n",
       "      <td>Rare</td>\n",
       "    </tr>\n",
       "  </tbody>\n",
       "</table>\n",
       "</div>"
      ],
      "text/plain": [
       "  item_id                        Name     Price     Rarity\n",
       "0  01-Pon           Potion of Healing     50 gp     Common\n",
       "1  02-Pon   Potion of Greater Healing    150 gp   Uncommon\n",
       "2  03-Pre  Potion of Superior Healing   450 gp        Rare\n",
       "3  04-Pre   Potion of Supreme Healing  1,350 gp  Very Rare\n",
       "4  05-Ere            Elixir of Health    120 gp       Rare"
      ]
     },
     "execution_count": 7,
     "metadata": {},
     "output_type": "execute_result"
    }
   ],
   "source": [
    "potions.head()"
   ]
  },
  {
   "cell_type": "code",
   "execution_count": 8,
   "metadata": {},
   "outputs": [
    {
     "data": {
      "text/html": [
       "<div>\n",
       "<style scoped>\n",
       "    .dataframe tbody tr th:only-of-type {\n",
       "        vertical-align: middle;\n",
       "    }\n",
       "\n",
       "    .dataframe tbody tr th {\n",
       "        vertical-align: top;\n",
       "    }\n",
       "\n",
       "    .dataframe thead th {\n",
       "        text-align: right;\n",
       "    }\n",
       "</style>\n",
       "<table border=\"1\" class=\"dataframe\">\n",
       "  <thead>\n",
       "    <tr style=\"text-align: right;\">\n",
       "      <th></th>\n",
       "      <th>item_id</th>\n",
       "      <th>Name</th>\n",
       "      <th>Price</th>\n",
       "      <th>Type</th>\n",
       "      <th>DC</th>\n",
       "    </tr>\n",
       "  </thead>\n",
       "  <tbody>\n",
       "    <tr>\n",
       "      <th>0</th>\n",
       "      <td>01-Aed</td>\n",
       "      <td>Assassin's blood</td>\n",
       "      <td>150 gp</td>\n",
       "      <td>Ingested</td>\n",
       "      <td>10.0</td>\n",
       "    </tr>\n",
       "    <tr>\n",
       "      <th>1</th>\n",
       "      <td>02-Ted</td>\n",
       "      <td>Truth serum</td>\n",
       "      <td>150 gp</td>\n",
       "      <td>Ingested</td>\n",
       "      <td>11.0</td>\n",
       "    </tr>\n",
       "    <tr>\n",
       "      <th>2</th>\n",
       "      <td>03-Cct</td>\n",
       "      <td>Carrion crawler mucus</td>\n",
       "      <td>200 gp</td>\n",
       "      <td>Contact</td>\n",
       "      <td>13.0</td>\n",
       "    </tr>\n",
       "    <tr>\n",
       "      <th>3</th>\n",
       "      <td>04-Dry</td>\n",
       "      <td>Drow poison</td>\n",
       "      <td>200 gp</td>\n",
       "      <td>Injury</td>\n",
       "      <td>13.0</td>\n",
       "    </tr>\n",
       "    <tr>\n",
       "      <th>4</th>\n",
       "      <td>05-Sry</td>\n",
       "      <td>Serpent venom</td>\n",
       "      <td>200 gp</td>\n",
       "      <td>Injury</td>\n",
       "      <td>11.0</td>\n",
       "    </tr>\n",
       "  </tbody>\n",
       "</table>\n",
       "</div>"
      ],
      "text/plain": [
       "  item_id                   Name   Price      Type    DC\n",
       "0  01-Aed       Assassin's blood  150 gp  Ingested  10.0\n",
       "1  02-Ted            Truth serum  150 gp  Ingested  11.0\n",
       "2  03-Cct  Carrion crawler mucus  200 gp   Contact  13.0\n",
       "3  04-Dry            Drow poison  200 gp    Injury  13.0\n",
       "4  05-Sry          Serpent venom  200 gp    Injury  11.0"
      ]
     },
     "execution_count": 8,
     "metadata": {},
     "output_type": "execute_result"
    }
   ],
   "source": [
    "poisons.head()"
   ]
  },
  {
   "cell_type": "markdown",
   "metadata": {},
   "source": [
    "****"
   ]
  },
  {
   "cell_type": "markdown",
   "metadata": {},
   "source": [
    "# **Data Creation**"
   ]
  },
  {
   "cell_type": "markdown",
   "metadata": {},
   "source": [
    "**Passos:**\n",
    "\n",
    "1. Filtrar as Raridades dos itens\n",
    "1. Criar uma tabela que contenha todos os produtos\n",
    "    * A tabela deve ter apenas informações básicas sobre os itens, como: id | nome | preço | tipo.\n",
    "1. Criar uma tabela com as informações dos clientes\n",
    "1. Criar a tabela fato de **vendas**\n",
    "\n",
    "\n"
   ]
  },
  {
   "cell_type": "markdown",
   "metadata": {},
   "source": [
    "### **Filtrar Raridades:**"
   ]
  },
  {
   "cell_type": "code",
   "execution_count": 9,
   "metadata": {},
   "outputs": [
    {
     "data": {
      "text/plain": [
       "Rare         114\n",
       "Uncommon      83\n",
       "Very Rare     63\n",
       "Legendary     38\n",
       "Common         2\n",
       "Name: Rarity, dtype: int64"
      ]
     },
     "execution_count": 9,
     "metadata": {},
     "output_type": "execute_result"
    }
   ],
   "source": [
    "magic_items['Rarity'].value_counts()"
   ]
  },
  {
   "cell_type": "markdown",
   "metadata": {},
   "source": [
    "Como eu pretendo simular as vendas de um vendedor comum, não vou usar itens que sejam: Very Rare, Legendary."
   ]
  },
  {
   "cell_type": "code",
   "execution_count": 10,
   "metadata": {},
   "outputs": [],
   "source": [
    "# função para filtrar a raridade dos items\n",
    "def filter_rarity(dataframe):\n",
    "    unwanted = ['Very Rare', 'Legendary']\n",
    "    df = dataframe.copy()\n",
    "    df = df.query(\"Rarity not in @unwanted\")\n",
    "    return df"
   ]
  },
  {
   "cell_type": "code",
   "execution_count": 11,
   "metadata": {},
   "outputs": [],
   "source": [
    "magic_items_filtered = filter_rarity(magic_items)"
   ]
  },
  {
   "cell_type": "code",
   "execution_count": 12,
   "metadata": {},
   "outputs": [
    {
     "data": {
      "text/plain": [
       "Rare        114\n",
       "Uncommon     83\n",
       "Common        2\n",
       "Name: Rarity, dtype: int64"
      ]
     },
     "execution_count": 12,
     "metadata": {},
     "output_type": "execute_result"
    }
   ],
   "source": [
    "magic_items_filtered['Rarity'].value_counts()"
   ]
  },
  {
   "cell_type": "code",
   "execution_count": 13,
   "metadata": {},
   "outputs": [],
   "source": [
    "potions_filtered =  filter_rarity(potions)"
   ]
  },
  {
   "cell_type": "code",
   "execution_count": 14,
   "metadata": {},
   "outputs": [
    {
     "data": {
      "text/plain": [
       "Uncommon    10\n",
       "Rare        10\n",
       "Common       2\n",
       "Name: Rarity, dtype: int64"
      ]
     },
     "execution_count": 14,
     "metadata": {},
     "output_type": "execute_result"
    }
   ],
   "source": [
    "potions_filtered['Rarity'].value_counts()"
   ]
  },
  {
   "cell_type": "markdown",
   "metadata": {},
   "source": [
    "Nenhum outro Dataset tem a coluna 'Rarity'"
   ]
  },
  {
   "cell_type": "markdown",
   "metadata": {},
   "source": [
    "### **Criar tabela Produtos**"
   ]
  },
  {
   "cell_type": "markdown",
   "metadata": {},
   "source": [
    "Primeiramente devo mudar as colunas 'type' para 'cetegory', depois criar uma nova coluna 'type' com o tipo de item de cada dataset."
   ]
  },
  {
   "cell_type": "code",
   "execution_count": 15,
   "metadata": {},
   "outputs": [],
   "source": [
    "# função para substituir a coluna type e colocar os nomes das colunas em minúsculo\n",
    "def replace_lower_column(df):\n",
    "    df = df.columns.str.lower().str.replace('type', 'category')\n",
    "    return df"
   ]
  },
  {
   "cell_type": "code",
   "execution_count": 16,
   "metadata": {},
   "outputs": [],
   "source": [
    "adventure_gear.columns = replace_lower_column(adventure_gear)\n",
    "magic_items_filtered.columns = replace_lower_column(magic_items_filtered)\n",
    "armor.columns = replace_lower_column(armor)\n",
    "weapons.columns = replace_lower_column(weapons)\n",
    "potions_filtered.columns =  replace_lower_column(potions_filtered)\n",
    "poisons.columns = replace_lower_column(poisons)"
   ]
  },
  {
   "cell_type": "markdown",
   "metadata": {},
   "source": [
    "**Criando as novas colunas 'type':**"
   ]
  },
  {
   "cell_type": "code",
   "execution_count": 17,
   "metadata": {},
   "outputs": [],
   "source": [
    "adventure_gear['type'] = 'adventure_gear'\n",
    "magic_items_filtered['type'] = 'magic_item'\n",
    "weapons['type'] = 'weapon'\n",
    "potions_filtered['type'] = 'potion'\n",
    "poisons['type'] = 'poison'\n",
    "armor['type'] = 'armor'"
   ]
  },
  {
   "cell_type": "code",
   "execution_count": 18,
   "metadata": {},
   "outputs": [
    {
     "data": {
      "text/html": [
       "<div>\n",
       "<style scoped>\n",
       "    .dataframe tbody tr th:only-of-type {\n",
       "        vertical-align: middle;\n",
       "    }\n",
       "\n",
       "    .dataframe tbody tr th {\n",
       "        vertical-align: top;\n",
       "    }\n",
       "\n",
       "    .dataframe thead th {\n",
       "        text-align: right;\n",
       "    }\n",
       "</style>\n",
       "<table border=\"1\" class=\"dataframe\">\n",
       "  <thead>\n",
       "    <tr style=\"text-align: right;\">\n",
       "      <th></th>\n",
       "      <th>item_id</th>\n",
       "      <th>name</th>\n",
       "      <th>price</th>\n",
       "      <th>rarity</th>\n",
       "      <th>category</th>\n",
       "      <th>type</th>\n",
       "    </tr>\n",
       "  </thead>\n",
       "  <tbody>\n",
       "    <tr>\n",
       "      <th>0</th>\n",
       "      <td>001-ACo</td>\n",
       "      <td>Ammunition +1 (Per)</td>\n",
       "      <td>15 gp</td>\n",
       "      <td>Uncommon</td>\n",
       "      <td>Consumable Items</td>\n",
       "      <td>magic_item</td>\n",
       "    </tr>\n",
       "    <tr>\n",
       "      <th>1</th>\n",
       "      <td>002-ACo</td>\n",
       "      <td>Ammunition +2 (Per)</td>\n",
       "      <td>50 gp</td>\n",
       "      <td>Rare</td>\n",
       "      <td>Consumable Items</td>\n",
       "      <td>magic_item</td>\n",
       "    </tr>\n",
       "    <tr>\n",
       "      <th>4</th>\n",
       "      <td>005-BCo</td>\n",
       "      <td>Bead of Force</td>\n",
       "      <td>1,000 gp</td>\n",
       "      <td>Rare</td>\n",
       "      <td>Consumable Items</td>\n",
       "      <td>magic_item</td>\n",
       "    </tr>\n",
       "    <tr>\n",
       "      <th>5</th>\n",
       "      <td>006-CCo</td>\n",
       "      <td>Chime of Opening</td>\n",
       "      <td>400 gp</td>\n",
       "      <td>Rare</td>\n",
       "      <td>Consumable Items</td>\n",
       "      <td>magic_item</td>\n",
       "    </tr>\n",
       "    <tr>\n",
       "      <th>6</th>\n",
       "      <td>007-DCo</td>\n",
       "      <td>Deck of Illusions</td>\n",
       "      <td>900 gp</td>\n",
       "      <td>Uncommon</td>\n",
       "      <td>Consumable Items</td>\n",
       "      <td>magic_item</td>\n",
       "    </tr>\n",
       "    <tr>\n",
       "      <th>...</th>\n",
       "      <td>...</td>\n",
       "      <td>...</td>\n",
       "      <td>...</td>\n",
       "      <td>...</td>\n",
       "      <td>...</td>\n",
       "      <td>...</td>\n",
       "    </tr>\n",
       "    <tr>\n",
       "      <th>291</th>\n",
       "      <td>292-ICo</td>\n",
       "      <td>Instrument of the Bards - Cli Lyre</td>\n",
       "      <td>2,500 gp</td>\n",
       "      <td>Rare</td>\n",
       "      <td>Combat Items</td>\n",
       "      <td>magic_item</td>\n",
       "    </tr>\n",
       "    <tr>\n",
       "      <th>292</th>\n",
       "      <td>293-ICo</td>\n",
       "      <td>Instrument of the Bards - Fochulan Bandlore</td>\n",
       "      <td>1,500 gp</td>\n",
       "      <td>Uncommon</td>\n",
       "      <td>Combat Items</td>\n",
       "      <td>magic_item</td>\n",
       "    </tr>\n",
       "    <tr>\n",
       "      <th>293</th>\n",
       "      <td>294-ICo</td>\n",
       "      <td>Instrument of the Bards - Mac-Fuirmidh Cittern</td>\n",
       "      <td>2,000 gp</td>\n",
       "      <td>Uncommon</td>\n",
       "      <td>Combat Items</td>\n",
       "      <td>magic_item</td>\n",
       "    </tr>\n",
       "    <tr>\n",
       "      <th>294</th>\n",
       "      <td>295-ICo</td>\n",
       "      <td>Instrument of the Bards - Doss Lute</td>\n",
       "      <td>1,500 gp</td>\n",
       "      <td>Uncommon</td>\n",
       "      <td>Combat Items</td>\n",
       "      <td>magic_item</td>\n",
       "    </tr>\n",
       "    <tr>\n",
       "      <th>295</th>\n",
       "      <td>296-ICo</td>\n",
       "      <td>Instrument of the Bards - Canaith Mandolin</td>\n",
       "      <td>2,500 gp</td>\n",
       "      <td>Rare</td>\n",
       "      <td>Combat Items</td>\n",
       "      <td>magic_item</td>\n",
       "    </tr>\n",
       "  </tbody>\n",
       "</table>\n",
       "<p>199 rows × 6 columns</p>\n",
       "</div>"
      ],
      "text/plain": [
       "     item_id                                            name     price  \\\n",
       "0    001-ACo                             Ammunition +1 (Per)     15 gp   \n",
       "1    002-ACo                             Ammunition +2 (Per)     50 gp   \n",
       "4    005-BCo                                   Bead of Force  1,000 gp   \n",
       "5    006-CCo                                Chime of Opening    400 gp   \n",
       "6    007-DCo                               Deck of Illusions    900 gp   \n",
       "..       ...                                             ...       ...   \n",
       "291  292-ICo              Instrument of the Bards - Cli Lyre  2,500 gp   \n",
       "292  293-ICo     Instrument of the Bards - Fochulan Bandlore  1,500 gp   \n",
       "293  294-ICo  Instrument of the Bards - Mac-Fuirmidh Cittern  2,000 gp   \n",
       "294  295-ICo             Instrument of the Bards - Doss Lute  1,500 gp   \n",
       "295  296-ICo      Instrument of the Bards - Canaith Mandolin  2,500 gp   \n",
       "\n",
       "       rarity          category        type  \n",
       "0    Uncommon  Consumable Items  magic_item  \n",
       "1        Rare  Consumable Items  magic_item  \n",
       "4        Rare  Consumable Items  magic_item  \n",
       "5        Rare  Consumable Items  magic_item  \n",
       "6    Uncommon  Consumable Items  magic_item  \n",
       "..        ...               ...         ...  \n",
       "291      Rare      Combat Items  magic_item  \n",
       "292  Uncommon      Combat Items  magic_item  \n",
       "293  Uncommon      Combat Items  magic_item  \n",
       "294  Uncommon      Combat Items  magic_item  \n",
       "295      Rare      Combat Items  magic_item  \n",
       "\n",
       "[199 rows x 6 columns]"
      ]
     },
     "execution_count": 18,
     "metadata": {},
     "output_type": "execute_result"
    }
   ],
   "source": [
    "magic_items_filtered"
   ]
  },
  {
   "cell_type": "markdown",
   "metadata": {},
   "source": [
    "**Criando a tabela Produtos:**\n",
    "\n",
    "| id | nome | preço | tipo |\n"
   ]
  },
  {
   "cell_type": "code",
   "execution_count": 19,
   "metadata": {},
   "outputs": [],
   "source": [
    "wanted_cols = ['item_id', 'name', 'price', 'type']"
   ]
  },
  {
   "cell_type": "code",
   "execution_count": 20,
   "metadata": {},
   "outputs": [],
   "source": [
    "product = magic_items_filtered[wanted_cols].copy()"
   ]
  },
  {
   "cell_type": "code",
   "execution_count": 21,
   "metadata": {},
   "outputs": [],
   "source": [
    "product = pd.concat([product,\n",
    "                     adventure_gear[wanted_cols],\n",
    "                     weapons[wanted_cols],\n",
    "                     armor[wanted_cols],\n",
    "                     potions_filtered[wanted_cols],\n",
    "                     poisons[wanted_cols]],\n",
    "                     ignore_index=True)"
   ]
  },
  {
   "cell_type": "code",
   "execution_count": 22,
   "metadata": {},
   "outputs": [
    {
     "data": {
      "text/plain": [
       "magic_item        199\n",
       "adventure_gear    109\n",
       "weapon             37\n",
       "potion             22\n",
       "poison             16\n",
       "armor              13\n",
       "Name: type, dtype: int64"
      ]
     },
     "execution_count": 22,
     "metadata": {},
     "output_type": "execute_result"
    }
   ],
   "source": [
    "product['type'].value_counts()"
   ]
  },
  {
   "cell_type": "code",
   "execution_count": 23,
   "metadata": {},
   "outputs": [
    {
     "data": {
      "text/html": [
       "<div>\n",
       "<style scoped>\n",
       "    .dataframe tbody tr th:only-of-type {\n",
       "        vertical-align: middle;\n",
       "    }\n",
       "\n",
       "    .dataframe tbody tr th {\n",
       "        vertical-align: top;\n",
       "    }\n",
       "\n",
       "    .dataframe thead th {\n",
       "        text-align: right;\n",
       "    }\n",
       "</style>\n",
       "<table border=\"1\" class=\"dataframe\">\n",
       "  <thead>\n",
       "    <tr style=\"text-align: right;\">\n",
       "      <th></th>\n",
       "      <th>item_id</th>\n",
       "      <th>name</th>\n",
       "      <th>price</th>\n",
       "      <th>type</th>\n",
       "    </tr>\n",
       "  </thead>\n",
       "  <tbody>\n",
       "    <tr>\n",
       "      <th>0</th>\n",
       "      <td>001-ACo</td>\n",
       "      <td>Ammunition +1 (Per)</td>\n",
       "      <td>15 gp</td>\n",
       "      <td>magic_item</td>\n",
       "    </tr>\n",
       "    <tr>\n",
       "      <th>1</th>\n",
       "      <td>002-ACo</td>\n",
       "      <td>Ammunition +2 (Per)</td>\n",
       "      <td>50 gp</td>\n",
       "      <td>magic_item</td>\n",
       "    </tr>\n",
       "    <tr>\n",
       "      <th>2</th>\n",
       "      <td>005-BCo</td>\n",
       "      <td>Bead of Force</td>\n",
       "      <td>1,000 gp</td>\n",
       "      <td>magic_item</td>\n",
       "    </tr>\n",
       "    <tr>\n",
       "      <th>3</th>\n",
       "      <td>006-CCo</td>\n",
       "      <td>Chime of Opening</td>\n",
       "      <td>400 gp</td>\n",
       "      <td>magic_item</td>\n",
       "    </tr>\n",
       "    <tr>\n",
       "      <th>4</th>\n",
       "      <td>007-DCo</td>\n",
       "      <td>Deck of Illusions</td>\n",
       "      <td>900 gp</td>\n",
       "      <td>magic_item</td>\n",
       "    </tr>\n",
       "  </tbody>\n",
       "</table>\n",
       "</div>"
      ],
      "text/plain": [
       "   item_id                 name     price        type\n",
       "0  001-ACo  Ammunition +1 (Per)     15 gp  magic_item\n",
       "1  002-ACo  Ammunition +2 (Per)     50 gp  magic_item\n",
       "2  005-BCo        Bead of Force  1,000 gp  magic_item\n",
       "3  006-CCo     Chime of Opening    400 gp  magic_item\n",
       "4  007-DCo    Deck of Illusions    900 gp  magic_item"
      ]
     },
     "execution_count": 23,
     "metadata": {},
     "output_type": "execute_result"
    }
   ],
   "source": [
    "product.head()"
   ]
  },
  {
   "cell_type": "code",
   "execution_count": 39,
   "metadata": {},
   "outputs": [
    {
     "data": {
      "text/html": [
       "<div>\n",
       "<style scoped>\n",
       "    .dataframe tbody tr th:only-of-type {\n",
       "        vertical-align: middle;\n",
       "    }\n",
       "\n",
       "    .dataframe tbody tr th {\n",
       "        vertical-align: top;\n",
       "    }\n",
       "\n",
       "    .dataframe thead th {\n",
       "        text-align: right;\n",
       "    }\n",
       "</style>\n",
       "<table border=\"1\" class=\"dataframe\">\n",
       "  <thead>\n",
       "    <tr style=\"text-align: right;\">\n",
       "      <th></th>\n",
       "      <th>item_id</th>\n",
       "      <th>name</th>\n",
       "      <th>price</th>\n",
       "      <th>rarity</th>\n",
       "      <th>category</th>\n",
       "      <th>type</th>\n",
       "    </tr>\n",
       "  </thead>\n",
       "  <tbody>\n",
       "    <tr>\n",
       "      <th>27</th>\n",
       "      <td>028-NCo</td>\n",
       "      <td>Necklace of Fireballs (6 beads)</td>\n",
       "      <td>8,000 gp</td>\n",
       "      <td>Rare</td>\n",
       "      <td>Consumable Items</td>\n",
       "      <td>magic_item</td>\n",
       "    </tr>\n",
       "  </tbody>\n",
       "</table>\n",
       "</div>"
      ],
      "text/plain": [
       "    item_id                             name     price rarity  \\\n",
       "27  028-NCo  Necklace of Fireballs (6 beads)  8,000 gp   Rare   \n",
       "\n",
       "            category        type  \n",
       "27  Consumable Items  magic_item  "
      ]
     },
     "execution_count": 39,
     "metadata": {},
     "output_type": "execute_result"
    }
   ],
   "source": [
    "# testando o relacionamento das tabelas\n",
    "MI_itemID =  random.choices(product['item_id'].loc[product['type'] == 'magic_item'])\n",
    "magic_items_filtered.query('item_id == @MI_itemID')"
   ]
  },
  {
   "cell_type": "markdown",
   "metadata": {},
   "source": [
    "O relacionamento está funcionando como o desejado."
   ]
  },
  {
   "cell_type": "markdown",
   "metadata": {},
   "source": [
    "## **Criar a Tabela Cliente**"
   ]
  },
  {
   "cell_type": "markdown",
   "metadata": {},
   "source": [
    "**Atributos do cliente:**\n",
    "\n",
    "\n",
    "* id\n",
    "* nome\n",
    "* sexo\n",
    "* idade\n",
    "* raça\n",
    "* classe\n",
    "* endereço (cidade) (talvez)\n",
    "* contato (talvez)"
   ]
  },
  {
   "cell_type": "code",
   "execution_count": 25,
   "metadata": {},
   "outputs": [
    {
     "data": {
      "text/plain": [
       "45"
      ]
     },
     "execution_count": 25,
     "metadata": {},
     "output_type": "execute_result"
    }
   ],
   "source": [
    "# checando duplicatas\n",
    "names.duplicated().sum()"
   ]
  },
  {
   "cell_type": "code",
   "execution_count": 26,
   "metadata": {},
   "outputs": [],
   "source": [
    "names.drop_duplicates(inplace=True)"
   ]
  },
  {
   "cell_type": "code",
   "execution_count": 66,
   "metadata": {},
   "outputs": [
    {
     "data": {
      "text/plain": [
       "(365, 2)"
      ]
     },
     "execution_count": 66,
     "metadata": {},
     "output_type": "execute_result"
    }
   ],
   "source": [
    "names.shape"
   ]
  },
  {
   "cell_type": "markdown",
   "metadata": {},
   "source": [
    "referência = https://bg3.wiki/wiki/Races"
   ]
  },
  {
   "cell_type": "code",
   "execution_count": 40,
   "metadata": {},
   "outputs": [
    {
     "data": {
      "text/html": [
       "<div>\n",
       "<style scoped>\n",
       "    .dataframe tbody tr th:only-of-type {\n",
       "        vertical-align: middle;\n",
       "    }\n",
       "\n",
       "    .dataframe tbody tr th {\n",
       "        vertical-align: top;\n",
       "    }\n",
       "\n",
       "    .dataframe thead th {\n",
       "        text-align: right;\n",
       "    }\n",
       "</style>\n",
       "<table border=\"1\" class=\"dataframe\">\n",
       "  <thead>\n",
       "    <tr style=\"text-align: right;\">\n",
       "      <th></th>\n",
       "      <th>race</th>\n",
       "      <th>base_age</th>\n",
       "      <th>max_age</th>\n",
       "      <th>maximum_age_range</th>\n",
       "    </tr>\n",
       "  </thead>\n",
       "  <tbody>\n",
       "    <tr>\n",
       "      <th>0</th>\n",
       "      <td>Dragonborn</td>\n",
       "      <td>15</td>\n",
       "      <td>80</td>\n",
       "      <td>80 + 1d20</td>\n",
       "    </tr>\n",
       "    <tr>\n",
       "      <th>1</th>\n",
       "      <td>Drow</td>\n",
       "      <td>80</td>\n",
       "      <td>225</td>\n",
       "      <td>225 + 3d100</td>\n",
       "    </tr>\n",
       "    <tr>\n",
       "      <th>2</th>\n",
       "      <td>Dwarf</td>\n",
       "      <td>50</td>\n",
       "      <td>350</td>\n",
       "      <td>300 + 2d100</td>\n",
       "    </tr>\n",
       "    <tr>\n",
       "      <th>3</th>\n",
       "      <td>Elf</td>\n",
       "      <td>90</td>\n",
       "      <td>750</td>\n",
       "      <td>425 + 5d100</td>\n",
       "    </tr>\n",
       "    <tr>\n",
       "      <th>4</th>\n",
       "      <td>Githyanki</td>\n",
       "      <td>30</td>\n",
       "      <td>250</td>\n",
       "      <td>250 + 1d100</td>\n",
       "    </tr>\n",
       "    <tr>\n",
       "      <th>5</th>\n",
       "      <td>Gnome</td>\n",
       "      <td>60</td>\n",
       "      <td>200</td>\n",
       "      <td>200 + 3d100</td>\n",
       "    </tr>\n",
       "    <tr>\n",
       "      <th>6</th>\n",
       "      <td>Half-Elf</td>\n",
       "      <td>15</td>\n",
       "      <td>125</td>\n",
       "      <td>125 + 3d20</td>\n",
       "    </tr>\n",
       "    <tr>\n",
       "      <th>7</th>\n",
       "      <td>Halfling</td>\n",
       "      <td>20</td>\n",
       "      <td>100</td>\n",
       "      <td>100 + 1d100</td>\n",
       "    </tr>\n",
       "    <tr>\n",
       "      <th>8</th>\n",
       "      <td>Half-Orc</td>\n",
       "      <td>12</td>\n",
       "      <td>60</td>\n",
       "      <td>90 + 2d20</td>\n",
       "    </tr>\n",
       "    <tr>\n",
       "      <th>9</th>\n",
       "      <td>Human</td>\n",
       "      <td>15</td>\n",
       "      <td>90</td>\n",
       "      <td>90 + 2d20</td>\n",
       "    </tr>\n",
       "    <tr>\n",
       "      <th>10</th>\n",
       "      <td>Tiefling</td>\n",
       "      <td>17</td>\n",
       "      <td>100</td>\n",
       "      <td>100 + 1d100</td>\n",
       "    </tr>\n",
       "  </tbody>\n",
       "</table>\n",
       "</div>"
      ],
      "text/plain": [
       "           race  base_age  max_age maximum_age_range\n",
       "0   Dragonborn         15       80         80 + 1d20\n",
       "1          Drow        80      225       225 + 3d100\n",
       "2         Dwarf        50      350       300 + 2d100\n",
       "3           Elf        90      750       425 + 5d100\n",
       "4     Githyanki        30      250       250 + 1d100\n",
       "5         Gnome        60      200       200 + 3d100\n",
       "6      Half-Elf        15      125        125 + 3d20\n",
       "7      Halfling        20      100       100 + 1d100\n",
       "8      Half-Orc        12       60         90 + 2d20\n",
       "9         Human        15       90         90 + 2d20\n",
       "10     Tiefling        17      100       100 + 1d100"
      ]
     },
     "execution_count": 40,
     "metadata": {},
     "output_type": "execute_result"
    }
   ],
   "source": [
    "races = pd.read_csv('data/races.csv', sep=';')\n",
    "races"
   ]
  },
  {
   "cell_type": "markdown",
   "metadata": {},
   "source": [
    "referência: https://www.dndbeyond.com/sources/basic-rules/classes#ClassesSummary"
   ]
  },
  {
   "cell_type": "code",
   "execution_count": 43,
   "metadata": {},
   "outputs": [
    {
     "data": {
      "text/html": [
       "<div>\n",
       "<style scoped>\n",
       "    .dataframe tbody tr th:only-of-type {\n",
       "        vertical-align: middle;\n",
       "    }\n",
       "\n",
       "    .dataframe tbody tr th {\n",
       "        vertical-align: top;\n",
       "    }\n",
       "\n",
       "    .dataframe thead th {\n",
       "        text-align: right;\n",
       "    }\n",
       "</style>\n",
       "<table border=\"1\" class=\"dataframe\">\n",
       "  <thead>\n",
       "    <tr style=\"text-align: right;\">\n",
       "      <th></th>\n",
       "      <th>Class</th>\n",
       "      <th>Armor</th>\n",
       "      <th>Weapon</th>\n",
       "    </tr>\n",
       "  </thead>\n",
       "  <tbody>\n",
       "    <tr>\n",
       "      <th>0</th>\n",
       "      <td>Barbarian</td>\n",
       "      <td>Light armor, medium armor, shields</td>\n",
       "      <td>Simple weapons, martial weapons</td>\n",
       "    </tr>\n",
       "    <tr>\n",
       "      <th>1</th>\n",
       "      <td>Bard</td>\n",
       "      <td>Light armor</td>\n",
       "      <td>simple weapons, hand crossbows, longswords, ra...</td>\n",
       "    </tr>\n",
       "    <tr>\n",
       "      <th>2</th>\n",
       "      <td>Cleric</td>\n",
       "      <td>Light armor, medium armor, shields</td>\n",
       "      <td>Simple weapons</td>\n",
       "    </tr>\n",
       "    <tr>\n",
       "      <th>3</th>\n",
       "      <td>Druid</td>\n",
       "      <td>Light armor, medium armor, shields</td>\n",
       "      <td>Clubs, daggers, darts, javelins, maces, quarte...</td>\n",
       "    </tr>\n",
       "    <tr>\n",
       "      <th>4</th>\n",
       "      <td>Fighter</td>\n",
       "      <td>Light armor, medium armor, heavy armor, shields</td>\n",
       "      <td>Simple weapons, martial weapons</td>\n",
       "    </tr>\n",
       "    <tr>\n",
       "      <th>5</th>\n",
       "      <td>Monk</td>\n",
       "      <td>None</td>\n",
       "      <td>Simple weapons, shortswords</td>\n",
       "    </tr>\n",
       "    <tr>\n",
       "      <th>6</th>\n",
       "      <td>Paladin</td>\n",
       "      <td>Light armor, medium armor, heavy armor, shields</td>\n",
       "      <td>Simple weapons, martial weapons</td>\n",
       "    </tr>\n",
       "    <tr>\n",
       "      <th>7</th>\n",
       "      <td>Ranger</td>\n",
       "      <td>Light armor, medium armor, shields</td>\n",
       "      <td>Simple weapons, martial weapons</td>\n",
       "    </tr>\n",
       "    <tr>\n",
       "      <th>8</th>\n",
       "      <td>Rogue</td>\n",
       "      <td>Light armor</td>\n",
       "      <td>Simple weapons, hand crossbows, longswords, ra...</td>\n",
       "    </tr>\n",
       "    <tr>\n",
       "      <th>9</th>\n",
       "      <td>Sorcerer</td>\n",
       "      <td>None</td>\n",
       "      <td>Daggers, darts, slings, quarterstaffs, light c...</td>\n",
       "    </tr>\n",
       "    <tr>\n",
       "      <th>10</th>\n",
       "      <td>Warlock</td>\n",
       "      <td>Light armor</td>\n",
       "      <td>simple weapons</td>\n",
       "    </tr>\n",
       "    <tr>\n",
       "      <th>11</th>\n",
       "      <td>Wizard</td>\n",
       "      <td>None</td>\n",
       "      <td>Daggers, darts, slings, quarterstaffs, light c...</td>\n",
       "    </tr>\n",
       "  </tbody>\n",
       "</table>\n",
       "</div>"
      ],
      "text/plain": [
       "        Class                                             Armor  \\\n",
       "0   Barbarian                Light armor, medium armor, shields   \n",
       "1        Bard                                       Light armor   \n",
       "2      Cleric                Light armor, medium armor, shields   \n",
       "3       Druid               Light armor, medium armor, shields    \n",
       "4     Fighter  Light armor, medium armor, heavy armor, shields    \n",
       "5        Monk                                              None   \n",
       "6     Paladin  Light armor, medium armor, heavy armor, shields    \n",
       "7      Ranger                Light armor, medium armor, shields   \n",
       "8       Rogue                                       Light armor   \n",
       "9    Sorcerer                                              None   \n",
       "10    Warlock                                       Light armor   \n",
       "11     Wizard                                              None   \n",
       "\n",
       "                                               Weapon  \n",
       "0                     Simple weapons, martial weapons  \n",
       "1   simple weapons, hand crossbows, longswords, ra...  \n",
       "2                                      Simple weapons  \n",
       "3   Clubs, daggers, darts, javelins, maces, quarte...  \n",
       "4                     Simple weapons, martial weapons  \n",
       "5                         Simple weapons, shortswords  \n",
       "6                     Simple weapons, martial weapons  \n",
       "7                     Simple weapons, martial weapons  \n",
       "8   Simple weapons, hand crossbows, longswords, ra...  \n",
       "9   Daggers, darts, slings, quarterstaffs, light c...  \n",
       "10                                     simple weapons  \n",
       "11  Daggers, darts, slings, quarterstaffs, light c...  "
      ]
     },
     "execution_count": 43,
     "metadata": {},
     "output_type": "execute_result"
    }
   ],
   "source": [
    "classes = pd.read_csv('data\\classes.csv', sep=';')\n",
    "classes"
   ]
  },
  {
   "cell_type": "markdown",
   "metadata": {},
   "source": [
    "A tabela de cliente deve ter a seguinte estrutura:"
   ]
  },
  {
   "cell_type": "markdown",
   "metadata": {},
   "source": [
    "| customer_id| name    | sex      | race     | age     | class   |\n",
    "| -------- | ------- | -------- | ------- | -------- | ------- |\n",
    "| -------- |-------- | -------- | ------- | -------- | ------- |\n",
    "| -------- | --------| -------- | ------- | -------- | ------- |\n",
    "| -------- | --------| -------- | ------- | -------- | ------- |"
   ]
  },
  {
   "cell_type": "code",
   "execution_count": 44,
   "metadata": {},
   "outputs": [],
   "source": [
    "import time\n",
    "import string\n",
    "\n",
    "# criando função para gerar IDs\n",
    "def generate_custom_id():\n",
    "    \"\"\"Function to generate random IDs\"\"\"\n",
    "    timestamp = str(int(time.time()))\n",
    "    random_chars = ''.join(random.choices(string.ascii_uppercase + string.digits, k=6))\n",
    "    return f\"{timestamp}-{random_chars}\"   # return new unique ID"
   ]
  },
  {
   "cell_type": "code",
   "execution_count": 48,
   "metadata": {},
   "outputs": [
    {
     "name": "stdout",
     "output_type": "stream",
     "text": [
      "1701721688-DD4V30\n"
     ]
    }
   ],
   "source": [
    "# random ID\n",
    "custom_id = generate_custom_id()\n",
    "print(custom_id)"
   ]
  },
  {
   "cell_type": "code",
   "execution_count": 235,
   "metadata": {},
   "outputs": [
    {
     "data": {
      "text/html": [
       "<div>\n",
       "<style scoped>\n",
       "    .dataframe tbody tr th:only-of-type {\n",
       "        vertical-align: middle;\n",
       "    }\n",
       "\n",
       "    .dataframe tbody tr th {\n",
       "        vertical-align: top;\n",
       "    }\n",
       "\n",
       "    .dataframe thead th {\n",
       "        text-align: right;\n",
       "    }\n",
       "</style>\n",
       "<table border=\"1\" class=\"dataframe\">\n",
       "  <thead>\n",
       "    <tr style=\"text-align: right;\">\n",
       "      <th></th>\n",
       "      <th>customer_id</th>\n",
       "    </tr>\n",
       "  </thead>\n",
       "  <tbody>\n",
       "    <tr>\n",
       "      <th>0</th>\n",
       "      <td>1701729021-NW6L4M</td>\n",
       "    </tr>\n",
       "    <tr>\n",
       "      <th>1</th>\n",
       "      <td>1701729021-1TRPUY</td>\n",
       "    </tr>\n",
       "    <tr>\n",
       "      <th>2</th>\n",
       "      <td>1701729021-D6I5HO</td>\n",
       "    </tr>\n",
       "    <tr>\n",
       "      <th>3</th>\n",
       "      <td>1701729021-9CY9PE</td>\n",
       "    </tr>\n",
       "    <tr>\n",
       "      <th>4</th>\n",
       "      <td>1701729021-0HDJ7O</td>\n",
       "    </tr>\n",
       "    <tr>\n",
       "      <th>...</th>\n",
       "      <td>...</td>\n",
       "    </tr>\n",
       "    <tr>\n",
       "      <th>360</th>\n",
       "      <td>1701729021-JJ63XV</td>\n",
       "    </tr>\n",
       "    <tr>\n",
       "      <th>361</th>\n",
       "      <td>1701729021-FIUD99</td>\n",
       "    </tr>\n",
       "    <tr>\n",
       "      <th>362</th>\n",
       "      <td>1701729021-XRO37U</td>\n",
       "    </tr>\n",
       "    <tr>\n",
       "      <th>363</th>\n",
       "      <td>1701729021-9SSBU7</td>\n",
       "    </tr>\n",
       "    <tr>\n",
       "      <th>364</th>\n",
       "      <td>1701729021-GE3AI6</td>\n",
       "    </tr>\n",
       "  </tbody>\n",
       "</table>\n",
       "<p>365 rows × 1 columns</p>\n",
       "</div>"
      ],
      "text/plain": [
       "           customer_id\n",
       "0    1701729021-NW6L4M\n",
       "1    1701729021-1TRPUY\n",
       "2    1701729021-D6I5HO\n",
       "3    1701729021-9CY9PE\n",
       "4    1701729021-0HDJ7O\n",
       "..                 ...\n",
       "360  1701729021-JJ63XV\n",
       "361  1701729021-FIUD99\n",
       "362  1701729021-XRO37U\n",
       "363  1701729021-9SSBU7\n",
       "364  1701729021-GE3AI6\n",
       "\n",
       "[365 rows x 1 columns]"
      ]
     },
     "execution_count": 235,
     "metadata": {},
     "output_type": "execute_result"
    }
   ],
   "source": [
    "# criando um dataframe com os randoms IDs\n",
    "customers = pd.DataFrame({\n",
    "    'customer_id': [generate_custom_id() for i in range(1, names.shape[0] + 1)]})\n",
    "customers"
   ]
  },
  {
   "cell_type": "code",
   "execution_count": 236,
   "metadata": {},
   "outputs": [
    {
     "data": {
      "text/plain": [
       "0"
      ]
     },
     "execution_count": 236,
     "metadata": {},
     "output_type": "execute_result"
    }
   ],
   "source": [
    "# checando IDs duplicados\n",
    "customers.duplicated().sum()"
   ]
  },
  {
   "cell_type": "code",
   "execution_count": 234,
   "metadata": {},
   "outputs": [
    {
     "data": {
      "text/plain": [
       "name    0\n",
       "sex     0\n",
       "dtype: int64"
      ]
     },
     "execution_count": 234,
     "metadata": {},
     "output_type": "execute_result"
    }
   ],
   "source": [
    "names.isna().sum()"
   ]
  },
  {
   "cell_type": "code",
   "execution_count": null,
   "metadata": {},
   "outputs": [],
   "source": [
    "# resetando os índices\n",
    "names.reset_index(drop=True, inplace=True)"
   ]
  },
  {
   "cell_type": "code",
   "execution_count": 242,
   "metadata": {},
   "outputs": [],
   "source": [
    "# inserindo os nomes e sexos na tabela de clientes\n",
    "customers[\"name\"] = names['name']\n",
    "customers[\"sex\"] = names['sex']"
   ]
  },
  {
   "cell_type": "code",
   "execution_count": 243,
   "metadata": {},
   "outputs": [
    {
     "data": {
      "text/html": [
       "<div>\n",
       "<style scoped>\n",
       "    .dataframe tbody tr th:only-of-type {\n",
       "        vertical-align: middle;\n",
       "    }\n",
       "\n",
       "    .dataframe tbody tr th {\n",
       "        vertical-align: top;\n",
       "    }\n",
       "\n",
       "    .dataframe thead th {\n",
       "        text-align: right;\n",
       "    }\n",
       "</style>\n",
       "<table border=\"1\" class=\"dataframe\">\n",
       "  <thead>\n",
       "    <tr style=\"text-align: right;\">\n",
       "      <th></th>\n",
       "      <th>customer_id</th>\n",
       "      <th>name</th>\n",
       "      <th>sex</th>\n",
       "    </tr>\n",
       "  </thead>\n",
       "  <tbody>\n",
       "    <tr>\n",
       "      <th>0</th>\n",
       "      <td>1701729021-NW6L4M</td>\n",
       "      <td>Veklani  Daargen</td>\n",
       "      <td>female</td>\n",
       "    </tr>\n",
       "    <tr>\n",
       "      <th>1</th>\n",
       "      <td>1701729021-1TRPUY</td>\n",
       "      <td>Kasaki  Wygarthe</td>\n",
       "      <td>female</td>\n",
       "    </tr>\n",
       "    <tr>\n",
       "      <th>2</th>\n",
       "      <td>1701729021-D6I5HO</td>\n",
       "      <td>Rosalyn  Faringray</td>\n",
       "      <td>female</td>\n",
       "    </tr>\n",
       "    <tr>\n",
       "      <th>3</th>\n",
       "      <td>1701729021-9CY9PE</td>\n",
       "      <td>Atalya  Webb</td>\n",
       "      <td>female</td>\n",
       "    </tr>\n",
       "    <tr>\n",
       "      <th>4</th>\n",
       "      <td>1701729021-0HDJ7O</td>\n",
       "      <td>Grenenzel  Lyfalia</td>\n",
       "      <td>female</td>\n",
       "    </tr>\n",
       "    <tr>\n",
       "      <th>...</th>\n",
       "      <td>...</td>\n",
       "      <td>...</td>\n",
       "      <td>...</td>\n",
       "    </tr>\n",
       "    <tr>\n",
       "      <th>360</th>\n",
       "      <td>1701729021-JJ63XV</td>\n",
       "      <td>Brey  Danamark</td>\n",
       "      <td>female</td>\n",
       "    </tr>\n",
       "    <tr>\n",
       "      <th>361</th>\n",
       "      <td>1701729021-FIUD99</td>\n",
       "      <td>Remora  Lamoth</td>\n",
       "      <td>female</td>\n",
       "    </tr>\n",
       "    <tr>\n",
       "      <th>362</th>\n",
       "      <td>1701729021-XRO37U</td>\n",
       "      <td>Ronefel  Irva</td>\n",
       "      <td>female</td>\n",
       "    </tr>\n",
       "    <tr>\n",
       "      <th>363</th>\n",
       "      <td>1701729021-9SSBU7</td>\n",
       "      <td>Sachil  Redraven</td>\n",
       "      <td>female</td>\n",
       "    </tr>\n",
       "    <tr>\n",
       "      <th>364</th>\n",
       "      <td>1701729021-GE3AI6</td>\n",
       "      <td>Pharana  Skandalor</td>\n",
       "      <td>female</td>\n",
       "    </tr>\n",
       "  </tbody>\n",
       "</table>\n",
       "<p>365 rows × 3 columns</p>\n",
       "</div>"
      ],
      "text/plain": [
       "           customer_id                 name     sex\n",
       "0    1701729021-NW6L4M     Veklani  Daargen  female\n",
       "1    1701729021-1TRPUY     Kasaki  Wygarthe  female\n",
       "2    1701729021-D6I5HO   Rosalyn  Faringray  female\n",
       "3    1701729021-9CY9PE         Atalya  Webb  female\n",
       "4    1701729021-0HDJ7O   Grenenzel  Lyfalia  female\n",
       "..                 ...                  ...     ...\n",
       "360  1701729021-JJ63XV       Brey  Danamark  female\n",
       "361  1701729021-FIUD99       Remora  Lamoth  female\n",
       "362  1701729021-XRO37U        Ronefel  Irva  female\n",
       "363  1701729021-9SSBU7     Sachil  Redraven  female\n",
       "364  1701729021-GE3AI6   Pharana  Skandalor  female\n",
       "\n",
       "[365 rows x 3 columns]"
      ]
     },
     "execution_count": 243,
     "metadata": {},
     "output_type": "execute_result"
    }
   ],
   "source": [
    "customers"
   ]
  },
  {
   "cell_type": "code",
   "execution_count": 245,
   "metadata": {},
   "outputs": [
    {
     "data": {
      "text/plain": [
       "array(['Dragonborn', 'Drow', 'Dwarf', 'Elf', 'Githyanki', 'Gnome',\n",
       "       'Half-Elf', 'Halfling', 'Half-Orc', 'Human', 'Tiefling'],\n",
       "      dtype=object)"
      ]
     },
     "execution_count": 245,
     "metadata": {},
     "output_type": "execute_result"
    }
   ],
   "source": [
    "races['race'].unique()"
   ]
  },
  {
   "cell_type": "code",
   "execution_count": 246,
   "metadata": {},
   "outputs": [],
   "source": [
    "# limpando a coluna 'race'\n",
    "races['race'] = races['race'].str.replace('\\xa0', '').str.strip()"
   ]
  },
  {
   "cell_type": "code",
   "execution_count": 247,
   "metadata": {},
   "outputs": [],
   "source": [
    "customers['race'] = [random.choice(list(races['race'])) for _ in range(names.shape[0])]"
   ]
  },
  {
   "cell_type": "markdown",
   "metadata": {},
   "source": [
    "Agora vem uma etapa não tão simples, a idade, cada raça tem um período de vida diferente e pretendo conservar essas características também."
   ]
  },
  {
   "cell_type": "code",
   "execution_count": 248,
   "metadata": {},
   "outputs": [],
   "source": [
    "# criando a função que irá gerar a idade aleatória baseada da raça que foi dada\n",
    "def random_age(X):\n",
    "    \"\"\"This function returns a random age based on the race\"\"\"\n",
    "    race_infos = races[races['race'] == X].reset_index(drop=True)\n",
    "    return random.randint(race_infos['base_age'][0], race_infos['max_age'][0])"
   ]
  },
  {
   "cell_type": "code",
   "execution_count": 249,
   "metadata": {},
   "outputs": [],
   "source": [
    "customers['age'] = customers['race'].apply(random_age)"
   ]
  },
  {
   "cell_type": "markdown",
   "metadata": {},
   "source": [
    "Agora resta apenas escolher as classes para cada cliente."
   ]
  },
  {
   "cell_type": "code",
   "execution_count": 250,
   "metadata": {},
   "outputs": [],
   "source": [
    "customers['class'] = [random.choice(list(classes['Class'])) for _ in range(customers.shape[0])]"
   ]
  },
  {
   "cell_type": "markdown",
   "metadata": {},
   "source": [
    "Conferindo a estrutura da tabela:\n",
    "\n",
    "| customer_id| name    | sex      | race     | age     | class   |\n",
    "| -------- | ------- | -------- | ------- | -------- | ------- |\n",
    "| -------- |-------- | -------- | ------- | -------- | ------- |\n",
    "| -------- | --------| -------- | ------- | -------- | ------- |\n",
    "| -------- | --------| -------- | ------- | -------- | ------- |"
   ]
  },
  {
   "cell_type": "code",
   "execution_count": 251,
   "metadata": {},
   "outputs": [
    {
     "data": {
      "text/html": [
       "<div>\n",
       "<style scoped>\n",
       "    .dataframe tbody tr th:only-of-type {\n",
       "        vertical-align: middle;\n",
       "    }\n",
       "\n",
       "    .dataframe tbody tr th {\n",
       "        vertical-align: top;\n",
       "    }\n",
       "\n",
       "    .dataframe thead th {\n",
       "        text-align: right;\n",
       "    }\n",
       "</style>\n",
       "<table border=\"1\" class=\"dataframe\">\n",
       "  <thead>\n",
       "    <tr style=\"text-align: right;\">\n",
       "      <th></th>\n",
       "      <th>customer_id</th>\n",
       "      <th>name</th>\n",
       "      <th>sex</th>\n",
       "      <th>race</th>\n",
       "      <th>age</th>\n",
       "      <th>class</th>\n",
       "    </tr>\n",
       "  </thead>\n",
       "  <tbody>\n",
       "    <tr>\n",
       "      <th>46</th>\n",
       "      <td>1701729021-N1TCJF</td>\n",
       "      <td>Praxana  Armanci</td>\n",
       "      <td>female</td>\n",
       "      <td>Elf</td>\n",
       "      <td>396</td>\n",
       "      <td>Barbarian</td>\n",
       "    </tr>\n",
       "    <tr>\n",
       "      <th>244</th>\n",
       "      <td>1701729021-OR6XN6</td>\n",
       "      <td>Ningyan  Daargen</td>\n",
       "      <td>male</td>\n",
       "      <td>Gnome</td>\n",
       "      <td>115</td>\n",
       "      <td>Barbarian</td>\n",
       "    </tr>\n",
       "    <tr>\n",
       "      <th>191</th>\n",
       "      <td>1701729021-T30GCH</td>\n",
       "      <td>Eandro  Targana</td>\n",
       "      <td>male</td>\n",
       "      <td>Tiefling</td>\n",
       "      <td>81</td>\n",
       "      <td>Cleric</td>\n",
       "    </tr>\n",
       "    <tr>\n",
       "      <th>169</th>\n",
       "      <td>1701729021-LLQLLD</td>\n",
       "      <td>Nilus  Daargen</td>\n",
       "      <td>male</td>\n",
       "      <td>Dwarf</td>\n",
       "      <td>237</td>\n",
       "      <td>Bard</td>\n",
       "    </tr>\n",
       "    <tr>\n",
       "      <th>181</th>\n",
       "      <td>1701729021-E8683P</td>\n",
       "      <td>Quentin  Ramcrown</td>\n",
       "      <td>male</td>\n",
       "      <td>Gnome</td>\n",
       "      <td>112</td>\n",
       "      <td>Paladin</td>\n",
       "    </tr>\n",
       "    <tr>\n",
       "      <th>194</th>\n",
       "      <td>1701729021-QAFQSD</td>\n",
       "      <td>Talfen  Atalya</td>\n",
       "      <td>male</td>\n",
       "      <td>Githyanki</td>\n",
       "      <td>48</td>\n",
       "      <td>Rogue</td>\n",
       "    </tr>\n",
       "    <tr>\n",
       "      <th>249</th>\n",
       "      <td>1701729021-DO1DFS</td>\n",
       "      <td>Velene  Hackshield</td>\n",
       "      <td>female</td>\n",
       "      <td>Dragonborn</td>\n",
       "      <td>43</td>\n",
       "      <td>Warlock</td>\n",
       "    </tr>\n",
       "    <tr>\n",
       "      <th>333</th>\n",
       "      <td>1701729021-2A2Q9O</td>\n",
       "      <td>Azura  Stormchapel</td>\n",
       "      <td>female</td>\n",
       "      <td>Tiefling</td>\n",
       "      <td>47</td>\n",
       "      <td>Druid</td>\n",
       "    </tr>\n",
       "    <tr>\n",
       "      <th>107</th>\n",
       "      <td>1701729021-43F1AY</td>\n",
       "      <td>Fenton  Seratolva</td>\n",
       "      <td>male</td>\n",
       "      <td>Half-Elf</td>\n",
       "      <td>33</td>\n",
       "      <td>Bard</td>\n",
       "    </tr>\n",
       "    <tr>\n",
       "      <th>5</th>\n",
       "      <td>1701729021-9X66D7</td>\n",
       "      <td>Venefiq  Welfer</td>\n",
       "      <td>female</td>\n",
       "      <td>Half-Elf</td>\n",
       "      <td>25</td>\n",
       "      <td>Cleric</td>\n",
       "    </tr>\n",
       "  </tbody>\n",
       "</table>\n",
       "</div>"
      ],
      "text/plain": [
       "           customer_id                 name     sex        race  age  \\\n",
       "46   1701729021-N1TCJF     Praxana  Armanci  female         Elf  396   \n",
       "244  1701729021-OR6XN6     Ningyan  Daargen    male       Gnome  115   \n",
       "191  1701729021-T30GCH      Eandro  Targana    male    Tiefling   81   \n",
       "169  1701729021-LLQLLD       Nilus  Daargen    male       Dwarf  237   \n",
       "181  1701729021-E8683P    Quentin  Ramcrown    male       Gnome  112   \n",
       "194  1701729021-QAFQSD       Talfen  Atalya    male   Githyanki   48   \n",
       "249  1701729021-DO1DFS   Velene  Hackshield  female  Dragonborn   43   \n",
       "333  1701729021-2A2Q9O   Azura  Stormchapel  female    Tiefling   47   \n",
       "107  1701729021-43F1AY    Fenton  Seratolva    male    Half-Elf   33   \n",
       "5    1701729021-9X66D7      Venefiq  Welfer  female    Half-Elf   25   \n",
       "\n",
       "         class  \n",
       "46   Barbarian  \n",
       "244  Barbarian  \n",
       "191     Cleric  \n",
       "169       Bard  \n",
       "181    Paladin  \n",
       "194      Rogue  \n",
       "249    Warlock  \n",
       "333      Druid  \n",
       "107       Bard  \n",
       "5       Cleric  "
      ]
     },
     "execution_count": 251,
     "metadata": {},
     "output_type": "execute_result"
    }
   ],
   "source": [
    "customers.sample(n=10)"
   ]
  },
  {
   "cell_type": "markdown",
   "metadata": {},
   "source": [
    "## **Criar a tabela de Vendas**"
   ]
  },
  {
   "cell_type": "code",
   "execution_count": null,
   "metadata": {},
   "outputs": [],
   "source": []
  }
 ],
 "metadata": {
  "kernelspec": {
   "display_name": "Python 3",
   "language": "python",
   "name": "python3"
  },
  "language_info": {
   "codemirror_mode": {
    "name": "ipython",
    "version": 3
   },
   "file_extension": ".py",
   "mimetype": "text/x-python",
   "name": "python",
   "nbconvert_exporter": "python",
   "pygments_lexer": "ipython3",
   "version": "3.11.0"
  }
 },
 "nbformat": 4,
 "nbformat_minor": 2
}
