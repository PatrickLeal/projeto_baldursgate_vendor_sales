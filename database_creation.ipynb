{
 "cells": [
  {
   "cell_type": "markdown",
   "metadata": {},
   "source": [
    "**Importing Libraries**"
   ]
  },
  {
   "cell_type": "code",
   "execution_count": 164,
   "metadata": {},
   "outputs": [],
   "source": [
    "import pandas as pd\n",
    "import numpy as np\n",
    "import random\n",
    "\n",
    "# Definindo a semente para reprodução\n",
    "np.random.seed(42)\n",
    "random.seed(42)"
   ]
  },
  {
   "cell_type": "markdown",
   "metadata": {},
   "source": [
    "**Reading Files**"
   ]
  },
  {
   "cell_type": "code",
   "execution_count": 165,
   "metadata": {},
   "outputs": [],
   "source": [
    "magic_items = pd.read_csv('data/magic_items.csv', sep=';')\n",
    "adventure_gear = pd.read_csv('data/adventuring_gear.csv', sep=';')\n",
    "armor = pd.read_csv('data/armor.csv', sep=';')\n",
    "poisons = pd.read_csv('data/poisons.csv', sep=';')\n",
    "potions = pd.read_csv('data/potions.csv', sep=';')\n",
    "weapons = pd.read_csv('data/weapons.csv', sep=';')\n",
    "names = pd.read_csv('data/names.csv', sep=';')"
   ]
  },
  {
   "cell_type": "code",
   "execution_count": 166,
   "metadata": {},
   "outputs": [
    {
     "data": {
      "text/html": [
       "<div>\n",
       "<style scoped>\n",
       "    .dataframe tbody tr th:only-of-type {\n",
       "        vertical-align: middle;\n",
       "    }\n",
       "\n",
       "    .dataframe tbody tr th {\n",
       "        vertical-align: top;\n",
       "    }\n",
       "\n",
       "    .dataframe thead th {\n",
       "        text-align: right;\n",
       "    }\n",
       "</style>\n",
       "<table border=\"1\" class=\"dataframe\">\n",
       "  <thead>\n",
       "    <tr style=\"text-align: right;\">\n",
       "      <th></th>\n",
       "      <th>item_id</th>\n",
       "      <th>Name</th>\n",
       "      <th>Price</th>\n",
       "      <th>Rarity</th>\n",
       "      <th>Category</th>\n",
       "    </tr>\n",
       "  </thead>\n",
       "  <tbody>\n",
       "    <tr>\n",
       "      <th>0</th>\n",
       "      <td>001-ACo</td>\n",
       "      <td>Ammunition +1 (Per)</td>\n",
       "      <td>15 gp</td>\n",
       "      <td>Uncommon</td>\n",
       "      <td>Consumable Items</td>\n",
       "    </tr>\n",
       "    <tr>\n",
       "      <th>1</th>\n",
       "      <td>002-ACo</td>\n",
       "      <td>Ammunition +2 (Per)</td>\n",
       "      <td>50 gp</td>\n",
       "      <td>Rare</td>\n",
       "      <td>Consumable Items</td>\n",
       "    </tr>\n",
       "    <tr>\n",
       "      <th>2</th>\n",
       "      <td>003-ACo</td>\n",
       "      <td>Ammunition +3 (Per)</td>\n",
       "      <td>250 gp</td>\n",
       "      <td>Very Rare</td>\n",
       "      <td>Consumable Items</td>\n",
       "    </tr>\n",
       "    <tr>\n",
       "      <th>3</th>\n",
       "      <td>004-ACo</td>\n",
       "      <td>Arrow of Slaying</td>\n",
       "      <td>400 gp</td>\n",
       "      <td>Very Rare</td>\n",
       "      <td>Consumable Items</td>\n",
       "    </tr>\n",
       "    <tr>\n",
       "      <th>4</th>\n",
       "      <td>005-BCo</td>\n",
       "      <td>Bead of Force</td>\n",
       "      <td>1,000 gp</td>\n",
       "      <td>Rare</td>\n",
       "      <td>Consumable Items</td>\n",
       "    </tr>\n",
       "  </tbody>\n",
       "</table>\n",
       "</div>"
      ],
      "text/plain": [
       "   item_id                 Name     Price     Rarity          Category\n",
       "0  001-ACo  Ammunition +1 (Per)     15 gp   Uncommon  Consumable Items\n",
       "1  002-ACo  Ammunition +2 (Per)     50 gp       Rare  Consumable Items\n",
       "2  003-ACo  Ammunition +3 (Per)    250 gp  Very Rare  Consumable Items\n",
       "3  004-ACo     Arrow of Slaying    400 gp  Very Rare  Consumable Items\n",
       "4  005-BCo        Bead of Force  1,000 gp       Rare  Consumable Items"
      ]
     },
     "execution_count": 166,
     "metadata": {},
     "output_type": "execute_result"
    }
   ],
   "source": [
    "magic_items.head()"
   ]
  },
  {
   "cell_type": "code",
   "execution_count": 167,
   "metadata": {},
   "outputs": [
    {
     "data": {
      "text/html": [
       "<div>\n",
       "<style scoped>\n",
       "    .dataframe tbody tr th:only-of-type {\n",
       "        vertical-align: middle;\n",
       "    }\n",
       "\n",
       "    .dataframe tbody tr th {\n",
       "        vertical-align: top;\n",
       "    }\n",
       "\n",
       "    .dataframe thead th {\n",
       "        text-align: right;\n",
       "    }\n",
       "</style>\n",
       "<table border=\"1\" class=\"dataframe\">\n",
       "  <thead>\n",
       "    <tr style=\"text-align: right;\">\n",
       "      <th></th>\n",
       "      <th>item_id</th>\n",
       "      <th>Name</th>\n",
       "      <th>Price</th>\n",
       "      <th>Weight</th>\n",
       "      <th>type</th>\n",
       "    </tr>\n",
       "  </thead>\n",
       "  <tbody>\n",
       "    <tr>\n",
       "      <th>0</th>\n",
       "      <td>01-Ars</td>\n",
       "      <td>Abacus</td>\n",
       "      <td>2 gp</td>\n",
       "      <td>2 lb.</td>\n",
       "      <td>Others</td>\n",
       "    </tr>\n",
       "    <tr>\n",
       "      <th>1</th>\n",
       "      <td>02-Ars</td>\n",
       "      <td>Acid (vial)</td>\n",
       "      <td>25 gp</td>\n",
       "      <td>1 lb.</td>\n",
       "      <td>Others</td>\n",
       "    </tr>\n",
       "    <tr>\n",
       "      <th>2</th>\n",
       "      <td>03-Ars</td>\n",
       "      <td>Alchemist's Fire (flask)</td>\n",
       "      <td>50 gp</td>\n",
       "      <td>1 lb.</td>\n",
       "      <td>Others</td>\n",
       "    </tr>\n",
       "    <tr>\n",
       "      <th>3</th>\n",
       "      <td>04-Aon</td>\n",
       "      <td>Arrows (20)</td>\n",
       "      <td>1 gp</td>\n",
       "      <td>1 lb.</td>\n",
       "      <td>Ammunition</td>\n",
       "    </tr>\n",
       "    <tr>\n",
       "      <th>4</th>\n",
       "      <td>05-Bon</td>\n",
       "      <td>Blowgun Needle (50)</td>\n",
       "      <td>1 gp</td>\n",
       "      <td>1 lb.</td>\n",
       "      <td>Ammunition</td>\n",
       "    </tr>\n",
       "  </tbody>\n",
       "</table>\n",
       "</div>"
      ],
      "text/plain": [
       "  item_id                      Name  Price Weight        type\n",
       "0  01-Ars                    Abacus   2 gp  2 lb.      Others\n",
       "1  02-Ars               Acid (vial)  25 gp  1 lb.      Others\n",
       "2  03-Ars  Alchemist's Fire (flask)  50 gp  1 lb.      Others\n",
       "3  04-Aon               Arrows (20)   1 gp  1 lb.  Ammunition\n",
       "4  05-Bon       Blowgun Needle (50)   1 gp  1 lb.  Ammunition"
      ]
     },
     "execution_count": 167,
     "metadata": {},
     "output_type": "execute_result"
    }
   ],
   "source": [
    "adventure_gear.head()"
   ]
  },
  {
   "cell_type": "code",
   "execution_count": 168,
   "metadata": {},
   "outputs": [
    {
     "data": {
      "text/html": [
       "<div>\n",
       "<style scoped>\n",
       "    .dataframe tbody tr th:only-of-type {\n",
       "        vertical-align: middle;\n",
       "    }\n",
       "\n",
       "    .dataframe tbody tr th {\n",
       "        vertical-align: top;\n",
       "    }\n",
       "\n",
       "    .dataframe thead th {\n",
       "        text-align: right;\n",
       "    }\n",
       "</style>\n",
       "<table border=\"1\" class=\"dataframe\">\n",
       "  <thead>\n",
       "    <tr style=\"text-align: right;\">\n",
       "      <th></th>\n",
       "      <th>item_id</th>\n",
       "      <th>Name</th>\n",
       "      <th>Price</th>\n",
       "      <th>Damage</th>\n",
       "      <th>Weight</th>\n",
       "      <th>Properties</th>\n",
       "      <th>type</th>\n",
       "    </tr>\n",
       "  </thead>\n",
       "  <tbody>\n",
       "    <tr>\n",
       "      <th>0</th>\n",
       "      <td>01-Cns</td>\n",
       "      <td>Club</td>\n",
       "      <td>1 sp</td>\n",
       "      <td>1d4 Bludgeon</td>\n",
       "      <td>2 lb.</td>\n",
       "      <td>Light</td>\n",
       "      <td>Simple Melee Weapons</td>\n",
       "    </tr>\n",
       "    <tr>\n",
       "      <th>1</th>\n",
       "      <td>02-Dns</td>\n",
       "      <td>Dagger</td>\n",
       "      <td>2 gp</td>\n",
       "      <td>1d4 Piercing</td>\n",
       "      <td>1 lb.</td>\n",
       "      <td>Finesse, Light, Thrown (20/60)</td>\n",
       "      <td>Simple Melee Weapons</td>\n",
       "    </tr>\n",
       "    <tr>\n",
       "      <th>2</th>\n",
       "      <td>03-Gns</td>\n",
       "      <td>Greatclub</td>\n",
       "      <td>2 sp</td>\n",
       "      <td>1d8 Bludgeon</td>\n",
       "      <td>10 lb.</td>\n",
       "      <td>Two-handed</td>\n",
       "      <td>Simple Melee Weapons</td>\n",
       "    </tr>\n",
       "    <tr>\n",
       "      <th>3</th>\n",
       "      <td>04-Hns</td>\n",
       "      <td>Handaxe</td>\n",
       "      <td>5 gp</td>\n",
       "      <td>1d6 Slashing</td>\n",
       "      <td>2 lb.</td>\n",
       "      <td>Light, Thrown (20/60)</td>\n",
       "      <td>Simple Melee Weapons</td>\n",
       "    </tr>\n",
       "    <tr>\n",
       "      <th>4</th>\n",
       "      <td>05-Jns</td>\n",
       "      <td>Javelin</td>\n",
       "      <td>5 sp</td>\n",
       "      <td>1d6 Piercing</td>\n",
       "      <td>2 lb.</td>\n",
       "      <td>Thrown (30/120)</td>\n",
       "      <td>Simple Melee Weapons</td>\n",
       "    </tr>\n",
       "  </tbody>\n",
       "</table>\n",
       "</div>"
      ],
      "text/plain": [
       "  item_id       Name Price        Damage  Weight  \\\n",
       "0  01-Cns       Club  1 sp  1d4 Bludgeon   2 lb.   \n",
       "1  02-Dns     Dagger  2 gp  1d4 Piercing   1 lb.   \n",
       "2  03-Gns  Greatclub  2 sp  1d8 Bludgeon  10 lb.   \n",
       "3  04-Hns    Handaxe  5 gp  1d6 Slashing   2 lb.   \n",
       "4  05-Jns    Javelin  5 sp  1d6 Piercing   2 lb.   \n",
       "\n",
       "                       Properties                  type  \n",
       "0                           Light  Simple Melee Weapons  \n",
       "1  Finesse, Light, Thrown (20/60)  Simple Melee Weapons  \n",
       "2                      Two-handed  Simple Melee Weapons  \n",
       "3           Light, Thrown (20/60)  Simple Melee Weapons  \n",
       "4                 Thrown (30/120)  Simple Melee Weapons  "
      ]
     },
     "execution_count": 168,
     "metadata": {},
     "output_type": "execute_result"
    }
   ],
   "source": [
    "weapons.head()"
   ]
  },
  {
   "cell_type": "code",
   "execution_count": 169,
   "metadata": {},
   "outputs": [
    {
     "data": {
      "text/html": [
       "<div>\n",
       "<style scoped>\n",
       "    .dataframe tbody tr th:only-of-type {\n",
       "        vertical-align: middle;\n",
       "    }\n",
       "\n",
       "    .dataframe tbody tr th {\n",
       "        vertical-align: top;\n",
       "    }\n",
       "\n",
       "    .dataframe thead th {\n",
       "        text-align: right;\n",
       "    }\n",
       "</style>\n",
       "<table border=\"1\" class=\"dataframe\">\n",
       "  <thead>\n",
       "    <tr style=\"text-align: right;\">\n",
       "      <th></th>\n",
       "      <th>item_id</th>\n",
       "      <th>Name</th>\n",
       "      <th>Price</th>\n",
       "      <th>AC</th>\n",
       "      <th>Weight</th>\n",
       "      <th>Requirements</th>\n",
       "      <th>Stealth</th>\n",
       "      <th>type</th>\n",
       "    </tr>\n",
       "  </thead>\n",
       "  <tbody>\n",
       "    <tr>\n",
       "      <th>0</th>\n",
       "      <td>01-Por</td>\n",
       "      <td>Padded</td>\n",
       "      <td>5 gp</td>\n",
       "      <td>11 + Dex</td>\n",
       "      <td>8 lb.</td>\n",
       "      <td>NaN</td>\n",
       "      <td>Disadvantage</td>\n",
       "      <td>Light Armor</td>\n",
       "    </tr>\n",
       "    <tr>\n",
       "      <th>1</th>\n",
       "      <td>02-Lor</td>\n",
       "      <td>Leather</td>\n",
       "      <td>10 gp</td>\n",
       "      <td>11 + Dex</td>\n",
       "      <td>10 lb.</td>\n",
       "      <td>NaN</td>\n",
       "      <td>NaN</td>\n",
       "      <td>Light Armor</td>\n",
       "    </tr>\n",
       "    <tr>\n",
       "      <th>2</th>\n",
       "      <td>03-Sor</td>\n",
       "      <td>Studded Leather</td>\n",
       "      <td>45 gp</td>\n",
       "      <td>12 + Dex</td>\n",
       "      <td>13 lb.</td>\n",
       "      <td>NaN</td>\n",
       "      <td>NaN</td>\n",
       "      <td>Light Armor</td>\n",
       "    </tr>\n",
       "    <tr>\n",
       "      <th>3</th>\n",
       "      <td>04-Hor</td>\n",
       "      <td>Hide</td>\n",
       "      <td>10 gp</td>\n",
       "      <td>12 + Dex(max2)</td>\n",
       "      <td>12 lb.</td>\n",
       "      <td>NaN</td>\n",
       "      <td>NaN</td>\n",
       "      <td>Medium Armor</td>\n",
       "    </tr>\n",
       "    <tr>\n",
       "      <th>4</th>\n",
       "      <td>05-Cor</td>\n",
       "      <td>Chain Shirt</td>\n",
       "      <td>50 gp</td>\n",
       "      <td>13 + Dex(max2)</td>\n",
       "      <td>20 lb.</td>\n",
       "      <td>NaN</td>\n",
       "      <td>NaN</td>\n",
       "      <td>Medium Armor</td>\n",
       "    </tr>\n",
       "  </tbody>\n",
       "</table>\n",
       "</div>"
      ],
      "text/plain": [
       "  item_id             Name  Price              AC  Weight Requirements  \\\n",
       "0  01-Por           Padded   5 gp        11 + Dex   8 lb.          NaN   \n",
       "1  02-Lor          Leather  10 gp        11 + Dex  10 lb.          NaN   \n",
       "2  03-Sor  Studded Leather  45 gp        12 + Dex  13 lb.          NaN   \n",
       "3  04-Hor             Hide  10 gp  12 + Dex(max2)  12 lb.          NaN   \n",
       "4  05-Cor      Chain Shirt  50 gp  13 + Dex(max2)  20 lb.          NaN   \n",
       "\n",
       "        Stealth          type  \n",
       "0  Disadvantage   Light Armor  \n",
       "1           NaN   Light Armor  \n",
       "2           NaN   Light Armor  \n",
       "3           NaN  Medium Armor  \n",
       "4           NaN  Medium Armor  "
      ]
     },
     "execution_count": 169,
     "metadata": {},
     "output_type": "execute_result"
    }
   ],
   "source": [
    "armor.head()"
   ]
  },
  {
   "cell_type": "code",
   "execution_count": 170,
   "metadata": {},
   "outputs": [
    {
     "data": {
      "text/html": [
       "<div>\n",
       "<style scoped>\n",
       "    .dataframe tbody tr th:only-of-type {\n",
       "        vertical-align: middle;\n",
       "    }\n",
       "\n",
       "    .dataframe tbody tr th {\n",
       "        vertical-align: top;\n",
       "    }\n",
       "\n",
       "    .dataframe thead th {\n",
       "        text-align: right;\n",
       "    }\n",
       "</style>\n",
       "<table border=\"1\" class=\"dataframe\">\n",
       "  <thead>\n",
       "    <tr style=\"text-align: right;\">\n",
       "      <th></th>\n",
       "      <th>item_id</th>\n",
       "      <th>Name</th>\n",
       "      <th>Price</th>\n",
       "      <th>Rarity</th>\n",
       "    </tr>\n",
       "  </thead>\n",
       "  <tbody>\n",
       "    <tr>\n",
       "      <th>0</th>\n",
       "      <td>01-Pon</td>\n",
       "      <td>Potion of Healing</td>\n",
       "      <td>50 gp</td>\n",
       "      <td>Common</td>\n",
       "    </tr>\n",
       "    <tr>\n",
       "      <th>1</th>\n",
       "      <td>02-Pon</td>\n",
       "      <td>Potion of Greater Healing</td>\n",
       "      <td>150 gp</td>\n",
       "      <td>Uncommon</td>\n",
       "    </tr>\n",
       "    <tr>\n",
       "      <th>2</th>\n",
       "      <td>03-Pre</td>\n",
       "      <td>Potion of Superior Healing</td>\n",
       "      <td>450 gp</td>\n",
       "      <td>Rare</td>\n",
       "    </tr>\n",
       "    <tr>\n",
       "      <th>3</th>\n",
       "      <td>04-Pre</td>\n",
       "      <td>Potion of Supreme Healing</td>\n",
       "      <td>1,350 gp</td>\n",
       "      <td>Very Rare</td>\n",
       "    </tr>\n",
       "    <tr>\n",
       "      <th>4</th>\n",
       "      <td>05-Ere</td>\n",
       "      <td>Elixir of Health</td>\n",
       "      <td>120 gp</td>\n",
       "      <td>Rare</td>\n",
       "    </tr>\n",
       "  </tbody>\n",
       "</table>\n",
       "</div>"
      ],
      "text/plain": [
       "  item_id                        Name     Price     Rarity\n",
       "0  01-Pon           Potion of Healing     50 gp     Common\n",
       "1  02-Pon   Potion of Greater Healing    150 gp   Uncommon\n",
       "2  03-Pre  Potion of Superior Healing   450 gp        Rare\n",
       "3  04-Pre   Potion of Supreme Healing  1,350 gp  Very Rare\n",
       "4  05-Ere            Elixir of Health    120 gp       Rare"
      ]
     },
     "execution_count": 170,
     "metadata": {},
     "output_type": "execute_result"
    }
   ],
   "source": [
    "potions.head()"
   ]
  },
  {
   "cell_type": "code",
   "execution_count": 171,
   "metadata": {},
   "outputs": [
    {
     "data": {
      "text/html": [
       "<div>\n",
       "<style scoped>\n",
       "    .dataframe tbody tr th:only-of-type {\n",
       "        vertical-align: middle;\n",
       "    }\n",
       "\n",
       "    .dataframe tbody tr th {\n",
       "        vertical-align: top;\n",
       "    }\n",
       "\n",
       "    .dataframe thead th {\n",
       "        text-align: right;\n",
       "    }\n",
       "</style>\n",
       "<table border=\"1\" class=\"dataframe\">\n",
       "  <thead>\n",
       "    <tr style=\"text-align: right;\">\n",
       "      <th></th>\n",
       "      <th>item_id</th>\n",
       "      <th>Name</th>\n",
       "      <th>Price</th>\n",
       "      <th>Type</th>\n",
       "      <th>DC</th>\n",
       "    </tr>\n",
       "  </thead>\n",
       "  <tbody>\n",
       "    <tr>\n",
       "      <th>0</th>\n",
       "      <td>01-Aed</td>\n",
       "      <td>Assassin's blood</td>\n",
       "      <td>150 gp</td>\n",
       "      <td>Ingested</td>\n",
       "      <td>10.0</td>\n",
       "    </tr>\n",
       "    <tr>\n",
       "      <th>1</th>\n",
       "      <td>02-Ted</td>\n",
       "      <td>Truth serum</td>\n",
       "      <td>150 gp</td>\n",
       "      <td>Ingested</td>\n",
       "      <td>11.0</td>\n",
       "    </tr>\n",
       "    <tr>\n",
       "      <th>2</th>\n",
       "      <td>03-Cct</td>\n",
       "      <td>Carrion crawler mucus</td>\n",
       "      <td>200 gp</td>\n",
       "      <td>Contact</td>\n",
       "      <td>13.0</td>\n",
       "    </tr>\n",
       "    <tr>\n",
       "      <th>3</th>\n",
       "      <td>04-Dry</td>\n",
       "      <td>Drow poison</td>\n",
       "      <td>200 gp</td>\n",
       "      <td>Injury</td>\n",
       "      <td>13.0</td>\n",
       "    </tr>\n",
       "    <tr>\n",
       "      <th>4</th>\n",
       "      <td>05-Sry</td>\n",
       "      <td>Serpent venom</td>\n",
       "      <td>200 gp</td>\n",
       "      <td>Injury</td>\n",
       "      <td>11.0</td>\n",
       "    </tr>\n",
       "  </tbody>\n",
       "</table>\n",
       "</div>"
      ],
      "text/plain": [
       "  item_id                   Name   Price      Type    DC\n",
       "0  01-Aed       Assassin's blood  150 gp  Ingested  10.0\n",
       "1  02-Ted            Truth serum  150 gp  Ingested  11.0\n",
       "2  03-Cct  Carrion crawler mucus  200 gp   Contact  13.0\n",
       "3  04-Dry            Drow poison  200 gp    Injury  13.0\n",
       "4  05-Sry          Serpent venom  200 gp    Injury  11.0"
      ]
     },
     "execution_count": 171,
     "metadata": {},
     "output_type": "execute_result"
    }
   ],
   "source": [
    "poisons.head()"
   ]
  },
  {
   "cell_type": "markdown",
   "metadata": {},
   "source": [
    "<hr style=\"height:3px;border-width:0;color:blue;background-color:blue\">"
   ]
  },
  {
   "cell_type": "markdown",
   "metadata": {},
   "source": [
    "# **Data Creation**"
   ]
  },
  {
   "cell_type": "markdown",
   "metadata": {},
   "source": [
    "**Passos:**\n",
    "\n",
    "1. Filtrar as Raridades dos itens\n",
    "1. Criar uma tabela que contenha todos os produtos\n",
    "    * A tabela deve ter apenas informações básicas sobre os itens, como: id | nome | preço | tipo.\n",
    "1. Criar uma tabela com as informações dos clientes\n",
    "1. Criar a tabela fato de **vendas**\n",
    "\n",
    "\n"
   ]
  },
  {
   "cell_type": "markdown",
   "metadata": {},
   "source": [
    "### **Filtrar Raridades:**"
   ]
  },
  {
   "cell_type": "code",
   "execution_count": 172,
   "metadata": {},
   "outputs": [
    {
     "data": {
      "text/plain": [
       "Rare         114\n",
       "Uncommon      83\n",
       "Very Rare     63\n",
       "Legendary     38\n",
       "Common         2\n",
       "Name: Rarity, dtype: int64"
      ]
     },
     "execution_count": 172,
     "metadata": {},
     "output_type": "execute_result"
    }
   ],
   "source": [
    "magic_items['Rarity'].value_counts()"
   ]
  },
  {
   "cell_type": "markdown",
   "metadata": {},
   "source": [
    "Como eu pretendo simular as vendas de um vendedor comum, não vou usar itens que sejam: Very Rare, Legendary."
   ]
  },
  {
   "cell_type": "code",
   "execution_count": 173,
   "metadata": {},
   "outputs": [],
   "source": [
    "# função para filtrar a raridade dos items\n",
    "def filter_rarity(dataframe):\n",
    "    unwanted = ['Very Rare', 'Legendary']\n",
    "    df = dataframe.copy()\n",
    "    df = df.query(\"Rarity not in @unwanted\")\n",
    "    return df"
   ]
  },
  {
   "cell_type": "code",
   "execution_count": 174,
   "metadata": {},
   "outputs": [],
   "source": [
    "magic_items_filtered = filter_rarity(magic_items)"
   ]
  },
  {
   "cell_type": "code",
   "execution_count": 175,
   "metadata": {},
   "outputs": [
    {
     "data": {
      "text/plain": [
       "Rare        114\n",
       "Uncommon     83\n",
       "Common        2\n",
       "Name: Rarity, dtype: int64"
      ]
     },
     "execution_count": 175,
     "metadata": {},
     "output_type": "execute_result"
    }
   ],
   "source": [
    "magic_items_filtered['Rarity'].value_counts()"
   ]
  },
  {
   "cell_type": "code",
   "execution_count": 176,
   "metadata": {},
   "outputs": [],
   "source": [
    "potions_filtered =  filter_rarity(potions)"
   ]
  },
  {
   "cell_type": "code",
   "execution_count": 177,
   "metadata": {},
   "outputs": [
    {
     "data": {
      "text/plain": [
       "Uncommon    10\n",
       "Rare        10\n",
       "Common       2\n",
       "Name: Rarity, dtype: int64"
      ]
     },
     "execution_count": 177,
     "metadata": {},
     "output_type": "execute_result"
    }
   ],
   "source": [
    "potions_filtered['Rarity'].value_counts()"
   ]
  },
  {
   "cell_type": "markdown",
   "metadata": {},
   "source": [
    "Nenhum outro Dataset tem a coluna 'Rarity'"
   ]
  },
  {
   "cell_type": "markdown",
   "metadata": {},
   "source": [
    "### **Criar tabela Produtos**"
   ]
  },
  {
   "cell_type": "markdown",
   "metadata": {},
   "source": [
    "Primeiramente devo mudar as colunas 'type' para 'cetegory', depois criar uma nova coluna 'type' com o tipo de item de cada dataset."
   ]
  },
  {
   "cell_type": "code",
   "execution_count": 178,
   "metadata": {},
   "outputs": [],
   "source": [
    "# função para substituir a coluna type e colocar os nomes das colunas em minúsculo\n",
    "def replace_lower_column(df):\n",
    "    df = df.columns.str.lower().str.replace('type', 'category')\n",
    "    return df"
   ]
  },
  {
   "cell_type": "code",
   "execution_count": 179,
   "metadata": {},
   "outputs": [],
   "source": [
    "adventure_gear.columns = replace_lower_column(adventure_gear)\n",
    "magic_items_filtered.columns = replace_lower_column(magic_items_filtered)\n",
    "armor.columns = replace_lower_column(armor)\n",
    "weapons.columns = replace_lower_column(weapons)\n",
    "potions_filtered.columns =  replace_lower_column(potions_filtered)\n",
    "poisons.columns = replace_lower_column(poisons)"
   ]
  },
  {
   "cell_type": "markdown",
   "metadata": {},
   "source": [
    "**Criando as novas colunas 'type':**"
   ]
  },
  {
   "cell_type": "code",
   "execution_count": 180,
   "metadata": {},
   "outputs": [],
   "source": [
    "adventure_gear['type'] = 'adventure_gear'\n",
    "magic_items_filtered['type'] = 'magic_item'\n",
    "weapons['type'] = 'weapon'\n",
    "potions_filtered['type'] = 'potion'\n",
    "poisons['type'] = 'poison'\n",
    "armor['type'] = 'armor'"
   ]
  },
  {
   "cell_type": "markdown",
   "metadata": {},
   "source": [
    "**Criando a tabela Produtos:**\n",
    "\n",
    "| id | nome | preço | tipo |\n"
   ]
  },
  {
   "cell_type": "code",
   "execution_count": 181,
   "metadata": {},
   "outputs": [],
   "source": [
    "wanted_cols = ['item_id', 'name', 'price', 'type']"
   ]
  },
  {
   "cell_type": "code",
   "execution_count": 182,
   "metadata": {},
   "outputs": [],
   "source": [
    "product = magic_items_filtered[wanted_cols].copy()"
   ]
  },
  {
   "cell_type": "code",
   "execution_count": 183,
   "metadata": {},
   "outputs": [],
   "source": [
    "product = pd.concat([product,\n",
    "                     adventure_gear[wanted_cols],\n",
    "                     weapons[wanted_cols],\n",
    "                     armor[wanted_cols],\n",
    "                     potions_filtered[wanted_cols],\n",
    "                     poisons[wanted_cols]],\n",
    "                     ignore_index=True)"
   ]
  },
  {
   "cell_type": "code",
   "execution_count": 184,
   "metadata": {},
   "outputs": [
    {
     "data": {
      "text/plain": [
       "magic_item        199\n",
       "adventure_gear    108\n",
       "weapon             37\n",
       "potion             22\n",
       "poison             16\n",
       "armor              13\n",
       "Name: type, dtype: int64"
      ]
     },
     "execution_count": 184,
     "metadata": {},
     "output_type": "execute_result"
    }
   ],
   "source": [
    "product['type'].value_counts()"
   ]
  },
  {
   "cell_type": "code",
   "execution_count": 185,
   "metadata": {},
   "outputs": [
    {
     "data": {
      "text/html": [
       "<div>\n",
       "<style scoped>\n",
       "    .dataframe tbody tr th:only-of-type {\n",
       "        vertical-align: middle;\n",
       "    }\n",
       "\n",
       "    .dataframe tbody tr th {\n",
       "        vertical-align: top;\n",
       "    }\n",
       "\n",
       "    .dataframe thead th {\n",
       "        text-align: right;\n",
       "    }\n",
       "</style>\n",
       "<table border=\"1\" class=\"dataframe\">\n",
       "  <thead>\n",
       "    <tr style=\"text-align: right;\">\n",
       "      <th></th>\n",
       "      <th>item_id</th>\n",
       "      <th>name</th>\n",
       "      <th>price</th>\n",
       "      <th>type</th>\n",
       "    </tr>\n",
       "  </thead>\n",
       "  <tbody>\n",
       "    <tr>\n",
       "      <th>0</th>\n",
       "      <td>001-ACo</td>\n",
       "      <td>Ammunition +1 (Per)</td>\n",
       "      <td>15 gp</td>\n",
       "      <td>magic_item</td>\n",
       "    </tr>\n",
       "    <tr>\n",
       "      <th>1</th>\n",
       "      <td>002-ACo</td>\n",
       "      <td>Ammunition +2 (Per)</td>\n",
       "      <td>50 gp</td>\n",
       "      <td>magic_item</td>\n",
       "    </tr>\n",
       "    <tr>\n",
       "      <th>2</th>\n",
       "      <td>005-BCo</td>\n",
       "      <td>Bead of Force</td>\n",
       "      <td>1,000 gp</td>\n",
       "      <td>magic_item</td>\n",
       "    </tr>\n",
       "    <tr>\n",
       "      <th>3</th>\n",
       "      <td>006-CCo</td>\n",
       "      <td>Chime of Opening</td>\n",
       "      <td>400 gp</td>\n",
       "      <td>magic_item</td>\n",
       "    </tr>\n",
       "    <tr>\n",
       "      <th>4</th>\n",
       "      <td>007-DCo</td>\n",
       "      <td>Deck of Illusions</td>\n",
       "      <td>900 gp</td>\n",
       "      <td>magic_item</td>\n",
       "    </tr>\n",
       "  </tbody>\n",
       "</table>\n",
       "</div>"
      ],
      "text/plain": [
       "   item_id                 name     price        type\n",
       "0  001-ACo  Ammunition +1 (Per)     15 gp  magic_item\n",
       "1  002-ACo  Ammunition +2 (Per)     50 gp  magic_item\n",
       "2  005-BCo        Bead of Force  1,000 gp  magic_item\n",
       "3  006-CCo     Chime of Opening    400 gp  magic_item\n",
       "4  007-DCo    Deck of Illusions    900 gp  magic_item"
      ]
     },
     "execution_count": 185,
     "metadata": {},
     "output_type": "execute_result"
    }
   ],
   "source": [
    "product.head()"
   ]
  },
  {
   "cell_type": "code",
   "execution_count": 186,
   "metadata": {},
   "outputs": [
    {
     "data": {
      "text/html": [
       "<div>\n",
       "<style scoped>\n",
       "    .dataframe tbody tr th:only-of-type {\n",
       "        vertical-align: middle;\n",
       "    }\n",
       "\n",
       "    .dataframe tbody tr th {\n",
       "        vertical-align: top;\n",
       "    }\n",
       "\n",
       "    .dataframe thead th {\n",
       "        text-align: right;\n",
       "    }\n",
       "</style>\n",
       "<table border=\"1\" class=\"dataframe\">\n",
       "  <thead>\n",
       "    <tr style=\"text-align: right;\">\n",
       "      <th></th>\n",
       "      <th>item_id</th>\n",
       "      <th>name</th>\n",
       "      <th>price</th>\n",
       "      <th>rarity</th>\n",
       "      <th>category</th>\n",
       "      <th>type</th>\n",
       "    </tr>\n",
       "  </thead>\n",
       "  <tbody>\n",
       "    <tr>\n",
       "      <th>192</th>\n",
       "      <td>193-ICo</td>\n",
       "      <td>Ioun Stone Awareness</td>\n",
       "      <td>500 gp</td>\n",
       "      <td>Rare</td>\n",
       "      <td>Combat Items</td>\n",
       "      <td>magic_item</td>\n",
       "    </tr>\n",
       "  </tbody>\n",
       "</table>\n",
       "</div>"
      ],
      "text/plain": [
       "     item_id                  name   price rarity      category        type\n",
       "192  193-ICo  Ioun Stone Awareness  500 gp   Rare  Combat Items  magic_item"
      ]
     },
     "execution_count": 186,
     "metadata": {},
     "output_type": "execute_result"
    }
   ],
   "source": [
    "# testando o relacionamento das tabelas\n",
    "MI_itemID =  random.choices(product['item_id'].loc[product['type'] == 'magic_item'])\n",
    "magic_items_filtered.query('item_id == @MI_itemID')"
   ]
  },
  {
   "cell_type": "markdown",
   "metadata": {},
   "source": [
    "O relacionamento está funcionando como o desejado."
   ]
  },
  {
   "cell_type": "markdown",
   "metadata": {},
   "source": [
    "## **Criar a Tabela Cliente**"
   ]
  },
  {
   "cell_type": "markdown",
   "metadata": {},
   "source": [
    "**Atributos do cliente:**\n",
    "\n",
    "\n",
    "* id\n",
    "* nome\n",
    "* sexo\n",
    "* idade\n",
    "* raça\n",
    "* classe\n",
    "* endereço (cidade) (talvez)\n",
    "* contato (talvez)"
   ]
  },
  {
   "cell_type": "code",
   "execution_count": 187,
   "metadata": {},
   "outputs": [
    {
     "data": {
      "text/plain": [
       "140"
      ]
     },
     "execution_count": 187,
     "metadata": {},
     "output_type": "execute_result"
    }
   ],
   "source": [
    "# checando duplicatas\n",
    "names.duplicated().sum()"
   ]
  },
  {
   "cell_type": "code",
   "execution_count": 188,
   "metadata": {},
   "outputs": [],
   "source": [
    "names.drop_duplicates(inplace=True)"
   ]
  },
  {
   "cell_type": "code",
   "execution_count": 189,
   "metadata": {},
   "outputs": [
    {
     "data": {
      "text/plain": [
       "(1423, 2)"
      ]
     },
     "execution_count": 189,
     "metadata": {},
     "output_type": "execute_result"
    }
   ],
   "source": [
    "names.shape"
   ]
  },
  {
   "cell_type": "markdown",
   "metadata": {},
   "source": [
    "referência = https://bg3.wiki/wiki/Races"
   ]
  },
  {
   "cell_type": "code",
   "execution_count": 190,
   "metadata": {},
   "outputs": [
    {
     "data": {
      "text/html": [
       "<div>\n",
       "<style scoped>\n",
       "    .dataframe tbody tr th:only-of-type {\n",
       "        vertical-align: middle;\n",
       "    }\n",
       "\n",
       "    .dataframe tbody tr th {\n",
       "        vertical-align: top;\n",
       "    }\n",
       "\n",
       "    .dataframe thead th {\n",
       "        text-align: right;\n",
       "    }\n",
       "</style>\n",
       "<table border=\"1\" class=\"dataframe\">\n",
       "  <thead>\n",
       "    <tr style=\"text-align: right;\">\n",
       "      <th></th>\n",
       "      <th>race</th>\n",
       "      <th>base_age</th>\n",
       "      <th>max_age</th>\n",
       "      <th>maximum_age_range</th>\n",
       "    </tr>\n",
       "  </thead>\n",
       "  <tbody>\n",
       "    <tr>\n",
       "      <th>0</th>\n",
       "      <td>Dragonborn</td>\n",
       "      <td>15</td>\n",
       "      <td>80</td>\n",
       "      <td>80 + 1d20</td>\n",
       "    </tr>\n",
       "    <tr>\n",
       "      <th>1</th>\n",
       "      <td>Drow</td>\n",
       "      <td>80</td>\n",
       "      <td>225</td>\n",
       "      <td>225 + 3d100</td>\n",
       "    </tr>\n",
       "    <tr>\n",
       "      <th>2</th>\n",
       "      <td>Dwarf</td>\n",
       "      <td>50</td>\n",
       "      <td>350</td>\n",
       "      <td>300 + 2d100</td>\n",
       "    </tr>\n",
       "    <tr>\n",
       "      <th>3</th>\n",
       "      <td>Elf</td>\n",
       "      <td>90</td>\n",
       "      <td>750</td>\n",
       "      <td>425 + 5d100</td>\n",
       "    </tr>\n",
       "    <tr>\n",
       "      <th>4</th>\n",
       "      <td>Githyanki</td>\n",
       "      <td>30</td>\n",
       "      <td>250</td>\n",
       "      <td>250 + 1d100</td>\n",
       "    </tr>\n",
       "    <tr>\n",
       "      <th>5</th>\n",
       "      <td>Gnome</td>\n",
       "      <td>60</td>\n",
       "      <td>200</td>\n",
       "      <td>200 + 3d100</td>\n",
       "    </tr>\n",
       "    <tr>\n",
       "      <th>6</th>\n",
       "      <td>Half-Elf</td>\n",
       "      <td>15</td>\n",
       "      <td>125</td>\n",
       "      <td>125 + 3d20</td>\n",
       "    </tr>\n",
       "    <tr>\n",
       "      <th>7</th>\n",
       "      <td>Halfling</td>\n",
       "      <td>20</td>\n",
       "      <td>100</td>\n",
       "      <td>100 + 1d100</td>\n",
       "    </tr>\n",
       "    <tr>\n",
       "      <th>8</th>\n",
       "      <td>Half-Orc</td>\n",
       "      <td>12</td>\n",
       "      <td>60</td>\n",
       "      <td>90 + 2d20</td>\n",
       "    </tr>\n",
       "    <tr>\n",
       "      <th>9</th>\n",
       "      <td>Human</td>\n",
       "      <td>15</td>\n",
       "      <td>90</td>\n",
       "      <td>90 + 2d20</td>\n",
       "    </tr>\n",
       "    <tr>\n",
       "      <th>10</th>\n",
       "      <td>Tiefling</td>\n",
       "      <td>17</td>\n",
       "      <td>100</td>\n",
       "      <td>100 + 1d100</td>\n",
       "    </tr>\n",
       "  </tbody>\n",
       "</table>\n",
       "</div>"
      ],
      "text/plain": [
       "           race  base_age  max_age maximum_age_range\n",
       "0   Dragonborn         15       80         80 + 1d20\n",
       "1          Drow        80      225       225 + 3d100\n",
       "2         Dwarf        50      350       300 + 2d100\n",
       "3           Elf        90      750       425 + 5d100\n",
       "4     Githyanki        30      250       250 + 1d100\n",
       "5         Gnome        60      200       200 + 3d100\n",
       "6      Half-Elf        15      125        125 + 3d20\n",
       "7      Halfling        20      100       100 + 1d100\n",
       "8      Half-Orc        12       60         90 + 2d20\n",
       "9         Human        15       90         90 + 2d20\n",
       "10     Tiefling        17      100       100 + 1d100"
      ]
     },
     "execution_count": 190,
     "metadata": {},
     "output_type": "execute_result"
    }
   ],
   "source": [
    "races = pd.read_csv('data/races.csv', sep=';')\n",
    "races"
   ]
  },
  {
   "cell_type": "markdown",
   "metadata": {},
   "source": [
    "referência: https://www.dndbeyond.com/sources/basic-rules/classes#ClassesSummary"
   ]
  },
  {
   "cell_type": "code",
   "execution_count": 191,
   "metadata": {},
   "outputs": [
    {
     "data": {
      "text/html": [
       "<div>\n",
       "<style scoped>\n",
       "    .dataframe tbody tr th:only-of-type {\n",
       "        vertical-align: middle;\n",
       "    }\n",
       "\n",
       "    .dataframe tbody tr th {\n",
       "        vertical-align: top;\n",
       "    }\n",
       "\n",
       "    .dataframe thead th {\n",
       "        text-align: right;\n",
       "    }\n",
       "</style>\n",
       "<table border=\"1\" class=\"dataframe\">\n",
       "  <thead>\n",
       "    <tr style=\"text-align: right;\">\n",
       "      <th></th>\n",
       "      <th>Class</th>\n",
       "      <th>Armor</th>\n",
       "      <th>Weapon</th>\n",
       "    </tr>\n",
       "  </thead>\n",
       "  <tbody>\n",
       "    <tr>\n",
       "      <th>0</th>\n",
       "      <td>Barbarian</td>\n",
       "      <td>Light armor, medium armor, shields</td>\n",
       "      <td>Simple weapons, martial weapons</td>\n",
       "    </tr>\n",
       "    <tr>\n",
       "      <th>1</th>\n",
       "      <td>Bard</td>\n",
       "      <td>Light armor</td>\n",
       "      <td>simple weapons, hand crossbows, longswords, ra...</td>\n",
       "    </tr>\n",
       "    <tr>\n",
       "      <th>2</th>\n",
       "      <td>Cleric</td>\n",
       "      <td>Light armor, medium armor, shields</td>\n",
       "      <td>Simple weapons</td>\n",
       "    </tr>\n",
       "    <tr>\n",
       "      <th>3</th>\n",
       "      <td>Druid</td>\n",
       "      <td>Light armor, medium armor, shields</td>\n",
       "      <td>Clubs, daggers, darts, javelins, maces, quarte...</td>\n",
       "    </tr>\n",
       "    <tr>\n",
       "      <th>4</th>\n",
       "      <td>Fighter</td>\n",
       "      <td>Light armor, medium armor, heavy armor, shields</td>\n",
       "      <td>Simple weapons, martial weapons</td>\n",
       "    </tr>\n",
       "    <tr>\n",
       "      <th>5</th>\n",
       "      <td>Monk</td>\n",
       "      <td>None</td>\n",
       "      <td>Simple weapons, shortswords</td>\n",
       "    </tr>\n",
       "    <tr>\n",
       "      <th>6</th>\n",
       "      <td>Paladin</td>\n",
       "      <td>Light armor, medium armor, heavy armor, shields</td>\n",
       "      <td>Simple weapons, martial weapons</td>\n",
       "    </tr>\n",
       "    <tr>\n",
       "      <th>7</th>\n",
       "      <td>Ranger</td>\n",
       "      <td>Light armor, medium armor, shields</td>\n",
       "      <td>Simple weapons, martial weapons</td>\n",
       "    </tr>\n",
       "    <tr>\n",
       "      <th>8</th>\n",
       "      <td>Rogue</td>\n",
       "      <td>Light armor</td>\n",
       "      <td>Simple weapons, hand crossbows, longswords, ra...</td>\n",
       "    </tr>\n",
       "    <tr>\n",
       "      <th>9</th>\n",
       "      <td>Sorcerer</td>\n",
       "      <td>None</td>\n",
       "      <td>Daggers, darts, slings, quarterstaffs, light c...</td>\n",
       "    </tr>\n",
       "    <tr>\n",
       "      <th>10</th>\n",
       "      <td>Warlock</td>\n",
       "      <td>Light armor</td>\n",
       "      <td>simple weapons</td>\n",
       "    </tr>\n",
       "    <tr>\n",
       "      <th>11</th>\n",
       "      <td>Wizard</td>\n",
       "      <td>None</td>\n",
       "      <td>Daggers, darts, slings, quarterstaffs, light c...</td>\n",
       "    </tr>\n",
       "  </tbody>\n",
       "</table>\n",
       "</div>"
      ],
      "text/plain": [
       "        Class                                             Armor  \\\n",
       "0   Barbarian                Light armor, medium armor, shields   \n",
       "1        Bard                                       Light armor   \n",
       "2      Cleric                Light armor, medium armor, shields   \n",
       "3       Druid               Light armor, medium armor, shields    \n",
       "4     Fighter  Light armor, medium armor, heavy armor, shields    \n",
       "5        Monk                                              None   \n",
       "6     Paladin  Light armor, medium armor, heavy armor, shields    \n",
       "7      Ranger                Light armor, medium armor, shields   \n",
       "8       Rogue                                       Light armor   \n",
       "9    Sorcerer                                              None   \n",
       "10    Warlock                                       Light armor   \n",
       "11     Wizard                                              None   \n",
       "\n",
       "                                               Weapon  \n",
       "0                     Simple weapons, martial weapons  \n",
       "1   simple weapons, hand crossbows, longswords, ra...  \n",
       "2                                      Simple weapons  \n",
       "3   Clubs, daggers, darts, javelins, maces, quarte...  \n",
       "4                     Simple weapons, martial weapons  \n",
       "5                         Simple weapons, shortswords  \n",
       "6                     Simple weapons, martial weapons  \n",
       "7                     Simple weapons, martial weapons  \n",
       "8   Simple weapons, hand crossbows, longswords, ra...  \n",
       "9   Daggers, darts, slings, quarterstaffs, light c...  \n",
       "10                                     simple weapons  \n",
       "11  Daggers, darts, slings, quarterstaffs, light c...  "
      ]
     },
     "execution_count": 191,
     "metadata": {},
     "output_type": "execute_result"
    }
   ],
   "source": [
    "classes = pd.read_csv('data\\classes.csv', sep=';')\n",
    "classes"
   ]
  },
  {
   "cell_type": "markdown",
   "metadata": {},
   "source": [
    "A tabela de cliente deve ter a seguinte estrutura:"
   ]
  },
  {
   "cell_type": "markdown",
   "metadata": {},
   "source": [
    "| customer_id| name    | sex      | race     | age     | class   |\n",
    "| -------- | ------- | -------- | ------- | -------- | ------- |\n",
    "| -------- |-------- | -------- | ------- | -------- | ------- |\n",
    "| -------- | --------| -------- | ------- | -------- | ------- |\n",
    "| -------- | --------| -------- | ------- | -------- | ------- |"
   ]
  },
  {
   "cell_type": "markdown",
   "metadata": {},
   "source": [
    "**Função para gerar IDs:**"
   ]
  },
  {
   "cell_type": "code",
   "execution_count": 192,
   "metadata": {},
   "outputs": [],
   "source": [
    "import time\n",
    "import string\n",
    "\n",
    "# criando função para gerar IDs\n",
    "def generate_custom_id(i):\n",
    "    \"\"\"Function to generate random IDs\"\"\"\n",
    "    timestamp = str(int(time.time()) + i)\n",
    "    random_chars = ''.join(random.choices(string.ascii_uppercase + string.digits, k=6))\n",
    "    return f\"{timestamp[4:]}-{random_chars}\"   # return new unique ID"
   ]
  },
  {
   "cell_type": "code",
   "execution_count": 193,
   "metadata": {},
   "outputs": [
    {
     "name": "stdout",
     "output_type": "stream",
     "text": [
      "327454-AJI0Y6\n",
      "327455-DPBHSA\n",
      "327456-HXTHV3\n",
      "327457-A3ZMF8\n",
      "327458-MDD4V3\n",
      "327459-0T9NT3\n",
      "327460-W5UZBI\n",
      "327461-KCIDKW\n",
      "327462-NNHJ7X\n",
      "327463-VG0FN9\n",
      "327464-XUY41I\n",
      "327465-BLJH75\n",
      "327466-LXO6QJ\n",
      "327467-IUJV6O\n",
      "327468-H9SDBD\n",
      "327469-W2PCN9\n",
      "327470-T84AZY\n",
      "327471-TJXEPQ\n",
      "327472-85JSG6\n",
      "327473-5KXVF1\n"
     ]
    }
   ],
   "source": [
    "for i in range(20):\n",
    "    print(generate_custom_id(i))"
   ]
  },
  {
   "cell_type": "code",
   "execution_count": 194,
   "metadata": {},
   "outputs": [
    {
     "name": "stdout",
     "output_type": "stream",
     "text": [
      "327455-T2TALA\n"
     ]
    }
   ],
   "source": [
    "# random ID\n",
    "custom_id = generate_custom_id(1)\n",
    "print(custom_id)"
   ]
  },
  {
   "cell_type": "code",
   "execution_count": 195,
   "metadata": {},
   "outputs": [
    {
     "data": {
      "text/html": [
       "<div>\n",
       "<style scoped>\n",
       "    .dataframe tbody tr th:only-of-type {\n",
       "        vertical-align: middle;\n",
       "    }\n",
       "\n",
       "    .dataframe tbody tr th {\n",
       "        vertical-align: top;\n",
       "    }\n",
       "\n",
       "    .dataframe thead th {\n",
       "        text-align: right;\n",
       "    }\n",
       "</style>\n",
       "<table border=\"1\" class=\"dataframe\">\n",
       "  <thead>\n",
       "    <tr style=\"text-align: right;\">\n",
       "      <th></th>\n",
       "      <th>customer_id</th>\n",
       "    </tr>\n",
       "  </thead>\n",
       "  <tbody>\n",
       "    <tr>\n",
       "      <th>0</th>\n",
       "      <td>327455-753LC5</td>\n",
       "    </tr>\n",
       "    <tr>\n",
       "      <th>1</th>\n",
       "      <td>327456-8DRC11</td>\n",
       "    </tr>\n",
       "    <tr>\n",
       "      <th>2</th>\n",
       "      <td>327457-ERTJ5P</td>\n",
       "    </tr>\n",
       "    <tr>\n",
       "      <th>3</th>\n",
       "      <td>327458-HT0HL9</td>\n",
       "    </tr>\n",
       "    <tr>\n",
       "      <th>4</th>\n",
       "      <td>327459-XPSEIM</td>\n",
       "    </tr>\n",
       "    <tr>\n",
       "      <th>...</th>\n",
       "      <td>...</td>\n",
       "    </tr>\n",
       "    <tr>\n",
       "      <th>1418</th>\n",
       "      <td>328873-CTM09H</td>\n",
       "    </tr>\n",
       "    <tr>\n",
       "      <th>1419</th>\n",
       "      <td>328874-ZBGTJ5</td>\n",
       "    </tr>\n",
       "    <tr>\n",
       "      <th>1420</th>\n",
       "      <td>328875-4696QZ</td>\n",
       "    </tr>\n",
       "    <tr>\n",
       "      <th>1421</th>\n",
       "      <td>328876-6CP7SA</td>\n",
       "    </tr>\n",
       "    <tr>\n",
       "      <th>1422</th>\n",
       "      <td>328877-VZEBU2</td>\n",
       "    </tr>\n",
       "  </tbody>\n",
       "</table>\n",
       "<p>1423 rows × 1 columns</p>\n",
       "</div>"
      ],
      "text/plain": [
       "        customer_id\n",
       "0     327455-753LC5\n",
       "1     327456-8DRC11\n",
       "2     327457-ERTJ5P\n",
       "3     327458-HT0HL9\n",
       "4     327459-XPSEIM\n",
       "...             ...\n",
       "1418  328873-CTM09H\n",
       "1419  328874-ZBGTJ5\n",
       "1420  328875-4696QZ\n",
       "1421  328876-6CP7SA\n",
       "1422  328877-VZEBU2\n",
       "\n",
       "[1423 rows x 1 columns]"
      ]
     },
     "execution_count": 195,
     "metadata": {},
     "output_type": "execute_result"
    }
   ],
   "source": [
    "# criando um dataframe com os randoms IDs\n",
    "customers = pd.DataFrame({\n",
    "    'customer_id': [generate_custom_id(i) for i in range(1, names.shape[0] + 1)]})\n",
    "customers"
   ]
  },
  {
   "cell_type": "code",
   "execution_count": 196,
   "metadata": {},
   "outputs": [
    {
     "data": {
      "text/plain": [
       "0"
      ]
     },
     "execution_count": 196,
     "metadata": {},
     "output_type": "execute_result"
    }
   ],
   "source": [
    "# checando IDs duplicados\n",
    "customers.duplicated().sum()"
   ]
  },
  {
   "cell_type": "code",
   "execution_count": 197,
   "metadata": {},
   "outputs": [
    {
     "data": {
      "text/plain": [
       "name    0\n",
       "sex     0\n",
       "dtype: int64"
      ]
     },
     "execution_count": 197,
     "metadata": {},
     "output_type": "execute_result"
    }
   ],
   "source": [
    "# verificando NAs\n",
    "names.isna().sum()"
   ]
  },
  {
   "cell_type": "code",
   "execution_count": 198,
   "metadata": {},
   "outputs": [],
   "source": [
    "# removendo espaços antes e depois\n",
    "names['name'] = names['name'].str.strip()"
   ]
  },
  {
   "cell_type": "code",
   "execution_count": 199,
   "metadata": {},
   "outputs": [],
   "source": [
    "# resetando os índices\n",
    "names.reset_index(drop=True, inplace=True)"
   ]
  },
  {
   "cell_type": "code",
   "execution_count": 200,
   "metadata": {},
   "outputs": [],
   "source": [
    "# inserindo os nomes e sexos na tabela de clientes\n",
    "customers[\"name\"] = names['name']\n",
    "customers[\"sex\"] = names['sex']"
   ]
  },
  {
   "cell_type": "code",
   "execution_count": 201,
   "metadata": {},
   "outputs": [
    {
     "data": {
      "text/html": [
       "<div>\n",
       "<style scoped>\n",
       "    .dataframe tbody tr th:only-of-type {\n",
       "        vertical-align: middle;\n",
       "    }\n",
       "\n",
       "    .dataframe tbody tr th {\n",
       "        vertical-align: top;\n",
       "    }\n",
       "\n",
       "    .dataframe thead th {\n",
       "        text-align: right;\n",
       "    }\n",
       "</style>\n",
       "<table border=\"1\" class=\"dataframe\">\n",
       "  <thead>\n",
       "    <tr style=\"text-align: right;\">\n",
       "      <th></th>\n",
       "      <th>customer_id</th>\n",
       "      <th>name</th>\n",
       "      <th>sex</th>\n",
       "    </tr>\n",
       "  </thead>\n",
       "  <tbody>\n",
       "    <tr>\n",
       "      <th>0</th>\n",
       "      <td>327455-753LC5</td>\n",
       "      <td>Veklani  Daargen</td>\n",
       "      <td>female</td>\n",
       "    </tr>\n",
       "    <tr>\n",
       "      <th>1</th>\n",
       "      <td>327456-8DRC11</td>\n",
       "      <td>Kasaki  Wygarthe</td>\n",
       "      <td>female</td>\n",
       "    </tr>\n",
       "    <tr>\n",
       "      <th>2</th>\n",
       "      <td>327457-ERTJ5P</td>\n",
       "      <td>Rosalyn  Faringray</td>\n",
       "      <td>female</td>\n",
       "    </tr>\n",
       "    <tr>\n",
       "      <th>3</th>\n",
       "      <td>327458-HT0HL9</td>\n",
       "      <td>Atalya  Webb</td>\n",
       "      <td>female</td>\n",
       "    </tr>\n",
       "    <tr>\n",
       "      <th>4</th>\n",
       "      <td>327459-XPSEIM</td>\n",
       "      <td>Grenenzel  Lyfalia</td>\n",
       "      <td>female</td>\n",
       "    </tr>\n",
       "    <tr>\n",
       "      <th>...</th>\n",
       "      <td>...</td>\n",
       "      <td>...</td>\n",
       "      <td>...</td>\n",
       "    </tr>\n",
       "    <tr>\n",
       "      <th>1418</th>\n",
       "      <td>328873-CTM09H</td>\n",
       "      <td>Arnan  Ramcrown</td>\n",
       "      <td>male</td>\n",
       "    </tr>\n",
       "    <tr>\n",
       "      <th>1419</th>\n",
       "      <td>328874-ZBGTJ5</td>\n",
       "      <td>Tavon  Stormchapel</td>\n",
       "      <td>male</td>\n",
       "    </tr>\n",
       "    <tr>\n",
       "      <th>1420</th>\n",
       "      <td>328875-4696QZ</td>\n",
       "      <td>Dodd  Fryft</td>\n",
       "      <td>male</td>\n",
       "    </tr>\n",
       "    <tr>\n",
       "      <th>1421</th>\n",
       "      <td>328876-6CP7SA</td>\n",
       "      <td>Markus  Shattermast</td>\n",
       "      <td>male</td>\n",
       "    </tr>\n",
       "    <tr>\n",
       "      <th>1422</th>\n",
       "      <td>328877-VZEBU2</td>\n",
       "      <td>Ningyan  Shattermast</td>\n",
       "      <td>male</td>\n",
       "    </tr>\n",
       "  </tbody>\n",
       "</table>\n",
       "<p>1423 rows × 3 columns</p>\n",
       "</div>"
      ],
      "text/plain": [
       "        customer_id                  name     sex\n",
       "0     327455-753LC5      Veklani  Daargen  female\n",
       "1     327456-8DRC11      Kasaki  Wygarthe  female\n",
       "2     327457-ERTJ5P    Rosalyn  Faringray  female\n",
       "3     327458-HT0HL9          Atalya  Webb  female\n",
       "4     327459-XPSEIM    Grenenzel  Lyfalia  female\n",
       "...             ...                   ...     ...\n",
       "1418  328873-CTM09H       Arnan  Ramcrown    male\n",
       "1419  328874-ZBGTJ5    Tavon  Stormchapel    male\n",
       "1420  328875-4696QZ           Dodd  Fryft    male\n",
       "1421  328876-6CP7SA   Markus  Shattermast    male\n",
       "1422  328877-VZEBU2  Ningyan  Shattermast    male\n",
       "\n",
       "[1423 rows x 3 columns]"
      ]
     },
     "execution_count": 201,
     "metadata": {},
     "output_type": "execute_result"
    }
   ],
   "source": [
    "customers"
   ]
  },
  {
   "cell_type": "code",
   "execution_count": 202,
   "metadata": {},
   "outputs": [
    {
     "data": {
      "text/plain": [
       "array(['Dragonborn\\xa0', 'Drow', 'Dwarf', 'Elf', 'Githyanki', 'Gnome',\n",
       "       'Half-Elf', 'Halfling', 'Half-Orc', 'Human', 'Tiefling'],\n",
       "      dtype=object)"
      ]
     },
     "execution_count": 202,
     "metadata": {},
     "output_type": "execute_result"
    }
   ],
   "source": [
    "races['race'].unique()"
   ]
  },
  {
   "cell_type": "code",
   "execution_count": 203,
   "metadata": {},
   "outputs": [],
   "source": [
    "# limpando a coluna 'race'\n",
    "races['race'] = races['race'].str.replace('\\xa0', '').str.strip()"
   ]
  },
  {
   "cell_type": "code",
   "execution_count": 204,
   "metadata": {},
   "outputs": [],
   "source": [
    "customers['race'] = [random.choice(list(races['race'])) for _ in range(names.shape[0])]"
   ]
  },
  {
   "cell_type": "markdown",
   "metadata": {},
   "source": [
    "Agora vem uma etapa não tão simples, a idade, cada raça tem um período de vida diferente e pretendo conservar essas características também."
   ]
  },
  {
   "cell_type": "code",
   "execution_count": 205,
   "metadata": {},
   "outputs": [],
   "source": [
    "# criando a função que irá gerar a idade aleatória baseada da raça que foi dada\n",
    "def random_age(X):\n",
    "    \"\"\"This function returns a random age based on the race\"\"\"\n",
    "    race_infos = races[races['race'] == X].reset_index(drop=True)\n",
    "    return random.randint(race_infos['base_age'][0], race_infos['max_age'][0])"
   ]
  },
  {
   "cell_type": "code",
   "execution_count": 206,
   "metadata": {},
   "outputs": [],
   "source": [
    "customers['age'] = customers['race'].apply(random_age)"
   ]
  },
  {
   "cell_type": "markdown",
   "metadata": {},
   "source": [
    "Agora resta apenas escolher as classes para cada cliente."
   ]
  },
  {
   "cell_type": "code",
   "execution_count": 207,
   "metadata": {},
   "outputs": [],
   "source": [
    "customers['class'] = [random.choice(list(classes['Class'])) for _ in range(customers.shape[0])]"
   ]
  },
  {
   "cell_type": "markdown",
   "metadata": {},
   "source": [
    "Conferindo a estrutura da tabela:\n",
    "\n",
    "| customer_id| name    | sex      | race     | age     | class   |\n",
    "| -------- | ------- | -------- | ------- | -------- | ------- |\n",
    "| -------- |-------- | -------- | ------- | -------- | ------- |\n",
    "| -------- | --------| -------- | ------- | -------- | ------- |\n",
    "| -------- | --------| -------- | ------- | -------- | ------- |"
   ]
  },
  {
   "cell_type": "code",
   "execution_count": 208,
   "metadata": {},
   "outputs": [
    {
     "data": {
      "text/html": [
       "<div>\n",
       "<style scoped>\n",
       "    .dataframe tbody tr th:only-of-type {\n",
       "        vertical-align: middle;\n",
       "    }\n",
       "\n",
       "    .dataframe tbody tr th {\n",
       "        vertical-align: top;\n",
       "    }\n",
       "\n",
       "    .dataframe thead th {\n",
       "        text-align: right;\n",
       "    }\n",
       "</style>\n",
       "<table border=\"1\" class=\"dataframe\">\n",
       "  <thead>\n",
       "    <tr style=\"text-align: right;\">\n",
       "      <th></th>\n",
       "      <th>customer_id</th>\n",
       "      <th>name</th>\n",
       "      <th>sex</th>\n",
       "      <th>race</th>\n",
       "      <th>age</th>\n",
       "      <th>class</th>\n",
       "    </tr>\n",
       "  </thead>\n",
       "  <tbody>\n",
       "    <tr>\n",
       "      <th>1185</th>\n",
       "      <td>328640-ZAQ7QH</td>\n",
       "      <td>Vzani  Van Hyden</td>\n",
       "      <td>female</td>\n",
       "      <td>Dwarf</td>\n",
       "      <td>337</td>\n",
       "      <td>Ranger</td>\n",
       "    </tr>\n",
       "    <tr>\n",
       "      <th>677</th>\n",
       "      <td>328132-5R96KH</td>\n",
       "      <td>Marnia  Skandalor</td>\n",
       "      <td>female</td>\n",
       "      <td>Tiefling</td>\n",
       "      <td>37</td>\n",
       "      <td>Paladin</td>\n",
       "    </tr>\n",
       "    <tr>\n",
       "      <th>1084</th>\n",
       "      <td>328539-Q8VA8X</td>\n",
       "      <td>Lokara  Talandro</td>\n",
       "      <td>female</td>\n",
       "      <td>Gnome</td>\n",
       "      <td>118</td>\n",
       "      <td>Sorcerer</td>\n",
       "    </tr>\n",
       "    <tr>\n",
       "      <th>1005</th>\n",
       "      <td>328460-40KZUJ</td>\n",
       "      <td>Sevenson  Zereni</td>\n",
       "      <td>male</td>\n",
       "      <td>Elf</td>\n",
       "      <td>705</td>\n",
       "      <td>Monk</td>\n",
       "    </tr>\n",
       "    <tr>\n",
       "      <th>944</th>\n",
       "      <td>328399-MRSEZY</td>\n",
       "      <td>Talfen  Ronefel</td>\n",
       "      <td>male</td>\n",
       "      <td>Half-Orc</td>\n",
       "      <td>23</td>\n",
       "      <td>Rogue</td>\n",
       "    </tr>\n",
       "    <tr>\n",
       "      <th>538</th>\n",
       "      <td>327993-7OI0E0</td>\n",
       "      <td>Vauldra  Velene</td>\n",
       "      <td>female</td>\n",
       "      <td>Half-Orc</td>\n",
       "      <td>54</td>\n",
       "      <td>Wizard</td>\n",
       "    </tr>\n",
       "    <tr>\n",
       "      <th>994</th>\n",
       "      <td>328449-UDUAHG</td>\n",
       "      <td>Dalkon  Romazi</td>\n",
       "      <td>male</td>\n",
       "      <td>Gnome</td>\n",
       "      <td>168</td>\n",
       "      <td>Cleric</td>\n",
       "    </tr>\n",
       "    <tr>\n",
       "      <th>724</th>\n",
       "      <td>328179-212PGY</td>\n",
       "      <td>Mirabel  Yellowcrane</td>\n",
       "      <td>female</td>\n",
       "      <td>Half-Orc</td>\n",
       "      <td>26</td>\n",
       "      <td>Bard</td>\n",
       "    </tr>\n",
       "    <tr>\n",
       "      <th>70</th>\n",
       "      <td>327525-OZCYWD</td>\n",
       "      <td>Lokara  Strong</td>\n",
       "      <td>female</td>\n",
       "      <td>Dragonborn</td>\n",
       "      <td>25</td>\n",
       "      <td>Barbarian</td>\n",
       "    </tr>\n",
       "    <tr>\n",
       "      <th>123</th>\n",
       "      <td>327578-2KNFTU</td>\n",
       "      <td>Meklan  Van Devries</td>\n",
       "      <td>male</td>\n",
       "      <td>Elf</td>\n",
       "      <td>146</td>\n",
       "      <td>Cleric</td>\n",
       "    </tr>\n",
       "  </tbody>\n",
       "</table>\n",
       "</div>"
      ],
      "text/plain": [
       "        customer_id                  name     sex        race  age      class\n",
       "1185  328640-ZAQ7QH      Vzani  Van Hyden  female       Dwarf  337     Ranger\n",
       "677   328132-5R96KH     Marnia  Skandalor  female    Tiefling   37    Paladin\n",
       "1084  328539-Q8VA8X      Lokara  Talandro  female       Gnome  118   Sorcerer\n",
       "1005  328460-40KZUJ      Sevenson  Zereni    male         Elf  705       Monk\n",
       "944   328399-MRSEZY       Talfen  Ronefel    male    Half-Orc   23      Rogue\n",
       "538   327993-7OI0E0       Vauldra  Velene  female    Half-Orc   54     Wizard\n",
       "994   328449-UDUAHG        Dalkon  Romazi    male       Gnome  168     Cleric\n",
       "724   328179-212PGY  Mirabel  Yellowcrane  female    Half-Orc   26       Bard\n",
       "70    327525-OZCYWD        Lokara  Strong  female  Dragonborn   25  Barbarian\n",
       "123   327578-2KNFTU   Meklan  Van Devries    male         Elf  146     Cleric"
      ]
     },
     "execution_count": 208,
     "metadata": {},
     "output_type": "execute_result"
    }
   ],
   "source": [
    "customers.sample(n=10, random_state=42)"
   ]
  },
  {
   "cell_type": "markdown",
   "metadata": {},
   "source": [
    "## **Criar a tabela de Vendas**"
   ]
  },
  {
   "cell_type": "code",
   "execution_count": 209,
   "metadata": {},
   "outputs": [],
   "source": [
    "from datetime import datetime, timedelta"
   ]
  },
  {
   "cell_type": "markdown",
   "metadata": {},
   "source": [
    "**Minhas tabelas:**\n",
    "* adventure_gear\n",
    "* magic_items_filtered\n",
    "* weapons\n",
    "* potions_filtered\n",
    "* poisons\n",
    "* armor\n",
    "* product\n",
    "* costumers"
   ]
  },
  {
   "cell_type": "markdown",
   "metadata": {},
   "source": [
    "A tabela sales deve seguir a estrutura:\n",
    "\n",
    "| sale_id  | date    | customer_id | product_id    | product_name | quantity| product_price | \n",
    "| -------- | ------- | ----------- | --------------| -------------| ------- |-------------- |\n",
    "| -------- |-------- | ----------- | --------------| -------------| ------- |-------------- |\n",
    "| -------- | --------| ----------- | --------------| -------------| ------- |-------------- |\n",
    "| -------- | --------| ----------- | --------------| -------------| ------- |-------------- |"
   ]
  },
  {
   "cell_type": "markdown",
   "metadata": {},
   "source": [
    "**Função para gerar IDs:**"
   ]
  },
  {
   "cell_type": "code",
   "execution_count": 210,
   "metadata": {},
   "outputs": [],
   "source": [
    "# criando função para gerar IDs para tabela sales\n",
    "def generate_sale_id(i):\n",
    "    \"\"\"Function to generate random sale_IDs.\n",
    "    \n",
    "    This will return a random string with length = 11 chars\"\"\"\n",
    "    timestamp = str(int(time.time_ns()) + i)\n",
    "    random_chars = ''.join(random.choices(string.ascii_uppercase + string.digits, k=5))\n",
    "    return f\"{timestamp[13:]}-{random_chars}\"   # return new unique ID"
   ]
  },
  {
   "cell_type": "code",
   "execution_count": 211,
   "metadata": {},
   "outputs": [
    {
     "name": "stdout",
     "output_type": "stream",
     "text": [
      "Exemplo de sale_id:  972501-2BHON\n"
     ]
    }
   ],
   "source": [
    "print(\"Exemplo de sale_id: \", generate_sale_id(1))"
   ]
  },
  {
   "cell_type": "code",
   "execution_count": 212,
   "metadata": {},
   "outputs": [
    {
     "data": {
      "text/plain": [
       "array(['15 gp', '50 gp', '1,000 gp', '400 gp', '900 gp', '300 gp',\n",
       "       '100 gp', '600 gp', '350 gp', '450 gp', '150 gp', '500 gp',\n",
       "       '1,600 gp', '4,000 gp', '8,000 gp', '120 gp', '200 gp', '25 gp',\n",
       "       '35 gp', '280 gp', '570 gp', '2,640 gp', '5,280 gp', '275 gp',\n",
       "       '2,000 gp', '1,250 gp', '1,300 gp', '800 gp', '5,000 gp',\n",
       "       '1,500 gp', '250 gp', '750 gp', '700 gp', '1,350 gp', '3,000 gp',\n",
       "       '4,500 gp', '6,000 gp', '5,600 gp', '1,200 gp', '1,0500 gp',\n",
       "       '550 gp', '3,500 gp', '2,0500 gp', 'Armor + 500gp',\n",
       "       'Armor + 500 gp', 'Armor + 800 gp', 'Armor + 200 gp', '2,500 gp',\n",
       "       '40,000 gp', '2 gp', '1 gp', '4 cp', '10 gp', '20 gp', '5 gp',\n",
       "       '4 sp', '5 sp', '5 cp', '1 cp', '2 cp', ' 5 gp', '1 sp', '2 sp',\n",
       "       '4 gp', '1000 gp', '30 gp', '6 gp', '3 gp', '12 gp', '75 gp',\n",
       "       '45 gp', '1500 gp', '450 gp ', '90 gp', '180 gp', '270 gp',\n",
       "       '960 gp', '1,920 gp', '480 gp'], dtype=object)"
      ]
     },
     "execution_count": 212,
     "metadata": {},
     "output_type": "execute_result"
    }
   ],
   "source": [
    "product['price'].unique()"
   ]
  },
  {
   "cell_type": "markdown",
   "metadata": {},
   "source": [
    "Alguns preços possuem informações que estão despadrozinadas como \"Armor + 200 gp\", precisa ser limpados da tabela de produtos. "
   ]
  },
  {
   "cell_type": "code",
   "execution_count": 213,
   "metadata": {},
   "outputs": [],
   "source": [
    "# removendo observações no campo de preço\n",
    "product['price'] = product['price'].str.replace('Armor + ', '', regex=False).str.strip()"
   ]
  },
  {
   "cell_type": "code",
   "execution_count": 214,
   "metadata": {},
   "outputs": [
    {
     "data": {
      "text/plain": [
       "array(['15 gp', '50 gp', '1,000 gp', '400 gp', '900 gp', '300 gp',\n",
       "       '100 gp', '600 gp', '350 gp', '450 gp', '150 gp', '500 gp',\n",
       "       '1,600 gp', '4,000 gp', '8,000 gp', '120 gp', '200 gp', '25 gp',\n",
       "       '35 gp', '280 gp', '570 gp', '2,640 gp', '5,280 gp', '275 gp',\n",
       "       '2,000 gp', '1,250 gp', '1,300 gp', '800 gp', '5,000 gp',\n",
       "       '1,500 gp', '250 gp', '750 gp', '700 gp', '1,350 gp', '3,000 gp',\n",
       "       '4,500 gp', '6,000 gp', '5,600 gp', '1,200 gp', '1,0500 gp',\n",
       "       '550 gp', '3,500 gp', '2,0500 gp', '500gp', '2,500 gp',\n",
       "       '40,000 gp', '2 gp', '1 gp', '4 cp', '10 gp', '20 gp', '5 gp',\n",
       "       '4 sp', '5 sp', '5 cp', '1 cp', '2 cp', '1 sp', '2 sp', '4 gp',\n",
       "       '1000 gp', '30 gp', '6 gp', '3 gp', '12 gp', '75 gp', '45 gp',\n",
       "       '1500 gp', '90 gp', '180 gp', '270 gp', '960 gp', '1,920 gp',\n",
       "       '480 gp'], dtype=object)"
      ]
     },
     "execution_count": 214,
     "metadata": {},
     "output_type": "execute_result"
    }
   ],
   "source": [
    "product['price'].unique()"
   ]
  },
  {
   "cell_type": "code",
   "execution_count": 215,
   "metadata": {},
   "outputs": [
    {
     "data": {
      "text/html": [
       "<div>\n",
       "<style scoped>\n",
       "    .dataframe tbody tr th:only-of-type {\n",
       "        vertical-align: middle;\n",
       "    }\n",
       "\n",
       "    .dataframe tbody tr th {\n",
       "        vertical-align: top;\n",
       "    }\n",
       "\n",
       "    .dataframe thead th {\n",
       "        text-align: right;\n",
       "    }\n",
       "</style>\n",
       "<table border=\"1\" class=\"dataframe\">\n",
       "  <thead>\n",
       "    <tr style=\"text-align: right;\">\n",
       "      <th></th>\n",
       "      <th>item_id</th>\n",
       "      <th>name</th>\n",
       "      <th>price</th>\n",
       "      <th>type</th>\n",
       "    </tr>\n",
       "  </thead>\n",
       "  <tbody>\n",
       "    <tr>\n",
       "      <th>0</th>\n",
       "      <td>001-ACo</td>\n",
       "      <td>Ammunition +1 (Per)</td>\n",
       "      <td>15 gp</td>\n",
       "      <td>magic_item</td>\n",
       "    </tr>\n",
       "    <tr>\n",
       "      <th>1</th>\n",
       "      <td>002-ACo</td>\n",
       "      <td>Ammunition +2 (Per)</td>\n",
       "      <td>50 gp</td>\n",
       "      <td>magic_item</td>\n",
       "    </tr>\n",
       "    <tr>\n",
       "      <th>2</th>\n",
       "      <td>005-BCo</td>\n",
       "      <td>Bead of Force</td>\n",
       "      <td>1,000 gp</td>\n",
       "      <td>magic_item</td>\n",
       "    </tr>\n",
       "    <tr>\n",
       "      <th>3</th>\n",
       "      <td>006-CCo</td>\n",
       "      <td>Chime of Opening</td>\n",
       "      <td>400 gp</td>\n",
       "      <td>magic_item</td>\n",
       "    </tr>\n",
       "    <tr>\n",
       "      <th>4</th>\n",
       "      <td>007-DCo</td>\n",
       "      <td>Deck of Illusions</td>\n",
       "      <td>900 gp</td>\n",
       "      <td>magic_item</td>\n",
       "    </tr>\n",
       "    <tr>\n",
       "      <th>...</th>\n",
       "      <td>...</td>\n",
       "      <td>...</td>\n",
       "      <td>...</td>\n",
       "      <td>...</td>\n",
       "    </tr>\n",
       "    <tr>\n",
       "      <th>390</th>\n",
       "      <td>12-Wry</td>\n",
       "      <td>Wyvern poison</td>\n",
       "      <td>1,200 gp</td>\n",
       "      <td>poison</td>\n",
       "    </tr>\n",
       "    <tr>\n",
       "      <th>391</th>\n",
       "      <td>13-Med</td>\n",
       "      <td>Midnight tears</td>\n",
       "      <td>1,500 gp</td>\n",
       "      <td>poison</td>\n",
       "    </tr>\n",
       "    <tr>\n",
       "      <th>392</th>\n",
       "      <td>14-Pry</td>\n",
       "      <td>Purple worm poison</td>\n",
       "      <td>2,000 gp</td>\n",
       "      <td>poison</td>\n",
       "    </tr>\n",
       "    <tr>\n",
       "      <th>393</th>\n",
       "      <td>15-Aed</td>\n",
       "      <td>Antitoxin</td>\n",
       "      <td>50 gp</td>\n",
       "      <td>poison</td>\n",
       "    </tr>\n",
       "    <tr>\n",
       "      <th>394</th>\n",
       "      <td>16-Bct</td>\n",
       "      <td>Basic Poison</td>\n",
       "      <td>100 gp</td>\n",
       "      <td>poison</td>\n",
       "    </tr>\n",
       "  </tbody>\n",
       "</table>\n",
       "<p>395 rows × 4 columns</p>\n",
       "</div>"
      ],
      "text/plain": [
       "     item_id                 name     price        type\n",
       "0    001-ACo  Ammunition +1 (Per)     15 gp  magic_item\n",
       "1    002-ACo  Ammunition +2 (Per)     50 gp  magic_item\n",
       "2    005-BCo        Bead of Force  1,000 gp  magic_item\n",
       "3    006-CCo     Chime of Opening    400 gp  magic_item\n",
       "4    007-DCo    Deck of Illusions    900 gp  magic_item\n",
       "..       ...                  ...       ...         ...\n",
       "390   12-Wry        Wyvern poison  1,200 gp      poison\n",
       "391   13-Med       Midnight tears  1,500 gp      poison\n",
       "392   14-Pry   Purple worm poison  2,000 gp      poison\n",
       "393   15-Aed            Antitoxin     50 gp      poison\n",
       "394   16-Bct         Basic Poison    100 gp      poison\n",
       "\n",
       "[395 rows x 4 columns]"
      ]
     },
     "execution_count": 215,
     "metadata": {},
     "output_type": "execute_result"
    }
   ],
   "source": [
    "product"
   ]
  },
  {
   "cell_type": "code",
   "execution_count": 216,
   "metadata": {},
   "outputs": [],
   "source": [
    "# Criando a tabela de datas para simular vendas ao longo do tempo\n",
    "data_inicial = datetime(2017, 1, 1)\n",
    "data_final = datetime(2023, 12, 31)\n",
    "intervalo_datas = [data_inicial + timedelta(days=i) for i in range((data_final - data_inicial).days + 1)]"
   ]
  },
  {
   "cell_type": "markdown",
   "metadata": {},
   "source": [
    "A data inicial foi inspirada na data inicial do desenvolvimento do jogo Baldur's Gate 3.\n",
    "\n",
    "referência: https://larian.com/support/faqs/general-information_46"
   ]
  },
  {
   "cell_type": "code",
   "execution_count": 217,
   "metadata": {},
   "outputs": [],
   "source": [
    "sales = pd.DataFrame({\n",
    "          'sale_id': [generate_sale_id(i) for i in range(50_832)],\n",
    "          'date': [random.choice(intervalo_datas) for _ in range(50_832)],\n",
    "          'customer_id': [random.choice(list(customers['customer_id'])) for _ in range(50_832)],\n",
    "          'product_id': [random.choice(list(product['item_id'])) for _ in range(50_832)],\n",
    "          'quantity': [random.randint(1, 5) for _ in range(50_832)]\n",
    "          })"
   ]
  },
  {
   "cell_type": "markdown",
   "metadata": {},
   "source": [
    "A quantidade de items comprados é baseado na quantidade base de itens inicias dos personagens nas campanhas  de Dungeons and Dragons."
   ]
  },
  {
   "cell_type": "markdown",
   "metadata": {},
   "source": [
    "A quantidade de vendas foi baseada no número de avaliações do ***Player's Handbook: Everything a Player Needs to Create Heroic Characters for the World's Greatest Roleplaying Game***.\n",
    "\n",
    "Referência: https://www.amazon.com.br/Players-Handbook-Wizards-RPG-Team/dp/0786965606/ref=sr_1_7?keywords=dnd+5e&qid=1701899431&refinements=p_n_feature_nine_browse-bin%3A8529758011&rnid=8529757011&s=books&sr=1-7&ufe=app_do%3Aamzn1.fos.db68964d-7c0e-4bb2-a95c-e5cb9e32eb12"
   ]
  },
  {
   "cell_type": "code",
   "execution_count": 218,
   "metadata": {},
   "outputs": [
    {
     "data": {
      "text/html": [
       "<div>\n",
       "<style scoped>\n",
       "    .dataframe tbody tr th:only-of-type {\n",
       "        vertical-align: middle;\n",
       "    }\n",
       "\n",
       "    .dataframe tbody tr th {\n",
       "        vertical-align: top;\n",
       "    }\n",
       "\n",
       "    .dataframe thead th {\n",
       "        text-align: right;\n",
       "    }\n",
       "</style>\n",
       "<table border=\"1\" class=\"dataframe\">\n",
       "  <thead>\n",
       "    <tr style=\"text-align: right;\">\n",
       "      <th></th>\n",
       "      <th>sale_id</th>\n",
       "      <th>date</th>\n",
       "      <th>customer_id</th>\n",
       "      <th>product_id</th>\n",
       "      <th>quantity</th>\n",
       "    </tr>\n",
       "  </thead>\n",
       "  <tbody>\n",
       "    <tr>\n",
       "      <th>0</th>\n",
       "      <td>019600-4WBAB</td>\n",
       "      <td>2019-01-03</td>\n",
       "      <td>328842-Z0I083</td>\n",
       "      <td>062-BNo</td>\n",
       "      <td>1</td>\n",
       "    </tr>\n",
       "    <tr>\n",
       "      <th>1</th>\n",
       "      <td>019601-Q0FOT</td>\n",
       "      <td>2020-10-10</td>\n",
       "      <td>328144-E58HUX</td>\n",
       "      <td>09-Sns</td>\n",
       "      <td>2</td>\n",
       "    </tr>\n",
       "    <tr>\n",
       "      <th>2</th>\n",
       "      <td>019602-10GDM</td>\n",
       "      <td>2018-03-21</td>\n",
       "      <td>328712-ZZKW3G</td>\n",
       "      <td>86-Srs</td>\n",
       "      <td>2</td>\n",
       "    </tr>\n",
       "    <tr>\n",
       "      <th>3</th>\n",
       "      <td>019603-IPC8Q</td>\n",
       "      <td>2018-11-15</td>\n",
       "      <td>327646-NKOMV2</td>\n",
       "      <td>19-Brs</td>\n",
       "      <td>4</td>\n",
       "    </tr>\n",
       "    <tr>\n",
       "      <th>4</th>\n",
       "      <td>019604-O6P43</td>\n",
       "      <td>2023-10-19</td>\n",
       "      <td>327979-DEJ31G</td>\n",
       "      <td>296-ICo</td>\n",
       "      <td>1</td>\n",
       "    </tr>\n",
       "    <tr>\n",
       "      <th>...</th>\n",
       "      <td>...</td>\n",
       "      <td>...</td>\n",
       "      <td>...</td>\n",
       "      <td>...</td>\n",
       "      <td>...</td>\n",
       "    </tr>\n",
       "    <tr>\n",
       "      <th>50827</th>\n",
       "      <td>686727-R2NR0</td>\n",
       "      <td>2017-08-24</td>\n",
       "      <td>328851-FERFXI</td>\n",
       "      <td>09-Pon</td>\n",
       "      <td>1</td>\n",
       "    </tr>\n",
       "    <tr>\n",
       "      <th>50828</th>\n",
       "      <td>686728-HV4GY</td>\n",
       "      <td>2021-11-09</td>\n",
       "      <td>327894-IRC9ZD</td>\n",
       "      <td>058-BNo</td>\n",
       "      <td>1</td>\n",
       "    </tr>\n",
       "    <tr>\n",
       "      <th>50829</th>\n",
       "      <td>686729-PBLV1</td>\n",
       "      <td>2022-02-02</td>\n",
       "      <td>328252-SN2S8N</td>\n",
       "      <td>286-PCo</td>\n",
       "      <td>4</td>\n",
       "    </tr>\n",
       "    <tr>\n",
       "      <th>50830</th>\n",
       "      <td>686730-QET6W</td>\n",
       "      <td>2020-11-22</td>\n",
       "      <td>328133-UB2RTS</td>\n",
       "      <td>107-RNo</td>\n",
       "      <td>3</td>\n",
       "    </tr>\n",
       "    <tr>\n",
       "      <th>50831</th>\n",
       "      <td>686731-HLIME</td>\n",
       "      <td>2023-12-10</td>\n",
       "      <td>328300-M3V2P2</td>\n",
       "      <td>07-Son</td>\n",
       "      <td>4</td>\n",
       "    </tr>\n",
       "  </tbody>\n",
       "</table>\n",
       "<p>50832 rows × 5 columns</p>\n",
       "</div>"
      ],
      "text/plain": [
       "            sale_id       date    customer_id product_id  quantity\n",
       "0      019600-4WBAB 2019-01-03  328842-Z0I083    062-BNo         1\n",
       "1      019601-Q0FOT 2020-10-10  328144-E58HUX     09-Sns         2\n",
       "2      019602-10GDM 2018-03-21  328712-ZZKW3G     86-Srs         2\n",
       "3      019603-IPC8Q 2018-11-15  327646-NKOMV2     19-Brs         4\n",
       "4      019604-O6P43 2023-10-19  327979-DEJ31G    296-ICo         1\n",
       "...             ...        ...            ...        ...       ...\n",
       "50827  686727-R2NR0 2017-08-24  328851-FERFXI     09-Pon         1\n",
       "50828  686728-HV4GY 2021-11-09  327894-IRC9ZD    058-BNo         1\n",
       "50829  686729-PBLV1 2022-02-02  328252-SN2S8N    286-PCo         4\n",
       "50830  686730-QET6W 2020-11-22  328133-UB2RTS    107-RNo         3\n",
       "50831  686731-HLIME 2023-12-10  328300-M3V2P2     07-Son         4\n",
       "\n",
       "[50832 rows x 5 columns]"
      ]
     },
     "execution_count": 218,
     "metadata": {},
     "output_type": "execute_result"
    }
   ],
   "source": [
    "sales"
   ]
  },
  {
   "cell_type": "code",
   "execution_count": 219,
   "metadata": {},
   "outputs": [],
   "source": [
    "# renomeando a coluna na tabela produto para dar match na tabela de vendas\n",
    "product.rename(columns={'item_id': 'product_id',\n",
    "                        'name': 'product_name'}, inplace=True)"
   ]
  },
  {
   "cell_type": "code",
   "execution_count": 220,
   "metadata": {},
   "outputs": [],
   "source": [
    "# adiconando os preços e nomes dos produtos na tabela vendas\n",
    "sales = pd.merge(sales, product[['product_id', 'price', 'product_name']], on='product_id', how='left')"
   ]
  },
  {
   "cell_type": "code",
   "execution_count": 221,
   "metadata": {},
   "outputs": [
    {
     "data": {
      "text/html": [
       "<div>\n",
       "<style scoped>\n",
       "    .dataframe tbody tr th:only-of-type {\n",
       "        vertical-align: middle;\n",
       "    }\n",
       "\n",
       "    .dataframe tbody tr th {\n",
       "        vertical-align: top;\n",
       "    }\n",
       "\n",
       "    .dataframe thead th {\n",
       "        text-align: right;\n",
       "    }\n",
       "</style>\n",
       "<table border=\"1\" class=\"dataframe\">\n",
       "  <thead>\n",
       "    <tr style=\"text-align: right;\">\n",
       "      <th></th>\n",
       "      <th>sale_id</th>\n",
       "      <th>date</th>\n",
       "      <th>customer_id</th>\n",
       "      <th>product_id</th>\n",
       "      <th>quantity</th>\n",
       "      <th>price</th>\n",
       "      <th>product_name</th>\n",
       "    </tr>\n",
       "  </thead>\n",
       "  <tbody>\n",
       "    <tr>\n",
       "      <th>18577</th>\n",
       "      <td>887677-KBSB0</td>\n",
       "      <td>2023-08-11</td>\n",
       "      <td>328824-PZTC09</td>\n",
       "      <td>177-WCo</td>\n",
       "      <td>3</td>\n",
       "      <td>400 gp</td>\n",
       "      <td>Weapon of Warning</td>\n",
       "    </tr>\n",
       "    <tr>\n",
       "      <th>37264</th>\n",
       "      <td>814564-D4G1T</td>\n",
       "      <td>2021-04-19</td>\n",
       "      <td>328305-WAFFTO</td>\n",
       "      <td>026-NCo</td>\n",
       "      <td>3</td>\n",
       "      <td>1,600 gp</td>\n",
       "      <td>Necklace of Fireballs (4 beads)</td>\n",
       "    </tr>\n",
       "    <tr>\n",
       "      <th>46966</th>\n",
       "      <td>714766-BNGP1</td>\n",
       "      <td>2019-05-17</td>\n",
       "      <td>328390-Z40AQ1</td>\n",
       "      <td>084-ENo</td>\n",
       "      <td>1</td>\n",
       "      <td>250 gp</td>\n",
       "      <td>Eyes of the Eagle</td>\n",
       "    </tr>\n",
       "    <tr>\n",
       "      <th>38305</th>\n",
       "      <td>771505-ANC17</td>\n",
       "      <td>2023-02-09</td>\n",
       "      <td>328452-GMNHIE</td>\n",
       "      <td>85-Srs</td>\n",
       "      <td>5</td>\n",
       "      <td>5 gp</td>\n",
       "      <td>Scale, merchant's</td>\n",
       "    </tr>\n",
       "    <tr>\n",
       "      <th>24865</th>\n",
       "      <td>851665-F2NAN</td>\n",
       "      <td>2022-02-23</td>\n",
       "      <td>328510-2EOWLC</td>\n",
       "      <td>105-QNo</td>\n",
       "      <td>1</td>\n",
       "      <td>250 gp</td>\n",
       "      <td>Quiver of Ehlonna</td>\n",
       "    </tr>\n",
       "    <tr>\n",
       "      <th>15132</th>\n",
       "      <td>914732-KUTCS</td>\n",
       "      <td>2019-10-27</td>\n",
       "      <td>327643-Q3XLRF</td>\n",
       "      <td>05-Jns</td>\n",
       "      <td>4</td>\n",
       "      <td>5 sp</td>\n",
       "      <td>Javelin</td>\n",
       "    </tr>\n",
       "    <tr>\n",
       "      <th>43040</th>\n",
       "      <td>740540-7MIGD</td>\n",
       "      <td>2021-02-18</td>\n",
       "      <td>328257-IVROCV</td>\n",
       "      <td>99-Wrs</td>\n",
       "      <td>1</td>\n",
       "      <td>1 cp</td>\n",
       "      <td>Whetstone</td>\n",
       "    </tr>\n",
       "    <tr>\n",
       "      <th>14164</th>\n",
       "      <td>921464-JFJXE</td>\n",
       "      <td>2020-04-28</td>\n",
       "      <td>327457-ERTJ5P</td>\n",
       "      <td>254-SCo</td>\n",
       "      <td>5</td>\n",
       "      <td>150 gp</td>\n",
       "      <td>Saddle of the Cavalier</td>\n",
       "    </tr>\n",
       "    <tr>\n",
       "      <th>33394</th>\n",
       "      <td>797094-TTXDO</td>\n",
       "      <td>2023-01-05</td>\n",
       "      <td>328623-LOLN3E</td>\n",
       "      <td>132-BSu</td>\n",
       "      <td>2</td>\n",
       "      <td>4,000 gp</td>\n",
       "      <td>Bronze Griffon</td>\n",
       "    </tr>\n",
       "    <tr>\n",
       "      <th>49037</th>\n",
       "      <td>703337-V9JK6</td>\n",
       "      <td>2023-10-04</td>\n",
       "      <td>327550-7PTX63</td>\n",
       "      <td>023-NCo</td>\n",
       "      <td>4</td>\n",
       "      <td>300 gp</td>\n",
       "      <td>Necklace of Fireballs (1 bead)</td>\n",
       "    </tr>\n",
       "  </tbody>\n",
       "</table>\n",
       "</div>"
      ],
      "text/plain": [
       "            sale_id       date    customer_id product_id  quantity     price  \\\n",
       "18577  887677-KBSB0 2023-08-11  328824-PZTC09    177-WCo         3    400 gp   \n",
       "37264  814564-D4G1T 2021-04-19  328305-WAFFTO    026-NCo         3  1,600 gp   \n",
       "46966  714766-BNGP1 2019-05-17  328390-Z40AQ1    084-ENo         1    250 gp   \n",
       "38305  771505-ANC17 2023-02-09  328452-GMNHIE     85-Srs         5      5 gp   \n",
       "24865  851665-F2NAN 2022-02-23  328510-2EOWLC    105-QNo         1    250 gp   \n",
       "15132  914732-KUTCS 2019-10-27  327643-Q3XLRF     05-Jns         4      5 sp   \n",
       "43040  740540-7MIGD 2021-02-18  328257-IVROCV     99-Wrs         1      1 cp   \n",
       "14164  921464-JFJXE 2020-04-28  327457-ERTJ5P    254-SCo         5    150 gp   \n",
       "33394  797094-TTXDO 2023-01-05  328623-LOLN3E    132-BSu         2  4,000 gp   \n",
       "49037  703337-V9JK6 2023-10-04  327550-7PTX63    023-NCo         4    300 gp   \n",
       "\n",
       "                          product_name  \n",
       "18577                Weapon of Warning  \n",
       "37264  Necklace of Fireballs (4 beads)  \n",
       "46966                Eyes of the Eagle  \n",
       "38305                Scale, merchant's  \n",
       "24865                Quiver of Ehlonna  \n",
       "15132                          Javelin  \n",
       "43040                        Whetstone  \n",
       "14164           Saddle of the Cavalier  \n",
       "33394                   Bronze Griffon  \n",
       "49037   Necklace of Fireballs (1 bead)  "
      ]
     },
     "execution_count": 221,
     "metadata": {},
     "output_type": "execute_result"
    }
   ],
   "source": [
    "# verificando uma amostra aleatória das vendas\n",
    "sales.sample(n=10, random_state=42)"
   ]
  },
  {
   "cell_type": "markdown",
   "metadata": {},
   "source": [
    "Conferindo a estrutura da tabela:\n",
    "\n",
    "| sale_id  | date    | customer_id | product_id    | product_name | quantity| product_price | \n",
    "| -------- | ------- | ----------- | --------------| -------------| ------- |-------------- |\n",
    "| -------- |-------- | ----------- | --------------| -------------| ------- |-------------- |\n",
    "| -------- | --------| ----------- | --------------| -------------| ------- |-------------- |"
   ]
  },
  {
   "cell_type": "markdown",
   "metadata": {},
   "source": [
    "## **Gerando influência nos dados:**"
   ]
  },
  {
   "cell_type": "markdown",
   "metadata": {},
   "source": [
    "Essa etapa visa gerar vendas baseada em ocorrências externas, vou utilizar um dataset que eu mesmo criei visando influênciar nas vendas da tabela original.\n",
    "\n",
    "O Dataset contém relatos de encontros aleatórios nas proximidades da cidade, com informações sobre datas, tipos de monstros e tipos de encontros."
   ]
  },
  {
   "cell_type": "markdown",
   "metadata": {},
   "source": [
    "importando a tabela:"
   ]
  },
  {
   "cell_type": "code",
   "execution_count": 222,
   "metadata": {},
   "outputs": [],
   "source": [
    "encounters = pd.read_csv('data/encounters.csv', parse_dates=['date'])"
   ]
  },
  {
   "cell_type": "code",
   "execution_count": 223,
   "metadata": {},
   "outputs": [
    {
     "data": {
      "text/html": [
       "<div>\n",
       "<style scoped>\n",
       "    .dataframe tbody tr th:only-of-type {\n",
       "        vertical-align: middle;\n",
       "    }\n",
       "\n",
       "    .dataframe tbody tr th {\n",
       "        vertical-align: top;\n",
       "    }\n",
       "\n",
       "    .dataframe thead th {\n",
       "        text-align: right;\n",
       "    }\n",
       "</style>\n",
       "<table border=\"1\" class=\"dataframe\">\n",
       "  <thead>\n",
       "    <tr style=\"text-align: right;\">\n",
       "      <th></th>\n",
       "      <th>enc_id</th>\n",
       "      <th>date</th>\n",
       "      <th>monster</th>\n",
       "      <th>encounter_type</th>\n",
       "    </tr>\n",
       "  </thead>\n",
       "  <tbody>\n",
       "    <tr>\n",
       "      <th>0</th>\n",
       "      <td>7900-C4E5</td>\n",
       "      <td>2021-09-10</td>\n",
       "      <td>owlbear</td>\n",
       "      <td>combat</td>\n",
       "    </tr>\n",
       "    <tr>\n",
       "      <th>1</th>\n",
       "      <td>7901-HRDU</td>\n",
       "      <td>2019-08-19</td>\n",
       "      <td>owlbear</td>\n",
       "      <td>combat</td>\n",
       "    </tr>\n",
       "    <tr>\n",
       "      <th>2</th>\n",
       "      <td>7902-4XSZ</td>\n",
       "      <td>2022-06-21</td>\n",
       "      <td>owlbear</td>\n",
       "      <td>sighting</td>\n",
       "    </tr>\n",
       "    <tr>\n",
       "      <th>3</th>\n",
       "      <td>7903-JNVC</td>\n",
       "      <td>2023-07-04</td>\n",
       "      <td>owlbear</td>\n",
       "      <td>sighting</td>\n",
       "    </tr>\n",
       "    <tr>\n",
       "      <th>4</th>\n",
       "      <td>7904-7HR6</td>\n",
       "      <td>2023-08-14</td>\n",
       "      <td>owlbear</td>\n",
       "      <td>sighting</td>\n",
       "    </tr>\n",
       "  </tbody>\n",
       "</table>\n",
       "</div>"
      ],
      "text/plain": [
       "      enc_id       date  monster encounter_type\n",
       "0  7900-C4E5 2021-09-10  owlbear         combat\n",
       "1  7901-HRDU 2019-08-19  owlbear         combat\n",
       "2  7902-4XSZ 2022-06-21  owlbear       sighting\n",
       "3  7903-JNVC 2023-07-04  owlbear       sighting\n",
       "4  7904-7HR6 2023-08-14  owlbear       sighting"
      ]
     },
     "execution_count": 223,
     "metadata": {},
     "output_type": "execute_result"
    }
   ],
   "source": [
    "encounters.head()"
   ]
  },
  {
   "cell_type": "code",
   "execution_count": 224,
   "metadata": {},
   "outputs": [],
   "source": [
    "# quantidade de encontros\n",
    "count_encounters =  len(encounters)"
   ]
  },
  {
   "cell_type": "code",
   "execution_count": 225,
   "metadata": {},
   "outputs": [],
   "source": [
    "encounters_sales = pd.DataFrame({\n",
    "          'sale_id': [generate_sale_id(i) for i in range(count_encounters)],\n",
    "          'date': [random.choice(list(encounters['date'])) for _ in range(count_encounters)],\n",
    "          'customer_id': [random.choice(list(customers['customer_id'])) for _ in range(count_encounters)],\n",
    "          'product_id': [random.choice(list(product['product_id'])) for _ in range(count_encounters)],\n",
    "          'quantity': [random.randint(1, 5) for _ in range(count_encounters)]\n",
    "          })"
   ]
  },
  {
   "cell_type": "code",
   "execution_count": 226,
   "metadata": {},
   "outputs": [],
   "source": [
    "# adiconando os preços e nomes dos produtos na tabela\n",
    "encounters_sales = pd.merge(encounters_sales, product[['product_id', 'price', 'product_name']], on='product_id', how='left')"
   ]
  },
  {
   "cell_type": "markdown",
   "metadata": {},
   "source": [
    "Agora vou alterar as datas para um valor aletório de 1 até 7 dias depois das datas originais."
   ]
  },
  {
   "cell_type": "code",
   "execution_count": 227,
   "metadata": {},
   "outputs": [],
   "source": [
    "# função para retornar um data aleatória de 1 até 7 dias após a data original\n",
    "def random_date(x):\n",
    "    date = x + timedelta(random.randint(1, 7))\n",
    "    return date"
   ]
  },
  {
   "cell_type": "code",
   "execution_count": 228,
   "metadata": {},
   "outputs": [],
   "source": [
    "# aplicando a função\n",
    "encounters_sales['date'] = encounters_sales['date'].apply(random_date)"
   ]
  },
  {
   "cell_type": "code",
   "execution_count": 229,
   "metadata": {},
   "outputs": [
    {
     "data": {
      "text/html": [
       "<div>\n",
       "<style scoped>\n",
       "    .dataframe tbody tr th:only-of-type {\n",
       "        vertical-align: middle;\n",
       "    }\n",
       "\n",
       "    .dataframe tbody tr th {\n",
       "        vertical-align: top;\n",
       "    }\n",
       "\n",
       "    .dataframe thead th {\n",
       "        text-align: right;\n",
       "    }\n",
       "</style>\n",
       "<table border=\"1\" class=\"dataframe\">\n",
       "  <thead>\n",
       "    <tr style=\"text-align: right;\">\n",
       "      <th></th>\n",
       "      <th>sale_id</th>\n",
       "      <th>date</th>\n",
       "      <th>customer_id</th>\n",
       "      <th>product_id</th>\n",
       "      <th>quantity</th>\n",
       "      <th>price</th>\n",
       "      <th>product_name</th>\n",
       "    </tr>\n",
       "  </thead>\n",
       "  <tbody>\n",
       "    <tr>\n",
       "      <th>409</th>\n",
       "      <td>288509-YBWKX</td>\n",
       "      <td>2017-05-07</td>\n",
       "      <td>327903-J9BOQ0</td>\n",
       "      <td>101-NNo</td>\n",
       "      <td>5</td>\n",
       "      <td>800 gp</td>\n",
       "      <td>Necklace of Adaption</td>\n",
       "    </tr>\n",
       "    <tr>\n",
       "      <th>388</th>\n",
       "      <td>288488-RVJUE</td>\n",
       "      <td>2017-05-11</td>\n",
       "      <td>327461-64CIYH</td>\n",
       "      <td>106-Hnt</td>\n",
       "      <td>5</td>\n",
       "      <td>3 gp</td>\n",
       "      <td>Horn</td>\n",
       "    </tr>\n",
       "    <tr>\n",
       "      <th>55</th>\n",
       "      <td>261155-5HD0L</td>\n",
       "      <td>2017-05-23</td>\n",
       "      <td>327651-0YSXPN</td>\n",
       "      <td>127-WNo</td>\n",
       "      <td>2</td>\n",
       "      <td>4,000 gp</td>\n",
       "      <td>Winged Boots</td>\n",
       "    </tr>\n",
       "    <tr>\n",
       "      <th>442</th>\n",
       "      <td>288542-QES4N</td>\n",
       "      <td>2017-05-25</td>\n",
       "      <td>327967-4XYJOA</td>\n",
       "      <td>138-ISu</td>\n",
       "      <td>4</td>\n",
       "      <td>3,000 gp</td>\n",
       "      <td>Ivory Goat (Terror)</td>\n",
       "    </tr>\n",
       "    <tr>\n",
       "      <th>506</th>\n",
       "      <td>288606-BNEV7</td>\n",
       "      <td>2017-06-01</td>\n",
       "      <td>328032-8QEOZ0</td>\n",
       "      <td>78-Qrs</td>\n",
       "      <td>5</td>\n",
       "      <td>1 gp</td>\n",
       "      <td>Quiver</td>\n",
       "    </tr>\n",
       "    <tr>\n",
       "      <th>...</th>\n",
       "      <td>...</td>\n",
       "      <td>...</td>\n",
       "      <td>...</td>\n",
       "      <td>...</td>\n",
       "      <td>...</td>\n",
       "      <td>...</td>\n",
       "      <td>...</td>\n",
       "    </tr>\n",
       "    <tr>\n",
       "      <th>120</th>\n",
       "      <td>261220-5C575</td>\n",
       "      <td>2023-10-19</td>\n",
       "      <td>328342-Q7W7JP</td>\n",
       "      <td>02-Ted</td>\n",
       "      <td>2</td>\n",
       "      <td>150 gp</td>\n",
       "      <td>Truth serum</td>\n",
       "    </tr>\n",
       "    <tr>\n",
       "      <th>21</th>\n",
       "      <td>261121-6BPOC</td>\n",
       "      <td>2023-10-21</td>\n",
       "      <td>328751-VCEQFG</td>\n",
       "      <td>081-ENo</td>\n",
       "      <td>3</td>\n",
       "      <td>200 gp</td>\n",
       "      <td>Eversmoking Bottle</td>\n",
       "    </tr>\n",
       "    <tr>\n",
       "      <th>534</th>\n",
       "      <td>288634-1Y7D8</td>\n",
       "      <td>2023-10-24</td>\n",
       "      <td>328640-ZAQ7QH</td>\n",
       "      <td>54-Hrs</td>\n",
       "      <td>3</td>\n",
       "      <td>5 gp</td>\n",
       "      <td>Hunting Trap</td>\n",
       "    </tr>\n",
       "    <tr>\n",
       "      <th>0</th>\n",
       "      <td>261100-86BBQ</td>\n",
       "      <td>2023-10-25</td>\n",
       "      <td>328635-I9MQVA</td>\n",
       "      <td>218-TCo</td>\n",
       "      <td>1</td>\n",
       "      <td>2,0500 gp</td>\n",
       "      <td>Tentacle Rod</td>\n",
       "    </tr>\n",
       "    <tr>\n",
       "      <th>353</th>\n",
       "      <td>288453-F97KU</td>\n",
       "      <td>2023-10-29</td>\n",
       "      <td>328288-SHMLFZ</td>\n",
       "      <td>082-ENo</td>\n",
       "      <td>3</td>\n",
       "      <td>900 gp</td>\n",
       "      <td>Eyes of Charming</td>\n",
       "    </tr>\n",
       "  </tbody>\n",
       "</table>\n",
       "<p>594 rows × 7 columns</p>\n",
       "</div>"
      ],
      "text/plain": [
       "          sale_id       date    customer_id product_id  quantity      price  \\\n",
       "409  288509-YBWKX 2017-05-07  327903-J9BOQ0    101-NNo         5     800 gp   \n",
       "388  288488-RVJUE 2017-05-11  327461-64CIYH    106-Hnt         5       3 gp   \n",
       "55   261155-5HD0L 2017-05-23  327651-0YSXPN    127-WNo         2   4,000 gp   \n",
       "442  288542-QES4N 2017-05-25  327967-4XYJOA    138-ISu         4   3,000 gp   \n",
       "506  288606-BNEV7 2017-06-01  328032-8QEOZ0     78-Qrs         5       1 gp   \n",
       "..            ...        ...            ...        ...       ...        ...   \n",
       "120  261220-5C575 2023-10-19  328342-Q7W7JP     02-Ted         2     150 gp   \n",
       "21   261121-6BPOC 2023-10-21  328751-VCEQFG    081-ENo         3     200 gp   \n",
       "534  288634-1Y7D8 2023-10-24  328640-ZAQ7QH     54-Hrs         3       5 gp   \n",
       "0    261100-86BBQ 2023-10-25  328635-I9MQVA    218-TCo         1  2,0500 gp   \n",
       "353  288453-F97KU 2023-10-29  328288-SHMLFZ    082-ENo         3     900 gp   \n",
       "\n",
       "             product_name  \n",
       "409  Necklace of Adaption  \n",
       "388                  Horn  \n",
       "55           Winged Boots  \n",
       "442   Ivory Goat (Terror)  \n",
       "506                Quiver  \n",
       "..                    ...  \n",
       "120           Truth serum  \n",
       "21     Eversmoking Bottle  \n",
       "534          Hunting Trap  \n",
       "0            Tentacle Rod  \n",
       "353      Eyes of Charming  \n",
       "\n",
       "[594 rows x 7 columns]"
      ]
     },
     "execution_count": 229,
     "metadata": {},
     "output_type": "execute_result"
    }
   ],
   "source": [
    "encounters_sales.sort_values(by='date')"
   ]
  },
  {
   "cell_type": "markdown",
   "metadata": {},
   "source": [
    "Agora basta concatenar as novas vendas geradas na tabela original de vendas."
   ]
  },
  {
   "cell_type": "code",
   "execution_count": 230,
   "metadata": {},
   "outputs": [],
   "source": [
    "sales = pd.concat([sales, encounters_sales]).reset_index(drop=True)"
   ]
  },
  {
   "cell_type": "markdown",
   "metadata": {},
   "source": [
    "A tabela está finalizada, porém antes de transformar em um DB, vou criar algumas inconsistências."
   ]
  },
  {
   "cell_type": "markdown",
   "metadata": {},
   "source": [
    "## **Criando incosistências na tabela de vendas:**"
   ]
  },
  {
   "cell_type": "markdown",
   "metadata": {},
   "source": [
    "**Motivação:**\n",
    "\n",
    "Resolvi criar algumas incosistências para aumentar o nível de dificuldade para as pessoas que vão usar essa database para praticar análise de dados.\n",
    "\n",
    "**O que será feito?**\n",
    "- Gerar duplicatas\n",
    "- Gerar valores vazios\n",
    "- Gerar Outliers\n"
   ]
  },
  {
   "cell_type": "markdown",
   "metadata": {},
   "source": [
    "### **Gerando Duplicatas:**"
   ]
  },
  {
   "cell_type": "code",
   "execution_count": 231,
   "metadata": {},
   "outputs": [],
   "source": [
    "# duplicando 7% dos dados de forma aleatória\n",
    "sales_copy = sales.sample(frac=0.07, random_state=42).copy()"
   ]
  },
  {
   "cell_type": "code",
   "execution_count": 232,
   "metadata": {},
   "outputs": [
    {
     "data": {
      "text/html": [
       "<div>\n",
       "<style scoped>\n",
       "    .dataframe tbody tr th:only-of-type {\n",
       "        vertical-align: middle;\n",
       "    }\n",
       "\n",
       "    .dataframe tbody tr th {\n",
       "        vertical-align: top;\n",
       "    }\n",
       "\n",
       "    .dataframe thead th {\n",
       "        text-align: right;\n",
       "    }\n",
       "</style>\n",
       "<table border=\"1\" class=\"dataframe\">\n",
       "  <thead>\n",
       "    <tr style=\"text-align: right;\">\n",
       "      <th></th>\n",
       "      <th>sale_id</th>\n",
       "      <th>date</th>\n",
       "      <th>customer_id</th>\n",
       "      <th>product_id</th>\n",
       "      <th>quantity</th>\n",
       "      <th>price</th>\n",
       "      <th>product_name</th>\n",
       "    </tr>\n",
       "  </thead>\n",
       "  <tbody>\n",
       "    <tr>\n",
       "      <th>45482</th>\n",
       "      <td>723982-FNK5C</td>\n",
       "      <td>2019-11-24</td>\n",
       "      <td>327777-6T1NTM</td>\n",
       "      <td>100-Bnt</td>\n",
       "      <td>3</td>\n",
       "      <td>30 gp</td>\n",
       "      <td>Bagpipe</td>\n",
       "    </tr>\n",
       "    <tr>\n",
       "      <th>40430</th>\n",
       "      <td>755930-WMTOP</td>\n",
       "      <td>2022-12-20</td>\n",
       "      <td>327573-OXFQ8M</td>\n",
       "      <td>17-Brs</td>\n",
       "      <td>2</td>\n",
       "      <td>1 gp</td>\n",
       "      <td>Bedroll</td>\n",
       "    </tr>\n",
       "    <tr>\n",
       "      <th>5610</th>\n",
       "      <td>985610-VB0BS</td>\n",
       "      <td>2023-10-30</td>\n",
       "      <td>328134-OYG9ZQ</td>\n",
       "      <td>31-Wns</td>\n",
       "      <td>3</td>\n",
       "      <td>15 gp</td>\n",
       "      <td>Warhammer</td>\n",
       "    </tr>\n",
       "    <tr>\n",
       "      <th>3085</th>\n",
       "      <td>998885-PD7CD</td>\n",
       "      <td>2017-06-09</td>\n",
       "      <td>327488-0L7253</td>\n",
       "      <td>10-Bed</td>\n",
       "      <td>3</td>\n",
       "      <td>500 gp</td>\n",
       "      <td>Burnt othur fumes</td>\n",
       "    </tr>\n",
       "    <tr>\n",
       "      <th>46761</th>\n",
       "      <td>714561-YE9FR</td>\n",
       "      <td>2020-11-02</td>\n",
       "      <td>327844-9QM3P9</td>\n",
       "      <td>08-Eed</td>\n",
       "      <td>3</td>\n",
       "      <td>300 gp</td>\n",
       "      <td>Essence of ether</td>\n",
       "    </tr>\n",
       "  </tbody>\n",
       "</table>\n",
       "</div>"
      ],
      "text/plain": [
       "            sale_id       date    customer_id product_id  quantity   price  \\\n",
       "45482  723982-FNK5C 2019-11-24  327777-6T1NTM    100-Bnt         3   30 gp   \n",
       "40430  755930-WMTOP 2022-12-20  327573-OXFQ8M     17-Brs         2    1 gp   \n",
       "5610   985610-VB0BS 2023-10-30  328134-OYG9ZQ     31-Wns         3   15 gp   \n",
       "3085   998885-PD7CD 2017-06-09  327488-0L7253     10-Bed         3  500 gp   \n",
       "46761  714561-YE9FR 2020-11-02  327844-9QM3P9     08-Eed         3  300 gp   \n",
       "\n",
       "            product_name  \n",
       "45482            Bagpipe  \n",
       "40430            Bedroll  \n",
       "5610           Warhammer  \n",
       "3085   Burnt othur fumes  \n",
       "46761   Essence of ether  "
      ]
     },
     "execution_count": 232,
     "metadata": {},
     "output_type": "execute_result"
    }
   ],
   "source": [
    "sales_copy.head()"
   ]
  },
  {
   "cell_type": "markdown",
   "metadata": {},
   "source": [
    "Verificando duplicatas na tabela original:"
   ]
  },
  {
   "cell_type": "code",
   "execution_count": 233,
   "metadata": {},
   "outputs": [
    {
     "data": {
      "text/plain": [
       "0"
      ]
     },
     "execution_count": 233,
     "metadata": {},
     "output_type": "execute_result"
    }
   ],
   "source": [
    "sales.duplicated().sum()"
   ]
  },
  {
   "cell_type": "code",
   "execution_count": 234,
   "metadata": {},
   "outputs": [],
   "source": [
    "sales = pd.concat([sales, sales_copy])"
   ]
  },
  {
   "cell_type": "code",
   "execution_count": 235,
   "metadata": {},
   "outputs": [
    {
     "name": "stdout",
     "output_type": "stream",
     "text": [
      "Duplicatas na tabela 'sales':  3600\n"
     ]
    }
   ],
   "source": [
    "print(\"Duplicatas na tabela 'sales': \", sales.duplicated().sum())"
   ]
  },
  {
   "cell_type": "markdown",
   "metadata": {},
   "source": [
    "### **Gerando valores vazios:**"
   ]
  },
  {
   "cell_type": "code",
   "execution_count": 236,
   "metadata": {},
   "outputs": [
    {
     "data": {
      "text/plain": [
       "sale_id         0\n",
       "date            0\n",
       "customer_id     0\n",
       "product_id      0\n",
       "quantity        0\n",
       "price           0\n",
       "product_name    0\n",
       "dtype: int64"
      ]
     },
     "execution_count": 236,
     "metadata": {},
     "output_type": "execute_result"
    }
   ],
   "source": [
    "# verificando se há valores vazios\n",
    "sales.isna().sum()"
   ]
  },
  {
   "cell_type": "code",
   "execution_count": 237,
   "metadata": {},
   "outputs": [],
   "source": [
    "# escolhendo aleatóriamente os índices das colunas que vou usar\n",
    "sales_id_NA_idx = sales['sale_id'].sample(frac=0.001, random_state=42).index\n",
    "customer_id_NA_idx = sales['customer_id'].sample(frac=0.001, random_state=43).index\n",
    "product_id_NA_idx = sales['product_id'].sample(frac=0.002, random_state=44).index\n",
    "product_name_NA_idx = sales['product_name'].sample(frac=0.003, random_state=45).index"
   ]
  },
  {
   "cell_type": "code",
   "execution_count": 238,
   "metadata": {},
   "outputs": [
    {
     "name": "stderr",
     "output_type": "stream",
     "text": [
      "C:\\Users\\rapos\\AppData\\Local\\Temp\\ipykernel_10008\\126450001.py:2: SettingWithCopyWarning: \n",
      "A value is trying to be set on a copy of a slice from a DataFrame\n",
      "\n",
      "See the caveats in the documentation: https://pandas.pydata.org/pandas-docs/stable/user_guide/indexing.html#returning-a-view-versus-a-copy\n",
      "  sales['sale_id'].loc[sales_id_NA_idx] = np.nan\n",
      "C:\\Users\\rapos\\AppData\\Local\\Temp\\ipykernel_10008\\126450001.py:3: SettingWithCopyWarning: \n",
      "A value is trying to be set on a copy of a slice from a DataFrame\n",
      "\n",
      "See the caveats in the documentation: https://pandas.pydata.org/pandas-docs/stable/user_guide/indexing.html#returning-a-view-versus-a-copy\n",
      "  sales['customer_id'].loc[customer_id_NA_idx] = np.nan\n",
      "C:\\Users\\rapos\\AppData\\Local\\Temp\\ipykernel_10008\\126450001.py:4: SettingWithCopyWarning: \n",
      "A value is trying to be set on a copy of a slice from a DataFrame\n",
      "\n",
      "See the caveats in the documentation: https://pandas.pydata.org/pandas-docs/stable/user_guide/indexing.html#returning-a-view-versus-a-copy\n",
      "  sales['product_id'].loc[product_id_NA_idx] = np.nan\n",
      "C:\\Users\\rapos\\AppData\\Local\\Temp\\ipykernel_10008\\126450001.py:5: SettingWithCopyWarning: \n",
      "A value is trying to be set on a copy of a slice from a DataFrame\n",
      "\n",
      "See the caveats in the documentation: https://pandas.pydata.org/pandas-docs/stable/user_guide/indexing.html#returning-a-view-versus-a-copy\n",
      "  sales['product_name'].loc[product_name_NA_idx] = np.nan\n"
     ]
    }
   ],
   "source": [
    "# criando valores vazios\n",
    "sales['sale_id'].loc[sales_id_NA_idx] = np.nan\n",
    "sales['customer_id'].loc[customer_id_NA_idx] = np.nan\n",
    "sales['product_id'].loc[product_id_NA_idx] = np.nan\n",
    "sales['product_name'].loc[product_name_NA_idx] = np.nan"
   ]
  },
  {
   "cell_type": "code",
   "execution_count": 239,
   "metadata": {},
   "outputs": [
    {
     "data": {
      "text/plain": [
       "sale_id          70\n",
       "date              0\n",
       "customer_id      64\n",
       "product_id      121\n",
       "quantity          0\n",
       "price             0\n",
       "product_name    186\n",
       "dtype: int64"
      ]
     },
     "execution_count": 239,
     "metadata": {},
     "output_type": "execute_result"
    }
   ],
   "source": [
    "# verificando se há valores vazios novamente\n",
    "sales.isna().sum()"
   ]
  },
  {
   "cell_type": "markdown",
   "metadata": {},
   "source": [
    "### **Gerando Outliers:**"
   ]
  },
  {
   "cell_type": "code",
   "execution_count": 240,
   "metadata": {},
   "outputs": [],
   "source": [
    "# escolhendo os índices\n",
    "qty_outlier9_idx = sales['quantity'].sample(frac=0.005, random_state=42).index\n",
    "qty_outlier6_idx = sales['quantity'].sample(frac=0.002, random_state=43).index\n",
    "qty_outlier30_idx = sales['quantity'].sample(frac=0.001, random_state=44).index\n",
    "qty_outlier50_idx = sales['quantity'].sample(frac=0.001, random_state=45).index"
   ]
  },
  {
   "cell_type": "code",
   "execution_count": 241,
   "metadata": {},
   "outputs": [
    {
     "name": "stderr",
     "output_type": "stream",
     "text": [
      "C:\\Users\\rapos\\AppData\\Local\\Temp\\ipykernel_10008\\344872991.py:2: SettingWithCopyWarning: \n",
      "A value is trying to be set on a copy of a slice from a DataFrame\n",
      "\n",
      "See the caveats in the documentation: https://pandas.pydata.org/pandas-docs/stable/user_guide/indexing.html#returning-a-view-versus-a-copy\n",
      "  sales['quantity'].loc[qty_outlier9_idx] = 9999\n",
      "C:\\Users\\rapos\\AppData\\Local\\Temp\\ipykernel_10008\\344872991.py:3: SettingWithCopyWarning: \n",
      "A value is trying to be set on a copy of a slice from a DataFrame\n",
      "\n",
      "See the caveats in the documentation: https://pandas.pydata.org/pandas-docs/stable/user_guide/indexing.html#returning-a-view-versus-a-copy\n",
      "  sales['quantity'].loc[qty_outlier6_idx] = 6666\n",
      "C:\\Users\\rapos\\AppData\\Local\\Temp\\ipykernel_10008\\344872991.py:4: SettingWithCopyWarning: \n",
      "A value is trying to be set on a copy of a slice from a DataFrame\n",
      "\n",
      "See the caveats in the documentation: https://pandas.pydata.org/pandas-docs/stable/user_guide/indexing.html#returning-a-view-versus-a-copy\n",
      "  sales['quantity'].loc[qty_outlier30_idx] = 30\n",
      "C:\\Users\\rapos\\AppData\\Local\\Temp\\ipykernel_10008\\344872991.py:5: SettingWithCopyWarning: \n",
      "A value is trying to be set on a copy of a slice from a DataFrame\n",
      "\n",
      "See the caveats in the documentation: https://pandas.pydata.org/pandas-docs/stable/user_guide/indexing.html#returning-a-view-versus-a-copy\n",
      "  sales['quantity'].loc[qty_outlier50_idx] = 50\n"
     ]
    }
   ],
   "source": [
    "# mudando os valores\n",
    "sales['quantity'].loc[qty_outlier9_idx] = 9999\n",
    "sales['quantity'].loc[qty_outlier6_idx] = 6666\n",
    "sales['quantity'].loc[qty_outlier30_idx] = 30\n",
    "sales['quantity'].loc[qty_outlier50_idx] = 50"
   ]
  },
  {
   "cell_type": "code",
   "execution_count": null,
   "metadata": {},
   "outputs": [
    {
     "data": {
      "text/html": [
       "<div>\n",
       "<style scoped>\n",
       "    .dataframe tbody tr th:only-of-type {\n",
       "        vertical-align: middle;\n",
       "    }\n",
       "\n",
       "    .dataframe tbody tr th {\n",
       "        vertical-align: top;\n",
       "    }\n",
       "\n",
       "    .dataframe thead th {\n",
       "        text-align: right;\n",
       "    }\n",
       "</style>\n",
       "<table border=\"1\" class=\"dataframe\">\n",
       "  <thead>\n",
       "    <tr style=\"text-align: right;\">\n",
       "      <th></th>\n",
       "      <th>sale_id</th>\n",
       "      <th>date</th>\n",
       "      <th>customer_id</th>\n",
       "      <th>product_id</th>\n",
       "      <th>quantity</th>\n",
       "      <th>price</th>\n",
       "      <th>product_name</th>\n",
       "    </tr>\n",
       "  </thead>\n",
       "  <tbody>\n",
       "    <tr>\n",
       "      <th>42085</th>\n",
       "      <td>950685-R7S8C</td>\n",
       "      <td>2020-12-22</td>\n",
       "      <td>325419-X5O31Y</td>\n",
       "      <td>71-Prs</td>\n",
       "      <td>9999</td>\n",
       "      <td>2 gp</td>\n",
       "      <td>Pick, miner's</td>\n",
       "    </tr>\n",
       "    <tr>\n",
       "      <th>31430</th>\n",
       "      <td>024030-5O46Q</td>\n",
       "      <td>2022-11-28</td>\n",
       "      <td>325826-5KZ3NW</td>\n",
       "      <td>101-Dnt</td>\n",
       "      <td>9999</td>\n",
       "      <td>6 gp</td>\n",
       "      <td>Drum</td>\n",
       "    </tr>\n",
       "    <tr>\n",
       "      <th>1566</th>\n",
       "      <td>304166-QAOP3</td>\n",
       "      <td>2022-06-11</td>\n",
       "      <td>325748-LG1ZHQ</td>\n",
       "      <td>03-Gns</td>\n",
       "      <td>9999</td>\n",
       "      <td>2 sp</td>\n",
       "      <td>Greatclub</td>\n",
       "    </tr>\n",
       "    <tr>\n",
       "      <th>23534</th>\n",
       "      <td>NaN</td>\n",
       "      <td>2022-02-22</td>\n",
       "      <td>325565-585I87</td>\n",
       "      <td>01-Por</td>\n",
       "      <td>9999</td>\n",
       "      <td>5 gp</td>\n",
       "      <td>Padded</td>\n",
       "    </tr>\n",
       "    <tr>\n",
       "      <th>15854</th>\n",
       "      <td>150554-HYTFL</td>\n",
       "      <td>2021-05-03</td>\n",
       "      <td>325432-EYCE4Q</td>\n",
       "      <td>39-Sus</td>\n",
       "      <td>9999</td>\n",
       "      <td>1 gp</td>\n",
       "      <td>Sprig of Mistletoe</td>\n",
       "    </tr>\n",
       "    <tr>\n",
       "      <th>...</th>\n",
       "      <td>...</td>\n",
       "      <td>...</td>\n",
       "      <td>...</td>\n",
       "      <td>...</td>\n",
       "      <td>...</td>\n",
       "      <td>...</td>\n",
       "      <td>...</td>\n",
       "    </tr>\n",
       "    <tr>\n",
       "      <th>30726</th>\n",
       "      <td>028226-YO6WC</td>\n",
       "      <td>2018-02-10</td>\n",
       "      <td>324825-5G10UR</td>\n",
       "      <td>184-ICo</td>\n",
       "      <td>1</td>\n",
       "      <td>1,200 gp</td>\n",
       "      <td>Ioun Stone Protection</td>\n",
       "    </tr>\n",
       "    <tr>\n",
       "      <th>30746</th>\n",
       "      <td>028246-3ZYQ5</td>\n",
       "      <td>2018-05-03</td>\n",
       "      <td>324918-VN8LFJ</td>\n",
       "      <td>247-PCo</td>\n",
       "      <td>1</td>\n",
       "      <td>900 gp</td>\n",
       "      <td>Periapt of Wound Closure</td>\n",
       "    </tr>\n",
       "    <tr>\n",
       "      <th>30757</th>\n",
       "      <td>028257-78964</td>\n",
       "      <td>2019-10-20</td>\n",
       "      <td>325104-6WW8YL</td>\n",
       "      <td>06-Pon</td>\n",
       "      <td>1</td>\n",
       "      <td>100 gp</td>\n",
       "      <td>Potion of Poison</td>\n",
       "    </tr>\n",
       "    <tr>\n",
       "      <th>30768</th>\n",
       "      <td>028268-4YNKM</td>\n",
       "      <td>2017-10-14</td>\n",
       "      <td>324677-JXRPJ1</td>\n",
       "      <td>012-GCo</td>\n",
       "      <td>1</td>\n",
       "      <td>350 gp</td>\n",
       "      <td>Gem of Brightness</td>\n",
       "    </tr>\n",
       "    <tr>\n",
       "      <th>29688</th>\n",
       "      <td>032588-Q0TZK</td>\n",
       "      <td>2020-02-09</td>\n",
       "      <td>325137-9LZS34</td>\n",
       "      <td>185-ICo</td>\n",
       "      <td>1</td>\n",
       "      <td>1,0500 gp</td>\n",
       "      <td>Ioun Stone Reserve</td>\n",
       "    </tr>\n",
       "  </tbody>\n",
       "</table>\n",
       "<p>55026 rows × 7 columns</p>\n",
       "</div>"
      ],
      "text/plain": [
       "            sale_id       date    customer_id product_id  quantity      price  \\\n",
       "42085  950685-R7S8C 2020-12-22  325419-X5O31Y     71-Prs      9999       2 gp   \n",
       "31430  024030-5O46Q 2022-11-28  325826-5KZ3NW    101-Dnt      9999       6 gp   \n",
       "1566   304166-QAOP3 2022-06-11  325748-LG1ZHQ     03-Gns      9999       2 sp   \n",
       "23534           NaN 2022-02-22  325565-585I87     01-Por      9999       5 gp   \n",
       "15854  150554-HYTFL 2021-05-03  325432-EYCE4Q     39-Sus      9999       1 gp   \n",
       "...             ...        ...            ...        ...       ...        ...   \n",
       "30726  028226-YO6WC 2018-02-10  324825-5G10UR    184-ICo         1   1,200 gp   \n",
       "30746  028246-3ZYQ5 2018-05-03  324918-VN8LFJ    247-PCo         1     900 gp   \n",
       "30757  028257-78964 2019-10-20  325104-6WW8YL     06-Pon         1     100 gp   \n",
       "30768  028268-4YNKM 2017-10-14  324677-JXRPJ1    012-GCo         1     350 gp   \n",
       "29688  032588-Q0TZK 2020-02-09  325137-9LZS34    185-ICo         1  1,0500 gp   \n",
       "\n",
       "                   product_name  \n",
       "42085             Pick, miner's  \n",
       "31430                      Drum  \n",
       "1566                  Greatclub  \n",
       "23534                    Padded  \n",
       "15854        Sprig of Mistletoe  \n",
       "...                         ...  \n",
       "30726     Ioun Stone Protection  \n",
       "30746  Periapt of Wound Closure  \n",
       "30757          Potion of Poison  \n",
       "30768         Gem of Brightness  \n",
       "29688        Ioun Stone Reserve  \n",
       "\n",
       "[55026 rows x 7 columns]"
      ]
     },
     "execution_count": 149,
     "metadata": {},
     "output_type": "execute_result"
    }
   ],
   "source": [
    "sales.sort_values(by='quantity', ascending=False)"
   ]
  },
  {
   "cell_type": "markdown",
   "metadata": {},
   "source": [
    "Agora o dataset está pronto para ser tramfsormado em um bando de dados SQL."
   ]
  },
  {
   "cell_type": "markdown",
   "metadata": {},
   "source": [
    "<hr style=\"height:3px;border-width:0;color:blue;background-color:blue\">"
   ]
  },
  {
   "cell_type": "markdown",
   "metadata": {},
   "source": [
    "# **Transformando em um BD SQLite.**"
   ]
  },
  {
   "cell_type": "markdown",
   "metadata": {},
   "source": [
    "Como eu pretendo disponibilizar esse BD no Kaggle, eu vou tranformar em um BD SQLite por ser mais comum na plataforma."
   ]
  },
  {
   "cell_type": "markdown",
   "metadata": {},
   "source": [
    "**Minhas tabelas:**\n",
    "* adventure_gear\n",
    "* magic_items_filtered\n",
    "* weapons\n",
    "* potions_filtered\n",
    "* poisons\n",
    "* armor\n",
    "* product\n",
    "* sales\n",
    "* costumers"
   ]
  },
  {
   "cell_type": "code",
   "execution_count": 250,
   "metadata": {},
   "outputs": [],
   "source": [
    "import sqlite3"
   ]
  },
  {
   "cell_type": "code",
   "execution_count": 251,
   "metadata": {},
   "outputs": [
    {
     "data": {
      "text/html": [
       "<div>\n",
       "<style scoped>\n",
       "    .dataframe tbody tr th:only-of-type {\n",
       "        vertical-align: middle;\n",
       "    }\n",
       "\n",
       "    .dataframe tbody tr th {\n",
       "        vertical-align: top;\n",
       "    }\n",
       "\n",
       "    .dataframe thead th {\n",
       "        text-align: right;\n",
       "    }\n",
       "</style>\n",
       "<table border=\"1\" class=\"dataframe\">\n",
       "  <thead>\n",
       "    <tr style=\"text-align: right;\">\n",
       "      <th></th>\n",
       "      <th>item_id</th>\n",
       "      <th>name</th>\n",
       "      <th>price</th>\n",
       "      <th>weight</th>\n",
       "      <th>category</th>\n",
       "      <th>type</th>\n",
       "    </tr>\n",
       "  </thead>\n",
       "  <tbody>\n",
       "    <tr>\n",
       "      <th>0</th>\n",
       "      <td>01-Ars</td>\n",
       "      <td>Abacus</td>\n",
       "      <td>2 gp</td>\n",
       "      <td>2 lb.</td>\n",
       "      <td>Others</td>\n",
       "      <td>adventure_gear</td>\n",
       "    </tr>\n",
       "    <tr>\n",
       "      <th>1</th>\n",
       "      <td>02-Ars</td>\n",
       "      <td>Acid (vial)</td>\n",
       "      <td>25 gp</td>\n",
       "      <td>1 lb.</td>\n",
       "      <td>Others</td>\n",
       "      <td>adventure_gear</td>\n",
       "    </tr>\n",
       "    <tr>\n",
       "      <th>2</th>\n",
       "      <td>03-Ars</td>\n",
       "      <td>Alchemist's Fire (flask)</td>\n",
       "      <td>50 gp</td>\n",
       "      <td>1 lb.</td>\n",
       "      <td>Others</td>\n",
       "      <td>adventure_gear</td>\n",
       "    </tr>\n",
       "    <tr>\n",
       "      <th>3</th>\n",
       "      <td>04-Aon</td>\n",
       "      <td>Arrows (20)</td>\n",
       "      <td>1 gp</td>\n",
       "      <td>1 lb.</td>\n",
       "      <td>Ammunition</td>\n",
       "      <td>adventure_gear</td>\n",
       "    </tr>\n",
       "    <tr>\n",
       "      <th>4</th>\n",
       "      <td>05-Bon</td>\n",
       "      <td>Blowgun Needle (50)</td>\n",
       "      <td>1 gp</td>\n",
       "      <td>1 lb.</td>\n",
       "      <td>Ammunition</td>\n",
       "      <td>adventure_gear</td>\n",
       "    </tr>\n",
       "  </tbody>\n",
       "</table>\n",
       "</div>"
      ],
      "text/plain": [
       "  item_id                      name  price weight    category            type\n",
       "0  01-Ars                    Abacus   2 gp  2 lb.      Others  adventure_gear\n",
       "1  02-Ars               Acid (vial)  25 gp  1 lb.      Others  adventure_gear\n",
       "2  03-Ars  Alchemist's Fire (flask)  50 gp  1 lb.      Others  adventure_gear\n",
       "3  04-Aon               Arrows (20)   1 gp  1 lb.  Ammunition  adventure_gear\n",
       "4  05-Bon       Blowgun Needle (50)   1 gp  1 lb.  Ammunition  adventure_gear"
      ]
     },
     "execution_count": 251,
     "metadata": {},
     "output_type": "execute_result"
    }
   ],
   "source": [
    "adventure_gear.head()"
   ]
  },
  {
   "cell_type": "code",
   "execution_count": 252,
   "metadata": {},
   "outputs": [
    {
     "data": {
      "text/html": [
       "<div>\n",
       "<style scoped>\n",
       "    .dataframe tbody tr th:only-of-type {\n",
       "        vertical-align: middle;\n",
       "    }\n",
       "\n",
       "    .dataframe tbody tr th {\n",
       "        vertical-align: top;\n",
       "    }\n",
       "\n",
       "    .dataframe thead th {\n",
       "        text-align: right;\n",
       "    }\n",
       "</style>\n",
       "<table border=\"1\" class=\"dataframe\">\n",
       "  <thead>\n",
       "    <tr style=\"text-align: right;\">\n",
       "      <th></th>\n",
       "      <th>item_id</th>\n",
       "      <th>name</th>\n",
       "      <th>price</th>\n",
       "      <th>rarity</th>\n",
       "      <th>category</th>\n",
       "      <th>type</th>\n",
       "    </tr>\n",
       "  </thead>\n",
       "  <tbody>\n",
       "    <tr>\n",
       "      <th>0</th>\n",
       "      <td>001-ACo</td>\n",
       "      <td>Ammunition +1 (Per)</td>\n",
       "      <td>15 gp</td>\n",
       "      <td>Uncommon</td>\n",
       "      <td>Consumable Items</td>\n",
       "      <td>magic_item</td>\n",
       "    </tr>\n",
       "    <tr>\n",
       "      <th>1</th>\n",
       "      <td>002-ACo</td>\n",
       "      <td>Ammunition +2 (Per)</td>\n",
       "      <td>50 gp</td>\n",
       "      <td>Rare</td>\n",
       "      <td>Consumable Items</td>\n",
       "      <td>magic_item</td>\n",
       "    </tr>\n",
       "    <tr>\n",
       "      <th>4</th>\n",
       "      <td>005-BCo</td>\n",
       "      <td>Bead of Force</td>\n",
       "      <td>1,000 gp</td>\n",
       "      <td>Rare</td>\n",
       "      <td>Consumable Items</td>\n",
       "      <td>magic_item</td>\n",
       "    </tr>\n",
       "    <tr>\n",
       "      <th>5</th>\n",
       "      <td>006-CCo</td>\n",
       "      <td>Chime of Opening</td>\n",
       "      <td>400 gp</td>\n",
       "      <td>Rare</td>\n",
       "      <td>Consumable Items</td>\n",
       "      <td>magic_item</td>\n",
       "    </tr>\n",
       "    <tr>\n",
       "      <th>6</th>\n",
       "      <td>007-DCo</td>\n",
       "      <td>Deck of Illusions</td>\n",
       "      <td>900 gp</td>\n",
       "      <td>Uncommon</td>\n",
       "      <td>Consumable Items</td>\n",
       "      <td>magic_item</td>\n",
       "    </tr>\n",
       "  </tbody>\n",
       "</table>\n",
       "</div>"
      ],
      "text/plain": [
       "   item_id                 name     price    rarity          category  \\\n",
       "0  001-ACo  Ammunition +1 (Per)     15 gp  Uncommon  Consumable Items   \n",
       "1  002-ACo  Ammunition +2 (Per)     50 gp      Rare  Consumable Items   \n",
       "4  005-BCo        Bead of Force  1,000 gp      Rare  Consumable Items   \n",
       "5  006-CCo     Chime of Opening    400 gp      Rare  Consumable Items   \n",
       "6  007-DCo    Deck of Illusions    900 gp  Uncommon  Consumable Items   \n",
       "\n",
       "         type  \n",
       "0  magic_item  \n",
       "1  magic_item  \n",
       "4  magic_item  \n",
       "5  magic_item  \n",
       "6  magic_item  "
      ]
     },
     "execution_count": 252,
     "metadata": {},
     "output_type": "execute_result"
    }
   ],
   "source": [
    "magic_items_filtered.head()"
   ]
  },
  {
   "cell_type": "code",
   "execution_count": 253,
   "metadata": {},
   "outputs": [
    {
     "data": {
      "text/html": [
       "<div>\n",
       "<style scoped>\n",
       "    .dataframe tbody tr th:only-of-type {\n",
       "        vertical-align: middle;\n",
       "    }\n",
       "\n",
       "    .dataframe tbody tr th {\n",
       "        vertical-align: top;\n",
       "    }\n",
       "\n",
       "    .dataframe thead th {\n",
       "        text-align: right;\n",
       "    }\n",
       "</style>\n",
       "<table border=\"1\" class=\"dataframe\">\n",
       "  <thead>\n",
       "    <tr style=\"text-align: right;\">\n",
       "      <th></th>\n",
       "      <th>item_id</th>\n",
       "      <th>name</th>\n",
       "      <th>price</th>\n",
       "      <th>damage</th>\n",
       "      <th>weight</th>\n",
       "      <th>properties</th>\n",
       "      <th>category</th>\n",
       "      <th>type</th>\n",
       "    </tr>\n",
       "  </thead>\n",
       "  <tbody>\n",
       "    <tr>\n",
       "      <th>0</th>\n",
       "      <td>01-Cns</td>\n",
       "      <td>Club</td>\n",
       "      <td>1 sp</td>\n",
       "      <td>1d4 Bludgeon</td>\n",
       "      <td>2 lb.</td>\n",
       "      <td>Light</td>\n",
       "      <td>Simple Melee Weapons</td>\n",
       "      <td>weapon</td>\n",
       "    </tr>\n",
       "    <tr>\n",
       "      <th>1</th>\n",
       "      <td>02-Dns</td>\n",
       "      <td>Dagger</td>\n",
       "      <td>2 gp</td>\n",
       "      <td>1d4 Piercing</td>\n",
       "      <td>1 lb.</td>\n",
       "      <td>Finesse, Light, Thrown (20/60)</td>\n",
       "      <td>Simple Melee Weapons</td>\n",
       "      <td>weapon</td>\n",
       "    </tr>\n",
       "    <tr>\n",
       "      <th>2</th>\n",
       "      <td>03-Gns</td>\n",
       "      <td>Greatclub</td>\n",
       "      <td>2 sp</td>\n",
       "      <td>1d8 Bludgeon</td>\n",
       "      <td>10 lb.</td>\n",
       "      <td>Two-handed</td>\n",
       "      <td>Simple Melee Weapons</td>\n",
       "      <td>weapon</td>\n",
       "    </tr>\n",
       "    <tr>\n",
       "      <th>3</th>\n",
       "      <td>04-Hns</td>\n",
       "      <td>Handaxe</td>\n",
       "      <td>5 gp</td>\n",
       "      <td>1d6 Slashing</td>\n",
       "      <td>2 lb.</td>\n",
       "      <td>Light, Thrown (20/60)</td>\n",
       "      <td>Simple Melee Weapons</td>\n",
       "      <td>weapon</td>\n",
       "    </tr>\n",
       "    <tr>\n",
       "      <th>4</th>\n",
       "      <td>05-Jns</td>\n",
       "      <td>Javelin</td>\n",
       "      <td>5 sp</td>\n",
       "      <td>1d6 Piercing</td>\n",
       "      <td>2 lb.</td>\n",
       "      <td>Thrown (30/120)</td>\n",
       "      <td>Simple Melee Weapons</td>\n",
       "      <td>weapon</td>\n",
       "    </tr>\n",
       "  </tbody>\n",
       "</table>\n",
       "</div>"
      ],
      "text/plain": [
       "  item_id       name price        damage  weight  \\\n",
       "0  01-Cns       Club  1 sp  1d4 Bludgeon   2 lb.   \n",
       "1  02-Dns     Dagger  2 gp  1d4 Piercing   1 lb.   \n",
       "2  03-Gns  Greatclub  2 sp  1d8 Bludgeon  10 lb.   \n",
       "3  04-Hns    Handaxe  5 gp  1d6 Slashing   2 lb.   \n",
       "4  05-Jns    Javelin  5 sp  1d6 Piercing   2 lb.   \n",
       "\n",
       "                       properties              category    type  \n",
       "0                           Light  Simple Melee Weapons  weapon  \n",
       "1  Finesse, Light, Thrown (20/60)  Simple Melee Weapons  weapon  \n",
       "2                      Two-handed  Simple Melee Weapons  weapon  \n",
       "3           Light, Thrown (20/60)  Simple Melee Weapons  weapon  \n",
       "4                 Thrown (30/120)  Simple Melee Weapons  weapon  "
      ]
     },
     "execution_count": 253,
     "metadata": {},
     "output_type": "execute_result"
    }
   ],
   "source": [
    "weapons.head()"
   ]
  },
  {
   "cell_type": "code",
   "execution_count": 254,
   "metadata": {},
   "outputs": [
    {
     "data": {
      "text/html": [
       "<div>\n",
       "<style scoped>\n",
       "    .dataframe tbody tr th:only-of-type {\n",
       "        vertical-align: middle;\n",
       "    }\n",
       "\n",
       "    .dataframe tbody tr th {\n",
       "        vertical-align: top;\n",
       "    }\n",
       "\n",
       "    .dataframe thead th {\n",
       "        text-align: right;\n",
       "    }\n",
       "</style>\n",
       "<table border=\"1\" class=\"dataframe\">\n",
       "  <thead>\n",
       "    <tr style=\"text-align: right;\">\n",
       "      <th></th>\n",
       "      <th>item_id</th>\n",
       "      <th>name</th>\n",
       "      <th>price</th>\n",
       "      <th>ac</th>\n",
       "      <th>weight</th>\n",
       "      <th>requirements</th>\n",
       "      <th>stealth</th>\n",
       "      <th>category</th>\n",
       "      <th>type</th>\n",
       "    </tr>\n",
       "  </thead>\n",
       "  <tbody>\n",
       "    <tr>\n",
       "      <th>0</th>\n",
       "      <td>01-Por</td>\n",
       "      <td>Padded</td>\n",
       "      <td>5 gp</td>\n",
       "      <td>11 + Dex</td>\n",
       "      <td>8 lb.</td>\n",
       "      <td>NaN</td>\n",
       "      <td>Disadvantage</td>\n",
       "      <td>Light Armor</td>\n",
       "      <td>armor</td>\n",
       "    </tr>\n",
       "    <tr>\n",
       "      <th>1</th>\n",
       "      <td>02-Lor</td>\n",
       "      <td>Leather</td>\n",
       "      <td>10 gp</td>\n",
       "      <td>11 + Dex</td>\n",
       "      <td>10 lb.</td>\n",
       "      <td>NaN</td>\n",
       "      <td>NaN</td>\n",
       "      <td>Light Armor</td>\n",
       "      <td>armor</td>\n",
       "    </tr>\n",
       "    <tr>\n",
       "      <th>2</th>\n",
       "      <td>03-Sor</td>\n",
       "      <td>Studded Leather</td>\n",
       "      <td>45 gp</td>\n",
       "      <td>12 + Dex</td>\n",
       "      <td>13 lb.</td>\n",
       "      <td>NaN</td>\n",
       "      <td>NaN</td>\n",
       "      <td>Light Armor</td>\n",
       "      <td>armor</td>\n",
       "    </tr>\n",
       "    <tr>\n",
       "      <th>3</th>\n",
       "      <td>04-Hor</td>\n",
       "      <td>Hide</td>\n",
       "      <td>10 gp</td>\n",
       "      <td>12 + Dex(max2)</td>\n",
       "      <td>12 lb.</td>\n",
       "      <td>NaN</td>\n",
       "      <td>NaN</td>\n",
       "      <td>Medium Armor</td>\n",
       "      <td>armor</td>\n",
       "    </tr>\n",
       "    <tr>\n",
       "      <th>4</th>\n",
       "      <td>05-Cor</td>\n",
       "      <td>Chain Shirt</td>\n",
       "      <td>50 gp</td>\n",
       "      <td>13 + Dex(max2)</td>\n",
       "      <td>20 lb.</td>\n",
       "      <td>NaN</td>\n",
       "      <td>NaN</td>\n",
       "      <td>Medium Armor</td>\n",
       "      <td>armor</td>\n",
       "    </tr>\n",
       "  </tbody>\n",
       "</table>\n",
       "</div>"
      ],
      "text/plain": [
       "  item_id             name  price              ac  weight requirements  \\\n",
       "0  01-Por           Padded   5 gp        11 + Dex   8 lb.          NaN   \n",
       "1  02-Lor          Leather  10 gp        11 + Dex  10 lb.          NaN   \n",
       "2  03-Sor  Studded Leather  45 gp        12 + Dex  13 lb.          NaN   \n",
       "3  04-Hor             Hide  10 gp  12 + Dex(max2)  12 lb.          NaN   \n",
       "4  05-Cor      Chain Shirt  50 gp  13 + Dex(max2)  20 lb.          NaN   \n",
       "\n",
       "        stealth      category   type  \n",
       "0  Disadvantage   Light Armor  armor  \n",
       "1           NaN   Light Armor  armor  \n",
       "2           NaN   Light Armor  armor  \n",
       "3           NaN  Medium Armor  armor  \n",
       "4           NaN  Medium Armor  armor  "
      ]
     },
     "execution_count": 254,
     "metadata": {},
     "output_type": "execute_result"
    }
   ],
   "source": [
    "armor.head()"
   ]
  },
  {
   "cell_type": "code",
   "execution_count": 255,
   "metadata": {},
   "outputs": [
    {
     "data": {
      "text/html": [
       "<div>\n",
       "<style scoped>\n",
       "    .dataframe tbody tr th:only-of-type {\n",
       "        vertical-align: middle;\n",
       "    }\n",
       "\n",
       "    .dataframe tbody tr th {\n",
       "        vertical-align: top;\n",
       "    }\n",
       "\n",
       "    .dataframe thead th {\n",
       "        text-align: right;\n",
       "    }\n",
       "</style>\n",
       "<table border=\"1\" class=\"dataframe\">\n",
       "  <thead>\n",
       "    <tr style=\"text-align: right;\">\n",
       "      <th></th>\n",
       "      <th>item_id</th>\n",
       "      <th>name</th>\n",
       "      <th>price</th>\n",
       "      <th>rarity</th>\n",
       "      <th>type</th>\n",
       "    </tr>\n",
       "  </thead>\n",
       "  <tbody>\n",
       "    <tr>\n",
       "      <th>0</th>\n",
       "      <td>01-Pon</td>\n",
       "      <td>Potion of Healing</td>\n",
       "      <td>50 gp</td>\n",
       "      <td>Common</td>\n",
       "      <td>potion</td>\n",
       "    </tr>\n",
       "    <tr>\n",
       "      <th>1</th>\n",
       "      <td>02-Pon</td>\n",
       "      <td>Potion of Greater Healing</td>\n",
       "      <td>150 gp</td>\n",
       "      <td>Uncommon</td>\n",
       "      <td>potion</td>\n",
       "    </tr>\n",
       "    <tr>\n",
       "      <th>2</th>\n",
       "      <td>03-Pre</td>\n",
       "      <td>Potion of Superior Healing</td>\n",
       "      <td>450 gp</td>\n",
       "      <td>Rare</td>\n",
       "      <td>potion</td>\n",
       "    </tr>\n",
       "    <tr>\n",
       "      <th>4</th>\n",
       "      <td>05-Ere</td>\n",
       "      <td>Elixir of Health</td>\n",
       "      <td>120 gp</td>\n",
       "      <td>Rare</td>\n",
       "      <td>potion</td>\n",
       "    </tr>\n",
       "    <tr>\n",
       "      <th>5</th>\n",
       "      <td>06-Pon</td>\n",
       "      <td>Potion of Poison</td>\n",
       "      <td>100 gp</td>\n",
       "      <td>Uncommon</td>\n",
       "      <td>potion</td>\n",
       "    </tr>\n",
       "  </tbody>\n",
       "</table>\n",
       "</div>"
      ],
      "text/plain": [
       "  item_id                        name    price    rarity    type\n",
       "0  01-Pon           Potion of Healing    50 gp    Common  potion\n",
       "1  02-Pon   Potion of Greater Healing   150 gp  Uncommon  potion\n",
       "2  03-Pre  Potion of Superior Healing  450 gp       Rare  potion\n",
       "4  05-Ere            Elixir of Health   120 gp      Rare  potion\n",
       "5  06-Pon            Potion of Poison   100 gp  Uncommon  potion"
      ]
     },
     "execution_count": 255,
     "metadata": {},
     "output_type": "execute_result"
    }
   ],
   "source": [
    "potions_filtered.head()"
   ]
  },
  {
   "cell_type": "code",
   "execution_count": 256,
   "metadata": {},
   "outputs": [
    {
     "data": {
      "text/html": [
       "<div>\n",
       "<style scoped>\n",
       "    .dataframe tbody tr th:only-of-type {\n",
       "        vertical-align: middle;\n",
       "    }\n",
       "\n",
       "    .dataframe tbody tr th {\n",
       "        vertical-align: top;\n",
       "    }\n",
       "\n",
       "    .dataframe thead th {\n",
       "        text-align: right;\n",
       "    }\n",
       "</style>\n",
       "<table border=\"1\" class=\"dataframe\">\n",
       "  <thead>\n",
       "    <tr style=\"text-align: right;\">\n",
       "      <th></th>\n",
       "      <th>item_id</th>\n",
       "      <th>name</th>\n",
       "      <th>price</th>\n",
       "      <th>category</th>\n",
       "      <th>dc</th>\n",
       "      <th>type</th>\n",
       "    </tr>\n",
       "  </thead>\n",
       "  <tbody>\n",
       "    <tr>\n",
       "      <th>0</th>\n",
       "      <td>01-Aed</td>\n",
       "      <td>Assassin's blood</td>\n",
       "      <td>150 gp</td>\n",
       "      <td>Ingested</td>\n",
       "      <td>10.0</td>\n",
       "      <td>poison</td>\n",
       "    </tr>\n",
       "    <tr>\n",
       "      <th>1</th>\n",
       "      <td>02-Ted</td>\n",
       "      <td>Truth serum</td>\n",
       "      <td>150 gp</td>\n",
       "      <td>Ingested</td>\n",
       "      <td>11.0</td>\n",
       "      <td>poison</td>\n",
       "    </tr>\n",
       "    <tr>\n",
       "      <th>2</th>\n",
       "      <td>03-Cct</td>\n",
       "      <td>Carrion crawler mucus</td>\n",
       "      <td>200 gp</td>\n",
       "      <td>Contact</td>\n",
       "      <td>13.0</td>\n",
       "      <td>poison</td>\n",
       "    </tr>\n",
       "    <tr>\n",
       "      <th>3</th>\n",
       "      <td>04-Dry</td>\n",
       "      <td>Drow poison</td>\n",
       "      <td>200 gp</td>\n",
       "      <td>Injury</td>\n",
       "      <td>13.0</td>\n",
       "      <td>poison</td>\n",
       "    </tr>\n",
       "    <tr>\n",
       "      <th>4</th>\n",
       "      <td>05-Sry</td>\n",
       "      <td>Serpent venom</td>\n",
       "      <td>200 gp</td>\n",
       "      <td>Injury</td>\n",
       "      <td>11.0</td>\n",
       "      <td>poison</td>\n",
       "    </tr>\n",
       "  </tbody>\n",
       "</table>\n",
       "</div>"
      ],
      "text/plain": [
       "  item_id                   name   price  category    dc    type\n",
       "0  01-Aed       Assassin's blood  150 gp  Ingested  10.0  poison\n",
       "1  02-Ted            Truth serum  150 gp  Ingested  11.0  poison\n",
       "2  03-Cct  Carrion crawler mucus  200 gp   Contact  13.0  poison\n",
       "3  04-Dry            Drow poison  200 gp    Injury  13.0  poison\n",
       "4  05-Sry          Serpent venom  200 gp    Injury  11.0  poison"
      ]
     },
     "execution_count": 256,
     "metadata": {},
     "output_type": "execute_result"
    }
   ],
   "source": [
    "poisons.head()"
   ]
  },
  {
   "cell_type": "code",
   "execution_count": 257,
   "metadata": {},
   "outputs": [
    {
     "data": {
      "text/html": [
       "<div>\n",
       "<style scoped>\n",
       "    .dataframe tbody tr th:only-of-type {\n",
       "        vertical-align: middle;\n",
       "    }\n",
       "\n",
       "    .dataframe tbody tr th {\n",
       "        vertical-align: top;\n",
       "    }\n",
       "\n",
       "    .dataframe thead th {\n",
       "        text-align: right;\n",
       "    }\n",
       "</style>\n",
       "<table border=\"1\" class=\"dataframe\">\n",
       "  <thead>\n",
       "    <tr style=\"text-align: right;\">\n",
       "      <th></th>\n",
       "      <th>product_id</th>\n",
       "      <th>product_name</th>\n",
       "      <th>price</th>\n",
       "      <th>type</th>\n",
       "    </tr>\n",
       "  </thead>\n",
       "  <tbody>\n",
       "    <tr>\n",
       "      <th>0</th>\n",
       "      <td>001-ACo</td>\n",
       "      <td>Ammunition +1 (Per)</td>\n",
       "      <td>15 gp</td>\n",
       "      <td>magic_item</td>\n",
       "    </tr>\n",
       "    <tr>\n",
       "      <th>1</th>\n",
       "      <td>002-ACo</td>\n",
       "      <td>Ammunition +2 (Per)</td>\n",
       "      <td>50 gp</td>\n",
       "      <td>magic_item</td>\n",
       "    </tr>\n",
       "    <tr>\n",
       "      <th>2</th>\n",
       "      <td>005-BCo</td>\n",
       "      <td>Bead of Force</td>\n",
       "      <td>1,000 gp</td>\n",
       "      <td>magic_item</td>\n",
       "    </tr>\n",
       "    <tr>\n",
       "      <th>3</th>\n",
       "      <td>006-CCo</td>\n",
       "      <td>Chime of Opening</td>\n",
       "      <td>400 gp</td>\n",
       "      <td>magic_item</td>\n",
       "    </tr>\n",
       "    <tr>\n",
       "      <th>4</th>\n",
       "      <td>007-DCo</td>\n",
       "      <td>Deck of Illusions</td>\n",
       "      <td>900 gp</td>\n",
       "      <td>magic_item</td>\n",
       "    </tr>\n",
       "  </tbody>\n",
       "</table>\n",
       "</div>"
      ],
      "text/plain": [
       "  product_id         product_name     price        type\n",
       "0    001-ACo  Ammunition +1 (Per)     15 gp  magic_item\n",
       "1    002-ACo  Ammunition +2 (Per)     50 gp  magic_item\n",
       "2    005-BCo        Bead of Force  1,000 gp  magic_item\n",
       "3    006-CCo     Chime of Opening    400 gp  magic_item\n",
       "4    007-DCo    Deck of Illusions    900 gp  magic_item"
      ]
     },
     "execution_count": 257,
     "metadata": {},
     "output_type": "execute_result"
    }
   ],
   "source": [
    "product.head()"
   ]
  },
  {
   "cell_type": "code",
   "execution_count": 258,
   "metadata": {},
   "outputs": [
    {
     "data": {
      "text/html": [
       "<div>\n",
       "<style scoped>\n",
       "    .dataframe tbody tr th:only-of-type {\n",
       "        vertical-align: middle;\n",
       "    }\n",
       "\n",
       "    .dataframe tbody tr th {\n",
       "        vertical-align: top;\n",
       "    }\n",
       "\n",
       "    .dataframe thead th {\n",
       "        text-align: right;\n",
       "    }\n",
       "</style>\n",
       "<table border=\"1\" class=\"dataframe\">\n",
       "  <thead>\n",
       "    <tr style=\"text-align: right;\">\n",
       "      <th></th>\n",
       "      <th>sale_id</th>\n",
       "      <th>date</th>\n",
       "      <th>customer_id</th>\n",
       "      <th>product_id</th>\n",
       "      <th>quantity</th>\n",
       "      <th>price</th>\n",
       "      <th>product_name</th>\n",
       "    </tr>\n",
       "  </thead>\n",
       "  <tbody>\n",
       "    <tr>\n",
       "      <th>0</th>\n",
       "      <td>019600-4WBAB</td>\n",
       "      <td>2019-01-03</td>\n",
       "      <td>328842-Z0I083</td>\n",
       "      <td>062-BNo</td>\n",
       "      <td>1</td>\n",
       "      <td>2,000 gp</td>\n",
       "      <td>Broom of Flying</td>\n",
       "    </tr>\n",
       "    <tr>\n",
       "      <th>1</th>\n",
       "      <td>019601-Q0FOT</td>\n",
       "      <td>2020-10-10</td>\n",
       "      <td>328144-E58HUX</td>\n",
       "      <td>09-Sns</td>\n",
       "      <td>2</td>\n",
       "      <td>1 gp</td>\n",
       "      <td>Sickle</td>\n",
       "    </tr>\n",
       "    <tr>\n",
       "      <th>2</th>\n",
       "      <td>019602-10GDM</td>\n",
       "      <td>2018-03-21</td>\n",
       "      <td>328712-ZZKW3G</td>\n",
       "      <td>86-Srs</td>\n",
       "      <td>2</td>\n",
       "      <td>5 sp</td>\n",
       "      <td>Sealing wax</td>\n",
       "    </tr>\n",
       "    <tr>\n",
       "      <th>3</th>\n",
       "      <td>019603-IPC8Q</td>\n",
       "      <td>2018-11-15</td>\n",
       "      <td>327646-NKOMV2</td>\n",
       "      <td>19-Brs</td>\n",
       "      <td>4</td>\n",
       "      <td>5 sp</td>\n",
       "      <td>Blanket</td>\n",
       "    </tr>\n",
       "    <tr>\n",
       "      <th>4</th>\n",
       "      <td>019604-O6P43</td>\n",
       "      <td>2023-10-19</td>\n",
       "      <td>327979-DEJ31G</td>\n",
       "      <td>296-ICo</td>\n",
       "      <td>1</td>\n",
       "      <td>2,500 gp</td>\n",
       "      <td>Instrument of the Bards - Canaith Mandolin</td>\n",
       "    </tr>\n",
       "  </tbody>\n",
       "</table>\n",
       "</div>"
      ],
      "text/plain": [
       "        sale_id       date    customer_id product_id  quantity     price  \\\n",
       "0  019600-4WBAB 2019-01-03  328842-Z0I083    062-BNo         1  2,000 gp   \n",
       "1  019601-Q0FOT 2020-10-10  328144-E58HUX     09-Sns         2      1 gp   \n",
       "2  019602-10GDM 2018-03-21  328712-ZZKW3G     86-Srs         2      5 sp   \n",
       "3  019603-IPC8Q 2018-11-15  327646-NKOMV2     19-Brs         4      5 sp   \n",
       "4  019604-O6P43 2023-10-19  327979-DEJ31G    296-ICo         1  2,500 gp   \n",
       "\n",
       "                                 product_name  \n",
       "0                             Broom of Flying  \n",
       "1                                      Sickle  \n",
       "2                                 Sealing wax  \n",
       "3                                     Blanket  \n",
       "4  Instrument of the Bards - Canaith Mandolin  "
      ]
     },
     "execution_count": 258,
     "metadata": {},
     "output_type": "execute_result"
    }
   ],
   "source": [
    "sales.head()"
   ]
  },
  {
   "cell_type": "code",
   "execution_count": 259,
   "metadata": {},
   "outputs": [
    {
     "data": {
      "text/html": [
       "<div>\n",
       "<style scoped>\n",
       "    .dataframe tbody tr th:only-of-type {\n",
       "        vertical-align: middle;\n",
       "    }\n",
       "\n",
       "    .dataframe tbody tr th {\n",
       "        vertical-align: top;\n",
       "    }\n",
       "\n",
       "    .dataframe thead th {\n",
       "        text-align: right;\n",
       "    }\n",
       "</style>\n",
       "<table border=\"1\" class=\"dataframe\">\n",
       "  <thead>\n",
       "    <tr style=\"text-align: right;\">\n",
       "      <th></th>\n",
       "      <th>customer_id</th>\n",
       "      <th>name</th>\n",
       "      <th>sex</th>\n",
       "      <th>race</th>\n",
       "      <th>age</th>\n",
       "      <th>class</th>\n",
       "    </tr>\n",
       "  </thead>\n",
       "  <tbody>\n",
       "    <tr>\n",
       "      <th>0</th>\n",
       "      <td>327455-753LC5</td>\n",
       "      <td>Veklani  Daargen</td>\n",
       "      <td>female</td>\n",
       "      <td>Elf</td>\n",
       "      <td>661</td>\n",
       "      <td>Warlock</td>\n",
       "    </tr>\n",
       "    <tr>\n",
       "      <th>1</th>\n",
       "      <td>327456-8DRC11</td>\n",
       "      <td>Kasaki  Wygarthe</td>\n",
       "      <td>female</td>\n",
       "      <td>Half-Elf</td>\n",
       "      <td>100</td>\n",
       "      <td>Wizard</td>\n",
       "    </tr>\n",
       "    <tr>\n",
       "      <th>2</th>\n",
       "      <td>327457-ERTJ5P</td>\n",
       "      <td>Rosalyn  Faringray</td>\n",
       "      <td>female</td>\n",
       "      <td>Halfling</td>\n",
       "      <td>40</td>\n",
       "      <td>Barbarian</td>\n",
       "    </tr>\n",
       "    <tr>\n",
       "      <th>3</th>\n",
       "      <td>327458-HT0HL9</td>\n",
       "      <td>Atalya  Webb</td>\n",
       "      <td>female</td>\n",
       "      <td>Tiefling</td>\n",
       "      <td>55</td>\n",
       "      <td>Monk</td>\n",
       "    </tr>\n",
       "    <tr>\n",
       "      <th>4</th>\n",
       "      <td>327459-XPSEIM</td>\n",
       "      <td>Grenenzel  Lyfalia</td>\n",
       "      <td>female</td>\n",
       "      <td>Half-Orc</td>\n",
       "      <td>43</td>\n",
       "      <td>Bard</td>\n",
       "    </tr>\n",
       "  </tbody>\n",
       "</table>\n",
       "</div>"
      ],
      "text/plain": [
       "     customer_id                name     sex      race  age      class\n",
       "0  327455-753LC5    Veklani  Daargen  female       Elf  661    Warlock\n",
       "1  327456-8DRC11    Kasaki  Wygarthe  female  Half-Elf  100     Wizard\n",
       "2  327457-ERTJ5P  Rosalyn  Faringray  female  Halfling   40  Barbarian\n",
       "3  327458-HT0HL9        Atalya  Webb  female  Tiefling   55       Monk\n",
       "4  327459-XPSEIM  Grenenzel  Lyfalia  female  Half-Orc   43       Bard"
      ]
     },
     "execution_count": 259,
     "metadata": {},
     "output_type": "execute_result"
    }
   ],
   "source": [
    "customers.head()"
   ]
  },
  {
   "cell_type": "code",
   "execution_count": 260,
   "metadata": {},
   "outputs": [],
   "source": [
    "# criando conexão\n",
    "conn = sqlite3.connect(\"adventurer_mart.db\")"
   ]
  },
  {
   "cell_type": "markdown",
   "metadata": {},
   "source": [
    "Inserindo as tabelas no BD:"
   ]
  },
  {
   "cell_type": "code",
   "execution_count": 261,
   "metadata": {},
   "outputs": [
    {
     "data": {
      "text/plain": [
       "1423"
      ]
     },
     "execution_count": 261,
     "metadata": {},
     "output_type": "execute_result"
    }
   ],
   "source": [
    "adventure_gear.to_sql('details_adventure_gear', conn, index=False, if_exists='replace')\n",
    "magic_items_filtered.to_sql('details_magic_items', conn, index=False, if_exists='replace')\n",
    "weapons.to_sql('details_weapons', conn, index=False, if_exists='replace')\n",
    "armor.to_sql('details_armor', conn, index=False, if_exists='replace')\n",
    "potions_filtered.to_sql('details_potions', conn, index=False, if_exists='replace')\n",
    "poisons.to_sql('details_poisons', conn, index=False, if_exists='replace')\n",
    "product.to_sql('all_products', conn, index=False, if_exists='replace')\n",
    "sales.to_sql('sales', conn, index=False, if_exists='replace')\n",
    "customers.to_sql('costumers', conn, index=False, if_exists='replace')\n"
   ]
  },
  {
   "cell_type": "code",
   "execution_count": 262,
   "metadata": {},
   "outputs": [],
   "source": [
    "#fechando a conexão\n",
    "conn.close()"
   ]
  },
  {
   "cell_type": "markdown",
   "metadata": {},
   "source": [
    "**FIM.**"
   ]
  }
 ],
 "metadata": {
  "kernelspec": {
   "display_name": "Python 3",
   "language": "python",
   "name": "python3"
  },
  "language_info": {
   "codemirror_mode": {
    "name": "ipython",
    "version": 3
   },
   "file_extension": ".py",
   "mimetype": "text/x-python",
   "name": "python",
   "nbconvert_exporter": "python",
   "pygments_lexer": "ipython3",
   "version": "3.11.0"
  }
 },
 "nbformat": 4,
 "nbformat_minor": 2
}
