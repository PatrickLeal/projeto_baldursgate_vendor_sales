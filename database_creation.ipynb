{
 "cells": [
  {
   "cell_type": "markdown",
   "metadata": {},
   "source": [
    "**Importing Libraries**"
   ]
  },
  {
   "cell_type": "code",
   "execution_count": 2,
   "metadata": {},
   "outputs": [],
   "source": [
    "import pandas as pd\n",
    "import numpy as np\n",
    "import random\n",
    "\n",
    "# Definindo a semente para reprodução\n",
    "np.random.seed(42)\n",
    "random.seed(42)"
   ]
  },
  {
   "cell_type": "markdown",
   "metadata": {},
   "source": [
    "**Reading Files**"
   ]
  },
  {
   "cell_type": "code",
   "execution_count": 154,
   "metadata": {},
   "outputs": [],
   "source": [
    "magic_items = pd.read_csv('data/magic_items.csv', sep=';')\n",
    "adventure_gear = pd.read_csv('data/adventuring_gear.csv', sep=';')\n",
    "armor = pd.read_csv('data/armor.csv', sep=';')\n",
    "poisons = pd.read_csv('data/poisons.csv', sep=';')\n",
    "potions = pd.read_csv('data/potions.csv', sep=';')\n",
    "weapons = pd.read_csv('data/weapons.csv', sep=';')\n",
    "names = pd.read_csv('data/names.csv', sep=';')"
   ]
  },
  {
   "cell_type": "code",
   "execution_count": 3,
   "metadata": {},
   "outputs": [
    {
     "data": {
      "text/html": [
       "<div>\n",
       "<style scoped>\n",
       "    .dataframe tbody tr th:only-of-type {\n",
       "        vertical-align: middle;\n",
       "    }\n",
       "\n",
       "    .dataframe tbody tr th {\n",
       "        vertical-align: top;\n",
       "    }\n",
       "\n",
       "    .dataframe thead th {\n",
       "        text-align: right;\n",
       "    }\n",
       "</style>\n",
       "<table border=\"1\" class=\"dataframe\">\n",
       "  <thead>\n",
       "    <tr style=\"text-align: right;\">\n",
       "      <th></th>\n",
       "      <th>item_id</th>\n",
       "      <th>Name</th>\n",
       "      <th>Price</th>\n",
       "      <th>Rarity</th>\n",
       "      <th>Category</th>\n",
       "    </tr>\n",
       "  </thead>\n",
       "  <tbody>\n",
       "    <tr>\n",
       "      <th>0</th>\n",
       "      <td>001-ACo</td>\n",
       "      <td>Ammunition +1 (Per)</td>\n",
       "      <td>15 gp</td>\n",
       "      <td>Uncommon</td>\n",
       "      <td>Consumable Items</td>\n",
       "    </tr>\n",
       "    <tr>\n",
       "      <th>1</th>\n",
       "      <td>002-ACo</td>\n",
       "      <td>Ammunition +2 (Per)</td>\n",
       "      <td>50 gp</td>\n",
       "      <td>Rare</td>\n",
       "      <td>Consumable Items</td>\n",
       "    </tr>\n",
       "    <tr>\n",
       "      <th>2</th>\n",
       "      <td>003-ACo</td>\n",
       "      <td>Ammunition +3 (Per)</td>\n",
       "      <td>250 gp</td>\n",
       "      <td>Very Rare</td>\n",
       "      <td>Consumable Items</td>\n",
       "    </tr>\n",
       "    <tr>\n",
       "      <th>3</th>\n",
       "      <td>004-ACo</td>\n",
       "      <td>Arrow of Slaying</td>\n",
       "      <td>400 gp</td>\n",
       "      <td>Very Rare</td>\n",
       "      <td>Consumable Items</td>\n",
       "    </tr>\n",
       "    <tr>\n",
       "      <th>4</th>\n",
       "      <td>005-BCo</td>\n",
       "      <td>Bead of Force</td>\n",
       "      <td>1,000 gp</td>\n",
       "      <td>Rare</td>\n",
       "      <td>Consumable Items</td>\n",
       "    </tr>\n",
       "  </tbody>\n",
       "</table>\n",
       "</div>"
      ],
      "text/plain": [
       "   item_id                 Name     Price     Rarity          Category\n",
       "0  001-ACo  Ammunition +1 (Per)     15 gp   Uncommon  Consumable Items\n",
       "1  002-ACo  Ammunition +2 (Per)     50 gp       Rare  Consumable Items\n",
       "2  003-ACo  Ammunition +3 (Per)    250 gp  Very Rare  Consumable Items\n",
       "3  004-ACo     Arrow of Slaying    400 gp  Very Rare  Consumable Items\n",
       "4  005-BCo        Bead of Force  1,000 gp       Rare  Consumable Items"
      ]
     },
     "execution_count": 3,
     "metadata": {},
     "output_type": "execute_result"
    }
   ],
   "source": [
    "magic_items.head()"
   ]
  },
  {
   "cell_type": "code",
   "execution_count": 8,
   "metadata": {},
   "outputs": [
    {
     "data": {
      "text/html": [
       "<div>\n",
       "<style scoped>\n",
       "    .dataframe tbody tr th:only-of-type {\n",
       "        vertical-align: middle;\n",
       "    }\n",
       "\n",
       "    .dataframe tbody tr th {\n",
       "        vertical-align: top;\n",
       "    }\n",
       "\n",
       "    .dataframe thead th {\n",
       "        text-align: right;\n",
       "    }\n",
       "</style>\n",
       "<table border=\"1\" class=\"dataframe\">\n",
       "  <thead>\n",
       "    <tr style=\"text-align: right;\">\n",
       "      <th></th>\n",
       "      <th>item_id</th>\n",
       "      <th>Name</th>\n",
       "      <th>Price</th>\n",
       "      <th>Weight</th>\n",
       "      <th>type</th>\n",
       "    </tr>\n",
       "  </thead>\n",
       "  <tbody>\n",
       "    <tr>\n",
       "      <th>0</th>\n",
       "      <td>01-Ars</td>\n",
       "      <td>Abacus</td>\n",
       "      <td>2 gp</td>\n",
       "      <td>2 lb.</td>\n",
       "      <td>Others</td>\n",
       "    </tr>\n",
       "    <tr>\n",
       "      <th>1</th>\n",
       "      <td>02-Ars</td>\n",
       "      <td>Acid (vial)</td>\n",
       "      <td>25 gp</td>\n",
       "      <td>1 lb.</td>\n",
       "      <td>Others</td>\n",
       "    </tr>\n",
       "    <tr>\n",
       "      <th>2</th>\n",
       "      <td>03-Ars</td>\n",
       "      <td>Alchemist's Fire (flask)</td>\n",
       "      <td>50 gp</td>\n",
       "      <td>1 lb.</td>\n",
       "      <td>Others</td>\n",
       "    </tr>\n",
       "    <tr>\n",
       "      <th>3</th>\n",
       "      <td>04-Aon</td>\n",
       "      <td>Arrows (20)</td>\n",
       "      <td>1 gp</td>\n",
       "      <td>1 lb.</td>\n",
       "      <td>Ammunition</td>\n",
       "    </tr>\n",
       "    <tr>\n",
       "      <th>4</th>\n",
       "      <td>05-Bon</td>\n",
       "      <td>Blowgun Needle (50)</td>\n",
       "      <td>1 gp</td>\n",
       "      <td>1 lb.</td>\n",
       "      <td>Ammunition</td>\n",
       "    </tr>\n",
       "  </tbody>\n",
       "</table>\n",
       "</div>"
      ],
      "text/plain": [
       "  item_id                      Name  Price Weight        type\n",
       "0  01-Ars                    Abacus   2 gp  2 lb.      Others\n",
       "1  02-Ars               Acid (vial)  25 gp  1 lb.      Others\n",
       "2  03-Ars  Alchemist's Fire (flask)  50 gp  1 lb.      Others\n",
       "3  04-Aon               Arrows (20)   1 gp  1 lb.  Ammunition\n",
       "4  05-Bon       Blowgun Needle (50)   1 gp  1 lb.  Ammunition"
      ]
     },
     "execution_count": 8,
     "metadata": {},
     "output_type": "execute_result"
    }
   ],
   "source": [
    "adventure_gear.head()"
   ]
  },
  {
   "cell_type": "code",
   "execution_count": 6,
   "metadata": {},
   "outputs": [
    {
     "data": {
      "text/html": [
       "<div>\n",
       "<style scoped>\n",
       "    .dataframe tbody tr th:only-of-type {\n",
       "        vertical-align: middle;\n",
       "    }\n",
       "\n",
       "    .dataframe tbody tr th {\n",
       "        vertical-align: top;\n",
       "    }\n",
       "\n",
       "    .dataframe thead th {\n",
       "        text-align: right;\n",
       "    }\n",
       "</style>\n",
       "<table border=\"1\" class=\"dataframe\">\n",
       "  <thead>\n",
       "    <tr style=\"text-align: right;\">\n",
       "      <th></th>\n",
       "      <th>item_id</th>\n",
       "      <th>Name</th>\n",
       "      <th>Price</th>\n",
       "      <th>Damage</th>\n",
       "      <th>Weight</th>\n",
       "      <th>Properties</th>\n",
       "      <th>type</th>\n",
       "    </tr>\n",
       "  </thead>\n",
       "  <tbody>\n",
       "    <tr>\n",
       "      <th>0</th>\n",
       "      <td>01-Cns</td>\n",
       "      <td>Club</td>\n",
       "      <td>1 sp</td>\n",
       "      <td>1d4 Bludgeon</td>\n",
       "      <td>2 lb.</td>\n",
       "      <td>Light</td>\n",
       "      <td>Simple Melee Weapons</td>\n",
       "    </tr>\n",
       "    <tr>\n",
       "      <th>1</th>\n",
       "      <td>02-Dns</td>\n",
       "      <td>Dagger</td>\n",
       "      <td>2 gp</td>\n",
       "      <td>1d4 Piercing</td>\n",
       "      <td>1 lb.</td>\n",
       "      <td>Finesse, Light, Thrown (20/60)</td>\n",
       "      <td>Simple Melee Weapons</td>\n",
       "    </tr>\n",
       "    <tr>\n",
       "      <th>2</th>\n",
       "      <td>03-Gns</td>\n",
       "      <td>Greatclub</td>\n",
       "      <td>2 sp</td>\n",
       "      <td>1d8 Bludgeon</td>\n",
       "      <td>10 lb.</td>\n",
       "      <td>Two-handed</td>\n",
       "      <td>Simple Melee Weapons</td>\n",
       "    </tr>\n",
       "    <tr>\n",
       "      <th>3</th>\n",
       "      <td>04-Hns</td>\n",
       "      <td>Handaxe</td>\n",
       "      <td>5 gp</td>\n",
       "      <td>1d6 Slashing</td>\n",
       "      <td>2 lb.</td>\n",
       "      <td>Light, Thrown (20/60)</td>\n",
       "      <td>Simple Melee Weapons</td>\n",
       "    </tr>\n",
       "    <tr>\n",
       "      <th>4</th>\n",
       "      <td>05-Jns</td>\n",
       "      <td>Javelin</td>\n",
       "      <td>5 sp</td>\n",
       "      <td>1d6 Piercing</td>\n",
       "      <td>2 lb.</td>\n",
       "      <td>Thrown (30/120)</td>\n",
       "      <td>Simple Melee Weapons</td>\n",
       "    </tr>\n",
       "  </tbody>\n",
       "</table>\n",
       "</div>"
      ],
      "text/plain": [
       "  item_id       Name Price        Damage  Weight  \\\n",
       "0  01-Cns       Club  1 sp  1d4 Bludgeon   2 lb.   \n",
       "1  02-Dns     Dagger  2 gp  1d4 Piercing   1 lb.   \n",
       "2  03-Gns  Greatclub  2 sp  1d8 Bludgeon  10 lb.   \n",
       "3  04-Hns    Handaxe  5 gp  1d6 Slashing   2 lb.   \n",
       "4  05-Jns    Javelin  5 sp  1d6 Piercing   2 lb.   \n",
       "\n",
       "                       Properties                  type  \n",
       "0                           Light  Simple Melee Weapons  \n",
       "1  Finesse, Light, Thrown (20/60)  Simple Melee Weapons  \n",
       "2                      Two-handed  Simple Melee Weapons  \n",
       "3           Light, Thrown (20/60)  Simple Melee Weapons  \n",
       "4                 Thrown (30/120)  Simple Melee Weapons  "
      ]
     },
     "execution_count": 6,
     "metadata": {},
     "output_type": "execute_result"
    }
   ],
   "source": [
    "weapons.head()"
   ]
  },
  {
   "cell_type": "code",
   "execution_count": 7,
   "metadata": {},
   "outputs": [
    {
     "data": {
      "text/html": [
       "<div>\n",
       "<style scoped>\n",
       "    .dataframe tbody tr th:only-of-type {\n",
       "        vertical-align: middle;\n",
       "    }\n",
       "\n",
       "    .dataframe tbody tr th {\n",
       "        vertical-align: top;\n",
       "    }\n",
       "\n",
       "    .dataframe thead th {\n",
       "        text-align: right;\n",
       "    }\n",
       "</style>\n",
       "<table border=\"1\" class=\"dataframe\">\n",
       "  <thead>\n",
       "    <tr style=\"text-align: right;\">\n",
       "      <th></th>\n",
       "      <th>item_id</th>\n",
       "      <th>Name</th>\n",
       "      <th>Price</th>\n",
       "      <th>AC</th>\n",
       "      <th>Weight</th>\n",
       "      <th>Requirements</th>\n",
       "      <th>Stealth</th>\n",
       "      <th>type</th>\n",
       "    </tr>\n",
       "  </thead>\n",
       "  <tbody>\n",
       "    <tr>\n",
       "      <th>0</th>\n",
       "      <td>01-Por</td>\n",
       "      <td>Padded</td>\n",
       "      <td>5 gp</td>\n",
       "      <td>11 + Dex</td>\n",
       "      <td>8 lb.</td>\n",
       "      <td>NaN</td>\n",
       "      <td>Disadvantage</td>\n",
       "      <td>Light Armor</td>\n",
       "    </tr>\n",
       "    <tr>\n",
       "      <th>1</th>\n",
       "      <td>02-Lor</td>\n",
       "      <td>Leather</td>\n",
       "      <td>10 gp</td>\n",
       "      <td>11 + Dex</td>\n",
       "      <td>10 lb.</td>\n",
       "      <td>NaN</td>\n",
       "      <td>NaN</td>\n",
       "      <td>Light Armor</td>\n",
       "    </tr>\n",
       "    <tr>\n",
       "      <th>2</th>\n",
       "      <td>03-Sor</td>\n",
       "      <td>Studded Leather</td>\n",
       "      <td>45 gp</td>\n",
       "      <td>12 + Dex</td>\n",
       "      <td>13 lb.</td>\n",
       "      <td>NaN</td>\n",
       "      <td>NaN</td>\n",
       "      <td>Light Armor</td>\n",
       "    </tr>\n",
       "    <tr>\n",
       "      <th>3</th>\n",
       "      <td>04-Hor</td>\n",
       "      <td>Hide</td>\n",
       "      <td>10 gp</td>\n",
       "      <td>12 + Dex(max2)</td>\n",
       "      <td>12 lb.</td>\n",
       "      <td>NaN</td>\n",
       "      <td>NaN</td>\n",
       "      <td>Medium Armor</td>\n",
       "    </tr>\n",
       "    <tr>\n",
       "      <th>4</th>\n",
       "      <td>05-Cor</td>\n",
       "      <td>Chain Shirt</td>\n",
       "      <td>50 gp</td>\n",
       "      <td>13 + Dex(max2)</td>\n",
       "      <td>20 lb.</td>\n",
       "      <td>NaN</td>\n",
       "      <td>NaN</td>\n",
       "      <td>Medium Armor</td>\n",
       "    </tr>\n",
       "  </tbody>\n",
       "</table>\n",
       "</div>"
      ],
      "text/plain": [
       "  item_id             Name  Price              AC  Weight Requirements  \\\n",
       "0  01-Por           Padded   5 gp        11 + Dex   8 lb.          NaN   \n",
       "1  02-Lor          Leather  10 gp        11 + Dex  10 lb.          NaN   \n",
       "2  03-Sor  Studded Leather  45 gp        12 + Dex  13 lb.          NaN   \n",
       "3  04-Hor             Hide  10 gp  12 + Dex(max2)  12 lb.          NaN   \n",
       "4  05-Cor      Chain Shirt  50 gp  13 + Dex(max2)  20 lb.          NaN   \n",
       "\n",
       "        Stealth          type  \n",
       "0  Disadvantage   Light Armor  \n",
       "1           NaN   Light Armor  \n",
       "2           NaN   Light Armor  \n",
       "3           NaN  Medium Armor  \n",
       "4           NaN  Medium Armor  "
      ]
     },
     "execution_count": 7,
     "metadata": {},
     "output_type": "execute_result"
    }
   ],
   "source": [
    "armor.head()"
   ]
  },
  {
   "cell_type": "code",
   "execution_count": 9,
   "metadata": {},
   "outputs": [
    {
     "data": {
      "text/html": [
       "<div>\n",
       "<style scoped>\n",
       "    .dataframe tbody tr th:only-of-type {\n",
       "        vertical-align: middle;\n",
       "    }\n",
       "\n",
       "    .dataframe tbody tr th {\n",
       "        vertical-align: top;\n",
       "    }\n",
       "\n",
       "    .dataframe thead th {\n",
       "        text-align: right;\n",
       "    }\n",
       "</style>\n",
       "<table border=\"1\" class=\"dataframe\">\n",
       "  <thead>\n",
       "    <tr style=\"text-align: right;\">\n",
       "      <th></th>\n",
       "      <th>item_id</th>\n",
       "      <th>Name</th>\n",
       "      <th>Price</th>\n",
       "      <th>Rarity</th>\n",
       "    </tr>\n",
       "  </thead>\n",
       "  <tbody>\n",
       "    <tr>\n",
       "      <th>0</th>\n",
       "      <td>01-Pon</td>\n",
       "      <td>Potion of Healing</td>\n",
       "      <td>50 gp</td>\n",
       "      <td>Common</td>\n",
       "    </tr>\n",
       "    <tr>\n",
       "      <th>1</th>\n",
       "      <td>02-Pon</td>\n",
       "      <td>Potion of Greater Healing</td>\n",
       "      <td>150 gp</td>\n",
       "      <td>Uncommon</td>\n",
       "    </tr>\n",
       "    <tr>\n",
       "      <th>2</th>\n",
       "      <td>03-Pre</td>\n",
       "      <td>Potion of Superior Healing</td>\n",
       "      <td>450 gp</td>\n",
       "      <td>Rare</td>\n",
       "    </tr>\n",
       "    <tr>\n",
       "      <th>3</th>\n",
       "      <td>04-Pre</td>\n",
       "      <td>Potion of Supreme Healing</td>\n",
       "      <td>1,350 gp</td>\n",
       "      <td>Very Rare</td>\n",
       "    </tr>\n",
       "    <tr>\n",
       "      <th>4</th>\n",
       "      <td>05-Ere</td>\n",
       "      <td>Elixir of Health</td>\n",
       "      <td>120 gp</td>\n",
       "      <td>Rare</td>\n",
       "    </tr>\n",
       "  </tbody>\n",
       "</table>\n",
       "</div>"
      ],
      "text/plain": [
       "  item_id                        Name     Price     Rarity\n",
       "0  01-Pon           Potion of Healing     50 gp     Common\n",
       "1  02-Pon   Potion of Greater Healing    150 gp   Uncommon\n",
       "2  03-Pre  Potion of Superior Healing   450 gp        Rare\n",
       "3  04-Pre   Potion of Supreme Healing  1,350 gp  Very Rare\n",
       "4  05-Ere            Elixir of Health    120 gp       Rare"
      ]
     },
     "execution_count": 9,
     "metadata": {},
     "output_type": "execute_result"
    }
   ],
   "source": [
    "potions.head()"
   ]
  },
  {
   "cell_type": "code",
   "execution_count": 10,
   "metadata": {},
   "outputs": [
    {
     "data": {
      "text/html": [
       "<div>\n",
       "<style scoped>\n",
       "    .dataframe tbody tr th:only-of-type {\n",
       "        vertical-align: middle;\n",
       "    }\n",
       "\n",
       "    .dataframe tbody tr th {\n",
       "        vertical-align: top;\n",
       "    }\n",
       "\n",
       "    .dataframe thead th {\n",
       "        text-align: right;\n",
       "    }\n",
       "</style>\n",
       "<table border=\"1\" class=\"dataframe\">\n",
       "  <thead>\n",
       "    <tr style=\"text-align: right;\">\n",
       "      <th></th>\n",
       "      <th>item_id</th>\n",
       "      <th>Name</th>\n",
       "      <th>Price</th>\n",
       "      <th>Type</th>\n",
       "      <th>DC</th>\n",
       "    </tr>\n",
       "  </thead>\n",
       "  <tbody>\n",
       "    <tr>\n",
       "      <th>0</th>\n",
       "      <td>01-Aed</td>\n",
       "      <td>Assassin's blood</td>\n",
       "      <td>150 gp</td>\n",
       "      <td>Ingested</td>\n",
       "      <td>10.0</td>\n",
       "    </tr>\n",
       "    <tr>\n",
       "      <th>1</th>\n",
       "      <td>02-Ted</td>\n",
       "      <td>Truth serum</td>\n",
       "      <td>150 gp</td>\n",
       "      <td>Ingested</td>\n",
       "      <td>11.0</td>\n",
       "    </tr>\n",
       "    <tr>\n",
       "      <th>2</th>\n",
       "      <td>03-Cct</td>\n",
       "      <td>Carrion crawler mucus</td>\n",
       "      <td>200 gp</td>\n",
       "      <td>Contact</td>\n",
       "      <td>13.0</td>\n",
       "    </tr>\n",
       "    <tr>\n",
       "      <th>3</th>\n",
       "      <td>04-Dry</td>\n",
       "      <td>Drow poison</td>\n",
       "      <td>200 gp</td>\n",
       "      <td>Injury</td>\n",
       "      <td>13.0</td>\n",
       "    </tr>\n",
       "    <tr>\n",
       "      <th>4</th>\n",
       "      <td>05-Sry</td>\n",
       "      <td>Serpent venom</td>\n",
       "      <td>200 gp</td>\n",
       "      <td>Injury</td>\n",
       "      <td>11.0</td>\n",
       "    </tr>\n",
       "  </tbody>\n",
       "</table>\n",
       "</div>"
      ],
      "text/plain": [
       "  item_id                   Name   Price      Type    DC\n",
       "0  01-Aed       Assassin's blood  150 gp  Ingested  10.0\n",
       "1  02-Ted            Truth serum  150 gp  Ingested  11.0\n",
       "2  03-Cct  Carrion crawler mucus  200 gp   Contact  13.0\n",
       "3  04-Dry            Drow poison  200 gp    Injury  13.0\n",
       "4  05-Sry          Serpent venom  200 gp    Injury  11.0"
      ]
     },
     "execution_count": 10,
     "metadata": {},
     "output_type": "execute_result"
    }
   ],
   "source": [
    "poisons.head()"
   ]
  },
  {
   "cell_type": "markdown",
   "metadata": {},
   "source": [
    "****"
   ]
  },
  {
   "cell_type": "markdown",
   "metadata": {},
   "source": [
    "# **Data Creation**"
   ]
  },
  {
   "cell_type": "markdown",
   "metadata": {},
   "source": [
    "**Passos:**\n",
    "\n",
    "1. Filtrar as Raridades dos itens\n",
    "1. Criar uma tabela que contenha todos os produtos\n",
    "    * A tabela deve ter apenas informações básicas sobre os itens, como: id | nome | preço | tipo.\n",
    "1. Criar uma tabela com as informações dos clientes\n",
    "\n",
    "\n"
   ]
  },
  {
   "cell_type": "markdown",
   "metadata": {},
   "source": [
    "### **Filtrar Raridades:**"
   ]
  },
  {
   "cell_type": "code",
   "execution_count": 4,
   "metadata": {},
   "outputs": [
    {
     "data": {
      "text/plain": [
       "Rare         114\n",
       "Uncommon      83\n",
       "Very Rare     63\n",
       "Legendary     38\n",
       "Common         2\n",
       "Name: Rarity, dtype: int64"
      ]
     },
     "execution_count": 4,
     "metadata": {},
     "output_type": "execute_result"
    }
   ],
   "source": [
    "magic_items['Rarity'].value_counts()"
   ]
  },
  {
   "cell_type": "markdown",
   "metadata": {},
   "source": [
    "Como eu pretendo simular as vendas de um vendedor comum, não vou usar itens que sejam: Very Rare, Legendary."
   ]
  },
  {
   "cell_type": "code",
   "execution_count": 50,
   "metadata": {},
   "outputs": [],
   "source": [
    "# função para filtrar a raridade dos items\n",
    "def filter_rarity(dataframe):\n",
    "    unwanted = ['Very Rare', 'Legendary']\n",
    "    df = dataframe.copy()\n",
    "    df = df.query(\"Rarity not in @unwanted\")\n",
    "    return df"
   ]
  },
  {
   "cell_type": "code",
   "execution_count": 51,
   "metadata": {},
   "outputs": [],
   "source": [
    "magic_items_filtered = filter_rarity(magic_items)"
   ]
  },
  {
   "cell_type": "code",
   "execution_count": 52,
   "metadata": {},
   "outputs": [
    {
     "data": {
      "text/plain": [
       "Rare        114\n",
       "Uncommon     83\n",
       "Common        2\n",
       "Name: Rarity, dtype: int64"
      ]
     },
     "execution_count": 52,
     "metadata": {},
     "output_type": "execute_result"
    }
   ],
   "source": [
    "magic_items_filtered['Rarity'].value_counts()"
   ]
  },
  {
   "cell_type": "code",
   "execution_count": 53,
   "metadata": {},
   "outputs": [],
   "source": [
    "potions_filtered =  filter_rarity(potions)"
   ]
  },
  {
   "cell_type": "code",
   "execution_count": 54,
   "metadata": {},
   "outputs": [
    {
     "data": {
      "text/plain": [
       "Uncommon    10\n",
       "Rare        10\n",
       "Common       2\n",
       "Name: Rarity, dtype: int64"
      ]
     },
     "execution_count": 54,
     "metadata": {},
     "output_type": "execute_result"
    }
   ],
   "source": [
    "potions_filtered['Rarity'].value_counts()"
   ]
  },
  {
   "cell_type": "markdown",
   "metadata": {},
   "source": [
    "Nenhum outro Dataset tem a coluna 'Rarity'"
   ]
  },
  {
   "cell_type": "markdown",
   "metadata": {},
   "source": [
    "### **Criar tabela Produtos**"
   ]
  },
  {
   "cell_type": "markdown",
   "metadata": {},
   "source": [
    "Primeiramente devo mudar as colunas 'type' para 'cetegory', depois criar uma nova coluna 'type' com o tipo de item de cada dataset."
   ]
  },
  {
   "cell_type": "code",
   "execution_count": 55,
   "metadata": {},
   "outputs": [],
   "source": [
    "# função para substituir a coluna type e colocar os nomes das colunas em minúsculo\n",
    "def replace_lower_column(df):\n",
    "    df = df.columns.str.lower().str.replace('type', 'category')\n",
    "    return df"
   ]
  },
  {
   "cell_type": "code",
   "execution_count": 56,
   "metadata": {},
   "outputs": [],
   "source": [
    "adventure_gear.columns = replace_lower_column(adventure_gear)\n",
    "magic_items_filtered.columns = replace_lower_column(magic_items_filtered)\n",
    "armor.columns = replace_lower_column(armor)\n",
    "weapons.columns = replace_lower_column(weapons)\n",
    "potions_filtered.columns =  replace_lower_column(potions_filtered)\n",
    "poisons.columns = replace_lower_column(poisons)"
   ]
  },
  {
   "cell_type": "markdown",
   "metadata": {},
   "source": [
    "**Criando as novas colunas 'type':**"
   ]
  },
  {
   "cell_type": "code",
   "execution_count": 57,
   "metadata": {},
   "outputs": [],
   "source": [
    "adventure_gear['type'] = 'adventure_gear'\n",
    "magic_items_filtered['type'] = 'magic_item'\n",
    "weapons['type'] = 'weapon'\n",
    "potions_filtered['type'] = 'potion'\n",
    "poisons['type'] = 'poison'\n",
    "armor['type'] = 'armor'"
   ]
  },
  {
   "cell_type": "code",
   "execution_count": 67,
   "metadata": {},
   "outputs": [
    {
     "data": {
      "text/html": [
       "<div>\n",
       "<style scoped>\n",
       "    .dataframe tbody tr th:only-of-type {\n",
       "        vertical-align: middle;\n",
       "    }\n",
       "\n",
       "    .dataframe tbody tr th {\n",
       "        vertical-align: top;\n",
       "    }\n",
       "\n",
       "    .dataframe thead th {\n",
       "        text-align: right;\n",
       "    }\n",
       "</style>\n",
       "<table border=\"1\" class=\"dataframe\">\n",
       "  <thead>\n",
       "    <tr style=\"text-align: right;\">\n",
       "      <th></th>\n",
       "      <th>item_id</th>\n",
       "      <th>name</th>\n",
       "      <th>price</th>\n",
       "      <th>rarity</th>\n",
       "      <th>category</th>\n",
       "      <th>type</th>\n",
       "    </tr>\n",
       "  </thead>\n",
       "  <tbody>\n",
       "    <tr>\n",
       "      <th>0</th>\n",
       "      <td>001-ACo</td>\n",
       "      <td>Ammunition +1 (Per)</td>\n",
       "      <td>15 gp</td>\n",
       "      <td>Uncommon</td>\n",
       "      <td>Consumable Items</td>\n",
       "      <td>magic_item</td>\n",
       "    </tr>\n",
       "    <tr>\n",
       "      <th>1</th>\n",
       "      <td>002-ACo</td>\n",
       "      <td>Ammunition +2 (Per)</td>\n",
       "      <td>50 gp</td>\n",
       "      <td>Rare</td>\n",
       "      <td>Consumable Items</td>\n",
       "      <td>magic_item</td>\n",
       "    </tr>\n",
       "    <tr>\n",
       "      <th>4</th>\n",
       "      <td>005-BCo</td>\n",
       "      <td>Bead of Force</td>\n",
       "      <td>1,000 gp</td>\n",
       "      <td>Rare</td>\n",
       "      <td>Consumable Items</td>\n",
       "      <td>magic_item</td>\n",
       "    </tr>\n",
       "    <tr>\n",
       "      <th>5</th>\n",
       "      <td>006-CCo</td>\n",
       "      <td>Chime of Opening</td>\n",
       "      <td>400 gp</td>\n",
       "      <td>Rare</td>\n",
       "      <td>Consumable Items</td>\n",
       "      <td>magic_item</td>\n",
       "    </tr>\n",
       "    <tr>\n",
       "      <th>6</th>\n",
       "      <td>007-DCo</td>\n",
       "      <td>Deck of Illusions</td>\n",
       "      <td>900 gp</td>\n",
       "      <td>Uncommon</td>\n",
       "      <td>Consumable Items</td>\n",
       "      <td>magic_item</td>\n",
       "    </tr>\n",
       "    <tr>\n",
       "      <th>...</th>\n",
       "      <td>...</td>\n",
       "      <td>...</td>\n",
       "      <td>...</td>\n",
       "      <td>...</td>\n",
       "      <td>...</td>\n",
       "      <td>...</td>\n",
       "    </tr>\n",
       "    <tr>\n",
       "      <th>291</th>\n",
       "      <td>292-ICo</td>\n",
       "      <td>Instrument of the Bards - Cli Lyre</td>\n",
       "      <td>2,500 gp</td>\n",
       "      <td>Rare</td>\n",
       "      <td>Combat Items</td>\n",
       "      <td>magic_item</td>\n",
       "    </tr>\n",
       "    <tr>\n",
       "      <th>292</th>\n",
       "      <td>293-ICo</td>\n",
       "      <td>Instrument of the Bards - Fochulan Bandlore</td>\n",
       "      <td>1,500 gp</td>\n",
       "      <td>Uncommon</td>\n",
       "      <td>Combat Items</td>\n",
       "      <td>magic_item</td>\n",
       "    </tr>\n",
       "    <tr>\n",
       "      <th>293</th>\n",
       "      <td>294-ICo</td>\n",
       "      <td>Instrument of the Bards - Mac-Fuirmidh Cittern</td>\n",
       "      <td>2,000 gp</td>\n",
       "      <td>Uncommon</td>\n",
       "      <td>Combat Items</td>\n",
       "      <td>magic_item</td>\n",
       "    </tr>\n",
       "    <tr>\n",
       "      <th>294</th>\n",
       "      <td>295-ICo</td>\n",
       "      <td>Instrument of the Bards - Doss Lute</td>\n",
       "      <td>1,500 gp</td>\n",
       "      <td>Uncommon</td>\n",
       "      <td>Combat Items</td>\n",
       "      <td>magic_item</td>\n",
       "    </tr>\n",
       "    <tr>\n",
       "      <th>295</th>\n",
       "      <td>296-ICo</td>\n",
       "      <td>Instrument of the Bards - Canaith Mandolin</td>\n",
       "      <td>2,500 gp</td>\n",
       "      <td>Rare</td>\n",
       "      <td>Combat Items</td>\n",
       "      <td>magic_item</td>\n",
       "    </tr>\n",
       "  </tbody>\n",
       "</table>\n",
       "<p>199 rows × 6 columns</p>\n",
       "</div>"
      ],
      "text/plain": [
       "     item_id                                            name     price  \\\n",
       "0    001-ACo                             Ammunition +1 (Per)     15 gp   \n",
       "1    002-ACo                             Ammunition +2 (Per)     50 gp   \n",
       "4    005-BCo                                   Bead of Force  1,000 gp   \n",
       "5    006-CCo                                Chime of Opening    400 gp   \n",
       "6    007-DCo                               Deck of Illusions    900 gp   \n",
       "..       ...                                             ...       ...   \n",
       "291  292-ICo              Instrument of the Bards - Cli Lyre  2,500 gp   \n",
       "292  293-ICo     Instrument of the Bards - Fochulan Bandlore  1,500 gp   \n",
       "293  294-ICo  Instrument of the Bards - Mac-Fuirmidh Cittern  2,000 gp   \n",
       "294  295-ICo             Instrument of the Bards - Doss Lute  1,500 gp   \n",
       "295  296-ICo      Instrument of the Bards - Canaith Mandolin  2,500 gp   \n",
       "\n",
       "       rarity          category        type  \n",
       "0    Uncommon  Consumable Items  magic_item  \n",
       "1        Rare  Consumable Items  magic_item  \n",
       "4        Rare  Consumable Items  magic_item  \n",
       "5        Rare  Consumable Items  magic_item  \n",
       "6    Uncommon  Consumable Items  magic_item  \n",
       "..        ...               ...         ...  \n",
       "291      Rare      Combat Items  magic_item  \n",
       "292  Uncommon      Combat Items  magic_item  \n",
       "293  Uncommon      Combat Items  magic_item  \n",
       "294  Uncommon      Combat Items  magic_item  \n",
       "295      Rare      Combat Items  magic_item  \n",
       "\n",
       "[199 rows x 6 columns]"
      ]
     },
     "execution_count": 67,
     "metadata": {},
     "output_type": "execute_result"
    }
   ],
   "source": [
    "magic_items_filtered"
   ]
  },
  {
   "cell_type": "markdown",
   "metadata": {},
   "source": [
    "**Criando a tabela Produtos:**\n",
    "\n",
    "| id | nome | preço | tipo |\n"
   ]
  },
  {
   "cell_type": "code",
   "execution_count": 71,
   "metadata": {},
   "outputs": [],
   "source": [
    "wanted_cols = ['item_id', 'name', 'price', 'type']"
   ]
  },
  {
   "cell_type": "code",
   "execution_count": 100,
   "metadata": {},
   "outputs": [],
   "source": [
    "product = magic_items_filtered[wanted_cols].copy()"
   ]
  },
  {
   "cell_type": "code",
   "execution_count": 102,
   "metadata": {},
   "outputs": [],
   "source": [
    "product = pd.concat([product,\n",
    "                     adventure_gear[wanted_cols],\n",
    "                     weapons[wanted_cols],\n",
    "                     armor[wanted_cols],\n",
    "                     potions_filtered[wanted_cols],\n",
    "                     poisons[wanted_cols]],\n",
    "                     ignore_index=True)"
   ]
  },
  {
   "cell_type": "code",
   "execution_count": 103,
   "metadata": {},
   "outputs": [
    {
     "data": {
      "text/plain": [
       "magic_item        199\n",
       "adventure_gear    109\n",
       "weapon             37\n",
       "potion             22\n",
       "poison             16\n",
       "armor              13\n",
       "Name: type, dtype: int64"
      ]
     },
     "execution_count": 103,
     "metadata": {},
     "output_type": "execute_result"
    }
   ],
   "source": [
    "product['type'].value_counts()"
   ]
  },
  {
   "cell_type": "code",
   "execution_count": 113,
   "metadata": {},
   "outputs": [
    {
     "data": {
      "text/html": [
       "<div>\n",
       "<style scoped>\n",
       "    .dataframe tbody tr th:only-of-type {\n",
       "        vertical-align: middle;\n",
       "    }\n",
       "\n",
       "    .dataframe tbody tr th {\n",
       "        vertical-align: top;\n",
       "    }\n",
       "\n",
       "    .dataframe thead th {\n",
       "        text-align: right;\n",
       "    }\n",
       "</style>\n",
       "<table border=\"1\" class=\"dataframe\">\n",
       "  <thead>\n",
       "    <tr style=\"text-align: right;\">\n",
       "      <th></th>\n",
       "      <th>item_id</th>\n",
       "      <th>name</th>\n",
       "      <th>price</th>\n",
       "      <th>type</th>\n",
       "    </tr>\n",
       "  </thead>\n",
       "  <tbody>\n",
       "    <tr>\n",
       "      <th>0</th>\n",
       "      <td>001-ACo</td>\n",
       "      <td>Ammunition +1 (Per)</td>\n",
       "      <td>15 gp</td>\n",
       "      <td>magic_item</td>\n",
       "    </tr>\n",
       "    <tr>\n",
       "      <th>1</th>\n",
       "      <td>002-ACo</td>\n",
       "      <td>Ammunition +2 (Per)</td>\n",
       "      <td>50 gp</td>\n",
       "      <td>magic_item</td>\n",
       "    </tr>\n",
       "    <tr>\n",
       "      <th>2</th>\n",
       "      <td>005-BCo</td>\n",
       "      <td>Bead of Force</td>\n",
       "      <td>1,000 gp</td>\n",
       "      <td>magic_item</td>\n",
       "    </tr>\n",
       "    <tr>\n",
       "      <th>3</th>\n",
       "      <td>006-CCo</td>\n",
       "      <td>Chime of Opening</td>\n",
       "      <td>400 gp</td>\n",
       "      <td>magic_item</td>\n",
       "    </tr>\n",
       "    <tr>\n",
       "      <th>4</th>\n",
       "      <td>007-DCo</td>\n",
       "      <td>Deck of Illusions</td>\n",
       "      <td>900 gp</td>\n",
       "      <td>magic_item</td>\n",
       "    </tr>\n",
       "  </tbody>\n",
       "</table>\n",
       "</div>"
      ],
      "text/plain": [
       "   item_id                 name     price        type\n",
       "0  001-ACo  Ammunition +1 (Per)     15 gp  magic_item\n",
       "1  002-ACo  Ammunition +2 (Per)     50 gp  magic_item\n",
       "2  005-BCo        Bead of Force  1,000 gp  magic_item\n",
       "3  006-CCo     Chime of Opening    400 gp  magic_item\n",
       "4  007-DCo    Deck of Illusions    900 gp  magic_item"
      ]
     },
     "execution_count": 113,
     "metadata": {},
     "output_type": "execute_result"
    }
   ],
   "source": [
    "product.head()"
   ]
  },
  {
   "cell_type": "code",
   "execution_count": 142,
   "metadata": {},
   "outputs": [
    {
     "data": {
      "text/html": [
       "<div>\n",
       "<style scoped>\n",
       "    .dataframe tbody tr th:only-of-type {\n",
       "        vertical-align: middle;\n",
       "    }\n",
       "\n",
       "    .dataframe tbody tr th {\n",
       "        vertical-align: top;\n",
       "    }\n",
       "\n",
       "    .dataframe thead th {\n",
       "        text-align: right;\n",
       "    }\n",
       "</style>\n",
       "<table border=\"1\" class=\"dataframe\">\n",
       "  <thead>\n",
       "    <tr style=\"text-align: right;\">\n",
       "      <th></th>\n",
       "      <th>item_id</th>\n",
       "      <th>name</th>\n",
       "      <th>price</th>\n",
       "      <th>rarity</th>\n",
       "      <th>category</th>\n",
       "      <th>type</th>\n",
       "    </tr>\n",
       "  </thead>\n",
       "  <tbody>\n",
       "    <tr>\n",
       "      <th>151</th>\n",
       "      <td>152-(Co</td>\n",
       "      <td>(+1) Armor</td>\n",
       "      <td>1,000 gp</td>\n",
       "      <td>Rare</td>\n",
       "      <td>Combat Items</td>\n",
       "      <td>magic_item</td>\n",
       "    </tr>\n",
       "  </tbody>\n",
       "</table>\n",
       "</div>"
      ],
      "text/plain": [
       "     item_id        name     price rarity      category        type\n",
       "151  152-(Co  (+1) Armor  1,000 gp   Rare  Combat Items  magic_item"
      ]
     },
     "execution_count": 142,
     "metadata": {},
     "output_type": "execute_result"
    }
   ],
   "source": [
    "# testando o relacionamento das tabelas\n",
    "ammunition_itemID =  random.choices(product['item_id'].loc[product['type'] == 'magic_item'])\n",
    "magic_items_filtered.query('item_id == @ammunition_itemID')"
   ]
  },
  {
   "cell_type": "markdown",
   "metadata": {},
   "source": [
    "O relacionamento está funcionando como o desejado."
   ]
  },
  {
   "cell_type": "markdown",
   "metadata": {},
   "source": [
    "## **Criar a Tabela Cliente**"
   ]
  },
  {
   "cell_type": "markdown",
   "metadata": {},
   "source": [
    "**Atributos do cliente:**\n",
    "\n",
    "\n",
    "* id\n",
    "* nome\n",
    "* sexo\n",
    "* idade\n",
    "* raça\n",
    "* classe\n",
    "* endereço (cidade)\n",
    "* contato (talvez)"
   ]
  },
  {
   "cell_type": "code",
   "execution_count": 157,
   "metadata": {},
   "outputs": [
    {
     "data": {
      "text/plain": [
       "4"
      ]
     },
     "execution_count": 157,
     "metadata": {},
     "output_type": "execute_result"
    }
   ],
   "source": [
    "# checando duplicatas\n",
    "names.duplicated().sum()"
   ]
  },
  {
   "cell_type": "code",
   "execution_count": 159,
   "metadata": {},
   "outputs": [],
   "source": [
    "names.drop_duplicates(inplace=True)"
   ]
  },
  {
   "cell_type": "code",
   "execution_count": 160,
   "metadata": {},
   "outputs": [
    {
     "data": {
      "text/html": [
       "<div>\n",
       "<style scoped>\n",
       "    .dataframe tbody tr th:only-of-type {\n",
       "        vertical-align: middle;\n",
       "    }\n",
       "\n",
       "    .dataframe tbody tr th {\n",
       "        vertical-align: top;\n",
       "    }\n",
       "\n",
       "    .dataframe thead th {\n",
       "        text-align: right;\n",
       "    }\n",
       "</style>\n",
       "<table border=\"1\" class=\"dataframe\">\n",
       "  <thead>\n",
       "    <tr style=\"text-align: right;\">\n",
       "      <th></th>\n",
       "      <th>name</th>\n",
       "      <th>sex</th>\n",
       "    </tr>\n",
       "  </thead>\n",
       "  <tbody>\n",
       "    <tr>\n",
       "      <th>0</th>\n",
       "      <td>Veklani  Daargen</td>\n",
       "      <td>female</td>\n",
       "    </tr>\n",
       "    <tr>\n",
       "      <th>1</th>\n",
       "      <td>Kasaki  Wygarthe</td>\n",
       "      <td>female</td>\n",
       "    </tr>\n",
       "    <tr>\n",
       "      <th>2</th>\n",
       "      <td>Rosalyn  Faringray</td>\n",
       "      <td>female</td>\n",
       "    </tr>\n",
       "    <tr>\n",
       "      <th>3</th>\n",
       "      <td>Atalya  Webb</td>\n",
       "      <td>female</td>\n",
       "    </tr>\n",
       "    <tr>\n",
       "      <th>4</th>\n",
       "      <td>Grenenzel  Lyfalia</td>\n",
       "      <td>female</td>\n",
       "    </tr>\n",
       "    <tr>\n",
       "      <th>...</th>\n",
       "      <td>...</td>\n",
       "      <td>...</td>\n",
       "    </tr>\n",
       "    <tr>\n",
       "      <th>399</th>\n",
       "      <td>Dungarth  Armanci</td>\n",
       "      <td>male</td>\n",
       "    </tr>\n",
       "    <tr>\n",
       "      <th>400</th>\n",
       "      <td>Tavon Ambershard</td>\n",
       "      <td>male</td>\n",
       "    </tr>\n",
       "    <tr>\n",
       "      <th>402</th>\n",
       "      <td>Tavon  Talandro</td>\n",
       "      <td>male</td>\n",
       "    </tr>\n",
       "    <tr>\n",
       "      <th>403</th>\n",
       "      <td>Tavon  Drakantal</td>\n",
       "      <td>male</td>\n",
       "    </tr>\n",
       "    <tr>\n",
       "      <th>404</th>\n",
       "      <td>Eandro  Netheridge</td>\n",
       "      <td>male</td>\n",
       "    </tr>\n",
       "  </tbody>\n",
       "</table>\n",
       "<p>401 rows × 2 columns</p>\n",
       "</div>"
      ],
      "text/plain": [
       "                    name     sex\n",
       "0       Veklani  Daargen  female\n",
       "1       Kasaki  Wygarthe  female\n",
       "2     Rosalyn  Faringray  female\n",
       "3           Atalya  Webb  female\n",
       "4     Grenenzel  Lyfalia  female\n",
       "..                   ...     ...\n",
       "399    Dungarth  Armanci    male\n",
       "400     Tavon Ambershard    male\n",
       "402     Tavon  Talandro     male\n",
       "403     Tavon  Drakantal    male\n",
       "404   Eandro  Netheridge    male\n",
       "\n",
       "[401 rows x 2 columns]"
      ]
     },
     "execution_count": 160,
     "metadata": {},
     "output_type": "execute_result"
    }
   ],
   "source": [
    "names"
   ]
  },
  {
   "cell_type": "markdown",
   "metadata": {},
   "source": [
    "referência = https://bg3.wiki/wiki/Races"
   ]
  },
  {
   "cell_type": "code",
   "execution_count": 162,
   "metadata": {},
   "outputs": [],
   "source": [
    "races = ['Human', 'Elf', 'Drow', 'Half-Elf', 'half-Orc', 'Halfiling', 'Dwarf', 'Gnome', 'Tiefling',\n",
    "         'Githyanki', 'Dragonborn']"
   ]
  }
 ],
 "metadata": {
  "kernelspec": {
   "display_name": "Python 3",
   "language": "python",
   "name": "python3"
  },
  "language_info": {
   "codemirror_mode": {
    "name": "ipython",
    "version": 3
   },
   "file_extension": ".py",
   "mimetype": "text/x-python",
   "name": "python",
   "nbconvert_exporter": "python",
   "pygments_lexer": "ipython3",
   "version": "3.11.0"
  }
 },
 "nbformat": 4,
 "nbformat_minor": 2
}
