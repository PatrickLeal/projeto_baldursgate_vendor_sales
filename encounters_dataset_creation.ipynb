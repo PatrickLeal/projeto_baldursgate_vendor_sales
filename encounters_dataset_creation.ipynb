{
 "cells": [
  {
   "cell_type": "markdown",
   "metadata": {},
   "source": [
    "**Importando Bibliotecas**"
   ]
  },
  {
   "cell_type": "code",
   "execution_count": 1,
   "metadata": {},
   "outputs": [],
   "source": [
    "import pandas as pd\n",
    "import numpy as np\n",
    "import random\n",
    "from datetime import datetime, timedelta\n",
    "\n",
    "# Definindo a semente para reprodução\n",
    "np.random.seed(42)\n",
    "random.seed(42)"
   ]
  },
  {
   "cell_type": "markdown",
   "metadata": {},
   "source": [
    "<hr style=\"height:3px;border-width:0;color:blue;background-color:blue\">"
   ]
  },
  {
   "cell_type": "markdown",
   "metadata": {},
   "source": [
    "Eu pretendo criar um dataset que contenha **encontros aleatórios de alguns monstros** e que de alguma forma isso reflita nas vendas da base de dados original.\n",
    "\n",
    "Eu escolhi arbitrariamente apenas monstros do universo de *Dungeons and Dragon*, e para eles eu escolhi animais da vida real para inspirar suas aparições aleatória neste dataset."
   ]
  },
  {
   "cell_type": "markdown",
   "metadata": {},
   "source": [
    "**Os montros e animais escolhidos foram:** \n",
    "* Owlbear -----> Coruja Jacurutu\n",
    "* Dragão -----> Dragão de Komodo\n",
    "* Griffon -----> Harpia (Gavião Real)"
   ]
  },
  {
   "cell_type": "markdown",
   "metadata": {},
   "source": [
    "Os períodos serão escolhidos aleatóriamente nos seguintes intervalos por animais:\n",
    "\n",
    "| monstro | início |  fim  | quantidade (por ano) | \n",
    "| --------| -----  | ----- | -------------------- |\n",
    "| Owbear  | 21/06  | 23/09 | 28 - 35              |\n",
    "| Dragão  | 01/05  | 01/09 | 12                   |\n",
    "| Griffon | 01/06  | 01/11 | 56                   |\n",
    "\n",
    "\n",
    "A quantidade do **Owlbear** foi baseado no tempo de incubação das ***Jacurutu***;\n",
    "\n",
    "A quantidade do **Dragão** foi inspirado na quantidade de refeições que os ***Dragões de Komodo*** conseguem sobreviver por ano;\n",
    "\n",
    "A quantidade do **Griffon** foi inspirada no tempo de incubação das ***Harpias*** (Elas podem ter apenas 1 filho a cada 2 anos)."
   ]
  },
  {
   "cell_type": "markdown",
   "metadata": {},
   "source": [
    "**O Dataset vai ter a seguinte estrutura:**\n",
    "\n",
    "| encounter_id | date | monster | encounter_type| \n",
    "| ------------ | -----| ------- | --------------|\n",
    "| ------------ | -----| ------- | --------------|\n",
    "| ------------ | -----| ------- | --------------|"
   ]
  },
  {
   "cell_type": "markdown",
   "metadata": {},
   "source": [
    "Criando o range de datas similar à tabela de vendas:"
   ]
  },
  {
   "cell_type": "code",
   "execution_count": 2,
   "metadata": {},
   "outputs": [],
   "source": [
    "data_inicial = datetime(2017, 1, 1)\n",
    "data_final = datetime(2023, 12, 31)\n",
    "intervalo_datas = [data_inicial + timedelta(days=i) for i in range((data_final - data_inicial).days + 1)]"
   ]
  },
  {
   "cell_type": "markdown",
   "metadata": {},
   "source": [
    "## **Criando o período de aparições para cada monstro:**"
   ]
  },
  {
   "cell_type": "markdown",
   "metadata": {},
   "source": [
    "### **Owlbear**"
   ]
  },
  {
   "cell_type": "code",
   "execution_count": 3,
   "metadata": {},
   "outputs": [],
   "source": [
    "# criando uma lista que salva períodos de tempo\n",
    "owlbear_date_range = []\n",
    "for i in range(17, 24):\n",
    "    owlbear_date_range.append(pd.date_range(start=f'06/21/20{i}', end=f'09/23/20{i}'))"
   ]
  },
  {
   "cell_type": "code",
   "execution_count": 4,
   "metadata": {},
   "outputs": [],
   "source": [
    "# tranforma as lista em uma lista única\n",
    "owlbear_period = []\n",
    "for range_set in owlbear_date_range:\n",
    "    owlbear_period.extend(range_set)"
   ]
  },
  {
   "cell_type": "code",
   "execution_count": 5,
   "metadata": {},
   "outputs": [],
   "source": [
    "# tranformando em Series\n",
    "owlbear_period = pd.Series(owlbear_period)\n"
   ]
  },
  {
   "cell_type": "code",
   "execution_count": 6,
   "metadata": {},
   "outputs": [
    {
     "data": {
      "text/plain": [
       "0     2017-06-21\n",
       "1     2017-06-22\n",
       "2     2017-06-23\n",
       "3     2017-06-24\n",
       "4     2017-06-25\n",
       "         ...    \n",
       "660   2023-09-19\n",
       "661   2023-09-20\n",
       "662   2023-09-21\n",
       "663   2023-09-22\n",
       "664   2023-09-23\n",
       "Length: 665, dtype: datetime64[ns]"
      ]
     },
     "execution_count": 6,
     "metadata": {},
     "output_type": "execute_result"
    }
   ],
   "source": [
    "owlbear_period"
   ]
  },
  {
   "cell_type": "markdown",
   "metadata": {},
   "source": [
    "### **Dragão**"
   ]
  },
  {
   "cell_type": "code",
   "execution_count": 13,
   "metadata": {},
   "outputs": [],
   "source": [
    "# criando uma lista que salva períodos de tempo\n",
    "dragon_date_range = []\n",
    "for i in range(17, 24):\n",
    "    dragon_date_range.append(pd.date_range(start=f'05/01/20{i}', end=f'09/01/20{i}'))"
   ]
  },
  {
   "cell_type": "code",
   "execution_count": 14,
   "metadata": {},
   "outputs": [],
   "source": [
    "# tranforma as lista em uma lista única\n",
    "dragon_period = []\n",
    "for range_set in dragon_date_range:\n",
    "    dragon_period.extend(range_set)"
   ]
  },
  {
   "cell_type": "code",
   "execution_count": 15,
   "metadata": {},
   "outputs": [
    {
     "data": {
      "text/plain": [
       "0     2017-05-01\n",
       "1     2017-05-02\n",
       "2     2017-05-03\n",
       "3     2017-05-04\n",
       "4     2017-05-05\n",
       "         ...    \n",
       "863   2023-08-28\n",
       "864   2023-08-29\n",
       "865   2023-08-30\n",
       "866   2023-08-31\n",
       "867   2023-09-01\n",
       "Length: 868, dtype: datetime64[ns]"
      ]
     },
     "execution_count": 15,
     "metadata": {},
     "output_type": "execute_result"
    }
   ],
   "source": [
    "# tranformando em Series\n",
    "dragon_period = pd.Series(dragon_period)\n",
    "dragon_period  "
   ]
  },
  {
   "cell_type": "markdown",
   "metadata": {},
   "source": [
    "<hr style=\"height:3px;border-width:0;color:blue;background-color:blue\">"
   ]
  },
  {
   "cell_type": "markdown",
   "metadata": {},
   "source": [
    "### **Griffon**"
   ]
  },
  {
   "cell_type": "code",
   "execution_count": 16,
   "metadata": {},
   "outputs": [],
   "source": [
    "# criando uma lista que salva períodos de tempo\n",
    "griffon_date_range = []\n",
    "for i in range(17, 24):\n",
    "    griffon_date_range.append(pd.date_range(start=f'06/01/20{i}', end=f'11/01/20{i}'))\n",
    "\n",
    "# tranforma as lista em uma lista única\n",
    "griffon_period = []\n",
    "for range_set in griffon_date_range:\n",
    "    griffon_period.extend(range_set)\n",
    "\n",
    "# tranformando em Series\n",
    "griffon_period = pd.Series(griffon_period) "
   ]
  },
  {
   "cell_type": "code",
   "execution_count": 17,
   "metadata": {},
   "outputs": [
    {
     "data": {
      "text/plain": [
       "0      2017-06-01\n",
       "1      2017-06-02\n",
       "2      2017-06-03\n",
       "3      2017-06-04\n",
       "4      2017-06-05\n",
       "          ...    \n",
       "1073   2023-10-28\n",
       "1074   2023-10-29\n",
       "1075   2023-10-30\n",
       "1076   2023-10-31\n",
       "1077   2023-11-01\n",
       "Length: 1078, dtype: datetime64[ns]"
      ]
     },
     "execution_count": 17,
     "metadata": {},
     "output_type": "execute_result"
    }
   ],
   "source": [
    "griffon_period"
   ]
  },
  {
   "cell_type": "markdown",
   "metadata": {},
   "source": [
    "<hr style=\"height:3px;border-width:0;color:blue;background-color:blue\">"
   ]
  },
  {
   "cell_type": "markdown",
   "metadata": {},
   "source": [
    "## **Criando o Dataset de encontros aleatórios:**"
   ]
  },
  {
   "cell_type": "markdown",
   "metadata": {},
   "source": [
    "Vão haver apenas dois tipos de encontros: ***'avistamentos'*** e ***'combate'***"
   ]
  },
  {
   "cell_type": "code",
   "execution_count": 18,
   "metadata": {},
   "outputs": [],
   "source": [
    "encounters_type = ['combat', 'sighting']"
   ]
  },
  {
   "cell_type": "code",
   "execution_count": 19,
   "metadata": {},
   "outputs": [],
   "source": [
    "import time\n",
    "import string"
   ]
  },
  {
   "cell_type": "code",
   "execution_count": 30,
   "metadata": {},
   "outputs": [],
   "source": [
    "# criando função para gerar IDs\n",
    "def generate_encounter_id(i):\n",
    "    \"\"\"Function to generate random encounter_IDs.\n",
    "    \n",
    "    This will return a random string with length = 9 chars\"\"\"\n",
    "    timestamp = str(int(time.time_ns()) + i)\n",
    "    random_chars = ''.join(random.choices(string.ascii_uppercase + string.digits, k=4))\n",
    "    return f\"{timestamp[15:]}-{random_chars}\"   # return new unique ID"
   ]
  },
  {
   "cell_type": "code",
   "execution_count": 37,
   "metadata": {},
   "outputs": [
    {
     "name": "stdout",
     "output_type": "stream",
     "text": [
      "Exemplo de Id gerado:  8501-T9NT\n"
     ]
    }
   ],
   "source": [
    "print(\"Exemplo de Id gerado: \", generate_encounter_id(1))"
   ]
  },
  {
   "cell_type": "code",
   "execution_count": 69,
   "metadata": {},
   "outputs": [
    {
     "data": {
      "text/plain": [
       "186"
      ]
     },
     "execution_count": 69,
     "metadata": {},
     "output_type": "execute_result"
    }
   ],
   "source": [
    "num_encounters_owlbear = random.randint(28, 35) * ( 2023 - 2017 ) # encontros por ano multiplicado pela quantidade de anos \n",
    "                                                                  #  na tabela de vendas \n",
    "num_encounters_owlbear"
   ]
  },
  {
   "cell_type": "code",
   "execution_count": 71,
   "metadata": {},
   "outputs": [
    {
     "data": {
      "text/plain": [
       "72"
      ]
     },
     "execution_count": 71,
     "metadata": {},
     "output_type": "execute_result"
    }
   ],
   "source": [
    "num_encounters_dragon = 12 * ( 2023 - 2017 ) # encontros por ano multiplicado pela quantidade de anos \n",
    "                                             #  na tabela de vendas \n",
    "num_encounters_dragon"
   ]
  },
  {
   "cell_type": "code",
   "execution_count": 73,
   "metadata": {},
   "outputs": [
    {
     "data": {
      "text/plain": [
       "336"
      ]
     },
     "execution_count": 73,
     "metadata": {},
     "output_type": "execute_result"
    }
   ],
   "source": [
    "num_encounters_griffon = 56 * ( 2023 - 2017 ) # encontros por ano multiplicado pela quantidade de anos \n",
    "                                              #  na tabela de vendas \n",
    "num_encounters_griffon"
   ]
  },
  {
   "cell_type": "code",
   "execution_count": 88,
   "metadata": {},
   "outputs": [],
   "source": [
    "# criando a tabela de encontros apenas com o monstro \"Owlbear\"\n",
    "encounters = {\n",
    "    'date': [random.choice(list(owlbear_period)) for _ in range(num_encounters_owlbear)],\n",
    "    'monster' : 'owlbear',\n",
    "    'encounter_type': [random.choice(encounters_type) for _ in range(num_encounters_owlbear)]\n",
    "}\n",
    "\n",
    "# transformando em dataframe\n",
    "encounters = pd.DataFrame(encounters)"
   ]
  },
  {
   "cell_type": "code",
   "execution_count": 96,
   "metadata": {},
   "outputs": [],
   "source": [
    "# criando a tabela de encontros apenas com o monstro \"Dragon\"\n",
    "dragon_encouters = pd.DataFrame({\n",
    "              'date': [random.choice(list(dragon_period)) for _ in range(num_encounters_dragon)],\n",
    "              'monster' : 'dragon',\n",
    "              'encounter_type': [random.choice(encounters_type) for _ in range(num_encounters_dragon)]\n",
    "          })"
   ]
  },
  {
   "cell_type": "code",
   "execution_count": 97,
   "metadata": {},
   "outputs": [],
   "source": [
    "# criando a tabela de encontros apenas com o monstro \"Griffon\"\n",
    "griffon_encouters = pd.DataFrame({\n",
    "              'date': [random.choice(list(griffon_period)) for _ in range(num_encounters_griffon)],\n",
    "              'monster' : 'griffon',\n",
    "              'encounter_type': [random.choice(encounters_type) for _ in range(num_encounters_griffon)]\n",
    "          })"
   ]
  },
  {
   "cell_type": "code",
   "execution_count": 105,
   "metadata": {},
   "outputs": [],
   "source": [
    "# concatenando todas tabelas em apenas uma\n",
    "encounters = pd.concat([encounters, dragon_encouters, griffon_encouters])"
   ]
  },
  {
   "cell_type": "code",
   "execution_count": 112,
   "metadata": {},
   "outputs": [],
   "source": [
    "# gerando os IDs\n",
    "encounters['enc_id'] = [generate_encounter_id(i) for i in range(len(encounters))]"
   ]
  },
  {
   "cell_type": "code",
   "execution_count": 124,
   "metadata": {},
   "outputs": [],
   "source": [
    "# realocando a coluna \"enc_id\" e resetando os índices\n",
    "encounters = encounters[['enc_id'] + [col for col in encounters.columns if col != 'enc_id']]\n",
    "encounters.reset_index(drop=True, inplace=True)"
   ]
  },
  {
   "cell_type": "code",
   "execution_count": 138,
   "metadata": {},
   "outputs": [
    {
     "data": {
      "text/html": [
       "<div>\n",
       "<style scoped>\n",
       "    .dataframe tbody tr th:only-of-type {\n",
       "        vertical-align: middle;\n",
       "    }\n",
       "\n",
       "    .dataframe tbody tr th {\n",
       "        vertical-align: top;\n",
       "    }\n",
       "\n",
       "    .dataframe thead th {\n",
       "        text-align: right;\n",
       "    }\n",
       "</style>\n",
       "<table border=\"1\" class=\"dataframe\">\n",
       "  <thead>\n",
       "    <tr style=\"text-align: right;\">\n",
       "      <th></th>\n",
       "      <th>enc_id</th>\n",
       "      <th>date</th>\n",
       "      <th>monster</th>\n",
       "      <th>encounter_type</th>\n",
       "    </tr>\n",
       "  </thead>\n",
       "  <tbody>\n",
       "    <tr>\n",
       "      <th>0</th>\n",
       "      <td>7900-C4E5</td>\n",
       "      <td>2021-09-10</td>\n",
       "      <td>owlbear</td>\n",
       "      <td>combat</td>\n",
       "    </tr>\n",
       "    <tr>\n",
       "      <th>1</th>\n",
       "      <td>7901-HRDU</td>\n",
       "      <td>2019-08-19</td>\n",
       "      <td>owlbear</td>\n",
       "      <td>combat</td>\n",
       "    </tr>\n",
       "    <tr>\n",
       "      <th>2</th>\n",
       "      <td>7902-4XSZ</td>\n",
       "      <td>2022-06-21</td>\n",
       "      <td>owlbear</td>\n",
       "      <td>sighting</td>\n",
       "    </tr>\n",
       "    <tr>\n",
       "      <th>3</th>\n",
       "      <td>7903-JNVC</td>\n",
       "      <td>2023-07-04</td>\n",
       "      <td>owlbear</td>\n",
       "      <td>sighting</td>\n",
       "    </tr>\n",
       "    <tr>\n",
       "      <th>4</th>\n",
       "      <td>7904-7HR6</td>\n",
       "      <td>2023-08-14</td>\n",
       "      <td>owlbear</td>\n",
       "      <td>sighting</td>\n",
       "    </tr>\n",
       "    <tr>\n",
       "      <th>...</th>\n",
       "      <td>...</td>\n",
       "      <td>...</td>\n",
       "      <td>...</td>\n",
       "      <td>...</td>\n",
       "    </tr>\n",
       "    <tr>\n",
       "      <th>589</th>\n",
       "      <td>2189-3BDW</td>\n",
       "      <td>2019-10-09</td>\n",
       "      <td>griffon</td>\n",
       "      <td>sighting</td>\n",
       "    </tr>\n",
       "    <tr>\n",
       "      <th>590</th>\n",
       "      <td>2190-56FK</td>\n",
       "      <td>2019-09-14</td>\n",
       "      <td>griffon</td>\n",
       "      <td>combat</td>\n",
       "    </tr>\n",
       "    <tr>\n",
       "      <th>591</th>\n",
       "      <td>2191-PS0D</td>\n",
       "      <td>2020-09-02</td>\n",
       "      <td>griffon</td>\n",
       "      <td>sighting</td>\n",
       "    </tr>\n",
       "    <tr>\n",
       "      <th>592</th>\n",
       "      <td>2192-XME4</td>\n",
       "      <td>2020-09-03</td>\n",
       "      <td>griffon</td>\n",
       "      <td>sighting</td>\n",
       "    </tr>\n",
       "    <tr>\n",
       "      <th>593</th>\n",
       "      <td>2193-PO1I</td>\n",
       "      <td>2018-10-06</td>\n",
       "      <td>griffon</td>\n",
       "      <td>sighting</td>\n",
       "    </tr>\n",
       "  </tbody>\n",
       "</table>\n",
       "<p>594 rows × 4 columns</p>\n",
       "</div>"
      ],
      "text/plain": [
       "        enc_id       date  monster encounter_type\n",
       "0    7900-C4E5 2021-09-10  owlbear         combat\n",
       "1    7901-HRDU 2019-08-19  owlbear         combat\n",
       "2    7902-4XSZ 2022-06-21  owlbear       sighting\n",
       "3    7903-JNVC 2023-07-04  owlbear       sighting\n",
       "4    7904-7HR6 2023-08-14  owlbear       sighting\n",
       "..         ...        ...      ...            ...\n",
       "589  2189-3BDW 2019-10-09  griffon       sighting\n",
       "590  2190-56FK 2019-09-14  griffon         combat\n",
       "591  2191-PS0D 2020-09-02  griffon       sighting\n",
       "592  2192-XME4 2020-09-03  griffon       sighting\n",
       "593  2193-PO1I 2018-10-06  griffon       sighting\n",
       "\n",
       "[594 rows x 4 columns]"
      ]
     },
     "execution_count": 138,
     "metadata": {},
     "output_type": "execute_result"
    }
   ],
   "source": [
    "encounters"
   ]
  },
  {
   "cell_type": "code",
   "execution_count": 137,
   "metadata": {},
   "outputs": [
    {
     "data": {
      "text/plain": [
       "<Axes: xlabel='monster'>"
      ]
     },
     "execution_count": 137,
     "metadata": {},
     "output_type": "execute_result"
    },
    {
     "data": {
      "image/png": "[encoded data removed]",
      "text/plain": [
       "<Figure size 640x480 with 1 Axes>"
      ]
     },
     "metadata": {},
     "output_type": "display_data"
    }
   ],
   "source": [
    "encounters.groupby('monster')['enc_id'].count().plot(kind='bar')"
   ]
  },
  {
   "cell_type": "markdown",
   "metadata": {},
   "source": [
    "## **Exportando tabela:**"
   ]
  },
  {
   "cell_type": "code",
   "execution_count": 139,
   "metadata": {},
   "outputs": [],
   "source": [
    "encounters.to_csv('data/encounters.csv', index=False)"
   ]
  },
  {
   "cell_type": "markdown",
   "metadata": {},
   "source": [
    "Agora resta usar esses dados para alterar a tabela de vendas original.\n",
    "\n",
    "**FIM.**"
   ]
  }
 ],
 "metadata": {
  "kernelspec": {
   "display_name": "ds_minimo",
   "language": "python",
   "name": "python3"
  },
  "language_info": {
   "codemirror_mode": {
    "name": "ipython",
    "version": 3
   },
   "file_extension": ".py",
   "mimetype": "text/x-python",
   "name": "python",
   "nbconvert_exporter": "python",
   "pygments_lexer": "ipython3",
   "version": "3.11.0"
  }
 },
 "nbformat": 4,
 "nbformat_minor": 2
}
