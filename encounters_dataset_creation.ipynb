{
 "cells": [
  {
   "cell_type": "markdown",
   "metadata": {},
   "source": [
    "**Importando Bibliotecas**"
   ]
  },
  {
   "cell_type": "code",
   "execution_count": 1,
   "metadata": {},
   "outputs": [],
   "source": [
    "import pandas as pd\n",
    "import numpy as np\n",
    "import random\n",
    "from datetime import datetime, timedelta\n",
    "\n",
    "# Definindo a semente para reprodução\n",
    "np.random.seed(42)\n",
    "random.seed(42)"
   ]
  },
  {
   "cell_type": "markdown",
   "metadata": {},
   "source": [
    "<hr style=\"height:3px;border-width:0;color:blue;background-color:blue\">"
   ]
  },
  {
   "cell_type": "markdown",
   "metadata": {},
   "source": [
    "Eu pretendo criar um dataset que contenha **encontros aleatórios de alguns monstros** e que de alguma forma isso reflita nas vendas da base de dados original.\n",
    "\n",
    "Eu escolhi arbitrariamente apenas 5 monstros do universo de *Dungeons and Dragon*, e para alguns deles eu escolhi animais da vida real para inspirar suas aparições aleatória neste dataset."
   ]
  },
  {
   "cell_type": "markdown",
   "metadata": {},
   "source": [
    "**Os montros e animais escolhidos foram:** \n",
    "* Owlbear -----> Coruja Jacurutu\n",
    "* Dragão -----> Dragão de Komodo\n",
    "* Griffon -----> Harpia (Gavião Real)\n",
    "* Ogro -----> Nenhum\n",
    "* Goblin -----> Nenhum"
   ]
  },
  {
   "cell_type": "markdown",
   "metadata": {},
   "source": [
    "Os períodos serão escolhidos aleatóriamente nos seguintes intervalos por animais:\n",
    "\n",
    "| monstro | início |  fim  | quantidade (por ano) | \n",
    "| --------| -----  | ----- | -------------------- |\n",
    "| Owbear  | 21/06  | 23/09 | 28 - 35              |\n",
    "| Dragão  | 01/05  | 01/08 | 12                   |\n",
    "| Griffon | 01/06  | 01/11 | 56                   |\n",
    "\n",
    "\n",
    "A quantidade do **Owlbear** foi baseado no tempo de incubação das ***Jacurutu***;\n",
    "\n",
    "A quantidade do **Dragão** foi inspirado na quantidade de refeições que os ***Dragões de Komodo*** conseguem sobreviver por ano;\n",
    "\n",
    "A quantidade do **Griffon** foi inspirada no tempo de incubação das ***Harpias*** (Elas podem ter apenas 1 filho a cada 2 anos)."
   ]
  },
  {
   "cell_type": "markdown",
   "metadata": {},
   "source": [
    "**O Dataset vai ter a seguinte estrutura:**\n",
    "\n",
    "| encounter_id | date | monster | encounter_type| \n",
    "| ------------ | -----| ------- | --------------|\n",
    "| ------------ | -----| ------- | --------------|\n",
    "| ------------ | -----| ------- | --------------|"
   ]
  },
  {
   "cell_type": "markdown",
   "metadata": {},
   "source": [
    "Criando o range de datas similar à tabela de vendas:"
   ]
  },
  {
   "cell_type": "code",
   "execution_count": 2,
   "metadata": {},
   "outputs": [],
   "source": [
    "data_inicial = datetime(2017, 1, 1)\n",
    "data_final = datetime(2023, 12, 31)\n",
    "intervalo_datas = [data_inicial + timedelta(days=i) for i in range((data_final - data_inicial).days + 1)]"
   ]
  },
  {
   "cell_type": "markdown",
   "metadata": {},
   "source": [
    "## **Criando o período de aparições do Owlbear:**"
   ]
  },
  {
   "cell_type": "code",
   "execution_count": 3,
   "metadata": {},
   "outputs": [],
   "source": [
    "# criando uma lista que salva um períodos de tempo\n",
    "owlbear_date_range = []\n",
    "for i in range(17, 24):\n",
    "    owlbear_date_range.append(pd.date_range(start=f'06/21/20{i}', end=f'09/23/20{i}'))"
   ]
  },
  {
   "cell_type": "code",
   "execution_count": 18,
   "metadata": {},
   "outputs": [],
   "source": [
    "# tranforman as lista em uma lista única\n",
    "owlbear_period = []\n",
    "for range in owlbear_date_range:\n",
    "    owlbear_period.extend(range)"
   ]
  },
  {
   "cell_type": "code",
   "execution_count": 20,
   "metadata": {},
   "outputs": [],
   "source": [
    "# tranformando em Series\n",
    "owlbear_period = pd.Series(owlbear_period)\n",
    "owlbear_period"
   ]
  },
  {
   "cell_type": "markdown",
   "metadata": {},
   "source": [
    "## **Criando o período de aparições do Dragão:**"
   ]
  },
  {
   "cell_type": "code",
   "execution_count": null,
   "metadata": {},
   "outputs": [],
   "source": []
  }
 ],
 "metadata": {
  "kernelspec": {
   "display_name": "ds_minimo",
   "language": "python",
   "name": "python3"
  },
  "language_info": {
   "codemirror_mode": {
    "name": "ipython",
    "version": 3
   },
   "file_extension": ".py",
   "mimetype": "text/x-python",
   "name": "python",
   "nbconvert_exporter": "python",
   "pygments_lexer": "ipython3",
   "version": "3.11.0"
  }
 },
 "nbformat": 4,
 "nbformat_minor": 2
}
